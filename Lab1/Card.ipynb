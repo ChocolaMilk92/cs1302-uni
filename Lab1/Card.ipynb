{
 "cells": [
  {
   "cell_type": "markdown",
   "metadata": {
    "slideshow": {
     "slide_type": "slide"
    }
   },
   "source": [
    "# Card guessing game"
   ]
  },
  {
   "cell_type": "markdown",
   "metadata": {
    "slideshow": {
     "slide_type": "-"
    },
    "tags": [
     "remove-cell"
    ]
   },
   "source": [
    "**CS1302 Introduction to Computer Programming**\n",
    "___"
   ]
  },
  {
   "cell_type": "code",
   "execution_count": null,
   "metadata": {},
   "outputs": [],
   "source": [
    "# Run this cell first to initialize the environment\n",
    "import random  # for shuffling of the cards\n",
    "from collections import namedtuple  # for naming the cards"
   ]
  },
  {
   "cell_type": "markdown",
   "metadata": {
    "slideshow": {
     "slide_type": "subslide"
    },
    "tags": []
   },
   "source": [
    "## Rules of the game"
   ]
  },
  {
   "cell_type": "markdown",
   "metadata": {
    "slideshow": {
     "slide_type": "fragment"
    }
   },
   "source": [
    "Consider a deck of 52 cards:\n",
    "<table>\n",
    "    <tr>\n",
    "        <td></td>\n",
    "        <th>1 (A)</th>\n",
    "        <th>2</th>\n",
    "        <th>3</th>\n",
    "        <th>4</th>\n",
    "        <th>5</th>\n",
    "        <th>6</th>\n",
    "        <th>7</th>\n",
    "        <th>8</th>\n",
    "        <th>9</th>\n",
    "        <th>10</th>\n",
    "        <th>11 (J)</th>\n",
    "        <th>12 (Q)</th>\n",
    "        <th>13 (K)</th>\n",
    "    </tr>\n",
    "    <tr>\n",
    "        <th style=\"transform: rotate(-90deg);\">Diamond</th>\n",
    "        <td><a title=\"GW Simulations / Public domain\" href=\"https://commons.wikimedia.org/wiki/File:Cards-A-Diamond.svg\"><img width=\"50\" alt=\"Cards-A-Diamond\" src=\"https://upload.wikimedia.org/wikipedia/commons/e/e9/Cards-A-Diamond.svg\"></a></td>\n",
    "        <td><a title=\"GW Simulations / Public domain\" href=\"https://commons.wikimedia.org/wiki/File:Cards-2-Diamond.svg\"><img width=\"50\" alt=\"Cards-2-Diamond\" src=\"https://upload.wikimedia.org/wikipedia/commons/9/99/Cards-2-Diamond.svg\"></a></td>\n",
    "        <td><a title=\"GW Simulations / Public domain\" href=\"https://commons.wikimedia.org/wiki/File:Cards-3-Diamond.svg\"><img width=\"50\" alt=\"Cards-3-Diamond\" src=\"https://upload.wikimedia.org/wikipedia/commons/4/44/Cards-3-Diamond.svg\"></a></td>\n",
    "        <td><a title=\"GW Simulations / Public domain\" href=\"https://commons.wikimedia.org/wiki/File:Cards-4-Diamond.svg\"><img width=\"50\" alt=\"Cards-4-Diamond\" src=\"https://upload.wikimedia.org/wikipedia/commons/a/af/Cards-4-Diamond.svg\"></a></td>\n",
    "        <td><a title=\"GW Simulations / Public domain\" href=\"https://commons.wikimedia.org/wiki/File:Cards-5-Diamond.svg\"><img width=\"50\" alt=\"Cards-5-Diamond\" src=\"https://upload.wikimedia.org/wikipedia/commons/d/dd/Cards-5-Diamond.svg\"></a></td>\n",
    "        <td><a title=\"GW Simulations / Public domain\" href=\"https://commons.wikimedia.org/wiki/File:Cards-6-Diamond.svg\"><img width=\"50\" alt=\"Cards-6-Diamond\" src=\"https://upload.wikimedia.org/wikipedia/commons/4/44/Cards-6-Diamond.svg\"></a></td>\n",
    "        <td><a title=\"GW Simulations / Public domain\" href=\"https://commons.wikimedia.org/wiki/File:Cards-7-Diamond.svg\"><img width=\"50\" alt=\"Cards-7-Diamond\" src=\"https://upload.wikimedia.org/wikipedia/commons/2/2b/Cards-7-Diamond.svg\"></a></td>\n",
    "        <td><a title=\"GW Simulations / Public domain\" href=\"https://commons.wikimedia.org/wiki/File:Cards-8-Diamond.svg\"><img width=\"50\" alt=\"Cards-8-Diamond\" src=\"https://upload.wikimedia.org/wikipedia/commons/9/90/Cards-8-Diamond.svg\"></a></td>\n",
    "        <td><a title=\"GW Simulations / Public domain\" href=\"https://commons.wikimedia.org/wiki/File:Cards-9-Diamond.svg\"><img width=\"50\" alt=\"Cards-9-Diamond\" src=\"https://upload.wikimedia.org/wikipedia/commons/2/25/Cards-9-Diamond.svg\"></a></td>\n",
    "        <td><a title=\"GW Simulations / Public domain\" href=\"https://commons.wikimedia.org/wiki/File:Cards-10-Diamond.svg\"><img width=\"50\" alt=\"Cards-10-Diamond\" src=\"https://upload.wikimedia.org/wikipedia/commons/c/c2/Cards-10-Diamond.svg\"></a></td>\n",
    "        <td><a title=\"GW Simulations / Public domain\" href=\"https://commons.wikimedia.org/wiki/File:Cards-J-Diamond.svg\"><img width=\"50\" alt=\"Cards-J-Diamond\" src=\"https://upload.wikimedia.org/wikipedia/commons/7/78/Cards-J-Diamond.svg\"></a></td>\n",
    "        <td><a title=\"GW Simulations / Public domain\" href=\"https://commons.wikimedia.org/wiki/File:Cards-Q-Diamond.svg\"><img width=\"50\" alt=\"Cards-Q-Diamond\" src=\"https://upload.wikimedia.org/wikipedia/commons/c/c3/Cards-Q-Diamond.svg\"></a></td>\n",
    "        <td><a title=\"GW Simulations / Public domain\" href=\"https://commons.wikimedia.org/wiki/File:Cards-K-Diamond.svg\"><img width=\"50\" alt=\"Cards-K-Diamond\" src=\"https://upload.wikimedia.org/wikipedia/commons/5/55/Cards-K-Diamond.svg\"></a></td>\n",
    "    </tr>\n",
    "    <tr>\n",
    "        <th style=\"transform: rotate(-90deg);\">Club</th>\n",
    "        <td><a title=\"GW Simulations / Public domain\" href=\"https://commons.wikimedia.org/wiki/File:Cards-A-Club.svg\"><img width=\"50\" alt=\"Cards-A-Club\" src=\"https://upload.wikimedia.org/wikipedia/commons/c/c4/Cards-A-Club.svg\"></a></td>\n",
    "        <td><a title=\"GW Simulations / Public domain\" href=\"https://commons.wikimedia.org/wiki/File:Cards-2-Club.svg\"><img width=\"50\" alt=\"Cards-2-Club\" src=\"https://upload.wikimedia.org/wikipedia/commons/b/b0/Cards-2-Club.svg\"></a></td>\n",
    "        <td><a title=\"GW Simulations / Public domain\" href=\"https://commons.wikimedia.org/wiki/File:Cards-3-Club.svg\"><img width=\"50\" alt=\"Cards-3-Club\" src=\"https://upload.wikimedia.org/wikipedia/commons/e/e0/Cards-3-Club.svg\"></a></td>\n",
    "        <td><a title=\"GW Simulations / Public domain\" href=\"https://commons.wikimedia.org/wiki/File:Cards-4-Club.svg\"><img width=\"50\" alt=\"Cards-4-Club\" src=\"https://upload.wikimedia.org/wikipedia/commons/6/69/Cards-4-Club.svg\"></a></td>\n",
    "        <td><a title=\"GW Simulations / Public domain\" href=\"https://commons.wikimedia.org/wiki/File:Cards-5-Club.svg\"><img width=\"50\" alt=\"Cards-5-Club\" src=\"https://upload.wikimedia.org/wikipedia/commons/7/7e/Cards-5-Club.svg\"></a></td>\n",
    "        <td><a title=\"GW Simulations / Public domain\" href=\"https://commons.wikimedia.org/wiki/File:Cards-6-Club.svg\"><img width=\"50\" alt=\"Cards-6-Club\" src=\"https://upload.wikimedia.org/wikipedia/commons/a/af/Cards-6-Club.svg\"></a></td>\n",
    "        <td><a title=\"GW Simulations / Public domain\" href=\"https://commons.wikimedia.org/wiki/File:Cards-7-Club.svg\"><img width=\"50\" alt=\"Cards-7-Club\" src=\"https://upload.wikimedia.org/wikipedia/commons/8/8e/Cards-7-Club.svg\"></a></td>\n",
    "        <td><a title=\"GW Simulations / Public domain\" href=\"https://commons.wikimedia.org/wiki/File:Cards-8-Club.svg\"><img width=\"50\" alt=\"Cards-8-Club\" src=\"https://upload.wikimedia.org/wikipedia/commons/f/fd/Cards-8-Club.svg\"></a></td>\n",
    "        <td><a title=\"GW Simulations / Public domain\" href=\"https://commons.wikimedia.org/wiki/File:Cards-9-Club.svg\"><img width=\"50\" alt=\"Cards-9-Club\" src=\"https://upload.wikimedia.org/wikipedia/commons/a/ac/Cards-9-Club.svg\"></a></td>\n",
    "        <td><a title=\"GW Simulations / Public domain\" href=\"https://commons.wikimedia.org/wiki/File:Cards-10-Club.svg\"><img width=\"50\" alt=\"Cards-10-Club\" src=\"https://upload.wikimedia.org/wikipedia/commons/2/25/Cards-10-Club.svg\"></a></td>\n",
    "        <td><a title=\"GW Simulations / Public domain\" href=\"https://commons.wikimedia.org/wiki/File:Cards-J-Club.svg\"><img width=\"50\" alt=\"Cards-J-Club\" src=\"https://upload.wikimedia.org/wikipedia/commons/c/c7/Cards-J-Club.svg\"></a></td>\n",
    "        <td><a title=\"GW Simulations / Public domain\" href=\"https://commons.wikimedia.org/wiki/File:Cards-Q-Club.svg\"><img width=\"50\" alt=\"Cards-Q-Club\" src=\"https://upload.wikimedia.org/wikipedia/commons/3/37/Cards-Q-Club.svg\"></a></td>\n",
    "        <td><a title=\"GW Simulations / Public domain\" href=\"https://commons.wikimedia.org/wiki/File:Cards-K-Club.svg\"><img width=\"50\" alt=\"Cards-K-Club\" src=\"https://upload.wikimedia.org/wikipedia/commons/9/9e/Cards-K-Club.svg\"></a></td>\n",
    "    </tr>\n",
    "    <tr>\n",
    "        <th style=\"transform: rotate(-90deg);\">Heart</th>\n",
    "        <td><a title=\"GW Simulations / Public domain\" href=\"https://commons.wikimedia.org/wiki/File:Cards-A-Heart.svg\"><img width=\"50\" alt=\"Cards-A-Heart\" src=\"https://upload.wikimedia.org/wikipedia/commons/6/60/Cards-A-Heart.svg\"></a></td>\n",
    "        <td><a title=\"GW Simulations / Public domain\" href=\"https://commons.wikimedia.org/wiki/File:Cards-2-Heart.svg\"><img width=\"50\" alt=\"Cards-2-Heart\" src=\"https://upload.wikimedia.org/wikipedia/commons/6/6e/Cards-2-Heart.svg\"></a></td>\n",
    "        <td><a title=\"GW Simulations / Public domain\" href=\"https://commons.wikimedia.org/wiki/File:Cards-3-Heart.svg\"><img width=\"50\" alt=\"Cards-3-Heart\" src=\"https://upload.wikimedia.org/wikipedia/commons/5/57/Cards-3-Heart.svg\"></a></td>\n",
    "        <td><a title=\"GW Simulations / Public domain\" href=\"https://commons.wikimedia.org/wiki/File:Cards-4-Heart.svg\"><img width=\"50\" alt=\"Cards-4-Heart\" src=\"https://upload.wikimedia.org/wikipedia/commons/3/39/Cards-4-Heart.svg\"></a></td>\n",
    "        <td><a title=\"GW Simulations / Public domain\" href=\"https://commons.wikimedia.org/wiki/File:Cards-5-Heart.svg\"><img width=\"50\" alt=\"Cards-5-Heart\" src=\"https://upload.wikimedia.org/wikipedia/commons/9/91/Cards-5-Heart.svg\"></a></td>\n",
    "        <td><a title=\"GW Simulations / Public domain\" href=\"https://commons.wikimedia.org/wiki/File:Cards-6-Heart.svg\"><img width=\"50\" alt=\"Cards-6-Heart\" src=\"https://upload.wikimedia.org/wikipedia/commons/5/55/Cards-6-Heart.svg\"></a></td>\n",
    "        <td><a title=\"GW Simulations / Public domain\" href=\"https://commons.wikimedia.org/wiki/File:Cards-7-Heart.svg\"><img width=\"50\" alt=\"Cards-7-Heart\" src=\"https://upload.wikimedia.org/wikipedia/commons/d/d4/Cards-7-Heart.svg\"></a></td>\n",
    "        <td><a title=\"GW Simulations / Public domain\" href=\"https://commons.wikimedia.org/wiki/File:Cards-8-Heart.svg\"><img width=\"50\" alt=\"Cards-8-Heart\" src=\"https://upload.wikimedia.org/wikipedia/commons/5/55/Cards-8-Heart.svg\"></a></td>\n",
    "        <td><a title=\"GW Simulations / Public domain\" href=\"https://commons.wikimedia.org/wiki/File:Cards-9-Heart.svg\"><img width=\"50\" alt=\"Cards-9-Heart\" src=\"https://upload.wikimedia.org/wikipedia/commons/d/d2/Cards-9-Heart.svg\"></a></td>\n",
    "        <td><a title=\"GW Simulations / Public domain\" href=\"https://commons.wikimedia.org/wiki/File:Cards-10-Heart.svg\"><img width=\"50\" alt=\"Cards-10-Heart\" src=\"https://upload.wikimedia.org/wikipedia/commons/7/76/Cards-10-Heart.svg\"></a></td>\n",
    "        <td><a title=\"GW Simulations / Public domain\" href=\"https://commons.wikimedia.org/wiki/File:Cards-J-Heart.svg\"><img width=\"50\" alt=\"Cards-J-Heart\" src=\"https://upload.wikimedia.org/wikipedia/commons/e/e7/Cards-J-Heart.svg\"></a></td>\n",
    "        <td><a title=\"GW Simulations / Public domain\" href=\"https://commons.wikimedia.org/wiki/File:Cards-Q-Heart.svg\"><img width=\"50\" alt=\"Cards-Q-Heart\" src=\"https://upload.wikimedia.org/wikipedia/commons/2/28/Cards-Q-Heart.svg\"></a></td>\n",
    "        <td><a title=\"GW Simulations / Public domain\" href=\"https://commons.wikimedia.org/wiki/File:Cards-K-Heart.svg\"><img width=\"50\" alt=\"Cards-K-Heart\" src=\"https://upload.wikimedia.org/wikipedia/commons/b/bf/Cards-K-Heart.svg\"></a></td>\n",
    "    </tr>        \n",
    "    <tr>\n",
    "        <th style=\"transform: rotate(-90deg);\">Spade</th>\n",
    "        <td><a title=\"GW Simulations / Public domain\" href=\"https://commons.wikimedia.org/wiki/File:Cards-A-Spade.svg\"><img width=\"50\" alt=\"Cards-A-Spade\" src=\"https://upload.wikimedia.org/wikipedia/commons/9/9d/Cards-A-Spade.svg\"></a></td>\n",
    "        <td><a title=\"GW Simulations / Public domain\" href=\"https://commons.wikimedia.org/wiki/File:Cards-2-Spade.svg\"><img width=\"50\" alt=\"Cards-2-Spade\" src=\"https://upload.wikimedia.org/wikipedia/commons/e/e7/Cards-2-Spade.svg\"></a></td>\n",
    "        <td><a title=\"GW Simulations / Public domain\" href=\"https://commons.wikimedia.org/wiki/File:Cards-3-Spade.svg\"><img width=\"50\" alt=\"Cards-3-Spade\" src=\"https://upload.wikimedia.org/wikipedia/commons/d/d0/Cards-3-Spade.svg\"></a></td>\n",
    "        <td><a title=\"GW Simulations / Public domain\" href=\"https://commons.wikimedia.org/wiki/File:Cards-4-Spade.svg\"><img width=\"50\" alt=\"Cards-4-Spade\" src=\"https://upload.wikimedia.org/wikipedia/commons/4/4e/Cards-4-Spade.svg\"></a></td>\n",
    "        <td><a title=\"GW Simulations / Public domain\" href=\"https://commons.wikimedia.org/wiki/File:Cards-5-Spade.svg\"><img width=\"50\" alt=\"Cards-5-Spade\" src=\"https://upload.wikimedia.org/wikipedia/commons/b/b1/Cards-5-Spade.svg\"></a></td>\n",
    "        <td><a title=\"GW Simulations / Public domain\" href=\"https://commons.wikimedia.org/wiki/File:Cards-6-Spade.svg\"><img width=\"50\" alt=\"Cards-6-Spade\" src=\"https://upload.wikimedia.org/wikipedia/commons/6/68/Cards-6-Spade.svg\"></a></td>\n",
    "        <td><a title=\"GW Simulations / Public domain\" href=\"https://commons.wikimedia.org/wiki/File:Cards-7-Spade.svg\"><img width=\"50\" alt=\"Cards-7-Spade\" src=\"https://upload.wikimedia.org/wikipedia/commons/c/c6/Cards-7-Spade.svg\"></a></td>\n",
    "        <td><a title=\"GW Simulations / Public domain\" href=\"https://commons.wikimedia.org/wiki/File:Cards-8-Spade.svg\"><img width=\"50\" alt=\"Cards-8-Spade\" src=\"https://upload.wikimedia.org/wikipedia/commons/7/7e/Cards-8-Spade.svg\"></a></td>\n",
    "        <td><a title=\"GW Simulations / Public domain\" href=\"https://commons.wikimedia.org/wiki/File:Cards-9-Spade.svg\"><img width=\"50\" alt=\"Cards-9-Spade\" src=\"https://upload.wikimedia.org/wikipedia/commons/0/0a/Cards-9-Spade.svg\"></a></td>\n",
    "        <td><a title=\"GW Simulations / Public domain\" href=\"https://commons.wikimedia.org/wiki/File:Cards-10-Spade.svg\"><img width=\"50\" alt=\"Cards-10-Spade\" src=\"https://upload.wikimedia.org/wikipedia/commons/6/67/Cards-10-Spade.svg\"></a></td>\n",
    "        <td><a title=\"GW Simulations / Public domain\" href=\"https://commons.wikimedia.org/wiki/File:Cards-J-Spade.svg\"><img width=\"50\" alt=\"Cards-J-Spade\" src=\"https://upload.wikimedia.org/wikipedia/commons/e/ea/Cards-J-Spade.svg\"></a></td>\n",
    "        <td><a title=\"GW Simulations / Public domain\" href=\"https://commons.wikimedia.org/wiki/File:Cards-Q-Spade.svg\"><img width=\"50\" alt=\"Cards-Q-Spade\" src=\"https://upload.wikimedia.org/wikipedia/commons/e/ef/Cards-Q-Spade.svg\"></a></td>\n",
    "        <td><a title=\"GW Simulations / Public domain\" href=\"https://commons.wikimedia.org/wiki/File:Cards-K-Spade.svg\"><img width=\"50\" alt=\"Cards-K-Spade\" src=\"https://upload.wikimedia.org/wikipedia/commons/1/18/Cards-K-Spade.svg\"></a></td>\n",
    "    </tr>\n",
    "</table>"
   ]
  },
  {
   "cell_type": "markdown",
   "metadata": {
    "slideshow": {
     "slide_type": "fragment"
    }
   },
   "source": [
    "-   Each card is in one of the four suits: **Diamond**, **Club**, **Heart**, and **Spade**.\n",
    "-   Each card has a value $1 \\text{ (A)} < 2 < 3 < 4 < 5 < 6 < 7 < 8 < 9 < 10 < 11 \\text{ (J)} < 12 \\text{ (Q)} < 13 \\text{ (K)}$."
   ]
  },
  {
   "cell_type": "markdown",
   "metadata": {
    "slideshow": {
     "slide_type": "subslide"
    }
   },
   "source": [
    "The following code creates a deck of cards. (You are not expected to understand the code for now.)"
   ]
  },
  {
   "cell_type": "code",
   "execution_count": null,
   "metadata": {
    "ExecuteTime": {
     "end_time": "2021-03-20T14:23:40.439389Z",
     "start_time": "2021-03-20T14:23:40.434613Z"
    },
    "slideshow": {
     "slide_type": "-"
    },
    "tags": [
     "output-scroll"
    ]
   },
   "outputs": [],
   "source": [
    "# Create a deck of cards\n",
    "suits = (\"Diamond\", \"Club\", \"Heart\", \"Spade\")\n",
    "values = range(1, 14)\n",
    "Card = namedtuple(\"Card\", [\"value\", \"suit\"])  # namedtuple from collections\n",
    "\n",
    "deck = [Card(value, suit) for value in values for suit in suits]\n",
    "deck  # output the deck of cards to the output cell"
   ]
  },
  {
   "cell_type": "markdown",
   "metadata": {
    "slideshow": {
     "slide_type": "subslide"
    }
   },
   "source": [
    "To play the game, a dealer randomly pick a card without letting you know, and you're going to guess what exactly that card is.  \n",
    "Press `Ctrl-Enter` on the following code cell to draw a card randomly."
   ]
  },
  {
   "cell_type": "code",
   "execution_count": null,
   "metadata": {
    "ExecuteTime": {
     "end_time": "2021-03-20T14:23:44.399466Z",
     "start_time": "2021-03-20T14:23:44.397181Z"
    },
    "slideshow": {
     "slide_type": "-"
    }
   },
   "outputs": [],
   "source": [
    "random.choice(deck)  # random imported before"
   ]
  },
  {
   "cell_type": "markdown",
   "metadata": {
    "slideshow": {
     "slide_type": "subslide"
    }
   },
   "source": [
    "You are allowed to make an informed guess after the dealer answers some of your **yes/no** questions."
   ]
  },
  {
   "cell_type": "markdown",
   "metadata": {},
   "source": [
    "![Card guessing game](images/card_game.dio.svg)"
   ]
  },
  {
   "cell_type": "markdown",
   "metadata": {
    "slideshow": {
     "slide_type": "fragment"
    }
   },
   "source": [
    "For instance, you may ask:\n",
    "- Is the suit club?\n",
    "- Is the card diamond 1 (ace)?\n",
    "- Is the value at least 10?"
   ]
  },
  {
   "cell_type": "markdown",
   "metadata": {
    "slideshow": {
     "slide_type": "fragment"
    }
   },
   "source": [
    "However, you cannot ask:\n",
    "- What is the value?\n",
    "- What is the suite?"
   ]
  },
  {
   "cell_type": "markdown",
   "metadata": {
    "slideshow": {
     "slide_type": "subslide"
    }
   },
   "source": [
    "**Exercise** \n",
    "\n",
    "You win if you can **guess the card correctly with no more than 6 questions**. What is the winning strategy?"
   ]
  },
  {
   "cell_type": "markdown",
   "metadata": {
    "deletable": false,
    "nbgrader": {
     "cell_type": "markdown",
     "checksum": "147d099f1497a2d05b83d46fb4aa16df",
     "grade": true,
     "grade_id": "winning-strategy",
     "locked": false,
     "points": 1,
     "schema_version": 3,
     "solution": true,
     "task": false
    },
    "slideshow": {
     "slide_type": "-"
    }
   },
   "source": [
    "YOUR ANSWER HERE"
   ]
  },
  {
   "cell_type": "markdown",
   "metadata": {
    "slideshow": {
     "slide_type": "fragment"
    }
   },
   "source": [
    "---\n",
    "\n",
    "**Hint** \n",
    "\n",
    "- Obviously, you should not ask whether the card is precisely certain card, e.g., Is it Diamond Ace? Is it Diamond 2? ... Why not?  \n",
    "  The card may be one of the remaining $52-6=46$ possibilities you did not ask.\n",
    "- Think of each **Yes/No** question as splitting the set of possible cards into two smaller groups of possible cards corresponding to each possible answer **Yes/No**.\n",
    "- How many questions is required to split the set of 52 cards into groups of size $1$, i.e., with only one possible card?\n",
    "\n",
    "---"
   ]
  },
  {
   "cell_type": "markdown",
   "metadata": {
    "slideshow": {
     "slide_type": "slide"
    }
   },
   "source": [
    "## Challenge the computer"
   ]
  },
  {
   "cell_type": "markdown",
   "metadata": {
    "slideshow": {
     "slide_type": "fragment"
    }
   },
   "source": [
    "Play the role of the dealer and test if the program below can guess the card correctly after 6 questions."
   ]
  },
  {
   "cell_type": "code",
   "execution_count": null,
   "metadata": {
    "ExecuteTime": {
     "end_time": "2021-03-20T14:23:58.379216Z",
     "start_time": "2021-03-20T14:23:47.863209Z"
    },
    "slideshow": {
     "slide_type": "-"
    },
    "tags": [
     "remove-output"
    ]
   },
   "outputs": [],
   "source": [
    "suit_idx = 0\n",
    "number = 0\n",
    "\n",
    "if \"y\" == input(\n",
    "        \"Is the suite either heart or spade? (y/[n]) \")[0].lower():\n",
    "    suit_idx += 2\n",
    "\n",
    "if \"y\" == input(\"Is the suite either club or spade? (y/[n]) \")[0].lower():\n",
    "    suit_idx += 1\n",
    "\n",
    "if \"y\" == input(\n",
    "        f\"Is the number {number+8} or above? (y/[n]) \")[0].lower():\n",
    "    number += 8\n",
    "\n",
    "if \"y\" == input(\n",
    "        f\"Is the number {number+4} or above? (y/[n]) \")[0].lower():\n",
    "    number += 4\n",
    "\n",
    "if \"y\" == input(\n",
    "        f\"Is the number {number+2} or above? (y/[n]) \")[0].lower():\n",
    "    number += 2\n",
    "\n",
    "if \"y\" == input(\n",
    "        f\"Is the number {number+1} or above? (y/[n]) \")[0].lower():\n",
    "    number += 1\n",
    "\n",
    "print(f\"The card is {suits[suit_idx]} {number}\")"
   ]
  },
  {
   "cell_type": "markdown",
   "metadata": {
    "slideshow": {
     "slide_type": "fragment"
    }
   },
   "source": [
    "**Exercise** \n",
    "\n",
    "Does the above program always win? Explain your answer?"
   ]
  },
  {
   "cell_type": "markdown",
   "metadata": {
    "deletable": false,
    "nbgrader": {
     "cell_type": "markdown",
     "checksum": "ed9e95497e24e75cb708cea5946f166b",
     "grade": true,
     "grade_id": "computer",
     "locked": false,
     "points": 1,
     "schema_version": 3,
     "solution": true,
     "task": false
    },
    "slideshow": {
     "slide_type": "-"
    }
   },
   "source": [
    "YOUR ANSWER HERE"
   ]
  },
  {
   "cell_type": "markdown",
   "metadata": {
    "slideshow": {
     "slide_type": "slide"
    }
   },
   "source": [
    "## Challenge your understanding"
   ]
  },
  {
   "cell_type": "markdown",
   "metadata": {
    "slideshow": {
     "slide_type": "fragment"
    }
   },
   "source": [
    "The following table gives the binary representions of unsigned decimal integers from 0 to 7."
   ]
  },
  {
   "cell_type": "markdown",
   "metadata": {},
   "source": [
    "| Binary | Decimal |\n",
    "|:------:|:-------:|\n",
    "|  000   |    0    |\n",
    "|  001   |    1    |\n",
    "|  010   |    2    |\n",
    "|  011   |    3    |\n",
    "|  100   |    4    |\n",
    "|  101   |    5    |\n",
    "|  110   |    6    |\n",
    "|  111   |    7    |"
   ]
  },
  {
   "cell_type": "markdown",
   "metadata": {
    "slideshow": {
     "slide_type": "fragment"
    }
   },
   "source": [
    "Observe that the binary representations of 4, 5, 6, and 7 all have **1** in the leftmost (most significant) bit:\n",
    "\n",
    "| Binary  | Decimal |\n",
    "|:-------:|:-------:|\n",
    "|   000   |    0    |\n",
    "|   001   |    1    |\n",
    "|   010   |    2    |\n",
    "|   011   |    3    |\n",
    "| **1**00 |  **4**  |\n",
    "| **1**01 |  **5**  |\n",
    "| **1**10 |  **6**  |\n",
    "| **1**11 |  **7**  |\n",
    "\n",
    "Therefore we can consider that bit as the answer to the following **yes/no** question:\n",
    "\n",
    "> Is the integer 4 or above?"
   ]
  },
  {
   "cell_type": "markdown",
   "metadata": {
    "slideshow": {
     "slide_type": "fragment"
    }
   },
   "source": [
    "To convert binary to decimal, we can think of the conversion as a guessing game where\n",
    "- the binary sequence is a sequence of **yes (1)** or **no (0)** answers to certain **yes/no** questions, and\n",
    "- the informed guess is the integer represented by the binary sequence.\n",
    "\n",
    "![Decoding tree](images/dt.dio.svg)"
   ]
  },
  {
   "cell_type": "markdown",
   "metadata": {
    "slideshow": {
     "slide_type": "subslide"
    }
   },
   "source": [
    "**Exercise** \n",
    "\n",
    "What are the **yes/no** questions (Q2 and Q3 above) corresponding to the 2nd bit and 3rd bit?"
   ]
  },
  {
   "cell_type": "markdown",
   "metadata": {
    "deletable": false,
    "nbgrader": {
     "cell_type": "markdown",
     "checksum": "fe3d19107d6051d4bbb261a17040efea",
     "grade": true,
     "grade_id": "questions",
     "locked": false,
     "points": 1,
     "schema_version": 3,
     "solution": true,
     "task": false
    },
    "slideshow": {
     "slide_type": "-"
    }
   },
   "source": [
    "YOUR ANSWER HERE"
   ]
  },
  {
   "cell_type": "markdown",
   "metadata": {
    "slideshow": {
     "slide_type": "fragment"
    }
   },
   "source": [
    "---\n",
    "\n",
    "**Hint**\n",
    "\n",
    "- [Binary Number System](https://www.mathsisfun.com/binary-number-system.html)\n",
    "- [Binary Number Conversions](https://www.purplemath.com/modules/numbbase.htm)\n",
    "\n",
    "---"
   ]
  },
  {
   "cell_type": "markdown",
   "metadata": {
    "slideshow": {
     "slide_type": "slide"
    }
   },
   "source": [
    "## Representing negative numbers"
   ]
  },
  {
   "cell_type": "markdown",
   "metadata": {
    "slideshow": {
     "slide_type": "fragment"
    }
   },
   "source": [
    "The following also uses 3 bits to represent 8 numbers but half of the numbers are negative."
   ]
  },
  {
   "cell_type": "markdown",
   "metadata": {
    "slideshow": {
     "slide_type": "-"
    }
   },
   "source": [
    "| Binary  | Decimal |\n",
    "|:-------:|:-------:|\n",
    "|   000   |    0    |\n",
    "|   001   |    1    |\n",
    "|   010   |    2    |\n",
    "|   011   |    3    |\n",
    "| **1**00 | **-4**  |\n",
    "| **1**01 | **-3**  |\n",
    "| **1**10 | **-2**  |\n",
    "| **1**11 | **-1**  |"
   ]
  },
  {
   "cell_type": "markdown",
   "metadata": {
    "slideshow": {
     "slide_type": "fragment"
    }
   },
   "source": [
    "- The numbers 0, 1, 2, and 3 have the same binary representations as before, but\n",
    "- the binary representations for 4, 5, 6, and 7 are now used for -4, -3, -2, and -1. "
   ]
  },
  {
   "cell_type": "markdown",
   "metadata": {
    "slideshow": {
     "slide_type": "subslide"
    }
   },
   "source": [
    "**What is the benefit of the above representation?**"
   ]
  },
  {
   "cell_type": "markdown",
   "metadata": {
    "slideshow": {
     "slide_type": "fragment"
    }
   },
   "source": [
    "To subtract a positive binary number $x$ from another positive binary number $y$, it seems we can turn it into binary addition\n",
    "\n",
    "$$x - y = x + (-y)$$\n",
    "\n",
    "of a positive binary number $x$ and a negative binary number $-y$."
   ]
  },
  {
   "cell_type": "markdown",
   "metadata": {
    "slideshow": {
     "slide_type": "subslide"
    }
   },
   "source": [
    "For example,\n",
    "\n",
    "$$\n",
    "\\overbrace{011_2}^{3} + \\overbrace{100_2}^{-4} = \\underbrace{111_2}_{-1}\n",
    "$$"
   ]
  },
  {
   "cell_type": "markdown",
   "metadata": {
    "slideshow": {
     "slide_type": "subslide"
    }
   },
   "source": [
    "It seem to work as well if there are bits carried forward, e.g., $1 + (- 3)$ in binary is"
   ]
  },
  {
   "cell_type": "markdown",
   "metadata": {
    "slideshow": {
     "slide_type": "-"
    }
   },
   "source": [
    "$$\n",
    "\\begin{array}{rrrr}\n",
    " & 0 & \\overset{1}0 & 1 \\\\\n",
    "+ & 1 & 0 & 1 \\\\\\hline\n",
    "& 1 & 1 &  0 \n",
    "\\end{array}\n",
    "$$"
   ]
  },
  {
   "cell_type": "markdown",
   "metadata": {
    "slideshow": {
     "slide_type": "-"
    }
   },
   "source": [
    "which translate to $-2$ in decimal as desired."
   ]
  },
  {
   "cell_type": "markdown",
   "metadata": {
    "slideshow": {
     "slide_type": "subslide"
    }
   },
   "source": [
    "**Exercise** \n",
    "\n",
    "There is a subtlety when computing $3 - 2$ using binary addition because \n",
    "\n",
    "$$ \\overbrace{011_2}^3 + \\overbrace{110_2}^{-2} = 1001_2$$\n",
    "\n",
    "which overflows to $4$ bits, which is an invalid binary representation. Fortunately, there is a simple fix so binary addition can still apply. Come up with such a fix that also work for all other cases such as $3-3$, $2-1$, etc."
   ]
  },
  {
   "cell_type": "markdown",
   "metadata": {
    "deletable": false,
    "nbgrader": {
     "cell_type": "markdown",
     "checksum": "5aaccd773bae911503a439a767ff66f2",
     "grade": true,
     "grade_id": "overflow",
     "locked": false,
     "points": 1,
     "schema_version": 3,
     "solution": true,
     "task": false
    },
    "slideshow": {
     "slide_type": "-"
    }
   },
   "source": [
    "YOUR ANSWER HERE"
   ]
  },
  {
   "cell_type": "markdown",
   "metadata": {
    "slideshow": {
     "slide_type": "-"
    }
   },
   "source": [
    "---\n",
    "\n",
    "**Hint**\n",
    "\n",
    "- Can we drop one of the $4$ bits?\n",
    "- [Two's complement represenation](https://en.wikipedia.org/wiki/Two%27s_complement).\n",
    "\n",
    "---"
   ]
  },
  {
   "cell_type": "markdown",
   "metadata": {},
   "source": [
    "## Building a computer from transistors (Optional)"
   ]
  },
  {
   "cell_type": "markdown",
   "metadata": {},
   "source": [
    "A computer is build from transistors that operates on binary states, *on/off*, which is also represented as bits *1/0* or boolean values *True/False*."
   ]
  },
  {
   "cell_type": "markdown",
   "metadata": {},
   "source": [
    "Consider the addition of $2$ bits $A$ and $B$:\n",
    "\n",
    "$$\n",
    "A + B = C\\circ S\n",
    "$$\n",
    "\n",
    "\n",
    "| A | B | C S |\n",
    "|:---:|:---:|:----------:|\n",
    "|  0  |  0  |     00     |\n",
    "|  0  |  1  |     01     |\n",
    "|  1  |  0  |     01     |\n",
    "|  1  |  1  |     10     |"
   ]
  },
  {
   "cell_type": "markdown",
   "metadata": {},
   "source": [
    "There are transistors, called *logic gates*, that can carry out basic logic operations:\n",
    "- $A \\operatorname{AND} B$: which returns $1$ if and only if both $A$ and $B$ are $1$, and $0$ otherwise.\n",
    "- $A \\operatorname{XOR} B$: which returns $1$ if and only if either $A$ and $B$ are $1$ but not both."
   ]
  },
  {
   "cell_type": "markdown",
   "metadata": {},
   "source": [
    "**What is the logic in computing $C$ and $S$ from $A$ and $B$?**"
   ]
  },
  {
   "cell_type": "markdown",
   "metadata": {},
   "source": [
    "Try out a logic gate simulator:\n",
    "- Visit https://logic.ly/demo/\n",
    "- Select *1-Bit Full Adder*."
   ]
  },
  {
   "cell_type": "markdown",
   "metadata": {},
   "source": [
    "If you play minecraft, you can build the following devices based on how computers are built from logic gates:\n",
    "- an adder for binary addition: https://youtu.be/vtpTri-PZXY\n",
    "- a calculator for calculus: https://youtu.be/5NzIt9sns6o"
   ]
  }
 ],
 "metadata": {
  "kernelspec": {
   "display_name": "Python 3.8 (XPython)",
   "language": "python",
   "name": "xpython"
  },
  "language_info": {
   "file_extension": ".py",
   "mimetype": "text/x-python",
   "name": "python",
   "version": "3.8.10"
  },
  "latex_envs": {
   "LaTeX_envs_menu_present": true,
   "autoclose": false,
   "autocomplete": true,
   "bibliofile": "biblio.bib",
   "cite_by": "apalike",
   "current_citInitial": 1,
   "eqLabelWithNumbers": true,
   "eqNumInitial": 1,
   "hotkeys": {
    "equation": "Ctrl-E",
    "itemize": "Ctrl-I"
   },
   "labels_anchors": false,
   "latex_user_defs": false,
   "report_style_numbering": false,
   "user_envs_cfg": false
  },
  "toc": {
   "base_numbering": 1,
   "nav_menu": {},
   "number_sections": true,
   "sideBar": true,
   "skip_h1_title": true,
   "title_cell": "Table of Contents",
   "title_sidebar": "Contents",
   "toc_cell": false,
   "toc_position": {},
   "toc_section_display": true,
   "toc_window_display": false
  },
  "widgets": {
   "application/vnd.jupyter.widget-state+json": {
    "state": {},
    "version_major": 2,
    "version_minor": 0
   }
  }
 },
 "nbformat": 4,
 "nbformat_minor": 4
}
