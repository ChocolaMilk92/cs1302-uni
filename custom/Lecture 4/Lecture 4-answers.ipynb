{
 "cells": [
  {
   "cell_type": "markdown",
   "metadata": {},
   "source": [
    "# Exercises\n",
    "### Exercise 1"
   ]
  },
  {
   "cell_type": "markdown",
   "metadata": {},
   "source": [
    "(a) Below is a for-loop.  What will it output? "
   ]
  },
  {
   "cell_type": "code",
   "execution_count": null,
   "metadata": {
    "ExecuteTime": {
     "end_time": "2021-02-06T12:22:32.827169Z",
     "start_time": "2021-02-06T12:22:32.819839Z"
    }
   },
   "outputs": [],
   "source": [
    "for i in range(5):  \n",
    "    print(i)"
   ]
  },
  {
   "cell_type": "markdown",
   "metadata": {},
   "source": [
    "(b)-(d) Rewrite (a) as while-loop that outputs like (a)  \n",
    "\n",
    "(b) while, i!=..  "
   ]
  },
  {
   "cell_type": "code",
   "execution_count": null,
   "metadata": {},
   "outputs": [],
   "source": [
    "i = 0  \n",
    "while i != 5:  \n",
    "    print(i)  \n",
    "    i += 1"
   ]
  },
  {
   "cell_type": "markdown",
   "metadata": {},
   "source": [
    "(c) while, i<=.. "
   ]
  },
  {
   "cell_type": "code",
   "execution_count": null,
   "metadata": {},
   "outputs": [],
   "source": [
    "i = 0  \n",
    "while i <= 4:  \n",
    "    print(i)  \n",
    "    i += 1 "
   ]
  },
  {
   "cell_type": "markdown",
   "metadata": {},
   "source": [
    "(d) while, i<.. "
   ]
  },
  {
   "cell_type": "code",
   "execution_count": null,
   "metadata": {},
   "outputs": [],
   "source": [
    "i = 0  \n",
    "while i < 5:  \n",
    "    print(i)  \n",
    "    i += 1 "
   ]
  },
  {
   "cell_type": "markdown",
   "metadata": {},
   "source": [
    "(e) while, swap print and incrementing i  "
   ]
  },
  {
   "cell_type": "code",
   "execution_count": null,
   "metadata": {},
   "outputs": [],
   "source": [
    "i = -1  \n",
    "while i != 4:  \n",
    "    i += 1     \n",
    "    print(i)"
   ]
  },
  {
   "cell_type": "markdown",
   "metadata": {},
   "source": [
    "(f) what will be i after the loop? Add one more line in the end to print it:  "
   ]
  },
  {
   "cell_type": "code",
   "execution_count": null,
   "metadata": {
    "ExecuteTime": {
     "end_time": "2021-02-06T12:26:56.992202Z",
     "start_time": "2021-02-06T12:26:56.986622Z"
    }
   },
   "outputs": [],
   "source": [
    "for i in range(5):  \n",
    "    print(i)  \n",
    "    \n",
    "print('i=',i)"
   ]
  },
  {
   "cell_type": "markdown",
   "metadata": {},
   "source": [
    "(g) Add `print('i=',i)` to the end of (b)-(e) to see the value of i, and explain why i are different in different cases"
   ]
  },
  {
   "cell_type": "markdown",
   "metadata": {},
   "source": [
    "### Exercise 2"
   ]
  },
  {
   "cell_type": "markdown",
   "metadata": {},
   "source": [
    "Input a string, print it 5 times \"horizontally\" and \"vertically\"\n",
    "\n",
    "Example of horizontal version:\n",
    "\n",
    "\n",
    "Type the string to print horizontally: orange  \n",
    "```\n",
    "orange  \n",
    "orange  \n",
    "orange  \n",
    "orange  \n",
    "orange  \n",
    "```\n",
    "\n",
    "Example of vertical version:   \n",
    "\n",
    "Type the string to print vertically: orange\n",
    "\n",
    "```\n",
    "o o o o o \n",
    "r r r r r \n",
    "a a a a a \n",
    "n n n n n \n",
    "g g g g g \n",
    "e e e e e\n",
    "```\n"
   ]
  },
  {
   "cell_type": "code",
   "execution_count": 1,
   "metadata": {
    "ExecuteTime": {
     "end_time": "2021-02-06T12:40:00.417531Z",
     "start_time": "2021-02-06T12:40:00.360684Z"
    }
   },
   "outputs": [
    {
     "name": "stdin",
     "output_type": "stream",
     "text": [
      "Type the string to print horizontally:  orange\n"
     ]
    },
    {
     "name": "stdout",
     "output_type": "stream",
     "text": [
      "orange\n",
      "orange\n",
      "orange\n",
      "orange\n",
      "orange\n"
     ]
    }
   ],
   "source": [
    "msg = input(\"Type the string to print horizontally: \")\n",
    "for i in range(5): \n",
    "    print(msg)"
   ]
  },
  {
   "cell_type": "code",
   "execution_count": 5,
   "metadata": {},
   "outputs": [
    {
     "name": "stdout",
     "output_type": "stream",
     "text": [
      "Type the string to print vertically: orange\n",
      "o o o o o \n",
      "r r r r r \n",
      "a a a a a \n",
      "n n n n n \n",
      "g g g g g \n",
      "e e e e e \n"
     ]
    }
   ],
   "source": [
    "msg = input(\"Type the string to print vertically: \")\n",
    "for c in \"orange\": \n",
    "    for i in range(5): \n",
    "        print(c, end=\" \")  #\\n\n",
    "    print()"
   ]
  },
  {
   "cell_type": "markdown",
   "metadata": {},
   "source": [
    "### Exercise 3"
   ]
  },
  {
   "cell_type": "markdown",
   "metadata": {},
   "source": [
    "**Packing Oranges Again 😀**  \n",
    "Write the following program that  \n",
    "asks for the sizes of big and small boxes,  \n",
    "then shows how 50, 100, .. 250 oranges can be packed.\n",
    "\n",
    "**Sample rundown:**  \n",
    "```\n",
    "Size of big boxes = 40\n",
    "Size of small boxes = 8\n",
    "\n",
    " [Count of Oranges]     [Big boxes]        [Small boxes]        [Remaining]     \n",
    "         50                  1                   1                   2          \n",
    "        100                  2                   2                   4          \n",
    "        150                  3                   3                   6          \n",
    "        200                  5                   0                   0          \n",
    "        250                  6                   1                   2        \n",
    "```  \n",
    "\n",
    "**Starter Code for you (click [here](https://docs.python.org/3/library/string.html#format-specification-mini-language) to see the use of ^ : center align):** "
   ]
  },
  {
   "cell_type": "code",
   "execution_count": null,
   "metadata": {
    "ExecuteTime": {
     "end_time": "2021-02-06T12:49:04.741281Z",
     "start_time": "2021-02-06T12:49:02.281724Z"
    }
   },
   "outputs": [],
   "source": [
    "bg = int(input(\"Size of big boxes = \"))\n",
    "sm = int(input(\"Size of small boxes = \"))\n",
    "print() # skip a line\n",
    "\n",
    "print(\"{:^20s}{:^20s}{:^20s}{:^20s}\".format(\n",
    "    \"[Count of Oranges]\", \"[Big boxes]\", \"[Small boxes]\", \"[Remaining]\"))\n",
    "\n",
    "for i in range(50,250+1,50):\n",
    "    to_pack = i\n",
    "    count_bg = to_pack // bg\n",
    "    to_pack = to_pack % bg\n",
    "    count_sm = to_pack // sm\n",
    "    to_pack = to_pack % sm\n",
    "    print(\"{:^20d}{:^20d}{:^20d}{:^20d}\".format(i, count_bg, count_sm, to_pack)) # just some numbers for testing"
   ]
  },
  {
   "cell_type": "code",
   "execution_count": null,
   "metadata": {},
   "outputs": [],
   "source": []
  }
 ],
 "metadata": {
  "kernelspec": {
   "display_name": "Python 3 (ipykernel)",
   "language": "python",
   "name": "python3"
  },
  "language_info": {
   "codemirror_mode": {
    "name": "ipython",
    "version": 3
   },
   "file_extension": ".py",
   "mimetype": "text/x-python",
   "name": "python",
   "nbconvert_exporter": "python",
   "pygments_lexer": "ipython3",
   "version": "3.11.9"
  },
  "latex_envs": {
   "LaTeX_envs_menu_present": true,
   "autoclose": false,
   "autocomplete": true,
   "bibliofile": "biblio.bib",
   "cite_by": "apalike",
   "current_citInitial": 1,
   "eqLabelWithNumbers": true,
   "eqNumInitial": 1,
   "hotkeys": {
    "equation": "Ctrl-E",
    "itemize": "Ctrl-I"
   },
   "labels_anchors": false,
   "latex_user_defs": false,
   "report_style_numbering": false,
   "user_envs_cfg": false
  },
  "scenes_data": {
   "active_scene": "Default Scene",
   "init_scene": "",
   "scenes": [
    "Default Scene"
   ]
  },
  "toc": {
   "base_numbering": 1,
   "nav_menu": {},
   "number_sections": true,
   "sideBar": true,
   "skip_h1_title": false,
   "title_cell": "Table of Contents",
   "title_sidebar": "Contents",
   "toc_cell": false,
   "toc_position": {},
   "toc_section_display": true,
   "toc_window_display": false
  }
 },
 "nbformat": 4,
 "nbformat_minor": 4
}
