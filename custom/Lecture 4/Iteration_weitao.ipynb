{
 "cells": [
  {
   "cell_type": "markdown",
   "metadata": {
    "slideshow": {
     "slide_type": "slide"
    }
   },
   "source": [
    "---\n",
    "title: Iteration\n",
    "abstract: |\n",
    "    Iteration is a useful construct that specifies how certain code should be executed repeatedly, thereby avoiding the need for code duplication for repetitive tasks. By leveraging iteration, programmers can streamline their code, making it easier to read and maintain. Readers will learn to write iterations using the while statement, and how unintended infinite loops can be introduced without careful choices of looping/termination conditions. For definitive loops where the number of iterations is known before runtime, readers will learn to write for statements to repeatedly execute a block of code with target variables ranging over some iterable collections of items.\n",
    "---"
   ]
  },
  {
   "cell_type": "code",
   "execution_count": 3,
   "metadata": {
    "editable": true,
    "slideshow": {
     "slide_type": "slide"
    }
   },
   "outputs": [
    {
     "name": "stdout",
     "output_type": "stream",
     "text": [
      "The divewidgets extension is already loaded. To reload it, use:\n",
      "  %reload_ext divewidgets\n",
      "The jupyter_ai extension is already loaded. To reload it, use:\n",
      "  %reload_ext jupyter_ai\n"
     ]
    },
    {
     "data": {
      "text/markdown": [
       "Updated target of alias `chatgpt`"
      ],
      "text/plain": [
       "Updated target of alias `chatgpt`"
      ]
     },
     "execution_count": 3,
     "metadata": {},
     "output_type": "execute_result"
    }
   ],
   "source": [
    "from ipywidgets import interact\n",
    "\n",
    "%load_ext divewidgets\n",
    "%load_ext jupyter_ai\n",
    "%ai update chatgpt dive:chat"
   ]
  },
  {
   "cell_type": "markdown",
   "metadata": {},
   "source": [
    "Content\n",
    "\n",
    "- Iteration\n",
    "   - For loop\n",
    "   - While loop\n",
    "   \n",
    "- Break/continue/else statement"
   ]
  },
  {
   "cell_type": "markdown",
   "metadata": {
    "slideshow": {
     "slide_type": "slide"
    }
   },
   "source": [
    "## Motivation"
   ]
  },
  {
   "cell_type": "markdown",
   "metadata": {
    "slideshow": {
     "slide_type": "fragment"
    }
   },
   "source": [
    "An important application of programming is to automate the boring stuff:\n",
    "\n",
    "- [Sweigart, Al. Automate the boring stuff with Python: practical programming for total beginners. No Starch Press, 2019.](https://julac-cuh.primo.exlibrisgroup.com/permalink/852JULAC_CUH/vit3jk/alma991029405411403408)\n",
    "- LinkedIn Learning: [Using Python for Automation](https://www.linkedin.com/learning/using-python-for-automation-2023/automate-everything-with-python?u=76816450)"
   ]
  },
  {
   "cell_type": "markdown",
   "metadata": {},
   "source": [
    "A significant contributor to boredom is often the repetitive nature of the task. For instance:\n",
    "\n",
    "- Calculating the maximum value of a sequence of numbers, which can be indefinitely long.\n",
    "- Continuously prompting users for input until it meets the validation criteria.\n",
    "- ..."
   ]
  },
  {
   "cell_type": "code",
   "execution_count": 4,
   "metadata": {},
   "outputs": [
    {
     "data": {
      "text/plain": [
       "Here are three very common repetitive tasks that can be best solved by using iteration in programming:\n",
       "\n",
       "1. **Data processing**: Iteration can be used to process a large dataset, such as reading and manipulating data from a file, database, or network request. By using iteration, you can loop through each data element and perform the necessary operations, making it efficient and scalable.\n",
       "2. **User authentication**: Iteration can be used to validate user credentials, such as checking a username and password against a list of authorized users. By iterating through the list, you can quickly determine if the user is authenticated or not.\n",
       "3. **Calculating totals or aggregates**: Iteration can be used to calculate totals or aggregates, such as summing up a list of numbers, counting the number of items in a list, or calculating the average value of a set of data. By iterating through the data, you can perform the necessary calculations and return the desired result."
      ]
     },
     "execution_count": 4,
     "metadata": {
      "jupyter_ai": {
       "model_id": "chat",
       "provider_id": "dive"
      }
     },
     "output_type": "execute_result"
    }
   ],
   "source": [
    "%%ai chatgpt -f text\n",
    "List three very common repetitive tasks that can be best solved by using iteration in programming.\n",
    "Do not include any code."
   ]
  },
  {
   "cell_type": "markdown",
   "metadata": {
    "slideshow": {
     "slide_type": "subslide"
    }
   },
   "source": [
    "::::{exercise} counting\n",
    ":label: ex:print-upto\n",
    "\n",
    "Complete the following code to print from 1 up to a user-specified integer?\n",
    "\n",
    ":::{hint} \n",
    ":class: dropdown\n",
    "\n",
    "Identify the pattern in the first few lines of the code, which work for input number no larger than `3`.\n",
    "\n",
    ":::\n",
    "::::"
   ]
  },
  {
   "cell_type": "code",
   "execution_count": null,
   "metadata": {},
   "outputs": [],
   "source": [
    "num = int(input(\">\"))\n",
    "if 1 <= num:\n",
    "    print(1)\n",
    "if 2 <= num:\n",
    "    print(2)\n",
    "if 3 <= num:\n",
    "    print(3)\n",
    "# YOUR CODE HERE\n",
    "raise NotImplementedError"
   ]
  },
  {
   "cell_type": "markdown",
   "metadata": {
    "slideshow": {
     "slide_type": "subslide"
    }
   },
   "source": [
    "::::{important} Should you just duplicate some code?\n",
    ":class: dropdown\n",
    "\n",
    "*Code duplication* is a bad practice:\n",
    "- Duplicate code is hard to read/write/maintain. Imagine what you need to do to change some code.\n",
    "- The number of repetitions may not be known before runtime, as in [](#ex:print-upto).\n",
    "\n",
    "Instead, a programmer should write a *loop/iteration* that specifies how a piece of code should be executed repeatedly.\n",
    "\n",
    "::::"
   ]
  },
  {
   "cell_type": "markdown",
   "metadata": {},
   "source": [
    "How to write code without duplication? One way is to write iterations/loops.[^function]\n",
    "\n",
    "[^function]: Another way you will learn later in the course is to write functions and recursions."
   ]
  },
  {
   "cell_type": "code",
   "execution_count": 6,
   "metadata": {},
   "outputs": [
    {
     "data": {
      "text/plain": [
       "For example, let's say we have a web application that requires displaying a list of products with their prices and descriptions. Initially, we might write a separate block of code to generate the HTML for each product, but soon we realize that we need to display this information in multiple places on the website. Writing the same code multiple times leads to code duplication, which makes it difficult to maintain and update the codebase. To avoid this, we can use iteration to generate the HTML for each product using a loop, where we define a template and then iterate over the list of products to fill in the template variables. This approach not only reduces code duplication but also makes it easier to add or remove products from the list without having to modify the code multiple times."
      ]
     },
     "execution_count": 6,
     "metadata": {
      "jupyter_ai": {
       "model_id": "chat",
       "provider_id": "dive"
      }
     },
     "output_type": "execute_result"
    }
   ],
   "source": [
    "%%ai chatgpt -f text\n",
    "In one paragraph, give a concrete example to explain why code duplication is a bad programming practice for carrying out repetitive tasks, and how basic idea of using iteration to avoid code duplication."
   ]
  },
  {
   "cell_type": "markdown",
   "metadata": {
    "slideshow": {
     "slide_type": "slide"
    }
   },
   "source": [
    "## For Loop\n",
    "Syntax\n",
    "\n",
    "<center><figure>\n",
    "<a title=\"\" href=\"https://www.cs.cityu.edu.hk/~weitaoxu/cs1302/for.jpg\"><img width=\"700\" alt=\"For loop\" src=\"https://www.cs.cityu.edu.hk/~weitaoxu/cs1302/for.jpg\"></a>\n",
    "  <figcaption></figcaption>\n",
    "</figure>\n",
    "</center>"
   ]
  },
  {
   "cell_type": "markdown",
   "metadata": {
    "slideshow": {
     "slide_type": "subslide"
    }
   },
   "source": [
    "### Iterate over a sequence"
   ]
  },
  {
   "cell_type": "markdown",
   "metadata": {
    "slideshow": {
     "slide_type": "fragment"
    }
   },
   "source": [
    "**How to print from 1 up to 4?**"
   ]
  },
  {
   "cell_type": "markdown",
   "metadata": {
    "slideshow": {
     "slide_type": "fragment"
    }
   },
   "source": [
    "We can use a [`for` statement](https://docs.python.org/3.3/tutorial/controlflow.html#for-statements) as follows:"
   ]
  },
  {
   "cell_type": "code",
   "execution_count": 7,
   "metadata": {
    "ExecuteTime": {
     "end_time": "2021-02-01T01:11:26.419285Z",
     "start_time": "2021-02-01T01:11:26.413238Z"
    },
    "slideshow": {
     "slide_type": "-"
    }
   },
   "outputs": [
    {
     "data": {
      "application/vnd.jupyter.widget-view+json": {
       "model_id": "f762cdd1a1894e87a041d2a828d4d280",
       "version_major": 2,
       "version_minor": 0
      },
      "text/plain": [
       "OPTWidget(value=None, height=300, script='\\nfor i in 1, 2, 3, 4:\\n    print(i)\\n')"
      ]
     },
     "execution_count": 7,
     "metadata": {},
     "output_type": "execute_result"
    }
   ],
   "source": [
    "%%optlite -h 300\n",
    "\n",
    "for i in 1, 2, 3, 4:\n",
    "    print(i)"
   ]
  },
  {
   "cell_type": "markdown",
   "metadata": {
    "slideshow": {
     "slide_type": "fragment"
    }
   },
   "source": [
    "- `i` is automatically assigned to each element in the sequence `1, 2, 3, 4` one-by-one from left to right.\n",
    "- After each assignment, the body `print(i)` is executed. \n",
    "\n",
    "N.b., if `i` is defined before the for loop, its value will be overwritten.  "
   ]
  },
  {
   "cell_type": "markdown",
   "metadata": {
    "slideshow": {
     "slide_type": "subslide"
    }
   },
   "source": [
    "The assignment is not restricted to integers and can also be a tuple assignment. (tuple will be introduced later)"
   ]
  },
  {
   "cell_type": "code",
   "execution_count": 8,
   "metadata": {
    "ExecuteTime": {
     "end_time": "2021-01-31T13:25:54.429435Z",
     "start_time": "2021-01-31T13:25:54.421930Z"
    },
    "scrolled": true,
    "slideshow": {
     "slide_type": "-"
    }
   },
   "outputs": [
    {
     "name": "stdout",
     "output_type": "stream",
     "text": [
      "0 l\n",
      "1 o\n",
      "2 o\n",
      "3 p\n"
     ]
    }
   ],
   "source": [
    "tuples = (0,'l'), (1,'o'), (2,'o'), (3,'p')\n",
    "for i,c in tuples: \n",
    "    print(i,c) "
   ]
  },
  {
   "cell_type": "code",
   "execution_count": 10,
   "metadata": {
    "ExecuteTime": {
     "end_time": "2020-09-14T15:39:28.128379Z",
     "start_time": "2020-09-14T15:39:28.118997Z"
    },
    "slideshow": {
     "slide_type": "fragment"
    }
   },
   "outputs": [
    {
     "name": "stdout",
     "output_type": "stream",
     "text": [
      "0 a\n",
      "1 p\n",
      "2 p\n",
      "3 l\n",
      "4 e\n"
     ]
    }
   ],
   "source": [
    "for i,c in enumerate('apple'): \n",
    "    print(i,c)"
   ]
  },
  {
   "cell_type": "markdown",
   "metadata": {
    "slideshow": {
     "slide_type": "fragment"
    }
   },
   "source": [
    "`enumerate()` method adds a counter to an iterable and returns it in a form of (index,element). Often used in for loops.\n",
    "   - E.g., `enumerate('apple')` will return `(0,'a'),(1,'p'),(2,'p'),(3,'l'),(4,'e')`\n",
    "   - In programming, the index of a list or array with size `N` start from `0` to `N-1` "
   ]
  },
  {
   "cell_type": "code",
   "execution_count": 14,
   "metadata": {},
   "outputs": [
    {
     "name": "stdout",
     "output_type": "stream",
     "text": [
      "a\n"
     ]
    },
    {
     "ename": "IndexError",
     "evalue": "string index out of range",
     "output_type": "error",
     "traceback": [
      "\u001b[0;31m---------------------------------------------------------------------------\u001b[0m",
      "\u001b[0;31mIndexError\u001b[0m                                Traceback (most recent call last)",
      "Cell \u001b[0;32mIn[14], line 3\u001b[0m\n\u001b[1;32m      1\u001b[0m s\u001b[38;5;241m=\u001b[39m\u001b[38;5;124m\"\u001b[39m\u001b[38;5;124mapple\u001b[39m\u001b[38;5;124m\"\u001b[39m \u001b[38;5;66;03m#the index of 'a' 'p' 'p' 'l' 'e' is 0,1,2,3,4\u001b[39;00m\n\u001b[1;32m      2\u001b[0m \u001b[38;5;28mprint\u001b[39m(s[\u001b[38;5;241m0\u001b[39m])\n\u001b[0;32m----> 3\u001b[0m \u001b[38;5;28mprint\u001b[39m(\u001b[43ms\u001b[49m\u001b[43m[\u001b[49m\u001b[38;5;241;43m5\u001b[39;49m\u001b[43m]\u001b[49m)\n",
      "\u001b[0;31mIndexError\u001b[0m: string index out of range"
     ]
    }
   ],
   "source": [
    "s=\"apple\" #the index of 'a' 'p' 'p' 'l' 'e' is 0,1,2,3,4\n",
    "print(s[0])\n",
    "print(s[5]) #index 5 out of range"
   ]
  },
  {
   "cell_type": "markdown",
   "metadata": {
    "slideshow": {
     "slide_type": "subslide"
    }
   },
   "source": [
    "### Iterate over a range"
   ]
  },
  {
   "cell_type": "markdown",
   "metadata": {
    "slideshow": {
     "slide_type": "fragment"
    }
   },
   "source": [
    "**How to print up to a user-specified number?**"
   ]
  },
  {
   "cell_type": "markdown",
   "metadata": {
    "slideshow": {
     "slide_type": "fragment"
    }
   },
   "source": [
    "We can use function [`range`](https://docs.python.org/3/library/stdtypes.html#range):\n",
    "\n",
    "`range(begin, end, step)`\n",
    "\n",
    "- *begin* is the first value in the range; if omitted, the default value is 0\n",
    "- *end* is one past the last value in the range; the end value is always required and may not be omitted\n",
    "- *step* is the amount to increment or decrement; if the step parameter is omitted, it defaults to 1 (counts up by ones)\n",
    "\n",
    "**Important:** `range(end)` generate numbers from begin to end-1!"
   ]
  },
  {
   "cell_type": "code",
   "execution_count": 6,
   "metadata": {
    "ExecuteTime": {
     "end_time": "2021-02-01T01:22:30.277239Z",
     "start_time": "2021-02-01T01:22:30.269983Z"
    },
    "slideshow": {
     "slide_type": "fragment"
    }
   },
   "outputs": [
    {
     "name": "stdout",
     "output_type": "stream",
     "text": [
      "range(0, 10)\n",
      "[0, 1, 2, 3, 4, 5, 6, 7, 8, 9]\n",
      "[1, 2, 3, 4, 5, 6, 7, 8, 9]\n",
      "[1, 3, 5, 7, 9]\n",
      "[10, 9, 8, 7, 6, 5, 4, 3, 2, 1]\n"
     ]
    }
   ],
   "source": [
    "print(range(10))\n",
    "#range() returns a range() object, which can't be printed directly. If we want to print the values, we need to convert it to other data types, such as a list\n",
    "print(list(range(10))) #list() method will convert a object to be a list (list will be introduced later)\n",
    "print(list(range(1,10)))\n",
    "print(list(range(1,10,2)))\n",
    "print(list(range(10,0,-1)))"
   ]
  },
  {
   "cell_type": "markdown",
   "metadata": {
    "slideshow": {
     "slide_type": "subslide"
    }
   },
   "source": [
    "Run the code below to see how to use range in a for loop:"
   ]
  },
  {
   "cell_type": "code",
   "execution_count": 41,
   "metadata": {
    "ExecuteTime": {
     "end_time": "2021-02-01T01:26:07.154562Z",
     "start_time": "2021-02-01T01:26:03.313605Z"
    },
    "slideshow": {
     "slide_type": "fragment"
    }
   },
   "outputs": [
    {
     "name": "stdin",
     "output_type": "stream",
     "text": [
      "Please input a number: 30\n"
     ]
    },
    {
     "name": "stdout",
     "output_type": "stream",
     "text": [
      "0\n",
      "1\n",
      "2\n",
      "3\n",
      "4\n",
      "5\n",
      "6\n",
      "7\n",
      "8\n",
      "9\n",
      "10\n",
      "11\n",
      "12\n",
      "13\n",
      "14\n",
      "15\n",
      "16\n",
      "17\n",
      "18\n",
      "19\n",
      "20\n",
      "21\n",
      "22\n",
      "23\n",
      "24\n",
      "25\n",
      "26\n",
      "27\n",
      "28\n",
      "29\n",
      "30\n"
     ]
    }
   ],
   "source": [
    "stop = int(input('Please input a number:')) + 1\n",
    "for i in range(stop):\n",
    "    print(i)"
   ]
  },
  {
   "cell_type": "markdown",
   "metadata": {
    "slideshow": {
     "slide_type": "fragment"
    }
   },
   "source": [
    "```{attention}\n",
    "\n",
    "Why add 1 to the user input number?\n",
    "\n",
    "`range(stop)` generates a sequence of integers from `0` up to *but excluding* `stop`.\n",
    "```**Why add 1 to the user input number?**"
   ]
  },
  {
   "cell_type": "markdown",
   "metadata": {
    "slideshow": {
     "slide_type": "fragment"
    }
   },
   "source": [
    "**How to start from a number other different from `0`?**"
   ]
  },
  {
   "cell_type": "code",
   "execution_count": 43,
   "metadata": {
    "ExecuteTime": {
     "end_time": "2021-01-31T13:35:04.523320Z",
     "start_time": "2021-01-31T13:35:04.515869Z"
    },
    "slideshow": {
     "slide_type": "fragment"
    }
   },
   "outputs": [
    {
     "name": "stdout",
     "output_type": "stream",
     "text": [
      "3\n",
      "4\n",
      "5\n",
      "6\n",
      "7\n",
      "8\n",
      "9\n",
      "10\n"
     ]
    }
   ],
   "source": [
    "for i in range(3,10): \n",
    "    print(i)"
   ]
  },
  {
   "cell_type": "markdown",
   "metadata": {
    "slideshow": {
     "slide_type": "fragment"
    }
   },
   "source": [
    "**What about a step size different from `1`?**"
   ]
  },
  {
   "cell_type": "code",
   "execution_count": 27,
   "metadata": {
    "ExecuteTime": {
     "end_time": "2021-02-01T01:31:19.194598Z",
     "start_time": "2021-02-01T01:31:19.094220Z"
    },
    "slideshow": {
     "slide_type": "fragment"
    }
   },
   "outputs": [
    {
     "name": "stdout",
     "output_type": "stream",
     "text": [
      "3\n",
      "5\n",
      "7\n"
     ]
    }
   ],
   "source": [
    "for i in range(3,9,2): \n",
    "    print(i)"
   ]
  },
  {
   "cell_type": "markdown",
   "metadata": {
    "slideshow": {
     "slide_type": "subslide"
    }
   },
   "source": [
    "**Exercise** How to count down from 4 to 0? Do it without addition or subtraction."
   ]
  },
  {
   "cell_type": "code",
   "execution_count": 3,
   "metadata": {
    "slideshow": {
     "slide_type": "fragment"
    }
   },
   "outputs": [
    {
     "name": "stdout",
     "output_type": "stream",
     "text": [
      "4\n",
      "3\n",
      "2\n",
      "1\n",
      "0\n"
     ]
    }
   ],
   "source": [
    "#solution\n",
    "for i in range(4,-1,-1):\n",
    "    print(i)"
   ]
  },
  {
   "cell_type": "markdown",
   "metadata": {
    "slideshow": {
     "slide_type": "subslide"
    }
   },
   "source": [
    "**Exercise** \n",
    "\n",
    "Print from `0` to a user-specified number but in steps of `0.5`.  \n",
    "E.g., if the user inputs `2`, the program should print:\n",
    "```\n",
    "0.0\n",
    "0.5\n",
    "1.0\n",
    "1.5\n",
    "2.0\n",
    "```\n",
    "\n",
    "```{caution}\n",
    "`range` only accepts integer arguments.\n",
    "```"
   ]
  },
  {
   "cell_type": "code",
   "execution_count": 13,
   "metadata": {
    "slideshow": {
     "slide_type": "fragment"
    }
   },
   "outputs": [
    {
     "name": "stdin",
     "output_type": "stream",
     "text": [
      "> 3\n"
     ]
    },
    {
     "name": "stdout",
     "output_type": "stream",
     "text": [
      "0.0\n",
      "0.5\n",
      "1.0\n",
      "1.5\n",
      "2.0\n",
      "2.5\n",
      "3.0\n"
     ]
    }
   ],
   "source": [
    "#solution\n",
    "num = int(input('Please input a number:'))\n",
    "for i in range(0, 2 * num + 1, 1):\n",
    "    print(i / 2)"
   ]
  },
  {
   "cell_type": "markdown",
   "metadata": {
    "slideshow": {
     "slide_type": "subslide"
    }
   },
   "source": [
    "**Exercise** \n",
    "\n",
    "How to print the character `'*'` repeatedly for `m` rows and `n` columns? \n",
    "\n",
    "```{hint}\n",
    "Try using a *nested for loop*, i.e., a for loop (*inner loop*) inside the body of another for loop (*outer loop*).\n",
    "```"
   ]
  },
  {
   "cell_type": "code",
   "execution_count": 12,
   "metadata": {},
   "outputs": [
    {
     "data": {
      "application/vnd.jupyter.widget-view+json": {
       "model_id": "6117ed357d6140839cac2a5767c39610",
       "version_major": 2,
       "version_minor": 0
      },
      "text/plain": [
       "interactive(children=(IntSlider(value=5, description='m', max=10), IntSlider(value=5, description='n', max=10)…"
      ]
     },
     "metadata": {},
     "output_type": "display_data"
    }
   ],
   "source": [
    "@interact(m=(0, 10), n=(0, 10))\n",
    "\n",
    "#solution\n",
    "def draw_rectangle(m, n):\n",
    "    for i in range(m): \n",
    "        for j in range(n):\n",
    "            print('*', end='')   #what happens if we don't set end=''?\n",
    "        print()                  #why we need to have this line? Try to delete it to see what happens"
   ]
  },
  {
   "cell_type": "markdown",
   "metadata": {
    "slideshow": {
     "slide_type": "slide"
    }
   },
   "source": [
    "### Iterate over a string"
   ]
  },
  {
   "cell_type": "markdown",
   "metadata": {
    "slideshow": {
     "slide_type": "subslide"
    }
   },
   "source": [
    "**What does the following do?**"
   ]
  },
  {
   "cell_type": "code",
   "execution_count": 13,
   "metadata": {
    "ExecuteTime": {
     "end_time": "2021-02-01T01:42:02.144008Z",
     "start_time": "2021-02-01T01:42:02.138802Z"
    },
    "slideshow": {
     "slide_type": "fragment"
    }
   },
   "outputs": [
    {
     "data": {
      "application/vnd.jupyter.widget-view+json": {
       "model_id": "5fb0f480d4f84c2db76d1f7ec3d602c5",
       "version_major": 2,
       "version_minor": 0
      },
      "text/plain": [
       "OPTWidget(value=None, height=300, script=\"for character in 'loop': \\n    print(character)\\n\")"
      ]
     },
     "execution_count": 13,
     "metadata": {},
     "output_type": "execute_result"
    }
   ],
   "source": [
    "%%optlite -h 300\n",
    "for character in 'loop': \n",
    "    print(character)"
   ]
  },
  {
   "cell_type": "markdown",
   "metadata": {
    "slideshow": {
     "slide_type": "fragment"
    }
   },
   "source": [
    "A string is *iterable* because it can be regarded as a sequence of characters.\n",
    "- The function [`len`](https://docs.python.org/3/library/functions.html#len) can return the length of a string.\n",
    "- The indexing operator `[]` can return the character of a string at a specified location."
   ]
  },
  {
   "cell_type": "code",
   "execution_count": 16,
   "metadata": {
    "ExecuteTime": {
     "end_time": "2021-02-01T01:44:18.286037Z",
     "start_time": "2021-02-01T01:44:18.278403Z"
    },
    "slideshow": {
     "slide_type": "fragment"
    }
   },
   "outputs": [
    {
     "name": "stdout",
     "output_type": "stream",
     "text": [
      "p o o l\n",
      "length: 4\n",
      "characters: p o o l\n",
      "45\n"
     ]
    }
   ],
   "source": [
    "message = \"loop\"\n",
    "print(message[-1],message[-2],message[-3],message[-4])\n",
    "print('length:', len(message))\n",
    "print('characters:', message[3], message[2], message[1], message[0])\n",
    "\n",
    "s =\"sadjfioasfjdslakdfjosiadjfsoaidfjoasidfjsioaf\"\n",
    "\n",
    "print(len(s)) #to calculate the length of a stirng, we can use len()"
   ]
  },
  {
   "cell_type": "markdown",
   "metadata": {
    "slideshow": {
     "slide_type": "fragment"
    }
   },
   "source": [
    "We can also iterate over a string as follows although it is less elegant:"
   ]
  },
  {
   "cell_type": "code",
   "execution_count": 17,
   "metadata": {
    "ExecuteTime": {
     "end_time": "2020-09-14T15:39:33.470390Z",
     "start_time": "2020-09-14T15:39:22.172Z"
    },
    "slideshow": {
     "slide_type": "fragment"
    }
   },
   "outputs": [
    {
     "name": "stdout",
     "output_type": "stream",
     "text": [
      "l\n",
      "o\n",
      "o\n",
      "p\n"
     ]
    }
   ],
   "source": [
    "for i in range(len('loop')): \n",
    "    print('loop'[i])"
   ]
  },
  {
   "cell_type": "markdown",
   "metadata": {
    "slideshow": {
     "slide_type": "subslide"
    }
   },
   "source": [
    "**Exercise** Print a string assigned to `message` in reverse.  \n",
    "E.g., `'loop'` should be printed as `'pool'`."
   ]
  },
  {
   "cell_type": "code",
   "execution_count": 15,
   "metadata": {},
   "outputs": [
    {
     "data": {
      "application/vnd.jupyter.widget-view+json": {
       "model_id": "d042f0630a674b39bab6447f7e1ebefd",
       "version_major": 2,
       "version_minor": 0
      },
      "text/plain": [
       "interactive(children=(Text(value='apple', description='message'), Output()), _dom_classes=('widget-interact',)…"
      ]
     },
     "metadata": {},
     "output_type": "display_data"
    }
   ],
   "source": [
    "@interact(message='apple')\n",
    "def reverse_print(message):\n",
    "    for i in range(len(message)):\n",
    "        print(message[-i - 1], end='')"
   ]
  },
  {
   "cell_type": "markdown",
   "metadata": {
    "slideshow": {
     "slide_type": "slide"
    }
   },
   "source": [
    "## While Loop"
   ]
  },
  {
   "cell_type": "markdown",
   "metadata": {
    "slideshow": {
     "slide_type": "subslide"
    }
   },
   "source": [
    "**How to repeatedly ask the user to enter an input until the user input is not empty?**"
   ]
  },
  {
   "cell_type": "markdown",
   "metadata": {
    "slideshow": {
     "slide_type": "fragment"
    }
   },
   "source": [
    "Python provides the [`while` statement](https://docs.python.org/3/reference/compound_stmts.html#while) to execute a set of statements as long as a condition is true.\n",
    "\n",
    "Syntax\n",
    "\n",
    "```Python\n",
    "while condition:\n",
    "\n",
    "    #your code to run\n",
    "```"
   ]
  },
  {
   "cell_type": "markdown",
   "metadata": {
    "slideshow": {
     "slide_type": "subslide"
    }
   },
   "source": [
    "Example: \n",
    "- the following code calculates the sum of 1,2,3,...,100\n",
    "- As long as the condition after `while` is true (i.e., `i<=100`), the body gets executed repeatedly."
   ]
  },
  {
   "cell_type": "code",
   "execution_count": 19,
   "metadata": {
    "ExecuteTime": {
     "end_time": "2021-02-01T02:03:09.877784Z",
     "start_time": "2021-02-01T02:02:50.779064Z"
    },
    "slideshow": {
     "slide_type": "fragment"
    }
   },
   "outputs": [
    {
     "name": "stdout",
     "output_type": "stream",
     "text": [
      "101\n",
      "5050\n"
     ]
    }
   ],
   "source": [
    "i = 0\n",
    "sum = 0\n",
    "\n",
    "while i<=100:\n",
    "    sum = sum + i  #calculate the sum\n",
    "    i = i + 1  #increase i by 1. What happens if we don't have this line? It becomes an infinite loop which will never stop! You have to interrupt the kernel to restart\n",
    "    \n",
    "print(i)\n",
    "print(sum)"
   ]
  },
  {
   "cell_type": "markdown",
   "metadata": {},
   "source": [
    "### While Loop vs For Loop"
   ]
  },
  {
   "cell_type": "markdown",
   "metadata": {
    "slideshow": {
     "slide_type": "subslide"
    }
   },
   "source": [
    "**How to decide whether to use while loop or for loop?**"
   ]
  },
  {
   "cell_type": "markdown",
   "metadata": {},
   "source": [
    "::::{important} Definite vs indefinite loops\n",
    "\n",
    "-  `for` is often used for a *definite loop* which has a definite number of iterations before the execution of the loop.\n",
    "- `while` is often used for an *indefinite loop* where the number of iterations is unknown before the execution of the loop.\n",
    "::::"
   ]
  },
  {
   "cell_type": "markdown",
   "metadata": {
    "slideshow": {
     "slide_type": "fragment"
    }
   },
   "source": [
    "It is always possible to replace a `for` loop by a `while` loop.\n",
    "\n",
    "E.g., the following code prints from `0` to `4` using a while loop instead of a for loop."
   ]
  },
  {
   "cell_type": "code",
   "execution_count": 54,
   "metadata": {
    "ExecuteTime": {
     "end_time": "2021-02-01T02:06:31.651980Z",
     "start_time": "2021-02-01T02:06:31.642652Z"
    },
    "slideshow": {
     "slide_type": "fragment"
    }
   },
   "outputs": [
    {
     "name": "stdout",
     "output_type": "stream",
     "text": [
      "This is the output of while loop:\n",
      "0\n",
      "1\n",
      "2\n",
      "3\n",
      "4\n",
      "This is the output of for loop (style 1):\n",
      "0\n",
      "1\n",
      "2\n",
      "3\n",
      "4\n",
      "This is the output of for loop (style 2):\n",
      "0\n",
      "1\n",
      "2\n",
      "3\n",
      "4\n"
     ]
    }
   ],
   "source": [
    "i = 0\n",
    "print('This is the output of while loop:')\n",
    "while i <= 4: \n",
    "    print(i)\n",
    "    i += 1\n",
    "    \n",
    "print('This is the output of for loop (style 1):')\n",
    "for i in range(5): print(i)\n",
    "    \n",
    "print('This is the output of for loop (style 2):')    \n",
    "#we recommend to use the following format\n",
    "for i in range(5): \n",
    "    print(i)"
   ]
  },
  {
   "cell_type": "markdown",
   "metadata": {
    "slideshow": {
     "slide_type": "fragment"
    }
   },
   "source": [
    "- A while loop may not be as elegant (short), c.f., `for i in range(5): print(i)`, but\n",
    "- it can always be as efficient."
   ]
  },
  {
   "cell_type": "markdown",
   "metadata": {
    "slideshow": {
     "slide_type": "subslide"
    }
   },
   "source": [
    "**Should we just use while loop?**\n",
    "\n",
    "No. Why? let's see the example below."
   ]
  },
  {
   "cell_type": "markdown",
   "metadata": {
    "slideshow": {
     "slide_type": "fragment"
    }
   },
   "source": [
    "Consider using the following while loop to print from `0` to a user-specified value."
   ]
  },
  {
   "cell_type": "code",
   "execution_count": 5,
   "metadata": {
    "ExecuteTime": {
     "end_time": "2021-02-01T02:12:25.876091Z",
     "start_time": "2021-02-01T02:10:07.534162Z"
    },
    "slideshow": {
     "slide_type": "fragment"
    }
   },
   "outputs": [
    {
     "name": "stdin",
     "output_type": "stream",
     "text": [
      "> 5\n"
     ]
    },
    {
     "name": "stdout",
     "output_type": "stream",
     "text": [
      "0\n",
      "1\n",
      "2\n",
      "3\n",
      "4\n",
      "5\n"
     ]
    }
   ],
   "source": [
    "num = int(input('>'))\n",
    "i = 0\n",
    "while i!=num+1: # if we enter -5, num=-5, --->i!=-4, 0,1,2,3,4.....\n",
    "    print(i)\n",
    "    i += 1\n",
    "    \n",
    "#infinite loop!!"
   ]
  },
  {
   "cell_type": "markdown",
   "metadata": {
    "slideshow": {
     "slide_type": "fragment"
    }
   },
   "source": [
    "**Exercise** Is the above while loop doing the same thing as the for loop below?"
   ]
  },
  {
   "cell_type": "code",
   "execution_count": 8,
   "metadata": {
    "ExecuteTime": {
     "end_time": "2021-02-01T02:18:29.332359Z",
     "start_time": "2021-02-01T02:18:29.314684Z"
    },
    "slideshow": {
     "slide_type": "fragment"
    }
   },
   "outputs": [
    {
     "name": "stdin",
     "output_type": "stream",
     "text": [
      "> -5\n"
     ]
    }
   ],
   "source": [
    "for i in range(int(input('>')) + 1): \n",
    "    print(i)"
   ]
  },
  {
   "cell_type": "markdown",
   "metadata": {
    "slideshow": {
     "slide_type": "fragment"
    }
   },
   "source": [
    "No. Because when user input negative integers (or fractions),\n",
    "- the while loop becomes an infinite loop, but\n",
    "- the for loop terminates without printing any number beacause range(a negative number) doesn't return any number (try the example below)"
   ]
  },
  {
   "cell_type": "code",
   "execution_count": 17,
   "metadata": {},
   "outputs": [
    {
     "name": "stdout",
     "output_type": "stream",
     "text": [
      "[]\n"
     ]
    }
   ],
   "source": [
    "print(list(range(-4))) #it returns an empty list"
   ]
  },
  {
   "cell_type": "markdown",
   "metadata": {
    "slideshow": {
     "slide_type": "fragment"
    }
   },
   "source": [
    "We have to be careful not to create unintended *infinite loops*.  \n",
    "The computer can't always detect whether there is an infinite loop. ([Why not?](https://en.wikipedia.org/wiki/Halting_problem))"
   ]
  },
  {
   "cell_type": "markdown",
   "metadata": {
    "slideshow": {
     "slide_type": "slide"
    }
   },
   "source": [
    "## Break/Continue Statements"
   ]
  },
  {
   "cell_type": "markdown",
   "metadata": {
    "slideshow": {
     "slide_type": "fragment"
    }
   },
   "source": [
    "In Python, `break` and `continue` statements can alter the flow of a normal loop.\n",
    "\n",
    "Loops iterate over a block of code until the test expression is false, but sometimes we wish to terminate the current iteration or even the whole loop without checking test expression.\n",
    "\n",
    "The break and continue statements are used in these cases."
   ]
  },
  {
   "cell_type": "markdown",
   "metadata": {
    "slideshow": {
     "slide_type": "subslide"
    }
   },
   "source": [
    "`break` statement\n",
    "- The break statement terminates the loop containing it. Control of the program flows to the statement immediately after the body of the loop.\n",
    "\n",
    "- If the break statement is inside a nested loop (loop inside another loop), the break statement will terminate the innermost loop.\n",
    "\n",
    "<center><figure>\n",
    "<a title=\"\" href=\"https://www.cs.cityu.edu.hk/~weitaoxu/cs1302/break.png\"><img width=\"400\" alt=\"Break statement\" src=\"https://www.cs.cityu.edu.hk/~weitaoxu/cs1302/break.png\"></a>\n",
    "  <figcaption></figcaption>\n",
    "</figure>\n",
    "</center>"
   ]
  },
  {
   "cell_type": "code",
   "execution_count": 18,
   "metadata": {
    "slideshow": {
     "slide_type": "subslide"
    }
   },
   "outputs": [
    {
     "data": {
      "application/vnd.jupyter.widget-view+json": {
       "model_id": "464f4a792ba1469083a30f9abacf4781",
       "version_major": 2,
       "version_minor": 0
      },
      "text/plain": [
       "OPTWidget(value=None, height=300, script='for x in \"string\":\\n    if x == \"i\":\\n        break\\n    print(x)\\n\\…"
      ]
     },
     "execution_count": 18,
     "metadata": {},
     "output_type": "execute_result"
    }
   ],
   "source": [
    "%%optlite -h 300\n",
    "for x in \"string\":\n",
    "    if x == \"i\":\n",
    "        break\n",
    "    print(x)\n",
    "\n",
    "print(\"The end\")"
   ]
  },
  {
   "cell_type": "markdown",
   "metadata": {
    "slideshow": {
     "slide_type": "fragment"
    }
   },
   "source": [
    "In this program, we iterate through the `string` sequence. We check if the letter is `i`, upon which we break from the loop. Hence, we see in our output that all the letters up till `i` gets printed. After that, the loop terminates."
   ]
  },
  {
   "cell_type": "markdown",
   "metadata": {
    "slideshow": {
     "slide_type": "slide"
    }
   },
   "source": [
    "`continue` statement\n",
    "- The `continue` statement is used to skip the rest of the code inside a loop for the current iteration only. Loop does not terminate but continues on with the next iteration.\n",
    "\n",
    "<center><figure>\n",
    "<a title=\"\" href=\"https://www.cs.cityu.edu.hk/~weitaoxu/cs1302/continue.png\"><img width=\"400\" alt=\"Continue statement\" src=\"https://www.cs.cityu.edu.hk/~weitaoxu/cs1302/continue.png\"></a>\n",
    "  <figcaption></figcaption>\n",
    "</figure>\n",
    "</center>"
   ]
  },
  {
   "cell_type": "code",
   "execution_count": 19,
   "metadata": {
    "slideshow": {
     "slide_type": "subslide"
    }
   },
   "outputs": [
    {
     "data": {
      "application/vnd.jupyter.widget-view+json": {
       "model_id": "7de72a0bfe23455f878a9b83ade18fb9",
       "version_major": 2,
       "version_minor": 0
      },
      "text/plain": [
       "OPTWidget(value=None, height=300, script='for x in \"string\":\\n    if x == \"i\":\\n        continue\\n    print(x)…"
      ]
     },
     "execution_count": 19,
     "metadata": {},
     "output_type": "execute_result"
    }
   ],
   "source": [
    "%%optlite -h 300\n",
    "for x in \"string\":\n",
    "    if x == \"i\":\n",
    "        continue\n",
    "    print(x)\n",
    "\n",
    "print(\"The end\")"
   ]
  },
  {
   "cell_type": "markdown",
   "metadata": {
    "slideshow": {
     "slide_type": "fragment"
    }
   },
   "source": [
    "This program is same as the above example except the `break` statement has been replaced with `continue`.\n",
    "\n",
    "We continue with the loop, if the string is `i`, not executing the rest of the block. Hence, we see in our output that all the letters except `i` gets printed."
   ]
  },
  {
   "cell_type": "markdown",
   "metadata": {
    "slideshow": {
     "slide_type": "subslide"
    }
   },
   "source": [
    "**Difference between `break` and `continue`**\n",
    "- `break` statement terminates the whole loop\n",
    "- but `continue` statement only terminates the current loop\n",
    "\n",
    "<center><figure>\n",
    "<a title=\"\" href=\"https://www.cs.cityu.edu.hk/~weitaoxu/cs1302/break-continue.png\"><img width=\"400\" alt=\"Break vs Continue\" src=\"https://www.cs.cityu.edu.hk/~weitaoxu/cs1302/break-continue.png\"></a>\n",
    "  <figcaption></figcaption>\n",
    "</figure>\n",
    "</center>"
   ]
  },
  {
   "cell_type": "markdown",
   "metadata": {
    "slideshow": {
     "slide_type": "subslide"
    }
   },
   "source": [
    "### Else Statement"
   ]
  },
  {
   "cell_type": "markdown",
   "metadata": {
    "slideshow": {
     "slide_type": "fragment"
    }
   },
   "source": [
    "for loop with else\n",
    "- A for loop can have an optional `else` block. The `else` part is executed if the for loop is terminated naturally, in other words, items in the sequence used in for loop exhausts.\n",
    "\n",
    "<center><figure>\n",
    "<a title=\"\" href=\"https://www.cs.cityu.edu.hk/~weitaoxu/cs1302/for-else.png\"><img width=\"500\" alt=\"For else\" src=\"https://www.cs.cityu.edu.hk/~weitaoxu/cs1302/for-else.png\"></a>\n",
    "  <figcaption></figcaption>\n",
    "</figure>\n",
    "</center>"
   ]
  },
  {
   "cell_type": "markdown",
   "metadata": {
    "slideshow": {
     "slide_type": "subslide"
    }
   },
   "source": [
    "The break keyword can be used to stop a `for` loop. In such cases, the else part is ignored. Hence, a `for` loop's `else` part runs if no break occurs.\n",
    "\n",
    "Here is an example to illustrate this."
   ]
  },
  {
   "cell_type": "code",
   "execution_count": 6,
   "metadata": {
    "slideshow": {
     "slide_type": "fragment"
    }
   },
   "outputs": [
    {
     "name": "stdout",
     "output_type": "stream",
     "text": [
      "0\n",
      "1\n",
      "5\n",
      "No items left.\n"
     ]
    }
   ],
   "source": [
    "digits = [0, 1, 5]\n",
    "\n",
    "for i in digits:\n",
    "    print(i)\n",
    "else:\n",
    "    print(\"No items left.\")"
   ]
  },
  {
   "cell_type": "markdown",
   "metadata": {
    "slideshow": {
     "slide_type": "fragment"
    }
   },
   "source": [
    "Here, the `for` loop prints items of the list until the loop exhausts. When the `for` loop exhausts, it executes the block of code in the `else` and prints `No items left`.\n",
    "\n",
    "This `for...else` statement can be used with the `break` keyword to run the `else` block only when the `break` keyword was not executed. Let's take an example:"
   ]
  },
  {
   "cell_type": "code",
   "execution_count": 20,
   "metadata": {
    "slideshow": {
     "slide_type": "fragment"
    }
   },
   "outputs": [
    {
     "data": {
      "application/vnd.jupyter.widget-view+json": {
       "model_id": "b38d82e60ec741b2bc648eed00023e56",
       "version_major": 2,
       "version_minor": 0
      },
      "text/plain": [
       "OPTWidget(value=None, height=500, script=\"student_name = 'Bob'\\n\\nmarks = {'James': 90, 'Bob': 55, 'Arthur': 7…"
      ]
     },
     "execution_count": 20,
     "metadata": {},
     "output_type": "execute_result"
    }
   ],
   "source": [
    "%%optlite -h 500\n",
    "student_name = 'Bob'\n",
    "\n",
    "marks = {'James': 90, 'Bob': 55, 'Arthur': 77} #marks is in dictionary datatype, which will be introduced later\n",
    "\n",
    "for student in marks:\n",
    "    if student == student_name:\n",
    "        print(marks[student])\n",
    "        break\n",
    "else:\n",
    "    print('No entry with that name found.')"
   ]
  },
  {
   "cell_type": "markdown",
   "metadata": {
    "slideshow": {
     "slide_type": "subslide"
    }
   },
   "source": [
    "While loop with else\n",
    "- Same as with for loops, while loops can also have an optional `else` block. The `else` part is executed if the condition in the while loop evaluates to `False`.\n",
    "\n",
    "\n",
    "<center><figure>\n",
    "<a title=\"\" href=\"https://www.cs.cityu.edu.hk/~weitaoxu/cs1302/while-else.png\"><img width=\"600\" alt=\"While else\" src=\"https://www.cs.cityu.edu.hk/~weitaoxu/cs1302/while-else.png\"></a>\n",
    "  <figcaption></figcaption>\n",
    "</figure>\n",
    "</center>"
   ]
  },
  {
   "cell_type": "markdown",
   "metadata": {
    "slideshow": {
     "slide_type": "subslide"
    }
   },
   "source": [
    "The while loop can be terminated with a break statement. In such cases, the else part is ignored. Hence, a while loop's else part runs if no break occurs and the condition is false.\n",
    "\n",
    "Here is an example to illustrate this."
   ]
  },
  {
   "cell_type": "code",
   "execution_count": 21,
   "metadata": {
    "code_folding": [],
    "slideshow": {
     "slide_type": "fragment"
    }
   },
   "outputs": [
    {
     "data": {
      "application/vnd.jupyter.widget-view+json": {
       "model_id": "e1b651a19d7d4d20bdf61eacec7033ac",
       "version_major": 2,
       "version_minor": 0
      },
      "text/plain": [
       "OPTWidget(value=None, height=500, script='counter = 0\\n\\nwhile counter < 3:\\n    print(\"Inside loop\")\\n    cou…"
      ]
     },
     "execution_count": 21,
     "metadata": {},
     "output_type": "execute_result"
    }
   ],
   "source": [
    "%%optlite -h 500\n",
    "counter = 0\n",
    "\n",
    "while counter < 3:\n",
    "    print(\"Inside loop\")\n",
    "    counter = counter + 1\n",
    "else:\n",
    "    print(\"Inside else\")"
   ]
  },
  {
   "cell_type": "markdown",
   "metadata": {
    "slideshow": {
     "slide_type": "fragment"
    }
   },
   "source": [
    "Here, we use a `counter` variable to print the string `Inside loop` three times.\n",
    "\n",
    "On the fourth iteration, the condition in while becomes `False`. Hence, the `else` part is executed."
   ]
  },
  {
   "cell_type": "code",
   "execution_count": 9,
   "metadata": {},
   "outputs": [
    {
     "data": {
      "application/vnd.jupyter.widget-view+json": {
       "model_id": "d171b9e238214241958597f6f93e2307",
       "version_major": 2,
       "version_minor": 0
      },
      "text/plain": [
       "OPTWidget(value=None, height=500, script='counter = 0\\n\\nwhile counter < 3:\\n    print(\"Inside loop\")\\n    cou…"
      ]
     },
     "execution_count": 9,
     "metadata": {},
     "output_type": "execute_result"
    }
   ],
   "source": [
    "%%optlite -h 500\n",
    "counter = 0\n",
    "\n",
    "while counter < 3:\n",
    "    print(\"Inside loop\")\n",
    "    counter = counter + 1\n",
    "    if counter == 2:\n",
    "        break\n",
    "else:\n",
    "    print(\"Inside else\")"
   ]
  },
  {
   "cell_type": "markdown",
   "metadata": {
    "slideshow": {
     "slide_type": "fragment"
    }
   },
   "source": [
    "In the `while` loop, we use a `if` statement to check whether `counter == 2`. If this condition is true, we execute `break`. Hence, the `else` part is not executed."
   ]
  },
  {
   "cell_type": "markdown",
   "metadata": {
    "slideshow": {
     "slide_type": "slide"
    }
   },
   "source": [
    "**Find composite/prime number**\n",
    "\n",
    "A natural number (1, 2, 3, 4, 5, 6, etc.) is called a `prime number` (or a prime) if it is greater than 1 and cannot be written as the product of two smaller natural numbers. The numbers greater than 1 that are not prime are called `composite numbers`.\n",
    "   - 5 is a prime number because 5 can only be expressed by 5=1*5\n",
    "   - 6 is a composite number because 6=1\\*6=2\\*3\n",
    "   - Note 1 and 2 are prime number\n",
    "   \n",
    "Write a program to check whether a number is composite or not is a basic but important skill\n",
    "- There're different ways to find composite number, the following is just an example. Here're more examples, [Example 1](https://www.youtube.com/watch?v=MpwlcueRCUw), [Example 2](https://www.geeksforgeeks.org/composite-number/), [Example 3](https://www.programminginpython.com/python-program-find-number-prime-composite/)\n",
    "- A comparison of different methods can be found [here](https://www.geeksforgeeks.org/analysis-different-methods-find-prime-number-python/)"
   ]
  },
  {
   "cell_type": "code",
   "execution_count": 24,
   "metadata": {
    "ExecuteTime": {
     "end_time": "2021-02-01T02:40:53.194326Z",
     "start_time": "2021-02-01T02:40:53.115232Z"
    },
    "slideshow": {
     "slide_type": "fragment"
    }
   },
   "outputs": [
    {
     "data": {
      "application/vnd.jupyter.widget-view+json": {
       "model_id": "b29fef6845064b0a9307da5e113046cf",
       "version_major": 2,
       "version_minor": 0
      },
      "text/plain": [
       "interactive(children=(Text(value='1', description='num'), Output()), _dom_classes=('widget-interact',))"
      ]
     },
     "metadata": {},
     "output_type": "display_data"
    }
   ],
   "source": [
    "@interact(num='1')\n",
    "def check_composite(num):\n",
    "    if num.isdigit():   #isdigit() is a method in Python to check whether a number\n",
    "        num = int(num)\n",
    "        for divisor in range(2,num): \n",
    "            if num % divisor!=0:   #calculate the remainder, if remainder is not 0, we continue\n",
    "                continue\n",
    "            else:              #otherwise, if remainder is 0, we find a divisor, meaning number is a composite\n",
    "                print('It is composite.')\n",
    "                break          # as long as we find one divisor, we can determine that it is a composite number, no need to continue the for loop \n",
    "        else:\n",
    "            print('It is not composite.') #if we don't find a divisor from 2 to num-1, it is not a composite\n",
    "    else:\n",
    "        print('Not valid.') "
   ]
  },
  {
   "cell_type": "code",
   "execution_count": 26,
   "metadata": {},
   "outputs": [
    {
     "name": "stdout",
     "output_type": "stream",
     "text": [
      "False\n"
     ]
    }
   ],
   "source": [
    "x = '123*'\n",
    "print(x.isdigit())"
   ]
  },
  {
   "cell_type": "markdown",
   "metadata": {
    "slideshow": {
     "slide_type": "fragment"
    }
   },
   "source": [
    "There are three else claues in the code. Which one is for the loop?\n",
    "- We use indentation to indicate"
   ]
  },
  {
   "cell_type": "markdown",
   "metadata": {
    "slideshow": {
     "slide_type": "subslide"
    }
   },
   "source": [
    "**Exercise** Try to Convert the for loop to a while loop.  Can you improve the code to use fewer iterations?"
   ]
  },
  {
   "cell_type": "code",
   "execution_count": null,
   "metadata": {},
   "outputs": [],
   "source": [
    "# Write your code here without refering to the following solution"
   ]
  },
  {
   "cell_type": "code",
   "execution_count": null,
   "metadata": {},
   "outputs": [],
   "source": [
    "@interact(num='1')\n",
    "def check_composite(num):\n",
    "    if num.isdigit():\n",
    "        num = int(num)\n",
    "        # for divisor in range(2,num):    # use while instead\n",
    "        divisor = 2\n",
    "        while divisor <= num**0.5: #why we have num**0.5? please refer to https://www.youtube.com/watch?v=OyvH9Drcc8s\n",
    "            if num % divisor:\n",
    "                divisor += 1\n",
    "            else:\n",
    "                print('It is composite.')\n",
    "                break\n",
    "        else:\n",
    "            print('It is not composite.')\n",
    "    else:\n",
    "        print('Not a positive integer.')"
   ]
  }
 ],
 "metadata": {
  "kernelspec": {
   "display_name": "Python 3 (ipykernel)",
   "language": "python",
   "name": "python3"
  },
  "language_info": {
   "codemirror_mode": {
    "name": "ipython",
    "version": 3
   },
   "file_extension": ".py",
   "mimetype": "text/x-python",
   "name": "python",
   "nbconvert_exporter": "python",
   "pygments_lexer": "ipython3",
   "version": "3.11.9"
  },
  "latex_envs": {
   "LaTeX_envs_menu_present": true,
   "autoclose": false,
   "autocomplete": true,
   "bibliofile": "biblio.bib",
   "cite_by": "apalike",
   "current_citInitial": 1,
   "eqLabelWithNumbers": true,
   "eqNumInitial": 1,
   "hotkeys": {
    "equation": "Ctrl-E",
    "itemize": "Ctrl-I"
   },
   "labels_anchors": false,
   "latex_user_defs": false,
   "report_style_numbering": false,
   "user_envs_cfg": false
  },
  "rise": {
   "enable_chalkboard": true,
   "scroll": true,
   "theme": "white"
  },
  "scenes_data": {
   "active_scene": "Default Scene",
   "init_scene": "",
   "scenes": [
    "Default Scene"
   ]
  },
  "toc": {
   "base_numbering": 1,
   "nav_menu": {
    "height": "195px",
    "width": "330px"
   },
   "number_sections": true,
   "sideBar": true,
   "skip_h1_title": true,
   "title_cell": "Table of Contents",
   "title_sidebar": "Contents",
   "toc_cell": false,
   "toc_position": {
    "height": "454.418px",
    "left": "1533px",
    "top": "110.284px",
    "width": "435.327px"
   },
   "toc_section_display": true,
   "toc_window_display": false
  }
 },
 "nbformat": 4,
 "nbformat_minor": 4
}
