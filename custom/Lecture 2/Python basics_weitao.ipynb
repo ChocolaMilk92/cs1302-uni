{
 "cells": [
  {
   "cell_type": "markdown",
   "metadata": {
    "slideshow": {
     "slide_type": "slide"
    }
   },
   "source": [
    "# Python Basics"
   ]
  },
  {
   "cell_type": "markdown",
   "metadata": {
    "slideshow": {
     "slide_type": "-"
    },
    "tags": [
     "remove-cell"
    ]
   },
   "source": [
    "**CS1302 Introduction to Computer Programming**\n",
    "___"
   ]
  },
  {
   "cell_type": "code",
   "execution_count": 2,
   "metadata": {},
   "outputs": [],
   "source": [
    "import sys\n",
    "from ipywidgets import interact\n",
    "\n",
    "%reload_ext divewidgets"
   ]
  },
  {
   "cell_type": "markdown",
   "metadata": {},
   "source": [
    "**Content**\n",
    "- Syntax, Comments, Literal, Variable, Function, Identifier\n",
    "- Basic data types\n",
    "- string formatting"
   ]
  },
  {
   "cell_type": "markdown",
   "metadata": {
    "slideshow": {
     "slide_type": "slide"
    }
   },
   "source": [
    "## Syntax"
   ]
  },
  {
   "cell_type": "markdown",
   "metadata": {},
   "source": [
    "- In computer science, the `syntax` is a set of rules for programming. In other words, it means using legal structures and commands that a computer can interpret.\n",
    "- Human language is used to communicate with people. Programming language is used to communicate with machine. If we don't follow the correct syntax, the computer can't run the code (syntax error). See example below."
   ]
  },
  {
   "cell_type": "code",
   "execution_count": 2,
   "metadata": {},
   "outputs": [
    {
     "ename": "SyntaxError",
     "evalue": "incomplete input (1712927172.py, line 2)",
     "output_type": "error",
     "traceback": [
      "\u001b[0;36m  Cell \u001b[0;32mIn[2], line 2\u001b[0;36m\u001b[0m\n\u001b[0;31m    print(\"Hello, World!\" #this line has error because it misses one ) in the end, so the computer raises SyntaxError\u001b[0m\n\u001b[0m                                                                                                                     ^\u001b[0m\n\u001b[0;31mSyntaxError\u001b[0m\u001b[0;31m:\u001b[0m incomplete input\n"
     ]
    }
   ],
   "source": [
    "# print() is a function to print a message out on the screen\n",
    "print(\"Hello, World!\" #this line has error because it misses one ) in the end, so the computer raises SyntaxError"
   ]
  },
  {
   "cell_type": "code",
   "execution_count": 3,
   "metadata": {},
   "outputs": [
    {
     "name": "stdout",
     "output_type": "stream",
     "text": [
      "Hello, World!\n",
      "Something I'd like to print\n"
     ]
    }
   ],
   "source": [
    "print(\"Hello, World!\") #this code is correct, and it will print \"Hello, World\" on the screen\n",
    "print(\"Something I'd like to print\")"
   ]
  },
  {
   "cell_type": "markdown",
   "metadata": {
    "slideshow": {
     "slide_type": "slide"
    }
   },
   "source": [
    "## Comments"
   ]
  },
  {
   "cell_type": "markdown",
   "metadata": {},
   "source": [
    "- In the above example, the texts after hash key # is called comments\n",
    "\n",
    "- Why we need comments?\n",
    "    - Comments can be used to explain Python code.\n",
    "    - Comments can be used to make the code more readable.\n",
    "    - Comments can be used to prevent execution when testing code."
   ]
  },
  {
   "cell_type": "markdown",
   "metadata": {},
   "source": [
    "### Create a single line comment\n",
    "Comments starts with a #, and Python will ignore them:"
   ]
  },
  {
   "cell_type": "code",
   "execution_count": 4,
   "metadata": {},
   "outputs": [
    {
     "name": "stdout",
     "output_type": "stream",
     "text": [
      "Hello, World!\n"
     ]
    }
   ],
   "source": [
    "#This program prints \"Hello, World!\"\n",
    "print(\"Hello, World!\")"
   ]
  },
  {
   "cell_type": "markdown",
   "metadata": {},
   "source": [
    "Comments can be placed at the end of a line, and Python will ignore the rest of the line:"
   ]
  },
  {
   "cell_type": "code",
   "execution_count": 5,
   "metadata": {},
   "outputs": [
    {
     "name": "stdout",
     "output_type": "stream",
     "text": [
      "Hello, World!\n"
     ]
    }
   ],
   "source": [
    "print(\"Hello, World!\")  #This program prints \"Hello, World!\""
   ]
  },
  {
   "cell_type": "markdown",
   "metadata": {},
   "source": [
    "A comment does not have to be text that explains the code, it can also be used to prevent Python from executing code:"
   ]
  },
  {
   "cell_type": "code",
   "execution_count": 6,
   "metadata": {},
   "outputs": [
    {
     "name": "stdout",
     "output_type": "stream",
     "text": [
      "Hello, World!\n"
     ]
    }
   ],
   "source": [
    "print(\"Hello, World!\")\n",
    "#print(\"Cheers, Mate!\")"
   ]
  },
  {
   "cell_type": "markdown",
   "metadata": {},
   "source": [
    "### Create multi-line comments\n",
    "\n",
    "Python does not really have a syntax for multi-line comments. To add a multi-line comment you could insert a # for each line:"
   ]
  },
  {
   "cell_type": "code",
   "execution_count": null,
   "metadata": {},
   "outputs": [],
   "source": [
    "#This program\n",
    "#prints\n",
    "#\"Hello, World!\"\n",
    "print(\"Hello, World!\")"
   ]
  },
  {
   "cell_type": "markdown",
   "metadata": {},
   "source": [
    "Or, not quite as intended, you can use a multiline string.\n",
    "\n",
    "Since Python will ignore string literals that are not assigned to a variable, you can add a multiline string (triple quotes) in your code, and place your comment inside it:"
   ]
  },
  {
   "cell_type": "code",
   "execution_count": 19,
   "metadata": {},
   "outputs": [
    {
     "name": "stdout",
     "output_type": "stream",
     "text": [
      "Hello, World!\n"
     ]
    }
   ],
   "source": [
    "\"\"\"\n",
    "This is a comment\n",
    "written in\n",
    "more than just one line\n",
    "This is more comments\n",
    "This is another comment\n",
    "\"\"\"\n",
    "print(\"Hello, World!\")"
   ]
  },
  {
   "cell_type": "markdown",
   "metadata": {
    "slideshow": {
     "slide_type": "slide"
    }
   },
   "source": [
    "## Literal"
   ]
  },
  {
   "cell_type": "markdown",
   "metadata": {},
   "source": [
    "literal is a notation for representing a fixed value in source code. They can also be defined as raw value or data given in variables or constants. \n",
    "\n",
    "Python has different types of literals, such as:\n",
    "1. Integer literal\n",
    "    - `78` is an integer literal\n",
    "2. Floating point literal\n",
    "    - `23.32` is a floating point literal \n",
    "3. character literal\n",
    "    - `'a'` is a character literal\n",
    "4. String literal\n",
    "    - `\"hello\"` is a string literal"
   ]
  },
  {
   "cell_type": "code",
   "execution_count": 21,
   "metadata": {},
   "outputs": [],
   "source": [
    "x = 78 #78 is integer literal\n",
    "y = 23.32 #23.32 is floating point literal\n",
    "z = \"a\" #\"a\" is character literal\n",
    "text = \"hello\" #string literal\n",
    "x = 100"
   ]
  },
  {
   "cell_type": "markdown",
   "metadata": {
    "slideshow": {
     "slide_type": "slide"
    }
   },
   "source": [
    "## Variable"
   ]
  },
  {
   "cell_type": "markdown",
   "metadata": {},
   "source": [
    "- A variable is just a name to store values. This means that when you create a variable you reserve some space in memory.\n",
    "\n",
    "- Based on the data type of a variable, the computer allocates memory and decides what can be stored in the reserved memory. Therefore, by assigning different data types to variables, you can store integers, decimals or characters in these variables."
   ]
  },
  {
   "cell_type": "markdown",
   "metadata": {
    "slideshow": {
     "slide_type": "subslide"
    }
   },
   "source": [
    "### how to create variables\n",
    "- Python variables do not need explicit declaration to reserve memory space. The declaration happens automatically when you assign a value to a variable. The equal sign (=) is used to assign values to variables.\n",
    "\n",
    "- The operand to the left of the = operator is the name of the variable and the operand to the right of the = operator is the value stored in the variable. For example:"
   ]
  },
  {
   "cell_type": "code",
   "execution_count": 24,
   "metadata": {},
   "outputs": [
    {
     "name": "stdout",
     "output_type": "stream",
     "text": [
      "100\n",
      "100.23\n",
      "John\n"
     ]
    }
   ],
   "source": [
    "# how to create a variable\n",
    "counter = 100        # this creates a variable counter which points to the memory where stores an integer 100\n",
    "miles   = 100.23     # this creates a variable miles which points to the memory where stores a floating point number 100.23\n",
    "name    = \"John\"     # this creates a variable name which points to the memory where stores a string \"John\"\n",
    "\n",
    "#== #in Python, this operator means the equal operator\n",
    "\n",
    "print(counter)\n",
    "print(miles)\n",
    "print(name)"
   ]
  },
  {
   "cell_type": "markdown",
   "metadata": {
    "slideshow": {
     "slide_type": "subslide"
    }
   },
   "source": [
    "### Object References\n",
    "What is actually happening when you make a variable assignment? \n",
    "\n",
    "Python is a object-oriented language. In fact, every item of data in a Python program is an object of a specific type or class (object will be introduced later in this course). \n",
    "\n",
    "Considering the following code:"
   ]
  },
  {
   "cell_type": "code",
   "execution_count": 25,
   "metadata": {
    "slideshow": {
     "slide_type": "fragment"
    }
   },
   "outputs": [
    {
     "name": "stdout",
     "output_type": "stream",
     "text": [
      "300\n"
     ]
    }
   ],
   "source": [
    "print(300)"
   ]
  },
  {
   "cell_type": "markdown",
   "metadata": {
    "slideshow": {
     "slide_type": "fragment"
    }
   },
   "source": [
    "When presented with the statement `print(300)`, the interpreter does the following:\n",
    "\n",
    "- Creates an integer object\n",
    "- Gives it the value 300\n",
    "- Displays it on the screen"
   ]
  },
  {
   "cell_type": "markdown",
   "metadata": {
    "slideshow": {
     "slide_type": "fragment"
    }
   },
   "source": [
    "A Python variable is a symbolic name that is a reference or pointer to an object. Once an object is assigned to a variable, you can refer to the object by that name. But the data itself is still contained within the object.\n",
    "\n",
    "For example:"
   ]
  },
  {
   "cell_type": "code",
   "execution_count": 27,
   "metadata": {
    "slideshow": {
     "slide_type": "fragment"
    }
   },
   "outputs": [],
   "source": [
    "n = 300"
   ]
  },
  {
   "cell_type": "markdown",
   "metadata": {
    "slideshow": {
     "slide_type": "fragment"
    }
   },
   "source": [
    "This assignment creates an integer object with the value 300 and assigns the variable n to point to that object.\n",
    "\n",
    "\n",
    "\n",
    "<center><figure>\n",
    "<a title=\"Unsplash\" href=\"https://www.cs.cityu.edu.hk/~weitaoxu/cs1302/variable1.png\"><img width=\"400\" alt=\"Variable assignment\" src=\"https://www.cs.cityu.edu.hk/~weitaoxu/cs1302/variable1.png\"></a>\n",
    "  <figcaption>Variable Assignment.</figcaption>\n",
    "</figure>\n",
    "</center>"
   ]
  },
  {
   "cell_type": "markdown",
   "metadata": {
    "slideshow": {
     "slide_type": "fragment"
    }
   },
   "source": [
    "Now consider the following statement:"
   ]
  },
  {
   "cell_type": "code",
   "execution_count": 28,
   "metadata": {
    "slideshow": {
     "slide_type": "fragment"
    }
   },
   "outputs": [],
   "source": [
    "m = n"
   ]
  },
  {
   "cell_type": "markdown",
   "metadata": {
    "slideshow": {
     "slide_type": "fragment"
    }
   },
   "source": [
    "What happens when it is executed? Python does not create another object. It simply creates a new symbolic name or reference, `m`, which points to the same object that `n` points to.\n",
    "\n",
    "<center><figure>\n",
    "<a title=\"Unsplash\" href=\"https://www.cs.cityu.edu.hk/~weitaoxu/cs1302/variable2.png\"><img width=\"600\" alt=\"Variable assignment\" src=\"https://www.cs.cityu.edu.hk/~weitaoxu/cs1302/variable2.png\"></a>\n",
    "  <figcaption>Multiple References to a Single Object.</figcaption>\n",
    "</figure>\n",
    "</center>"
   ]
  },
  {
   "cell_type": "markdown",
   "metadata": {
    "slideshow": {
     "slide_type": "fragment"
    }
   },
   "source": [
    "Next, suppose you do this:"
   ]
  },
  {
   "cell_type": "code",
   "execution_count": null,
   "metadata": {
    "slideshow": {
     "slide_type": "fragment"
    }
   },
   "outputs": [],
   "source": [
    "m = 400"
   ]
  },
  {
   "cell_type": "markdown",
   "metadata": {
    "slideshow": {
     "slide_type": "fragment"
    }
   },
   "source": [
    "Now Python creates a new integer object with the value 400, and `m` becomes a reference to it.\n",
    "\n",
    "<center><figure>\n",
    "<a title=\"Unsplash\" href=\"https://www.cs.cityu.edu.hk/~weitaoxu/cs1302/variable3.png\"><img width=\"600\" alt=\"Variable assignment\" src=\"https://www.cs.cityu.edu.hk/~weitaoxu/cs1302/variable3.png\"></a>\n",
    "  <figcaption>References to Separate Objects.</figcaption>\n",
    "</figure>\n",
    "</center>"
   ]
  },
  {
   "cell_type": "markdown",
   "metadata": {
    "slideshow": {
     "slide_type": "fragment"
    }
   },
   "source": [
    "Lastly, suppose this statement is executed next:"
   ]
  },
  {
   "cell_type": "code",
   "execution_count": 29,
   "metadata": {
    "slideshow": {
     "slide_type": "fragment"
    }
   },
   "outputs": [],
   "source": [
    "n = \"foo\""
   ]
  },
  {
   "cell_type": "markdown",
   "metadata": {
    "slideshow": {
     "slide_type": "fragment"
    }
   },
   "source": [
    "Now Python creates a string object with the value \"foo\" and makes `n` reference that.\n",
    "\n",
    "\n",
    "<center><figure>\n",
    "<a title=\"Unsplash\" href=\"https://www.cs.cityu.edu.hk/~weitaoxu/cs1302/variable4.png\"><img width=\"600\" alt=\"Variable assignment\" src=\"https://www.cs.cityu.edu.hk/~weitaoxu/cs1302/variable4.png\"></a>\n",
    "  <figcaption>Orphaned Object.</figcaption>\n",
    "</figure>\n",
    "</center>\n",
    "\n",
    "There is no longer any reference to the integer object 300. It is orphaned, and there is no way to access it."
   ]
  },
  {
   "cell_type": "markdown",
   "metadata": {
    "slideshow": {
     "slide_type": "subslide"
    }
   },
   "source": [
    "**Is assignment the same as equality?**"
   ]
  },
  {
   "cell_type": "markdown",
   "metadata": {
    "slideshow": {
     "slide_type": "fragment"
    }
   },
   "source": [
    "No because:\n",
    "- `=` is assignment operator, `x = 15` means we create a variable `x` and assign 15 to `x`\n",
    "- `==` is comparison operator, `x == 15` means we compare the value of `x` with 15. It returns `True` if x is equal to 15; otherwise, it returns `False`"
   ]
  },
  {
   "cell_type": "markdown",
   "metadata": {
    "slideshow": {
     "slide_type": "fragment"
    }
   },
   "source": [
    "**Exercise** Try out the code by yourself."
   ]
  },
  {
   "cell_type": "code",
   "execution_count": 3,
   "metadata": {},
   "outputs": [
    {
     "ename": "SyntaxError",
     "evalue": "cannot assign to literal here. Maybe you meant '==' instead of '='? (4261466296.py, line 18)",
     "output_type": "error",
     "traceback": [
      "\u001b[0;36m  Cell \u001b[0;32mIn[3], line 18\u001b[0;36m\u001b[0m\n\u001b[0;31m    15 = x\u001b[0m\n\u001b[0m    ^\u001b[0m\n\u001b[0;31mSyntaxError\u001b[0m\u001b[0;31m:\u001b[0m cannot assign to literal here. Maybe you meant '==' instead of '='?\n"
     ]
    }
   ],
   "source": [
    "x = 15\n",
    "print(15 == x)\n",
    "print(x == 15)\n",
    "\n",
    "x = 20\n",
    "print(15 == x)\n",
    "print(x == 15)\n",
    "\n",
    "\n",
    "#15 == x is equivalent to x == 15; but 15 = x is different from x = 15\n",
    "#the code below is wrong\n",
    "#15=x\n",
    "\n",
    "x == 15\n",
    "15 == x\n",
    "\n",
    "x=15\n",
    "15 = x"
   ]
  },
  {
   "cell_type": "code",
   "execution_count": 6,
   "metadata": {},
   "outputs": [
    {
     "name": "stdout",
     "output_type": "stream",
     "text": [
      "True\n",
      "False\n"
     ]
    }
   ],
   "source": [
    "# is a keyword to check whether two objects are the same object or not\n",
    "\n",
    "x = 300\n",
    "y = x #this is called \"aliasing\" in programming\n",
    "z = 300\n",
    "print(x is y)\n",
    "print(x is z)"
   ]
  },
  {
   "cell_type": "markdown",
   "metadata": {
    "slideshow": {
     "slide_type": "subslide"
    }
   },
   "source": [
    "Let's see the effect of assignment step-by-step:\n",
    "1. Run the following cell.\n",
    "1. Click `Next >` to see the next step of the execution."
   ]
  },
  {
   "cell_type": "code",
   "execution_count": 7,
   "metadata": {},
   "outputs": [],
   "source": [
    "%reload_ext divewidgets"
   ]
  },
  {
   "cell_type": "code",
   "execution_count": 8,
   "metadata": {
    "ExecuteTime": {
     "end_time": "2020-09-04T06:13:46.281847Z",
     "start_time": "2020-09-04T06:13:46.271712Z"
    },
    "slideshow": {
     "slide_type": "-"
    }
   },
   "outputs": [
    {
     "data": {
      "application/vnd.jupyter.widget-view+json": {
       "model_id": "1db9b1a1306e49bca668a134f7d08aa9",
       "version_major": 2,
       "version_minor": 0
      },
      "text/plain": [
       "OPTWidget(value=None, height=400, script='x = 300\\nx = x + 1\\n')"
      ]
     },
     "execution_count": 8,
     "metadata": {},
     "output_type": "execute_result"
    }
   ],
   "source": [
    "%%optlite --height 400\n",
    "x = 300\n",
    "x = x + 1"
   ]
  },
  {
   "cell_type": "markdown",
   "metadata": {
    "slideshow": {
     "slide_type": "subslide"
    }
   },
   "source": [
    "The following *tuple assignment* syntax can assign multiple variables in one line."
   ]
  },
  {
   "cell_type": "code",
   "execution_count": 14,
   "metadata": {
    "ExecuteTime": {
     "end_time": "2020-09-04T06:14:00.887718Z",
     "start_time": "2020-09-04T06:14:00.877785Z"
    },
    "slideshow": {
     "slide_type": "-"
    }
   },
   "outputs": [
    {
     "data": {
      "application/vnd.jupyter.widget-view+json": {
       "model_id": "d34198504ebd4f96b0ee5629ed50e70f",
       "version_major": 2,
       "version_minor": 0
      },
      "text/plain": [
       "OPTWidget(value=None, height=200, script=\"x, y, z = '15', '30', 15\\n\")"
      ]
     },
     "execution_count": 14,
     "metadata": {},
     "output_type": "execute_result"
    }
   ],
   "source": [
    "%%optlite --height 200\n",
    "x, y, z = '15', '30', 15"
   ]
  },
  {
   "cell_type": "markdown",
   "metadata": {
    "slideshow": {
     "slide_type": "fragment"
    }
   },
   "source": [
    "One can also use *chained assignment* to set different variables to the same value."
   ]
  },
  {
   "cell_type": "code",
   "execution_count": 15,
   "metadata": {
    "ExecuteTime": {
     "end_time": "2020-09-04T06:14:20.316175Z",
     "start_time": "2020-09-04T06:14:20.306489Z"
    },
    "slideshow": {
     "slide_type": "-"
    }
   },
   "outputs": [
    {
     "data": {
      "application/vnd.jupyter.widget-view+json": {
       "model_id": "de99d734032e4dc2887668612aad2c64",
       "version_major": 2,
       "version_minor": 0
      },
      "text/plain": [
       "OPTWidget(value=None, height=200, script='x = y = z = 0\\n')"
      ]
     },
     "execution_count": 15,
     "metadata": {},
     "output_type": "execute_result"
    }
   ],
   "source": [
    "%%optlite --height 200\n",
    "x = y = z = 0"
   ]
  },
  {
   "cell_type": "markdown",
   "metadata": {
    "slideshow": {
     "slide_type": "subslide"
    }
   },
   "source": [
    "Variables can be deleted using `del`. Accessing a variable before assignment raises a Name error."
   ]
  },
  {
   "cell_type": "code",
   "execution_count": 39,
   "metadata": {
    "ExecuteTime": {
     "end_time": "2020-09-04T06:14:29.459716Z",
     "start_time": "2020-09-04T06:14:29.383717Z"
    },
    "slideshow": {
     "slide_type": "-"
    }
   },
   "outputs": [
    {
     "ename": "NameError",
     "evalue": "name 'x' is not defined",
     "output_type": "error",
     "traceback": [
      "\u001b[0;31m---------------------------------------------------------------------------\u001b[0m",
      "\u001b[0;31mNameError\u001b[0m                                 Traceback (most recent call last)",
      "Input \u001b[0;32mIn [39]\u001b[0m, in \u001b[0;36m<cell line: 4>\u001b[0;34m()\u001b[0m\n\u001b[1;32m      2\u001b[0m y \u001b[38;5;241m=\u001b[39m \u001b[38;5;241m10\u001b[39m\n\u001b[1;32m      3\u001b[0m \u001b[38;5;28;01mdel\u001b[39;00m x, y\n\u001b[0;32m----> 4\u001b[0m \u001b[43mx\u001b[49m, y\n",
      "\u001b[0;31mNameError\u001b[0m: name 'x' is not defined"
     ]
    }
   ],
   "source": [
    "x = 5\n",
    "y = 10\n",
    "del x, y\n",
    "x, y"
   ]
  },
  {
   "cell_type": "markdown",
   "metadata": {
    "slideshow": {
     "slide_type": "slide"
    }
   },
   "source": [
    "## Function\n",
    "- A `function` is a block of code which only runs when it is called.\n",
    "- You can pass data, known as `parameters` or `arguments`, into a function.\n",
    "- A function can return data as a result.\n",
    "- `print()` is a function to print the message on the screen\n",
    "\n",
    "**How to define a function**\n",
    "\n",
    "In Python a function is defined using the `def` keyword:\n",
    "\n",
    "**How to call a function**\n",
    "\n",
    "To call a function, use the function name followed by parenthesis:"
   ]
  },
  {
   "cell_type": "code",
   "execution_count": 42,
   "metadata": {},
   "outputs": [
    {
     "name": "stdout",
     "output_type": "stream",
     "text": [
      "Hello from a function\n"
     ]
    }
   ],
   "source": [
    "def m1():  #this is how to define a function\n",
    "    print(\"Hello from a function\")\n",
    "    \n",
    "m1()     #this is how to call a function"
   ]
  },
  {
   "cell_type": "markdown",
   "metadata": {},
   "source": [
    "**Arguments**\n",
    "\n",
    "- Information can be passed into functions as arguments.\n",
    "\n",
    "- Arguments are specified after the function name, inside the parentheses. You can add as many arguments as you want, just separate them with a comma.\n",
    "\n",
    "- The following example has a function with one argument (fname). When the function is called, we pass along a first name, which is used inside the function to print the full name:"
   ]
  },
  {
   "cell_type": "code",
   "execution_count": 50,
   "metadata": {},
   "outputs": [],
   "source": [
    "def my_function(course_name):\n",
    "    print(\"Welcome to \"+ course_name)"
   ]
  },
  {
   "cell_type": "code",
   "execution_count": 51,
   "metadata": {},
   "outputs": [
    {
     "name": "stdout",
     "output_type": "stream",
     "text": [
      "Welcome to CityU\n"
     ]
    }
   ],
   "source": [
    "my_function(\"CityU\")"
   ]
  },
  {
   "cell_type": "markdown",
   "metadata": {},
   "source": [
    "To know how to use a built-in function, we can add a question mark before or after the function name:"
   ]
  },
  {
   "cell_type": "code",
   "execution_count": 47,
   "metadata": {},
   "outputs": [
    {
     "data": {
      "text/plain": [
       "\u001b[0;31mDocstring:\u001b[0m\n",
       "print(value, ..., sep=' ', end='\\n', file=sys.stdout, flush=False)\n",
       "\n",
       "Prints the values to a stream, or to sys.stdout by default.\n",
       "Optional keyword arguments:\n",
       "file:  a file-like object (stream); defaults to the current sys.stdout.\n",
       "sep:   string inserted between values, default a space.\n",
       "end:   string appended after the last value, default a newline.\n",
       "flush: whether to forcibly flush the stream.\n",
       "\u001b[0;31mType:\u001b[0m      builtin_function_or_method\n"
      ]
     },
     "metadata": {},
     "output_type": "display_data"
    }
   ],
   "source": [
    "?print"
   ]
  },
  {
   "cell_type": "code",
   "execution_count": 14,
   "metadata": {},
   "outputs": [
    {
     "data": {
      "text/plain": [
       "\u001b[0;31mDocstring:\u001b[0m\n",
       "print(value, ..., sep=' ', end='\\n', file=sys.stdout, flush=False)\n",
       "\n",
       "Prints the values to a stream, or to sys.stdout by default.\n",
       "Optional keyword arguments:\n",
       "file:  a file-like object (stream); defaults to the current sys.stdout.\n",
       "sep:   string inserted between values, default a space.\n",
       "end:   string appended after the last value, default a newline.\n",
       "flush: whether to forcibly flush the stream.\n",
       "\u001b[0;31mType:\u001b[0m      builtin_function_or_method\n"
      ]
     },
     "metadata": {},
     "output_type": "display_data"
    }
   ],
   "source": [
    "print?"
   ]
  },
  {
   "cell_type": "markdown",
   "metadata": {
    "slideshow": {
     "slide_type": "subslide"
    }
   },
   "source": [
    "**import**\n",
    "\n",
    "Some functions are defined in special libraries and will not be loaded automatically. We need to import these modules before using the functions.\n",
    "\n",
    "For example, we can import the math module by typing the following line:"
   ]
  },
  {
   "cell_type": "code",
   "execution_count": 48,
   "metadata": {},
   "outputs": [],
   "source": [
    "import math"
   ]
  },
  {
   "cell_type": "markdown",
   "metadata": {},
   "source": [
    "then, we can use the values and functions defined in the math module"
   ]
  },
  {
   "cell_type": "code",
   "execution_count": 49,
   "metadata": {},
   "outputs": [
    {
     "name": "stdout",
     "output_type": "stream",
     "text": [
      "3.141592653589793\n",
      "0.9489846193555862\n"
     ]
    }
   ],
   "source": [
    "print(math.pi) #pi is a constant defined in math module\n",
    "print(math.sin(1.25)) #sin() is a function defined in math module"
   ]
  },
  {
   "cell_type": "markdown",
   "metadata": {
    "slideshow": {
     "slide_type": "slide"
    }
   },
   "source": [
    "## Identifiers"
   ]
  },
  {
   "cell_type": "markdown",
   "metadata": {
    "slideshow": {
     "slide_type": "fragment"
    }
   },
   "source": [
    "`Identifer` is a name to represent various program elements such as variables, arrays, functions etc.\n",
    "\n",
    "\n",
    "*Identifiers* such as variable names are case sensitive and follow certain rules.\n",
    "- `a = 10` is different from `A = 10`"
   ]
  },
  {
   "cell_type": "code",
   "execution_count": 9,
   "metadata": {},
   "outputs": [
    {
     "data": {
      "application/vnd.jupyter.widget-view+json": {
       "model_id": "f75c4d9f88494fc6a781b014a1e737d1",
       "version_major": 2,
       "version_minor": 0
      },
      "text/plain": [
       "OPTWidget(value=None, height=400, script='a = 10\\nA = 10\\n')"
      ]
     },
     "execution_count": 9,
     "metadata": {},
     "output_type": "execute_result"
    }
   ],
   "source": [
    "%%optlite --height 400\n",
    "a = 10\n",
    "A = 10"
   ]
  },
  {
   "cell_type": "markdown",
   "metadata": {
    "slideshow": {
     "slide_type": "subslide"
    }
   },
   "source": [
    "**What is the syntax for variable names?**"
   ]
  },
  {
   "cell_type": "markdown",
   "metadata": {
    "slideshow": {
     "slide_type": "fragment"
    }
   },
   "source": [
    "1. Must start with a letter or `_` (an underscore) followed by letters, digits, or `_`.\n",
    "1. Must not be a [keyword](https://docs.python.org/3.7/reference/lexical_analysis.html#keywords) reserved by python:\n",
    "\n",
    "```python\n",
    "False      await      else       import     pass\n",
    "None       break      except     in         raise\n",
    "True       class      finally    is         return\n",
    "and        continue   for        lambda     try\n",
    "as         def        from       nonlocal   while\n",
    "assert     del        global     not        with\n",
    "async      elif       if         or         yield\n",
    "```"
   ]
  },
  {
   "cell_type": "markdown",
   "metadata": {},
   "source": [
    "**Exercise** Evaluate the following cell and check if any of the rules above is violated.\n",
    "\n",
    "```{caution}\n",
    "For the code to run, you must run the initialization cell that imports ipywidgets:\n",
    "````python\n",
    "from ipywidgets import interact\n",
    "````\n",
    "```"
   ]
  },
  {
   "cell_type": "code",
   "execution_count": 18,
   "metadata": {
    "ExecuteTime": {
     "end_time": "2020-09-04T07:45:48.191750Z",
     "start_time": "2020-09-04T07:45:48.134981Z"
    },
    "code_folding": [],
    "slideshow": {
     "slide_type": "-"
    }
   },
   "outputs": [
    {
     "data": {
      "application/vnd.jupyter.widget-view+json": {
       "model_id": "66937e1198e340e0982c481d90ed2cc7",
       "version_major": 2,
       "version_minor": 0
      },
      "text/plain": [
       "interactive(children=(Dropdown(description='assignment', options=('a-number = 15', 'a_number = 15', '15 = 15',…"
      ]
     },
     "metadata": {},
     "output_type": "display_data"
    }
   ],
   "source": [
    "@interact\n",
    "def identifier_syntax(\n",
    "    assignment=[\n",
    "        \"a-number = 15\",\n",
    "        \"a_number = 15\",\n",
    "        \"15 = 15\",\n",
    "        \"_15 = 15\",\n",
    "        \"del = 15\",\n",
    "        \"Del = 15\",\n",
    "        \"type = print\",\n",
    "        \"print = type\",\n",
    "        \"input = print\",\n",
    "    ]\n",
    "):\n",
    "    exec(assignment)\n",
    "    print(\"Ok.\")"
   ]
  },
  {
   "cell_type": "markdown",
   "metadata": {
    "slideshow": {
     "slide_type": "subslide"
    }
   },
   "source": [
    "What can we learn from the above examples?"
   ]
  },
  {
   "cell_type": "markdown",
   "metadata": {
    "slideshow": {
     "slide_type": "fragment"
    }
   },
   "source": [
    "```{hint}\n",
    "- `del` is a keyword and `Del` is not because identifiers are case sensitive.\n",
    "- Function names such as `print`, `input`, `type`, etc., are not keywords and can be reassigned.  \n",
    "  This can useful if you want to modify the default implementations without changing their source code.\n",
    "```"
   ]
  },
  {
   "cell_type": "code",
   "execution_count": 60,
   "metadata": {},
   "outputs": [
    {
     "name": "stdout",
     "output_type": "stream",
     "text": [
      "Hello, World!\n",
      "Hello, World!\n"
     ]
    }
   ],
   "source": [
    "print('Hello, World!')\n",
    "#although print is the name of a function, it's not a keyword\n",
    "x=print\n",
    "x('Hello, World!') #equivalent to print('Hello, World!')"
   ]
  },
  {
   "cell_type": "markdown",
   "metadata": {},
   "source": [
    "```{seealso}\n",
    "To help make their code more readable, programmers follow additional style guides such as [PEP 8](https://www.python.org/dev/peps/pep-0008/#function-and-variable-names):\n",
    "- Function names should be lowercase, with words separated by underscores as necessary to improve readability.  \n",
    "- Variable names follow the same convention as function names.\n",
    "- good variable names: my_age, my_weight\n",
    "- bad variable names: xyz, abc123\n",
    "```"
   ]
  },
  {
   "cell_type": "markdown",
   "metadata": {
    "slideshow": {
     "slide_type": "slide"
    }
   },
   "source": [
    "## Basic data types"
   ]
  },
  {
   "cell_type": "markdown",
   "metadata": {},
   "source": [
    "In programming, data type is an important concept.\n",
    "\n",
    "Variables can store data of different types, and different types can do different things.\n",
    "\n",
    "Python has the following data types built-in by default, in these categories:\n",
    "\n",
    "- Text Type:\t    `str`\n",
    "- Numeric Types:\t`int`, `float`, `complex`\n",
    "- Sequence Types:\t`list`, `tuple`, `range`\n",
    "- Mapping Type:\t`dict`\n",
    "- Set Types:\t`set`, `frozenset`\n",
    "- Boolean Type:\t`bool`\n",
    "- Binary Types:\t`byte`, `bytearray`, `memoryview`\n",
    "\n",
    "In this lecture, we only introduce the most basic data types:\n",
    "- integer: represented by keyword `int`\n",
    "- floating point number: represented by keyword `float`\n",
    "- string: represented by keyword `str`"
   ]
  },
  {
   "cell_type": "markdown",
   "metadata": {},
   "source": [
    "### Integer"
   ]
  },
  {
   "cell_type": "markdown",
   "metadata": {
    "slideshow": {
     "slide_type": "subslide"
    }
   },
   "source": [
    "**How to enter an [integer](https://docs.python.org/3/reference/lexical_analysis.html#integer-literals) in a program?**"
   ]
  },
  {
   "cell_type": "code",
   "execution_count": 61,
   "metadata": {
    "ExecuteTime": {
     "end_time": "2020-09-04T06:12:24.113291Z",
     "start_time": "2020-09-04T06:12:24.100412Z"
    },
    "slideshow": {
     "slide_type": "fragment"
    }
   },
   "outputs": [
    {
     "data": {
      "text/plain": [
       "15"
      ]
     },
     "execution_count": 61,
     "metadata": {},
     "output_type": "execute_result"
    }
   ],
   "source": [
    "15  # an integer in decimal"
   ]
  },
  {
   "cell_type": "code",
   "execution_count": 62,
   "metadata": {
    "ExecuteTime": {
     "end_time": "2020-09-04T06:12:24.844091Z",
     "start_time": "2020-09-04T06:12:24.838483Z"
    },
    "slideshow": {
     "slide_type": "-"
    }
   },
   "outputs": [
    {
     "data": {
      "text/plain": [
       "15"
      ]
     },
     "execution_count": 62,
     "metadata": {},
     "output_type": "execute_result"
    }
   ],
   "source": [
    "0b1111  # a binary number"
   ]
  },
  {
   "cell_type": "code",
   "execution_count": 63,
   "metadata": {
    "ExecuteTime": {
     "end_time": "2020-09-04T06:12:25.306649Z",
     "start_time": "2020-09-04T06:12:25.301211Z"
    },
    "slideshow": {
     "slide_type": "-"
    }
   },
   "outputs": [
    {
     "data": {
      "text/plain": [
       "15"
      ]
     },
     "execution_count": 63,
     "metadata": {},
     "output_type": "execute_result"
    }
   ],
   "source": [
    "0xF  # hexadecimal (base 16) with possible digits 0, 1,2,3,4,5,6,7,8,9,A,B,C,D,E,F"
   ]
  },
  {
   "cell_type": "markdown",
   "metadata": {
    "slideshow": {
     "slide_type": "subslide"
    }
   },
   "source": [
    "**Why all outputs are the same?**"
   ]
  },
  {
   "cell_type": "markdown",
   "metadata": {
    "slideshow": {
     "slide_type": "fragment"
    }
   },
   "source": [
    "- What you have entered are *integer literals*, which are integers written out literally. \n",
    "- All the literals have the same integer value in decimal.\n",
    "- By default, if the last line of a code cell has a value, the jupyter notebook will store and display the value as an output. "
   ]
  },
  {
   "cell_type": "code",
   "execution_count": 19,
   "metadata": {
    "ExecuteTime": {
     "end_time": "2020-09-04T06:12:37.589892Z",
     "start_time": "2020-09-04T06:12:37.583671Z"
    },
    "slideshow": {
     "slide_type": "fragment"
    }
   },
   "outputs": [
    {
     "data": {
      "text/plain": [
       "15"
      ]
     },
     "execution_count": 19,
     "metadata": {},
     "output_type": "execute_result"
    }
   ],
   "source": [
    "3  # not the output of this cell\n",
    "4+5+6 #this is the output of this cell"
   ]
  },
  {
   "cell_type": "markdown",
   "metadata": {
    "slideshow": {
     "slide_type": "fragment"
    }
   },
   "source": [
    "- The last line above also has the same value, `15`.\n",
    "- It is an *expression* (but not a literal) that *evaluates* to the integer value."
   ]
  },
  {
   "cell_type": "markdown",
   "metadata": {},
   "source": [
    "**Exercise** \n",
    "\n",
    "Enter an expression that evaluates to an integer value, as big as possible.  \n",
    "(You may need to interrupt the kernel if the expression takes too long to evaluate.)"
   ]
  },
  {
   "cell_type": "code",
   "execution_count": 72,
   "metadata": {},
   "outputs": [],
   "source": [
    "# YOUR CODE HERE\n",
    "2**1000"
   ]
  },
  {
   "cell_type": "markdown",
   "metadata": {},
   "source": [
    "```{seealso}\n",
    "Is there a maximum value for an integer for Python3?\n",
    "See the [documentation](https://docs.python.org/3.1/whatsnew/3.0.html#integers) about `sys.maxint`.\n",
    "```"
   ]
  },
  {
   "cell_type": "markdown",
   "metadata": {
    "slideshow": {
     "slide_type": "slide"
    }
   },
   "source": [
    "## Floating Point Numbers"
   ]
  },
  {
   "cell_type": "markdown",
   "metadata": {
    "slideshow": {
     "slide_type": "fragment"
    }
   },
   "source": [
    "Not all numbers are integers. In Enginnering, we often need to use fractions."
   ]
  },
  {
   "cell_type": "markdown",
   "metadata": {
    "slideshow": {
     "slide_type": "subslide"
    }
   },
   "source": [
    "**How to enter fractions in a program?**"
   ]
  },
  {
   "cell_type": "code",
   "execution_count": 21,
   "metadata": {
    "ExecuteTime": {
     "end_time": "2020-09-04T06:22:42.771953Z",
     "start_time": "2020-09-04T06:22:42.764077Z"
    },
    "slideshow": {
     "slide_type": "fragment"
    }
   },
   "outputs": [
    {
     "data": {
      "text/plain": [
       "(-0.1, -0.1, -0.1, float, float, float)"
      ]
     },
     "execution_count": 21,
     "metadata": {},
     "output_type": "execute_result"
    }
   ],
   "source": [
    "x = -0.1  # decimal number\n",
    "y = -1.0e-1  # scientific notation\n",
    "z = -1 / 10  # fraction\n",
    "x, y, z, type(x), type(y), type(z)"
   ]
  },
  {
   "cell_type": "markdown",
   "metadata": {},
   "source": [
    "In the above code, `type()` is a python function to return the data type of the inputs.\n",
    "\n",
    "Run the code below to see how to use `type()`"
   ]
  },
  {
   "cell_type": "code",
   "execution_count": 78,
   "metadata": {},
   "outputs": [
    {
     "data": {
      "text/plain": [
       "\u001b[0;31mInit signature:\u001b[0m \u001b[0mtype\u001b[0m\u001b[0;34m(\u001b[0m\u001b[0mself\u001b[0m\u001b[0;34m,\u001b[0m \u001b[0;34m/\u001b[0m\u001b[0;34m,\u001b[0m \u001b[0;34m*\u001b[0m\u001b[0margs\u001b[0m\u001b[0;34m,\u001b[0m \u001b[0;34m**\u001b[0m\u001b[0mkwargs\u001b[0m\u001b[0;34m)\u001b[0m\u001b[0;34m\u001b[0m\u001b[0;34m\u001b[0m\u001b[0m\n",
       "\u001b[0;31mDocstring:\u001b[0m     \n",
       "type(object) -> the object's type\n",
       "type(name, bases, dict, **kwds) -> a new type\n",
       "\u001b[0;31mType:\u001b[0m           type\n",
       "\u001b[0;31mSubclasses:\u001b[0m     ABCMeta, EnumMeta, NamedTupleMeta, _TypedDictMeta, _ABC, MetaHasDescriptors, PyCStructType, UnionType, PyCPointerType, PyCArrayType, ...\n"
      ]
     },
     "metadata": {},
     "output_type": "display_data"
    }
   ],
   "source": [
    "type?"
   ]
  },
  {
   "cell_type": "markdown",
   "metadata": {
    "slideshow": {
     "slide_type": "subslide"
    }
   },
   "source": [
    "**What is the type `float`?**"
   ]
  },
  {
   "cell_type": "markdown",
   "metadata": {
    "slideshow": {
     "slide_type": "fragment"
    }
   },
   "source": [
    "- `float` corresponds to the [*floating point* representation](https://en.wikipedia.org/wiki/Floating-point_arithmetic#Floating-point_numbers).  \n",
    "- A `float` in stored exactly the way we write it in scientific notation: \n",
    "\n",
    "$$\n",
    "\\overbrace{-}^{\\text{sign}} \\underbrace{1.0}_{\\text{mantissa}\\kern-1em}e\\overbrace{-1}^{\\text{exponent}\\kern-1em}=-1\\times 10^{-1}\n",
    "$$\n",
    "- An efficient implementation is more complicated. Try the [IEEE-754 Floating Point Converter](https://www.h-schmidt.net/FloatConverter/IEEE754.html)."
   ]
  },
  {
   "cell_type": "markdown",
   "metadata": {
    "slideshow": {
     "slide_type": "subslide"
    }
   },
   "source": [
    "Special properties of `float`\n",
    "\n",
    "`Property 1`. Python stores a [floating point](https://docs.python.org/3/library/sys.html#sys.float_info) with finite precision, which affects the check for equality. See the code below."
   ]
  },
  {
   "cell_type": "code",
   "execution_count": 80,
   "metadata": {},
   "outputs": [
    {
     "name": "stdout",
     "output_type": "stream",
     "text": [
      "10\n",
      "10.000000000000002\n"
     ]
    }
   ],
   "source": [
    "x = 10\n",
    "y = (x ** (1 / 3)) ** 3\n",
    "x == y\n",
    "\n",
    "print(x)\n",
    "print(y)"
   ]
  },
  {
   "cell_type": "markdown",
   "metadata": {},
   "source": [
    "Why False? Shouldn't $(x^{\\frac13})^3=x$?\n",
    "- Floating point numbers have finite precisions and so  \n",
    "- we should instead check whether the numbers are close enough.\n",
    "\n",
    "How to compare floating point numbers?\n",
    "- `isclose()` function\n",
    "- syntax: `isclose(x,y)`\n",
    "- `isclose(x,y)` function checks whether two values (i.e., x and y) are close to each other, or not. Returns `True` if the values are close, otherwise `False`.\n",
    "- `isclose(x,y)` function is defined in `math` module;therefore, we need to first import `math` module, then use the function as `math.isclose(x,y)`"
   ]
  },
  {
   "cell_type": "code",
   "execution_count": 22,
   "metadata": {},
   "outputs": [
    {
     "name": "stdout",
     "output_type": "stream",
     "text": [
      "False\n",
      "True\n"
     ]
    }
   ],
   "source": [
    "import math #isclose() function is defined in math module, so we need to import math module first\n",
    "x = 10\n",
    "y = (x ** (1 / 3)) ** 3\n",
    "\n",
    "print(x == y)  #this returns False\n",
    "print(math.isclose(x,y)) #this returns True  . is called member operator"
   ]
  },
  {
   "cell_type": "markdown",
   "metadata": {
    "slideshow": {
     "slide_type": "subslide"
    }
   },
   "source": [
    "`Property 2`. There is no limit or maximum value of an integer in Python 3. You can create a value as large as the machine can store. However, there is a maximum value for floating point number. Run the following code to see the maximum number in your system (no need to remember how it works)."
   ]
  },
  {
   "cell_type": "code",
   "execution_count": 23,
   "metadata": {},
   "outputs": [],
   "source": [
    "# There is no maximum for an integer for Python3. \n",
    "# See https://docs.python.org/3.1/whatsnew/3.0.html#integers"
   ]
  },
  {
   "cell_type": "code",
   "execution_count": 1,
   "metadata": {
    "ExecuteTime": {
     "end_time": "2020-09-04T06:24:59.506258Z",
     "start_time": "2020-09-04T06:24:59.498308Z"
    },
    "slideshow": {
     "slide_type": "-"
    }
   },
   "outputs": [
    {
     "name": "stdout",
     "output_type": "stream",
     "text": [
      "sys.float_info(max=1.7976931348623157e+308, max_exp=1024, max_10_exp=308, min=2.2250738585072014e-308, min_exp=-1021, min_10_exp=-307, dig=15, mant_dig=53, epsilon=2.220446049250313e-16, radix=2, rounds=1)\n"
     ]
    }
   ],
   "source": [
    "import sys #this line imports sys module\n",
    "\n",
    "print(sys.float_info) #this line will print the information of float data type "
   ]
  },
  {
   "cell_type": "markdown",
   "metadata": {
    "slideshow": {
     "slide_type": "-"
    }
   },
   "source": [
    "It cannot represent a number larger than the `max`:"
   ]
  },
  {
   "cell_type": "code",
   "execution_count": 2,
   "metadata": {
    "ExecuteTime": {
     "end_time": "2020-09-04T06:25:01.090577Z",
     "start_time": "2020-09-04T06:25:01.084045Z"
    },
    "slideshow": {
     "slide_type": "-"
    }
   },
   "outputs": [
    {
     "name": "stdout",
     "output_type": "stream",
     "text": [
      "inf\n"
     ]
    }
   ],
   "source": [
    "print(sys.float_info.max * 2)"
   ]
  },
  {
   "cell_type": "markdown",
   "metadata": {
    "slideshow": {
     "slide_type": "subslide"
    }
   },
   "source": [
    "`Property 3:` it may keep more decimal places than desired."
   ]
  },
  {
   "cell_type": "code",
   "execution_count": 84,
   "metadata": {
    "ExecuteTime": {
     "end_time": "2020-09-04T06:25:05.456795Z",
     "start_time": "2020-09-04T06:25:05.449284Z"
    },
    "slideshow": {
     "slide_type": "-"
    }
   },
   "outputs": [
    {
     "data": {
      "text/plain": [
       "0.3333333333333333"
      ]
     },
     "execution_count": 84,
     "metadata": {},
     "output_type": "execute_result"
    }
   ],
   "source": [
    "1/3"
   ]
  },
  {
   "cell_type": "markdown",
   "metadata": {
    "slideshow": {
     "slide_type": "subslide"
    }
   },
   "source": [
    "**How to [round](https://docs.python.org/3/library/functions.html#round) a floating point number to the desired number of decimal places?**\n",
    "- `round()` function\n",
    "- syntax: `round(number, digits)`\n",
    "- `number`-Required. The number to be rounded\n",
    "- `digits`-Optional. The number of decimals to use when rounding the number. Default is 0"
   ]
  },
  {
   "cell_type": "code",
   "execution_count": 85,
   "metadata": {},
   "outputs": [
    {
     "name": "stdout",
     "output_type": "stream",
     "text": [
      "round(x)= 28794\n",
      "round(x, 2)= 28793.55\n",
      "round(x, 1)= 28793.5\n",
      "round(x, 0)= 28794.0\n",
      "round(x, -1)= 28790.0\n",
      "round(x, -2)= 28800.0\n"
     ]
    }
   ],
   "source": [
    "x = 28793.54836\n",
    "print('round(x)=',round(x)) #round to ones place\n",
    "print('round(x, 2)=',round(x, 2)) # round to 2 decimal places\n",
    "print('round(x, 1)=',round(x, 1)) #round to 1 decimal places\n",
    "print('round(x, 0)=',round(x, 0)) #round to ones place, but return a float\n",
    "print('round(x, -1)=',round(x, -1)) #round to tens place\n",
    "print('round(x, -2)=',round(x, -2)) #round to hundreds place"
   ]
  },
  {
   "cell_type": "code",
   "execution_count": 86,
   "metadata": {
    "ExecuteTime": {
     "end_time": "2020-09-04T06:25:11.466342Z",
     "start_time": "2020-09-04T06:25:11.458247Z"
    },
    "slideshow": {
     "slide_type": "-"
    }
   },
   "outputs": [
    {
     "data": {
      "text/plain": [
       "(2.67, 2.67)"
      ]
     },
     "execution_count": 86,
     "metadata": {},
     "output_type": "execute_result"
    }
   ],
   "source": [
    "round(2.665, 2), round(2.675, 2)"
   ]
  },
  {
   "cell_type": "markdown",
   "metadata": {
    "slideshow": {
     "slide_type": "-"
    }
   },
   "source": [
    "**Why 2.675 rounds to 2.67 instead of 2.68?**"
   ]
  },
  {
   "cell_type": "markdown",
   "metadata": {
    "slideshow": {
     "slide_type": "-"
    }
   },
   "source": [
    "- The reason is complex,simply speaking it is because [the number may not be represented exactly in binary](https://docs.python.org/3/tutorial/floatingpoint.html#tut-fp-issues) (optional)."
   ]
  },
  {
   "cell_type": "markdown",
   "metadata": {
    "slideshow": {
     "slide_type": "subslide"
    }
   },
   "source": [
    "The `round` function can also be applied to an integer."
   ]
  },
  {
   "cell_type": "code",
   "execution_count": 21,
   "metadata": {
    "ExecuteTime": {
     "end_time": "2020-09-04T06:25:18.702100Z",
     "start_time": "2020-09-04T06:25:18.695978Z"
    },
    "slideshow": {
     "slide_type": "-"
    }
   },
   "outputs": [
    {
     "data": {
      "text/plain": [
       "(200, 200)"
      ]
     },
     "execution_count": 21,
     "metadata": {},
     "output_type": "execute_result"
    }
   ],
   "source": [
    "round(150, -2), round(250, -2)"
   ]
  },
  {
   "cell_type": "markdown",
   "metadata": {
    "slideshow": {
     "slide_type": "-"
    }
   },
   "source": [
    "**Why 250 rounds to 200 instead of 300?**"
   ]
  },
  {
   "cell_type": "markdown",
   "metadata": {
    "slideshow": {
     "slide_type": "-"
    }
   },
   "source": [
    "- Python 3 implements the default rounding method in [IEEE 754](https://en.wikipedia.org/w/index.php?title=IEEE_754#Rounding_rules). (optional)"
   ]
  },
  {
   "cell_type": "markdown",
   "metadata": {
    "slideshow": {
     "slide_type": "slide"
    }
   },
   "source": [
    "## Strings"
   ]
  },
  {
   "cell_type": "markdown",
   "metadata": {
    "slideshow": {
     "slide_type": "subslide"
    }
   },
   "source": [
    "**How to enter a string in a program?**\n",
    "\n",
    "- Strings in python are surrounded by either single quotation marks, double quotation marks, three single quotation marks, or three double quotation marks.\n",
    "- 'hello', \"hello\", '''hello''', \"\"\"hello\"\"\" are the same."
   ]
  },
  {
   "cell_type": "code",
   "execution_count": 22,
   "metadata": {},
   "outputs": [
    {
     "name": "stdout",
     "output_type": "stream",
     "text": [
      "hello\n",
      "hello\n",
      "hello\n",
      "hello\n"
     ]
    }
   ],
   "source": [
    "print('hello')\n",
    "print(\"hello\")\n",
    "print('''hello''')\n",
    "print(\"\"\"hello\"\"\")"
   ]
  },
  {
   "cell_type": "code",
   "execution_count": 25,
   "metadata": {},
   "outputs": [
    {
     "name": "stdout",
     "output_type": "stream",
     "text": [
      "15\n",
      "15\n"
     ]
    }
   ],
   "source": [
    "#be careful of number and string\n",
    "\n",
    "15 #this is an integer number\n",
    "\"15\" #this is a string\n",
    "\n",
    "print(15)\n",
    "print(\"15\")"
   ]
  },
  {
   "cell_type": "markdown",
   "metadata": {},
   "source": [
    "We can display a string literal with the print() function. Alternatively, we can assign a string to a variable, then print the variable"
   ]
  },
  {
   "cell_type": "code",
   "execution_count": 90,
   "metadata": {},
   "outputs": [
    {
     "name": "stdout",
     "output_type": "stream",
     "text": [
      "hello\n",
      "hello\n",
      "hello\n",
      "100\n"
     ]
    }
   ],
   "source": [
    "print('hello')\n",
    "\n",
    "s = 'hello'\n",
    "print(s)\n",
    "\n",
    "print('hello')\n",
    "hello = 100\n",
    "print(hello)"
   ]
  },
  {
   "cell_type": "markdown",
   "metadata": {
    "slideshow": {
     "slide_type": "subslide"
    }
   },
   "source": [
    "### Escape sequence\n",
    "- To insert characters that are illegal in a string, we need to use `escape sequence`.\n",
    "\n",
    "- An escape sequence is a backslash `\\` followed by the character you want to insert.\n",
    "\n",
    "- Some common escape sequences in Python are listed below:"
   ]
  },
  {
   "cell_type": "markdown",
   "metadata": {},
   "source": [
    "| Escape sequence  |   Description    |\n",
    "| --------: | :------------- |\n",
    "| `\\'` | Single quote       |\n",
    "|       `\\\"` | Double quotes       |\n",
    "|       `\\\\` | Backslash(\\\\)    |\n",
    "|       `\\n` | New Line |\n",
    "|       `\\t` | Tab       |\n",
    "|       `\\b` | Backspace       |\n",
    "|       `\\N{name}` | Character named `name` in the Unicode database       |"
   ]
  },
  {
   "cell_type": "markdown",
   "metadata": {},
   "source": [
    "Try the examples below to see how to use escape sequence in a program"
   ]
  },
  {
   "cell_type": "code",
   "execution_count": 107,
   "metadata": {
    "ExecuteTime": {
     "end_time": "2020-09-04T06:12:50.937498Z",
     "start_time": "2020-09-04T06:12:50.931618Z"
    },
    "slideshow": {
     "slide_type": "-"
    }
   },
   "outputs": [
    {
     "name": "stdout",
     "output_type": "stream",
     "text": [
      "This is a grinning face: 😀\n",
      "I want to print a double quotes \"\n",
      "I want to print a single quote '\n",
      "we can print single quote ' directly inside \"\n",
      "we can print double quotes \" directly inside '\n",
      "a\tb\tc\n",
      "a\n",
      "b\n",
      "c\n",
      "ab\n",
      "I\n",
      "love\n",
      "programming\n"
     ]
    }
   ],
   "source": [
    "print(\"This is a grinning face: \\N{grinning face}\")\n",
    "print(\"I want to print a double quotes \\\"\")\n",
    "print(\"I want to print a single quote \\'\")\n",
    "\n",
    "#we can use single quote in a string inside a double quote\n",
    "print(\"we can print single quote ' directly inside \\\"\")\n",
    "\n",
    "#we can use double quote in a string inside a single quote\n",
    "print('we can print double quotes \" directly inside \\'')\n",
    "\n",
    "print('a\\tb\\tc') #\\t means Tab key on your keyboard\n",
    "print('a\\nb\\nc') #\\n will start a new line\n",
    "print('abc\\b') #\\b means Backspace, so c will be removed\n",
    "\n",
    "print('''I\n",
    "love\n",
    "programming''') #we can use triple quotes to enclose multi-line string"
   ]
  },
  {
   "cell_type": "markdown",
   "metadata": {},
   "source": [
    "**Summary of escape sequence**\n",
    "\n",
    "1. To print a simple string, you can use single quote, double quotes, and triple quotes\n",
    "2. If you want to print `'` inside `'`, you need to use escape sequence `\\'`\n",
    "3. If you want to print `\"` inside `\"`, you need to use escape sequence `\\\"`\n",
    "4. But you can print `'` directly inside `\"`. Similarly, you can print `\"` inside `'`\n",
    "5. Triple quotes is usually used to print multiple lines."
   ]
  },
  {
   "cell_type": "markdown",
   "metadata": {
    "slideshow": {
     "slide_type": "subslide"
    }
   },
   "source": [
    "**Exercise** Print a cool multi-line string below."
   ]
  },
  {
   "cell_type": "code",
   "execution_count": 108,
   "metadata": {},
   "outputs": [
    {
     "name": "stdout",
     "output_type": "stream",
     "text": [
      "\n",
      "    7------8\n",
      "   /|     /|\n",
      "  3------4 |\n",
      "  | |    | |\n",
      "  | 5----|-6\n",
      "  |/     |/\n",
      "  1------2\n",
      "  \n"
     ]
    }
   ],
   "source": [
    "# YOUR CODE HERE\n",
    "print('''\n",
    "    7------8\n",
    "   /|     /|\n",
    "  3------4 |\n",
    "  | |    | |\n",
    "  | 5----|-6\n",
    "  |/     |/\n",
    "  1------2\n",
    "  ''')"
   ]
  },
  {
   "cell_type": "markdown",
   "metadata": {
    "slideshow": {
     "slide_type": "fragment"
    }
   },
   "source": [
    "```{seealso}\n",
    "\n",
    "Compare you answer with the ASCII arts below:\n",
    "- Star Wars via Telnet: http://asciimation.co.nz/\n",
    "- bashplotlib: https://github.com/glamp/bashplotlib\n",
    "```"
   ]
  },
  {
   "cell_type": "markdown",
   "metadata": {},
   "source": [
    "**Pitfall**\n",
    "\n",
    "One common error for beginners is they often mix `string` up with `variable name`"
   ]
  },
  {
   "cell_type": "code",
   "execution_count": 109,
   "metadata": {},
   "outputs": [
    {
     "name": "stdout",
     "output_type": "stream",
     "text": [
      "5\n",
      "hello\n"
     ]
    }
   ],
   "source": [
    "# Difference between string and variable name\n",
    "hello = 5\n",
    "s = \"hello\"\n",
    "\n",
    "print(hello) #this hello is a variable whose value is an integer 5\n",
    "print(\"hello\") #this \"hello\" is a string"
   ]
  },
  {
   "cell_type": "markdown",
   "metadata": {
    "slideshow": {
     "slide_type": "slide"
    }
   },
   "source": [
    "## User Input and Output"
   ]
  },
  {
   "cell_type": "markdown",
   "metadata": {
    "slideshow": {
     "slide_type": "fragment"
    }
   },
   "source": [
    "**Input**\n",
    "\n",
    "How to let the user input a value at *runtime*,  i.e., as the program executes?\n",
    "\n",
    "We can use the method `input()`:\n",
    "- Syntax: `input([prompt])`\n",
    "- `prompt` is the string we wish to display on the screen. It is optional.\n",
    "- There is no need to delimit the input string by quotation marks.\n",
    "- Simply press `enter` after typing a string."
   ]
  },
  {
   "cell_type": "code",
   "execution_count": 114,
   "metadata": {
    "ExecuteTime": {
     "end_time": "2020-09-04T06:16:10.739529Z",
     "start_time": "2020-09-04T06:16:07.981984Z"
    },
    "slideshow": {
     "slide_type": "-"
    },
    "tags": [
     "remove-output"
    ]
   },
   "outputs": [
    {
     "name": "stdin",
     "output_type": "stream",
     "text": [
      "Please input a number:  10\n"
     ]
    },
    {
     "data": {
      "text/plain": [
       "'10'"
      ]
     },
     "execution_count": 114,
     "metadata": {},
     "output_type": "execute_result"
    }
   ],
   "source": [
    "x = input('Please input a number: ')\n",
    "x"
   ]
  },
  {
   "cell_type": "code",
   "execution_count": 111,
   "metadata": {},
   "outputs": [
    {
     "name": "stdin",
     "output_type": "stream",
     "text": [
      " 5\n"
     ]
    },
    {
     "data": {
      "text/plain": [
       "'5'"
      ]
     },
     "execution_count": 111,
     "metadata": {},
     "output_type": "execute_result"
    }
   ],
   "source": [
    "x = input()\n",
    "x"
   ]
  },
  {
   "cell_type": "markdown",
   "metadata": {
    "slideshow": {
     "slide_type": "fragment"
    }
   },
   "source": [
    "From the examples above, we can see that\n",
    "- The `input` method prints its argument, if any, as a [prompt](https://en.wikipedia.org/wiki/Command-line_interface#Command_prompt).  \n",
    "- It takes user's input and *returns* it as a string, not a number!!"
   ]
  },
  {
   "cell_type": "markdown",
   "metadata": {
    "slideshow": {
     "slide_type": "slide"
    }
   },
   "source": [
    "**Output**\n",
    "\n",
    "How to let your program outputs some data?\n",
    "\n",
    "We can use the method `print()`:\n",
    "- Syntax: `print()`\n",
    "- The `print()` function prints the specified message to the screen, or other standard output device.\n",
    "\n",
    "The message can be a string, or any other object, the object will be converted into a string before written to the screen."
   ]
  },
  {
   "cell_type": "code",
   "execution_count": 1,
   "metadata": {},
   "outputs": [
    {
     "name": "stdout",
     "output_type": "stream",
     "text": [
      "Hello\n",
      "Hello, how are you?\n",
      "the value of x is: 10\n"
     ]
    }
   ],
   "source": [
    "print(\"Hello\") #print one string\n",
    "print(\"Hello,\",\"how are you?\") #print two strings\n",
    "x=10\n",
    "print(\"the value of x is:\", x) #print one string and one integer"
   ]
  },
  {
   "cell_type": "markdown",
   "metadata": {},
   "source": [
    "**Parameters of print()**\n",
    "\n",
    "print(object(s), sep=separator, end=end)\n",
    "- `object(s)`\t    Any object, and as many as you like. Will be converted to string before printed\n",
    "- `sep='separator'`\tOptional. Specify how to separate the objects, if there is more than one. Default is '  '\n",
    "- `end='end'`\t        Optional. Specify what to print at the end. Default is '\\n' (new line)"
   ]
  },
  {
   "cell_type": "code",
   "execution_count": 2,
   "metadata": {},
   "outputs": [
    {
     "name": "stdout",
     "output_type": "stream",
     "text": [
      "I love CS1302!\n",
      "I-love-CS1302!\n",
      "I*love*CS1302!\n"
     ]
    }
   ],
   "source": [
    "print(\"I\",\"love\",\"CS1302!\") #By default, strings are separated by space ' '\n",
    "\n",
    "#change the separator to other characters\n",
    "print(\"I\",\"love\",\"CS1302!\", sep='-')\n",
    "print(\"I\",\"love\",\"CS1302!\", sep='*')"
   ]
  },
  {
   "cell_type": "code",
   "execution_count": 3,
   "metadata": {},
   "outputs": [
    {
     "name": "stdout",
     "output_type": "stream",
     "text": [
      "I\n",
      "love\n",
      "CS1302\n",
      "IloveCS1302!\n",
      "I*love*CS1302!\n",
      "\n",
      "I\n",
      "love\n",
      "CS1302!\n"
     ]
    }
   ],
   "source": [
    "#by default, the ending character is `\\n` which starts a new line\n",
    "print(\"I\")\n",
    "print(\"love\")\n",
    "print(\"CS1302\")\n",
    "\n",
    "#compare the difference\n",
    "print(\"I\", end='')\n",
    "print(\"love\", end='')\n",
    "print(\"CS1302!\")\n",
    "\n",
    "print(\"I\", end='*')\n",
    "print(\"love\", end='*')\n",
    "print(\"CS1302!\")\n",
    "\n",
    "#what does the following code do?\n",
    "print() #it prints an empty line\n",
    "\n",
    "print(\"I\", end='')\n",
    "print()\n",
    "print(\"love\", end='')\n",
    "print()\n",
    "print(\"CS1302!\")"
   ]
  },
  {
   "cell_type": "markdown",
   "metadata": {
    "slideshow": {
     "slide_type": "subslide"
    }
   },
   "source": [
    "**Exercise** Explain whether the following code prints `'My name is Python'`. Does `print` return a value? "
   ]
  },
  {
   "cell_type": "code",
   "execution_count": 4,
   "metadata": {
    "ExecuteTime": {
     "end_time": "2020-09-04T06:16:58.364342Z",
     "start_time": "2020-09-04T06:16:58.357032Z"
    },
    "slideshow": {
     "slide_type": "-"
    }
   },
   "outputs": [
    {
     "name": "stdout",
     "output_type": "stream",
     "text": [
      "Python\n",
      "My name is None\n"
     ]
    }
   ],
   "source": [
    "print('My name is', print('Python'))"
   ]
  },
  {
   "cell_type": "markdown",
   "metadata": {},
   "source": [
    "Answer: print() function returns None.  The None keyword is used to define a null value, or no value at all.\n",
    "It returns a value! It is None."
   ]
  },
  {
   "cell_type": "markdown",
   "metadata": {
    "slideshow": {
     "slide_type": "slide"
    }
   },
   "source": [
    "## Type Conversion\n",
    "\n",
    "Python defines type conversion functions to directly convert one data type to another which is useful in day-to-day and competitive programming.\n",
    "\n",
    "There are two types of Type Conversion in Python:\n",
    "- Implicit Type Conversion\n",
    "- Explicit Type Conversion"
   ]
  },
  {
   "cell_type": "markdown",
   "metadata": {
    "slideshow": {
     "slide_type": "subslide"
    }
   },
   "source": [
    "**Implicit Type Conversion**\n",
    "\n",
    "In Implicit type conversion, Python automatically converts one data type to another data type. This process doesn't need any user involvement.\n",
    "\n",
    "Let's see an example where Python promotes the conversion of the lower data type (integer) to the higher data type (float) to avoid data loss."
   ]
  },
  {
   "cell_type": "code",
   "execution_count": 116,
   "metadata": {},
   "outputs": [
    {
     "name": "stdout",
     "output_type": "stream",
     "text": [
      "datatype of num_int: <class 'int'>\n",
      "datatype of num_flo: <class 'float'>\n",
      "Value of num_new: 124.23\n",
      "datatype of num_new: <class 'float'>\n"
     ]
    }
   ],
   "source": [
    "# Converting integer to float\n",
    "num_int = 123\n",
    "num_flo = 1.23\n",
    "\n",
    "num_new = num_int + num_flo\n",
    "\n",
    "print(\"datatype of num_int:\",type(num_int))\n",
    "print(\"datatype of num_flo:\",type(num_flo))\n",
    "\n",
    "print(\"Value of num_new:\",num_new)\n",
    "print(\"datatype of num_new:\",type(num_new))"
   ]
  },
  {
   "cell_type": "markdown",
   "metadata": {},
   "source": [
    "In the above program,\n",
    "\n",
    "- We add two variables `num_int` and `num_flo`, storing the value in `num_new`.\n",
    "- We will look at the data type of all three objects respectively.\n",
    "- In the output, we can see the data type of `num_int` is an integer while the data type of `num_flo` is a float.\n",
    "- Also, we can see the `num_new` has a float data type because Python always converts smaller data types to larger data types to avoid the loss of data.\n",
    "\n",
    "**Note that the data type of a variable, it actually means the data type of the value the variable is holding**"
   ]
  },
  {
   "cell_type": "markdown",
   "metadata": {},
   "source": [
    "Now, let's try adding a string and an integer, and see how Python deals with it."
   ]
  },
  {
   "cell_type": "code",
   "execution_count": 117,
   "metadata": {},
   "outputs": [
    {
     "name": "stdout",
     "output_type": "stream",
     "text": [
      "Data type of num_int: <class 'int'>\n",
      "Data type of num_str: <class 'str'>\n"
     ]
    },
    {
     "ename": "TypeError",
     "evalue": "unsupported operand type(s) for +: 'int' and 'str'",
     "output_type": "error",
     "traceback": [
      "\u001b[0;31m---------------------------------------------------------------------------\u001b[0m",
      "\u001b[0;31mTypeError\u001b[0m                                 Traceback (most recent call last)",
      "Input \u001b[0;32mIn [117]\u001b[0m, in \u001b[0;36m<cell line: 8>\u001b[0;34m()\u001b[0m\n\u001b[1;32m      5\u001b[0m \u001b[38;5;28mprint\u001b[39m(\u001b[38;5;124m\"\u001b[39m\u001b[38;5;124mData type of num_int:\u001b[39m\u001b[38;5;124m\"\u001b[39m,\u001b[38;5;28mtype\u001b[39m(num_int))\n\u001b[1;32m      6\u001b[0m \u001b[38;5;28mprint\u001b[39m(\u001b[38;5;124m\"\u001b[39m\u001b[38;5;124mData type of num_str:\u001b[39m\u001b[38;5;124m\"\u001b[39m,\u001b[38;5;28mtype\u001b[39m(num_str))\n\u001b[0;32m----> 8\u001b[0m \u001b[38;5;28mprint\u001b[39m(\u001b[43mnum_int\u001b[49m\u001b[38;5;241;43m+\u001b[39;49m\u001b[43mnum_str\u001b[49m)\n",
      "\u001b[0;31mTypeError\u001b[0m: unsupported operand type(s) for +: 'int' and 'str'"
     ]
    }
   ],
   "source": [
    "# Addition of string(higher) data type and integer(lower) datatype\n",
    "num_int = 123\n",
    "num_str = \"456\"\n",
    "\n",
    "print(\"Data type of num_int:\",type(num_int))\n",
    "print(\"Data type of num_str:\",type(num_str))\n",
    "\n",
    "print(num_int+num_str)"
   ]
  },
  {
   "cell_type": "markdown",
   "metadata": {},
   "source": [
    "In the above program,\n",
    "\n",
    "- We add two variables `num_int` and `num_str`.\n",
    "- As we can see from the output, we got `TypeError`. Python is not able to use Implicit Conversion in such conditions.\n",
    "- However, Python has a solution for these types of situations which is known as Explicit Conversion."
   ]
  },
  {
   "cell_type": "markdown",
   "metadata": {
    "slideshow": {
     "slide_type": "slide"
    }
   },
   "source": [
    "**Explicit Type Conversion**\n",
    "\n",
    "In Explicit Type Conversion in Python, the data type is manually changed by the user as per their requirement. Various forms of explicit type conversion are explained below:\n",
    " \n",
    "\n",
    "1. `int()`: This function converts any data type to integer.\n",
    "2. `float()`: This function converts any data type to a floating-point number\n",
    "3. `str()`: This function converts any data type to a string\n",
    "\n",
    "This type of conversion is also called typecasting because the user casts (changes) the data type of the objects."
   ]
  },
  {
   "cell_type": "code",
   "execution_count": 118,
   "metadata": {},
   "outputs": [
    {
     "name": "stdout",
     "output_type": "stream",
     "text": [
      "<class 'int'>\n",
      "<class 'int'>\n",
      "<class 'float'>\n",
      "<class 'float'>\n",
      "<class 'str'>\n",
      "<class 'str'>\n"
     ]
    }
   ],
   "source": [
    "x = 5 # x is an integer\n",
    "y = 1.2 #y is a floating point number\n",
    "z = \"100\" #z is a string\n",
    "\n",
    "#example of int()\n",
    "y_int = int(y)\n",
    "z_int = int(z)\n",
    "print(type(y_int))\n",
    "print(type(z_int))\n",
    "\n",
    "#example of float()\n",
    "x_float = float(x)\n",
    "z_float = float(z)\n",
    "print(type(x_float))\n",
    "print(type(z_float))\n",
    "\n",
    "#example of str()\n",
    "x_str = str(x)\n",
    "y_str = str(y)\n",
    "print(type(x_str))\n",
    "print(type(y_str))"
   ]
  },
  {
   "cell_type": "markdown",
   "metadata": {
    "slideshow": {
     "slide_type": "subslide"
    }
   },
   "source": [
    "Note that the input of these functions must be valid, see examples below"
   ]
  },
  {
   "cell_type": "code",
   "execution_count": 5,
   "metadata": {},
   "outputs": [
    {
     "ename": "ValueError",
     "evalue": "invalid literal for int() with base 10: '123abc'",
     "output_type": "error",
     "traceback": [
      "\u001b[0;31m---------------------------------------------------------------------------\u001b[0m",
      "\u001b[0;31mValueError\u001b[0m                                Traceback (most recent call last)",
      "Cell \u001b[0;32mIn[5], line 3\u001b[0m\n\u001b[1;32m      1\u001b[0m x \u001b[38;5;241m=\u001b[39m \u001b[38;5;124m'\u001b[39m\u001b[38;5;124m123abc\u001b[39m\u001b[38;5;124m'\u001b[39m\n\u001b[0;32m----> 3\u001b[0m \u001b[38;5;28mprint\u001b[39m(\u001b[38;5;28;43mint\u001b[39;49m\u001b[43m(\u001b[49m\u001b[43mx\u001b[49m\u001b[43m)\u001b[49m) \u001b[38;5;66;03m#this is wrong\u001b[39;00m\n\u001b[1;32m      4\u001b[0m \u001b[38;5;28mprint\u001b[39m(\u001b[38;5;28mfloat\u001b[39m(x)) \u001b[38;5;66;03m#this is wrong\u001b[39;00m\n\u001b[1;32m      6\u001b[0m x \u001b[38;5;241m=\u001b[39m \u001b[38;5;124m'\u001b[39m\u001b[38;5;124m123\u001b[39m\u001b[38;5;124m'\u001b[39m\n",
      "\u001b[0;31mValueError\u001b[0m: invalid literal for int() with base 10: '123abc'"
     ]
    }
   ],
   "source": [
    "x = '123abc'\n",
    "\n",
    "print(int(x)) #this is wrong\n",
    "print(float(x)) #this is wrong"
   ]
  },
  {
   "cell_type": "code",
   "execution_count": 6,
   "metadata": {},
   "outputs": [
    {
     "name": "stdout",
     "output_type": "stream",
     "text": [
      "123\n",
      "123.0\n"
     ]
    }
   ],
   "source": [
    "x = '123'\n",
    "\n",
    "print(int(x)) #this is correct\n",
    "print(float(x)) #this is correct"
   ]
  },
  {
   "cell_type": "markdown",
   "metadata": {
    "slideshow": {
     "slide_type": "slide"
    }
   },
   "source": [
    "## String Formatting"
   ]
  },
  {
   "cell_type": "markdown",
   "metadata": {},
   "source": [
    "How to format a string to the desired format?\n",
    "- Syntax: `string.format(value1, value2...)`\n",
    "- The `format()` method formats the specified value(s) and insert them inside the string's placeholder.\n",
    "- The `format()` method returns the formatted string.\n",
    "- `value1, value2...`\tRequired. One or more values that should be formatted and inserted in the string."
   ]
  },
  {
   "cell_type": "markdown",
   "metadata": {
    "slideshow": {
     "slide_type": "subslide"
    }
   },
   "source": [
    "**Example 1**"
   ]
  },
  {
   "cell_type": "code",
   "execution_count": 4,
   "metadata": {
    "ExecuteTime": {
     "end_time": "2020-09-04T06:25:27.998736Z",
     "start_time": "2020-09-04T06:25:27.991428Z"
    },
    "slideshow": {
     "slide_type": "-"
    }
   },
   "outputs": [
    {
     "name": "stdout",
     "output_type": "stream",
     "text": [
      "x ≈ 3333.3333333333335\n",
      "x ≈ 3333.33 (rounded to 2 decimal places)\n"
     ]
    },
    {
     "data": {
      "text/plain": [
       "3333.3333333333335"
      ]
     },
     "execution_count": 4,
     "metadata": {},
     "output_type": "execute_result"
    }
   ],
   "source": [
    "x = 10000/3\n",
    "print('x ≈',x)\n",
    "print('x ≈ {:.2f} (rounded to 2 decimal places)'.format(x))\n",
    "x"
   ]
  },
  {
   "cell_type": "markdown",
   "metadata": {
    "slideshow": {
     "slide_type": "-"
    }
   },
   "source": [
    "- `{:.2f}` is a place holder\n",
    "- that gets replaced by a string \n",
    "- that represents the argument `x` of `format` \n",
    "- according to the [format specification][fspec] `.2f`, i.e.,  \n",
    "  a decimal floating point number rounded to 2 decimal places.\n",
    "  \n",
    "[repf]: https://docs.python.org/3/library/string.html#format-string-syntax\n",
    "[fspec]: https://docs.python.org/3/library/string.html#format-specification-mini-language"
   ]
  },
  {
   "cell_type": "markdown",
   "metadata": {
    "slideshow": {
     "slide_type": "subslide"
    }
   },
   "source": [
    "**Exercise** Play with the following widget to learn the effect of different format specifications. In particular, print `10000/3` as `3,333.33`."
   ]
  },
  {
   "cell_type": "code",
   "execution_count": 5,
   "metadata": {
    "ExecuteTime": {
     "end_time": "2020-09-04T09:30:51.495136Z",
     "start_time": "2020-09-04T09:30:51.404289Z"
    },
    "code_folding": [
     7
    ],
    "slideshow": {
     "slide_type": "-"
    }
   },
   "outputs": [
    {
     "data": {
      "application/vnd.jupyter.widget-view+json": {
       "model_id": "2a38f28873504c6ca13508194bc40834",
       "version_major": 2,
       "version_minor": 0
      },
      "text/plain": [
       "interactive(children=(Text(value='10000/3', description='x'), Dropdown(description='sign', options={'None': ''…"
      ]
     },
     "metadata": {},
     "output_type": "display_data"
    }
   ],
   "source": [
    "from ipywidgets import interact\n",
    "\n",
    "\n",
    "@interact(\n",
    "    x=\"10000/3\",\n",
    "    align={\"None\": \"\", \"<\": \"<\", \">\": \">\", \"=\": \"=\", \"^\": \"^\"},\n",
    "    sign={\"None\": \"\", \"+\": \"+\", \"-\": \"-\", \"SPACE\": \" \"},\n",
    "    width=(0, 20),\n",
    "    grouping={\"None\": \"\", \"_\": \"_\", \",\": \",\"},\n",
    "    precision=(0, 20),\n",
    ")\n",
    "def print_float(x, sign, align, grouping, width=0, precision=2):\n",
    "    format_spec = (\n",
    "        f\"{{:{align}{sign}{'' if width==0 else width}{grouping}.{precision}f}}\"\n",
    "    )\n",
    "    print(\"Format spec:\", format_spec)\n",
    "    print(\"x ≈\", format_spec.format(eval(x)))"
   ]
  },
  {
   "cell_type": "markdown",
   "metadata": {
    "slideshow": {
     "slide_type": "subslide"
    }
   },
   "source": [
    "**Example 2**"
   ]
  },
  {
   "cell_type": "markdown",
   "metadata": {
    "slideshow": {
     "slide_type": "subslide"
    }
   },
   "source": [
    "String formatting is useful for different data types other than `float`.  \n",
    "E.g., consider the following program that prints a time specified by some variables."
   ]
  },
  {
   "cell_type": "code",
   "execution_count": 6,
   "metadata": {
    "ExecuteTime": {
     "end_time": "2020-09-03T16:19:12.214797Z",
     "start_time": "2020-09-03T16:19:12.206882Z"
    },
    "slideshow": {
     "slide_type": "-"
    }
   },
   "outputs": [
    {
     "name": "stdout",
     "output_type": "stream",
     "text": [
      "The time is 12:34:56.\n"
     ]
    }
   ],
   "source": [
    "# Some specified time\n",
    "hour = 12\n",
    "minute = 34\n",
    "second = 56\n",
    "\n",
    "print(\"The time is \" + str(hour) + \":\" + str(minute) + \":\" + str(second)+\".\")"
   ]
  },
  {
   "cell_type": "markdown",
   "metadata": {
    "slideshow": {
     "slide_type": "fragment"
    }
   },
   "source": [
    "Imagine you have to show also the date in different formats.  \n",
    "The code can become very hard to read/write because \n",
    "- the message is a concatenation of multiple strings and\n",
    "- the integer variables need to be converted to strings."
   ]
  },
  {
   "cell_type": "markdown",
   "metadata": {
    "slideshow": {
     "slide_type": "fragment"
    }
   },
   "source": [
    "Omitting `+` leads to syntax error. Removing `str` as follows also does not give the desired format."
   ]
  },
  {
   "cell_type": "code",
   "execution_count": 7,
   "metadata": {
    "ExecuteTime": {
     "end_time": "2020-09-03T01:34:10.916259Z",
     "start_time": "2020-09-03T01:34:10.909394Z"
    },
    "slideshow": {
     "slide_type": "-"
    }
   },
   "outputs": [
    {
     "name": "stdout",
     "output_type": "stream",
     "text": [
      "The time is  12 : 34 : 56 .\n"
     ]
    }
   ],
   "source": [
    "print(\"The time is \", hour, \":\", minute, \":\", second, \".\")  # note the extra spaces"
   ]
  },
  {
   "cell_type": "markdown",
   "metadata": {
    "slideshow": {
     "slide_type": "subslide"
    }
   },
   "source": [
    "To make the code more readable, we can use the `format` function as follows."
   ]
  },
  {
   "cell_type": "code",
   "execution_count": 8,
   "metadata": {
    "ExecuteTime": {
     "end_time": "2020-09-04T06:25:48.245398Z",
     "start_time": "2020-09-04T06:25:48.229809Z"
    },
    "slideshow": {
     "slide_type": "-"
    }
   },
   "outputs": [
    {
     "name": "stdout",
     "output_type": "stream",
     "text": [
      "The time is 12:34:56.\n"
     ]
    }
   ],
   "source": [
    "message = \"The time is {}:{}:{}.\"\n",
    "print(message.format(hour, minute, second))"
   ]
  },
  {
   "cell_type": "markdown",
   "metadata": {
    "slideshow": {
     "slide_type": "fragment"
    }
   },
   "source": [
    "```{note}\n",
    "\n",
    "- We can have multiple *place-holders* `{}` inside a string.\n",
    "- We can then provide the contents (any type: numbers, strings..) using the `format` function, which\n",
    "- substitutes the place-holders by the function arguments from left to right.\n",
    "```"
   ]
  },
  {
   "cell_type": "markdown",
   "metadata": {
    "slideshow": {
     "slide_type": "subslide"
    }
   },
   "source": [
    "According to the [string formatting syntax](https://docs.python.org/3/library/string.html#format-string-syntax), we can change the order of substitution using \n",
    "- indices *(0 is the first item)* or \n",
    "- names inside the placeholder `{}`:"
   ]
  },
  {
   "cell_type": "code",
   "execution_count": 9,
   "metadata": {
    "ExecuteTime": {
     "end_time": "2020-09-04T06:59:48.333999Z",
     "start_time": "2020-09-04T06:59:48.328303Z"
    },
    "slideshow": {
     "slide_type": "fragment"
    }
   },
   "outputs": [
    {
     "name": "stdout",
     "output_type": "stream",
     "text": [
      "You should do only what I say instead of what I do.\n",
      "The surname of John Doe is Doe.\n"
     ]
    }
   ],
   "source": [
    "print(\"You should {0} {1} what I say instead of what I {0}.\".format(\"do\", \"only\"))\n",
    "print(\"The surname of {first} {last} is {last}.\".format(first=\"John\", last=\"Doe\"))"
   ]
  },
  {
   "cell_type": "markdown",
   "metadata": {
    "slideshow": {
     "slide_type": "subslide"
    }
   },
   "source": [
    "**Example 3**\n",
    "\n",
    "You can even put variables inside the format specification directly and have a nested string formatting."
   ]
  },
  {
   "cell_type": "code",
   "execution_count": 10,
   "metadata": {
    "ExecuteTime": {
     "end_time": "2020-09-04T06:25:54.529244Z",
     "start_time": "2020-09-04T06:25:54.522113Z"
    },
    "slideshow": {
     "slide_type": "-"
    }
   },
   "outputs": [
    {
     "name": "stdout",
     "output_type": "stream",
     "text": [
      "3333.3333333333335\n"
     ]
    }
   ],
   "source": [
    "align, width = \"^\", 5\n",
    "print(f\"{{:*{align}{width}}}\".format(x))  # note the syntax f\"...\""
   ]
  },
  {
   "cell_type": "markdown",
   "metadata": {
    "slideshow": {
     "slide_type": "fragment"
    }
   },
   "source": [
    "In the above, `f\"...\"` is special syntax for [formatted string](https://docs.python.org/3/library/string.html#format-string-syntax)."
   ]
  },
  {
   "cell_type": "markdown",
   "metadata": {
    "slideshow": {
     "slide_type": "subslide"
    }
   },
   "source": [
    "**Exercise** Play with the following widget to learn more about the formating specification.  \n",
    "1. What happens when `align` is none but `fill` is `*`?\n",
    "1. What happens when the `expression` is a multi-line string?"
   ]
  },
  {
   "cell_type": "code",
   "execution_count": 11,
   "metadata": {
    "ExecuteTime": {
     "end_time": "2020-09-04T09:18:34.925753Z",
     "start_time": "2020-09-04T09:18:34.858335Z"
    },
    "code_folding": [],
    "slideshow": {
     "slide_type": "-"
    }
   },
   "outputs": [
    {
     "data": {
      "application/vnd.jupyter.widget-view+json": {
       "model_id": "5ef48897f80449a8a06c9aead9cfc162",
       "version_major": 2,
       "version_minor": 0
      },
      "text/plain": [
       "interactive(children=(Text(value=\"'ABC'\", description='expression'), Text(value='*', description='fill'), Drop…"
      ]
     },
     "metadata": {},
     "output_type": "display_data"
    }
   ],
   "source": [
    "from ipywidgets import interact\n",
    "\n",
    "\n",
    "@interact(\n",
    "    expression=r\"'ABC'\",\n",
    "    fill=\"*\",\n",
    "    align={\"None\": \"\", \"<\": \"<\", \">\": \">\", \"=\": \"=\", \"^\": \"^\"},\n",
    "    width=(0, 20),\n",
    ")\n",
    "def print_objectt(expression, fill, align=\"^\", width=10):\n",
    "    format_spec = f\"{{:{fill}{align}{'' if width==0 else width}}}\"\n",
    "    print(\"Format spec:\", format_spec)\n",
    "    print(\"Print:\", format_spec.format(eval(expression)))"
   ]
  },
  {
   "cell_type": "markdown",
   "metadata": {},
   "source": [
    "## Error"
   ]
  },
  {
   "cell_type": "markdown",
   "metadata": {},
   "source": [
    "In addition to writing code, a programmer spends significant time in *debugging* code that contains errors."
   ]
  },
  {
   "cell_type": "markdown",
   "metadata": {},
   "source": [
    "**Can an error be automatically detected by the computer?**"
   ]
  },
  {
   "cell_type": "code",
   "execution_count": 30,
   "metadata": {},
   "outputs": [
    {
     "ename": "ZeroDivisionError",
     "evalue": "division by zero",
     "output_type": "error",
     "traceback": [
      "\u001b[0;31m---------------------------------------------------------------------------\u001b[0m",
      "\u001b[0;31mZeroDivisionError\u001b[0m                         Traceback (most recent call last)",
      "Cell \u001b[0;32mIn[30], line 4\u001b[0m\n\u001b[1;32m      2\u001b[0m x \u001b[38;5;241m=\u001b[39m \u001b[38;5;241m5\u001b[39m\n\u001b[1;32m      3\u001b[0m y \u001b[38;5;241m=\u001b[39m \u001b[38;5;241m0\u001b[39m\n\u001b[0;32m----> 4\u001b[0m \u001b[38;5;28mprint\u001b[39m(\u001b[43mx\u001b[49m\u001b[38;5;241;43m/\u001b[39;49m\u001b[43my\u001b[49m)\n",
      "\u001b[0;31mZeroDivisionError\u001b[0m: division by zero"
     ]
    }
   ],
   "source": [
    "#example of logical error\n",
    "x = 5\n",
    "y = 0\n",
    "print(x/y)"
   ]
  },
  {
   "cell_type": "markdown",
   "metadata": {},
   "source": [
    "- You have just seen an example of *logical error*, which is due to an error in the logic.  \n",
    "- The ability to debug or even detect such error is, unfortunately, beyond python's intelligence."
   ]
  },
  {
   "cell_type": "markdown",
   "metadata": {},
   "source": [
    "Other kinds of error may be detected automatically.  \n",
    "As an example, note that we can omit `+` for string concatenation, but we cannot omit it for integer summation:"
   ]
  },
  {
   "cell_type": "code",
   "execution_count": 12,
   "metadata": {},
   "outputs": [
    {
     "name": "stdout",
     "output_type": "stream",
     "text": [
      "Skipping + for string concatenation\n"
     ]
    },
    {
     "data": {
      "text/plain": [
       "'456'"
      ]
     },
     "execution_count": 12,
     "metadata": {},
     "output_type": "execute_result"
    }
   ],
   "source": [
    "print('Skipping + for string concatenation')\n",
    "'4''5' '6'"
   ]
  },
  {
   "cell_type": "code",
   "execution_count": 13,
   "metadata": {},
   "outputs": [
    {
     "ename": "SyntaxError",
     "evalue": "invalid syntax (3402839676.py, line 2)",
     "output_type": "error",
     "traceback": [
      "\u001b[0;36m  Cell \u001b[0;32mIn[13], line 2\u001b[0;36m\u001b[0m\n\u001b[0;31m    4 5 6\u001b[0m\n\u001b[0m      ^\u001b[0m\n\u001b[0;31mSyntaxError\u001b[0m\u001b[0;31m:\u001b[0m invalid syntax\n"
     ]
    }
   ],
   "source": [
    "print('Skipping + for integer summation')\n",
    "4 5 6"
   ]
  },
  {
   "cell_type": "markdown",
   "metadata": {},
   "source": [
    "Python interpreter detects the bug and raises a *syntax* error."
   ]
  },
  {
   "cell_type": "markdown",
   "metadata": {},
   "source": [
    "**Why Syntax error can be detected automatically?  \n",
    "Why is the print statement before the error not executed?**"
   ]
  },
  {
   "cell_type": "markdown",
   "metadata": {},
   "source": [
    "- The Python interpreter can detect syntax error even before executing the code because\n",
    "- the interpreter simply fails to translate the code to lower-level executable code."
   ]
  },
  {
   "cell_type": "markdown",
   "metadata": {},
   "source": [
    "The following code raises a different kind of error."
   ]
  },
  {
   "cell_type": "code",
   "execution_count": 31,
   "metadata": {},
   "outputs": [
    {
     "name": "stdout",
     "output_type": "stream",
     "text": [
      "Evaluating '4' + '5' + 6\n"
     ]
    },
    {
     "ename": "TypeError",
     "evalue": "can only concatenate str (not \"int\") to str",
     "output_type": "error",
     "traceback": [
      "\u001b[0;31m---------------------------------------------------------------------------\u001b[0m",
      "\u001b[0;31mTypeError\u001b[0m                                 Traceback (most recent call last)",
      "Cell \u001b[0;32mIn[31], line 2\u001b[0m\n\u001b[1;32m      1\u001b[0m \u001b[38;5;28mprint\u001b[39m(\u001b[38;5;124m\"\u001b[39m\u001b[38;5;124mEvaluating \u001b[39m\u001b[38;5;124m'\u001b[39m\u001b[38;5;124m4\u001b[39m\u001b[38;5;124m'\u001b[39m\u001b[38;5;124m + \u001b[39m\u001b[38;5;124m'\u001b[39m\u001b[38;5;124m5\u001b[39m\u001b[38;5;124m'\u001b[39m\u001b[38;5;124m + 6\u001b[39m\u001b[38;5;124m\"\u001b[39m)\n\u001b[0;32m----> 2\u001b[0m \u001b[38;5;124;43m'\u001b[39;49m\u001b[38;5;124;43m4\u001b[39;49m\u001b[38;5;124;43m'\u001b[39;49m\u001b[43m \u001b[49m\u001b[38;5;241;43m+\u001b[39;49m\u001b[43m \u001b[49m\u001b[38;5;124;43m'\u001b[39;49m\u001b[38;5;124;43m5\u001b[39;49m\u001b[38;5;124;43m'\u001b[39;49m\u001b[43m \u001b[49m\u001b[38;5;241;43m+\u001b[39;49m\u001b[43m \u001b[49m\u001b[38;5;241;43m6\u001b[39;49m  \u001b[38;5;66;03m# summing string with integer\u001b[39;00m\n",
      "\u001b[0;31mTypeError\u001b[0m: can only concatenate str (not \"int\") to str"
     ]
    }
   ],
   "source": [
    "print(\"Evaluating '4' + '5' + 6\")\n",
    "'4' + '5' + 6  # summing string with integer"
   ]
  },
  {
   "cell_type": "markdown",
   "metadata": {},
   "source": [
    "**Why Python throws a TypeError when evaluating `'4' + '5' + 6`?**"
   ]
  },
  {
   "cell_type": "markdown",
   "metadata": {},
   "source": [
    "There is no implementation of `+` operation on a value of type `str` and a value of type `int`. "
   ]
  },
  {
   "cell_type": "markdown",
   "metadata": {},
   "source": [
    "- Unlike the syntax error, the Python interpreter can only detect a type error at runtime (when executing the code.) \n",
    "- Hence, such an error is called a *runtime error*.\n"
   ]
  },
  {
   "cell_type": "markdown",
   "metadata": {},
   "source": [
    "**Do other languages work in the same way?**"
   ]
  },
  {
   "cell_type": "markdown",
   "metadata": {},
   "source": [
    "The following cell runs the corresponding javascript code using a cell magic:"
   ]
  },
  {
   "cell_type": "code",
   "execution_count": 14,
   "metadata": {},
   "outputs": [
    {
     "data": {
      "application/javascript": [
       "let x = '4' + '5' + 6;\n",
       "element.append(x + ' ' + typeof(x));\n",
       "// no error because 6 is converted to a str implicitly\n"
      ],
      "text/plain": [
       "<IPython.core.display.Javascript object>"
      ]
     },
     "metadata": {},
     "output_type": "display_data"
    }
   ],
   "source": [
    "%%javascript\n",
    "let x = '4' + '5' + 6;\n",
    "element.append(x + ' ' + typeof(x));\n",
    "// no error because 6 is converted to a str implicitly"
   ]
  },
  {
   "cell_type": "code",
   "execution_count": 15,
   "metadata": {},
   "outputs": [
    {
     "data": {
      "application/javascript": [
       "let x = '4' * '5' * 6;\n",
       "element.append(x + ' ' + typeof(x));\n",
       "// no error because 4 and 5 are converted to numbers implicitly\n"
      ],
      "text/plain": [
       "<IPython.core.display.Javascript object>"
      ]
     },
     "metadata": {},
     "output_type": "display_data"
    }
   ],
   "source": [
    "%%javascript\n",
    "let x = '4' * '5' * 6;\n",
    "element.append(x + ' ' + typeof(x));\n",
    "// no error because 4 and 5 are converted to numbers implicitly"
   ]
  },
  {
   "cell_type": "markdown",
   "metadata": {},
   "source": [
    "Javascript is called is a *weakly-typed* language because it forces a type conversion to avoid a type error."
   ]
  },
  {
   "cell_type": "markdown",
   "metadata": {},
   "source": [
    "Python is a [*strongly-and-dynamically-typed*](https://en.wikipedia.org/wiki/Strong_and_weak_typing) language:\n",
    "- *Strongly-typed*: Python does not force a type conversion to avoid a type error.\n",
    "- *Dynamically-typed*: Python checks data type only at runtime after translating the code to machine code."
   ]
  },
  {
   "cell_type": "markdown",
   "metadata": {},
   "source": [
    "In comparison, C/C++ and Java are *statically-typed* languages that checks data type during compilation."
   ]
  },
  {
   "cell_type": "code",
   "execution_count": 20,
   "metadata": {},
   "outputs": [
    {
     "name": "stdout",
     "output_type": "stream",
     "text": [
      "\u001b[01m\u001b[K456.cpp:\u001b[m\u001b[K In function ‘\u001b[01m\u001b[Kint\u001b[01;32m\u001b[K main\u001b[m\u001b[K()\u001b[m\u001b[K’:\n",
      "\u001b[01m\u001b[K456.cpp:4:22:\u001b[m\u001b[K \u001b[01;31m\u001b[Kerror: \u001b[m\u001b[Kinvalid operands of types ‘\u001b[01m\u001b[Kconst char [2]\u001b[m\u001b[K’ and ‘\u001b[01m\u001b[Kconst char [2]\u001b[m\u001b[K’ to binary ‘\u001b[01m\u001b[Koperator+\u001b[m\u001b[K’\n",
      "    4 |     std::cout << \u001b[32m\u001b[K\"4\"\u001b[m\u001b[K \u001b[01;31m\u001b[K+\u001b[m\u001b[K \u001b[34m\u001b[K\"5\"\u001b[m\u001b[K + 6 << std::endl;\n",
      "      |                  \u001b[32m\u001b[K~~~\u001b[m\u001b[K \u001b[01;31m\u001b[K^\u001b[m\u001b[K \u001b[34m\u001b[K~~~\u001b[m\u001b[K\n",
      "      |                  \u001b[32m\u001b[K|\u001b[m\u001b[K     \u001b[34m\u001b[K|\u001b[m\u001b[K\n",
      "      |                  \u001b[32m\u001b[K|\u001b[m\u001b[K     \u001b[34m\u001b[Kconst char [2]\u001b[m\u001b[K\n",
      "      |                  \u001b[32m\u001b[Kconst char [2]\u001b[m\u001b[K\n"
     ]
    }
   ],
   "source": [
    "try:\n",
    "    !gcc 456.cpp\n",
    "except Error:\n",
    "    print('Cannot run shell command.')"
   ]
  },
  {
   "cell_type": "code",
   "execution_count": 21,
   "metadata": {},
   "outputs": [
    {
     "name": "stdout",
     "output_type": "stream",
     "text": [
      "456.java:3: error: bad operand types for binary operator '*'\n",
      "        System.out.println(\"4\" * \"5\" * 6);\n",
      "                               ^\n",
      "  first type:  String\n",
      "  second type: String\n",
      "1 error\n"
     ]
    }
   ],
   "source": [
    "try:\n",
    "    !javac 456.java\n",
    "except Error:\n",
    "    print('Cannot run shell command.')"
   ]
  },
  {
   "cell_type": "markdown",
   "metadata": {},
   "source": [
    "```{note}\n",
    "\n",
    "A weakly-typed language may seem more robust, but it can lead to [more logical errors](https://www.oreilly.com/library/view/fluent-conference-javascript/9781449339203/oreillyvideos1220106.html).\n",
    "\n",
    "- Javascript is [tricky](https://github.com/denysdovhan/wtfjs).\n",
    "- To improve readability and avoid logical errors, [typescript](https://www.typescriptlang.org/) is a strongly-typed replacement of javascript.\n",
    "```"
   ]
  },
  {
   "cell_type": "markdown",
   "metadata": {},
   "source": [
    "**Exercise** Not all the strings can be converted into integers. Try breaking the following code by providing invalid inputs and record them in the subsequent cell. Explain whether the errors are runtime errors."
   ]
  },
  {
   "cell_type": "code",
   "execution_count": 12,
   "metadata": {},
   "outputs": [
    {
     "name": "stdin",
     "output_type": "stream",
     "text": [
      "Please input an integer:  abc\n",
      "Please input another integer:  5\n"
     ]
    },
    {
     "ename": "ValueError",
     "evalue": "invalid literal for int() with base 10: 'abc'",
     "output_type": "error",
     "traceback": [
      "\u001b[0;31m---------------------------------------------------------------------------\u001b[0m",
      "\u001b[0;31mValueError\u001b[0m                                Traceback (most recent call last)",
      "Cell \u001b[0;32mIn[12], line 3\u001b[0m\n\u001b[1;32m      1\u001b[0m num1 \u001b[38;5;241m=\u001b[39m \u001b[38;5;28minput\u001b[39m(\u001b[38;5;124m'\u001b[39m\u001b[38;5;124mPlease input an integer: \u001b[39m\u001b[38;5;124m'\u001b[39m)\n\u001b[1;32m      2\u001b[0m num2 \u001b[38;5;241m=\u001b[39m \u001b[38;5;28minput\u001b[39m(\u001b[38;5;124m'\u001b[39m\u001b[38;5;124mPlease input another integer: \u001b[39m\u001b[38;5;124m'\u001b[39m)\n\u001b[0;32m----> 3\u001b[0m \u001b[38;5;28mprint\u001b[39m(num1, \u001b[38;5;124m'\u001b[39m\u001b[38;5;124m+\u001b[39m\u001b[38;5;124m'\u001b[39m, num2, \u001b[38;5;124m'\u001b[39m\u001b[38;5;124mis equal to\u001b[39m\u001b[38;5;124m'\u001b[39m, \u001b[38;5;28;43mint\u001b[39;49m\u001b[43m(\u001b[49m\u001b[43mnum1\u001b[49m\u001b[43m)\u001b[49m \u001b[38;5;241m+\u001b[39m \u001b[38;5;28mint\u001b[39m(num2))\n",
      "\u001b[0;31mValueError\u001b[0m: invalid literal for int() with base 10: 'abc'"
     ]
    }
   ],
   "source": [
    "num1 = input('Please input an integer: ')\n",
    "num2 = input('Please input another integer: ')\n",
    "print(num1, '+', num2, 'is equal to', int(num1) + int(num2))"
   ]
  },
  {
   "cell_type": "markdown",
   "metadata": {},
   "source": [
    "ANSWER: the errors are runtime error"
   ]
  },
  {
   "cell_type": "code",
   "execution_count": null,
   "metadata": {},
   "outputs": [],
   "source": []
  }
 ],
 "metadata": {
  "kernelspec": {
   "display_name": "Python 3 (ipykernel)",
   "language": "python",
   "name": "python3"
  },
  "language_info": {
   "codemirror_mode": {
    "name": "ipython",
    "version": 3
   },
   "file_extension": ".py",
   "mimetype": "text/x-python",
   "name": "python",
   "nbconvert_exporter": "python",
   "pygments_lexer": "ipython3",
   "version": "3.11.9"
  },
  "latex_envs": {
   "LaTeX_envs_menu_present": true,
   "autoclose": false,
   "autocomplete": true,
   "bibliofile": "biblio.bib",
   "cite_by": "apalike",
   "current_citInitial": 1,
   "eqLabelWithNumbers": true,
   "eqNumInitial": 1,
   "hotkeys": {
    "equation": "Ctrl-E",
    "itemize": "Ctrl-I"
   },
   "labels_anchors": false,
   "latex_user_defs": false,
   "report_style_numbering": false,
   "user_envs_cfg": false
  },
  "rise": {
   "enable_chalkboard": true,
   "scroll": true,
   "theme": "white"
  },
  "scenes_data": {
   "active_scene": "Default Scene",
   "init_scene": "",
   "scenes": [
    "Default Scene"
   ]
  },
  "toc": {
   "base_numbering": 1,
   "nav_menu": {
    "height": "195px",
    "width": "330px"
   },
   "number_sections": true,
   "sideBar": true,
   "skip_h1_title": true,
   "title_cell": "Table of Contents",
   "title_sidebar": "Contents",
   "toc_cell": false,
   "toc_position": {
    "height": "454.418px",
    "left": "1533px",
    "top": "110.284px",
    "width": "435.327px"
   },
   "toc_section_display": true,
   "toc_window_display": false
  },
  "widgets": {
   "application/vnd.jupyter.widget-state+json": {
    "state": {},
    "version_major": 2,
    "version_minor": 0
   }
  }
 },
 "nbformat": 4,
 "nbformat_minor": 4
}
