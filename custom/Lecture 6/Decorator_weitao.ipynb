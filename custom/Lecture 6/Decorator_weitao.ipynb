{
 "cells": [
  {
   "cell_type": "markdown",
   "metadata": {
    "cell_style": "center",
    "slideshow": {
     "slide_type": "slide"
    }
   },
   "source": [
    "# More on Functions\n",
    "**CS1302 Introduction to Computer Programming**\n",
    "___"
   ]
  },
  {
   "cell_type": "code",
   "execution_count": 1,
   "metadata": {
    "ExecuteTime": {
     "end_time": "2021-03-01T03:11:44.497146Z",
     "start_time": "2021-03-01T03:11:44.451296Z"
    },
    "code_folding": [],
    "hide_input": true,
    "init_cell": true,
    "slideshow": {
     "slide_type": "skip"
    }
   },
   "outputs": [],
   "source": [
    "%reload_ext divewidgets"
   ]
  },
  {
   "cell_type": "markdown",
   "metadata": {
    "ExecuteTime": {
     "end_time": "2020-10-17T02:07:52.385258Z",
     "start_time": "2020-10-17T02:07:52.311358Z"
    }
   },
   "source": [
    "Content\n",
    "* Optional arguments\n",
    "* Variable number of arguments\n",
    "* Decorator (Important! Must be tested in the final exams)\n",
    "* Module\n",
    "\n",
    "ps. This lecture introduces some advanced topics and thus is more difficult than previous ones."
   ]
  },
  {
   "cell_type": "markdown",
   "metadata": {
    "slideshow": {
     "slide_type": "slide"
    }
   },
   "source": [
    "## Optional Arguments"
   ]
  },
  {
   "cell_type": "markdown",
   "metadata": {},
   "source": [
    "**How to make function arguments optional?**\n",
    "\n",
    "`Argument` is a value passed to a function (or method) when calling the function. There are two types of arguments.\n",
    "- keyword argument (keyword-based): an argument preceded by an identifier (e.g. name=) in a function call:\n",
    "   - complex(real=3, imag=5) will produce a complex number 3+5j\n",
    "\n",
    "- positional argument (position-based): an argument that is not a keyword argument. \n",
    "   - complex(3, 5) will produce a complex number 3+5j\n"
   ]
  },
  {
   "cell_type": "markdown",
   "metadata": {},
   "source": [
    "There's another way to classify arguments:\n",
    "- `Required arguments` are arguments that must be passed to the function.\n",
    "- `Optional arguments` are arguments that can be not passed to the function. In python optional arguments are arguments that have a default value, also called `default argument`.\n",
    "\n",
    "What does default argument mean?\n",
    "- it means you define a default value for it. When you call a function, if you don't pass data to it, it will use its default value. See example below."
   ]
  },
  {
   "cell_type": "code",
   "execution_count": null,
   "metadata": {
    "ExecuteTime": {
     "end_time": "2021-02-26T04:36:20.501656Z",
     "start_time": "2021-02-26T04:36:20.496455Z"
    }
   },
   "outputs": [],
   "source": [
    "def calculate_sum(x,y=5): # x is a required argument, but y is optional argument, if you don't pass any data to y, it will use its default value 5\n",
    "    return x+y\n",
    "\n",
    "print(calculate_sum(1,8))  #when we call this function, we can pass two parameters to it\n",
    "print(calculate_sum(1))    #we can also assign one parameter, in this case, 1 will be passed to x\n",
    "print(calculate_sum(x=1,y=8)) #we can also pass data to keywords\n",
    "print(calculate_sum(x=1))\n",
    "print(calculate_sum(y=1,x=8)) #we can also pass data to keywords"
   ]
  },
  {
   "cell_type": "markdown",
   "metadata": {
    "slideshow": {
     "slide_type": "subslide"
    }
   },
   "source": [
    "Rules for specifying arguments:\n",
    "1. Keyword arguments must be after all positional arguments.\n",
    "   - calculate_sum(1,y=8) is correct, but calculate_sum(y=8,1) is wrong.\n",
    "1. Duplicate assignments to an argument are not allowed.\n",
    "   - you cannot pass a value to an argument based on its position, then pass a value to an argument based on the keyword\n",
    "   - calculate_sum(1,x=1)  is wrong because 1 is positional argument assigned to x, then you assign another value to x using its keyword"
   ]
  },
  {
   "cell_type": "markdown",
   "metadata": {
    "slideshow": {
     "slide_type": "fragment"
    }
   },
   "source": [
    "E.g., the following results in error:"
   ]
  },
  {
   "cell_type": "code",
   "execution_count": 1,
   "metadata": {
    "ExecuteTime": {
     "end_time": "2021-02-26T04:40:11.648733Z",
     "start_time": "2021-02-26T04:40:11.642398Z"
    },
    "slideshow": {
     "slide_type": "-"
    }
   },
   "outputs": [
    {
     "ename": "SyntaxError",
     "evalue": "positional argument follows keyword argument (2369351897.py, line 1)",
     "output_type": "error",
     "traceback": [
      "\u001b[0;36m  Cell \u001b[0;32mIn[1], line 1\u001b[0;36m\u001b[0m\n\u001b[0;31m    calculate_sum(y=8,1)\u001b[0m\n\u001b[0m                       ^\u001b[0m\n\u001b[0;31mSyntaxError\u001b[0m\u001b[0;31m:\u001b[0m positional argument follows keyword argument\n"
     ]
    }
   ],
   "source": [
    "calculate_sum(y=8,1)"
   ]
  },
  {
   "cell_type": "code",
   "execution_count": 2,
   "metadata": {
    "ExecuteTime": {
     "end_time": "2021-02-26T04:39:50.056002Z",
     "start_time": "2021-02-26T04:39:50.049482Z"
    },
    "slideshow": {
     "slide_type": "-"
    }
   },
   "outputs": [
    {
     "ename": "NameError",
     "evalue": "name 'calculate_sum' is not defined",
     "output_type": "error",
     "traceback": [
      "\u001b[0;31m---------------------------------------------------------------------------\u001b[0m",
      "\u001b[0;31mNameError\u001b[0m                                 Traceback (most recent call last)",
      "Cell \u001b[0;32mIn[2], line 1\u001b[0m\n\u001b[0;32m----> 1\u001b[0m \u001b[43mcalculate_sum\u001b[49m(\u001b[38;5;241m1\u001b[39m,x\u001b[38;5;241m=\u001b[39m\u001b[38;5;241m1\u001b[39m) \u001b[38;5;66;03m#x is assigned multiple times\u001b[39;00m\n",
      "\u001b[0;31mNameError\u001b[0m: name 'calculate_sum' is not defined"
     ]
    }
   ],
   "source": [
    "calculate_sum(1,x=1) #x is assigned multiple times"
   ]
  },
  {
   "cell_type": "markdown",
   "metadata": {
    "slideshow": {
     "slide_type": "subslide"
    }
   },
   "source": [
    "Let's use function `range()` to illustrate.\n",
    "- range(start, stop, step). It has three parameters.\n",
    "\n",
    "The following shows that the behavior of `range` is different."
   ]
  },
  {
   "cell_type": "code",
   "execution_count": null,
   "metadata": {
    "ExecuteTime": {
     "end_time": "2021-02-26T04:41:24.870733Z",
     "start_time": "2021-02-26T04:41:24.859021Z"
    },
    "slideshow": {
     "slide_type": "fragment"
    }
   },
   "outputs": [],
   "source": [
    "for count in range(1, 10, 2):\n",
    "    print(count, end=' ')  # counts from 1 to 10 in steps of 2\n",
    "\n",
    "print()\n",
    "\n",
    "for count in range(1, 10):\n",
    "    print(count, end=' ')  # default step=1\n",
    "\n",
    "print()\n",
    "\n",
    "for count in range(10):\n",
    "    print(count, end=' ')  # default start=0, step=1\n",
    "\n",
    "range(stop=10)  # fails"
   ]
  },
  {
   "cell_type": "markdown",
   "metadata": {
    "slideshow": {
     "slide_type": "fragment"
    }
   },
   "source": [
    "`range` takes only positional arguments.  \n",
    "However, the first positional argument has different intepretations (`start` or `stop`) depending on the number of arguments (2 or 1).\n",
    "- in `range(1, 10)`, the first parameter means the starting number\n",
    "- in `range(10)`, the first parameter means the ending number"
   ]
  },
  {
   "cell_type": "markdown",
   "metadata": {
    "slideshow": {
     "slide_type": "fragment"
    }
   },
   "source": [
    "`range` is indeed NOT a generator."
   ]
  },
  {
   "cell_type": "code",
   "execution_count": 3,
   "metadata": {
    "ExecuteTime": {
     "end_time": "2020-10-18T02:49:10.389227Z",
     "start_time": "2020-10-18T02:49:10.364578Z"
    },
    "slideshow": {
     "slide_type": "fragment"
    }
   },
   "outputs": [
    {
     "name": "stdout",
     "output_type": "stream",
     "text": [
      "<class 'generator'>\n",
      "<class 'range'>\n",
      "<class 'type'>\n",
      "<class 'builtin_function_or_method'>\n",
      "<generator object <genexpr> at 0x7f978ceb35e0>\n",
      "range(0, 10)\n",
      "0 1 2 3 4\n",
      "0 1 2 3 4 5 6 7 8 9\n"
     ]
    }
   ],
   "source": [
    "x = (n for n in range(5))\n",
    "y = range(0,10)\n",
    "print(type(x))\n",
    "print(type(y))\n",
    "\n",
    "print(type(range)) #range is a class, but not a function\n",
    "print(type(print)) #print is a builtin_function\n",
    "\n",
    "print(x)\n",
    "print(y)\n",
    "print(*x) #to access the values, we need to use unpacking operator *\n",
    "print(*y)"
   ]
  },
  {
   "cell_type": "markdown",
   "metadata": {
    "ExecuteTime": {
     "end_time": "2020-10-18T02:47:59.386923Z",
     "start_time": "2020-10-18T02:47:59.349970Z"
    }
   },
   "source": [
    "The expression range(0, 10) does not return a generator object but instead creates and returns a range\n",
    "object. Furthermore, the interative sequence shows that range is not a function at all; it is a class.\n",
    "\n",
    "No need to go further. For more explanation, you can read page 284 in reference book."
   ]
  },
  {
   "cell_type": "markdown",
   "metadata": {},
   "source": [
    "**A short summary** (chapter 8.2)\n",
    "* What is keyword argument and positional argument, how they work\n",
    "* What is required argument and optional argument.\n",
    "* range() is a class. Although both `generator` and `range()` produce a sequence of values. `range()` will generate a range object, but `generator` will generate a generator object."
   ]
  },
  {
   "cell_type": "markdown",
   "metadata": {},
   "source": [
    "## Motivating example\n",
    "How to define a function that can calculate the sum of an arbitrary number of arguments? In other words,\n",
    "- if the user calls the function with one argument, return this argument\n",
    "- if the user calls the function with two arguments, return the sum of these two arguments\n",
    "- if the user calls the function with three arguments, return the sum of these three arguments\n",
    "\n",
    "  ...\n",
    "  \n",
    "- if the user calls the function with one thousand arguments, return the sum of these one thousand arguments"
   ]
  },
  {
   "cell_type": "code",
   "execution_count": 38,
   "metadata": {},
   "outputs": [
    {
     "ename": "SyntaxError",
     "evalue": "invalid syntax (1965415983.py, line 12)",
     "output_type": "error",
     "traceback": [
      "\u001b[0;36m  Cell \u001b[0;32mIn[38], line 12\u001b[0;36m\u001b[0m\n\u001b[0;31m    def calculate_sum(x1,x2,x3,...,x100);\u001b[0m\n\u001b[0m                               ^\u001b[0m\n\u001b[0;31mSyntaxError\u001b[0m\u001b[0;31m:\u001b[0m invalid syntax\n"
     ]
    }
   ],
   "source": [
    "def calculate_sum(x):\n",
    "    return x\n",
    "\n",
    "def calculate_sum(x,y):\n",
    "    return x+y\n",
    "\n",
    "def calcualte_sum(x,y,z):\n",
    "    return x+y+z\n",
    "\n",
    "...\n",
    "\n",
    "def calculate_sum(x1,x2,x3,...,x1000):\n",
    "    return x1+x2+x3+...+x1000"
   ]
  },
  {
   "cell_type": "markdown",
   "metadata": {
    "slideshow": {
     "slide_type": "subslide"
    }
   },
   "source": [
    "## Variable number of arguments"
   ]
  },
  {
   "cell_type": "markdown",
   "metadata": {
    "slideshow": {
     "slide_type": "fragment"
    }
   },
   "source": [
    "**Can we call a function with an arbitrary number of arguments**\n",
    "\n",
    "Yes, we can pass a variable number of arguments to a function using special symbols. There are two special symbols to use:\n",
    "\n",
    "1. *args (Non-Keyword Arguments)\n",
    "   - `args` is a tuple of positional arguments.\n",
    "2. **kwargs (Keyword Arguments)\n",
    "   - `kwargs` is a dictionary of keyword arguments.\n",
    "   \n",
    "`*` and `**` are *unpacking operators* for tuple/list and dictionary respectively:\n",
    "\n",
    "Tuple, list and dictionary are new data types which will be introduced in later lectures. See example below."
   ]
  },
  {
   "cell_type": "code",
   "execution_count": 4,
   "metadata": {
    "ExecuteTime": {
     "end_time": "2021-02-26T04:49:37.129326Z",
     "start_time": "2021-02-26T04:49:37.126094Z"
    }
   },
   "outputs": [
    {
     "name": "stdout",
     "output_type": "stream",
     "text": [
      "(0, 10, 2)\n",
      "{'start': 1, 'stop': 2, 'keyword': 6}\n",
      "0 10 2\n",
      "start == 1\n",
      "stop == 2\n",
      "keyword == 6\n"
     ]
    }
   ],
   "source": [
    "args = (0, 10, 2) #this is a tuple\n",
    "kwargs = {'start': 1, 'stop': 2,'keyword': 6} #this is a dictionary\n",
    "#start-->1 keyword=6\n",
    "#stop-->2\n",
    "print(args)\n",
    "print(kwargs)\n",
    "\n",
    "print(*args) #we can use unpacking operator * to get the elements in a tuple\n",
    "#print(**kwargs) #this may cause error, the following is the correct way to access the elements in a dictionary\n",
    "\n",
    "for key, value in kwargs.items():\n",
    "        print (\"{} == {}\".format(key, value))\n",
    "\n"
   ]
  },
  {
   "cell_type": "markdown",
   "metadata": {
    "ExecuteTime": {
     "end_time": "2020-10-18T03:18:28.485677Z",
     "start_time": "2020-10-18T03:18:28.421105Z"
    }
   },
   "source": [
    "***args**\n",
    "\n",
    "The special syntax `*args` in function definitions in python is used to pass a variable number of arguments to a function. It is used to pass a non-key worded, variable-length argument list. \n",
    "\n",
    "- The syntax is to use the symbol * to take in a variable number of arguments; by convention, it is often used with the word `args`.\n",
    "- What `*args` allows you to do is take in more arguments than the number of formal arguments that you previously defined.\n",
    "- Using the *, the variable that we associate with the * becomes an iterable meaning you can do things like iterate over it."
   ]
  },
  {
   "cell_type": "code",
   "execution_count": 4,
   "metadata": {
    "ExecuteTime": {
     "end_time": "2021-02-26T04:50:54.715704Z",
     "start_time": "2021-02-26T04:50:54.710560Z"
    }
   },
   "outputs": [
    {
     "name": "stdout",
     "output_type": "stream",
     "text": [
      "1\n",
      "2\n",
      "3\n",
      "4\n",
      "hello\n",
      "world\n",
      "apple\n",
      "109\n",
      "200\n",
      "300\n"
     ]
    }
   ],
   "source": [
    "# Python program to illustrate *args for variable number of arguments\n",
    "def myFun(*args): \n",
    "    for x in args: \n",
    "        print (x)\n",
    "\n",
    "#myFun('Hello', 'Welcome', 'to', 'CS1302',5,10) \n",
    "#myFun(1,2,10)\n",
    "myFun(1,2,3,4,\"hello\",\"world\",\"apple\",109,200,300)"
   ]
  },
  {
   "cell_type": "markdown",
   "metadata": {},
   "source": [
    "****kwargs**\n",
    "\n",
    "The special syntax **kwargs in function definitions in python is used to pass a keyworded, variable-length argument list. We use the name kwargs with the double star. The reason is because the double star allows us to pass through keyword arguments (and any number of them).\n",
    "\n",
    "One can think of the kwargs as being a dictionary that maps each keyword to the value that we pass alongside it. That is why when we iterate over the kwargs there doesn’t seem to be any order in which they were printed out."
   ]
  },
  {
   "cell_type": "code",
   "execution_count": 5,
   "metadata": {
    "ExecuteTime": {
     "end_time": "2021-02-25T13:28:26.565522Z",
     "start_time": "2021-02-25T13:28:26.561946Z"
    }
   },
   "outputs": [
    {
     "name": "stdout",
     "output_type": "stream",
     "text": [
      "apple == 1\n",
      "banana == 2\n",
      "mango == 3\n",
      "watermelon == 4\n"
     ]
    }
   ],
   "source": [
    "# Python program to illustrate \n",
    "# **kwargs for variable number of keyword arguments\n",
    "\n",
    "def myFun(**kwargs): \n",
    "    for key, value in kwargs.items():\n",
    "        print (\"{} == {}\".format(key, value))\n",
    "\n",
    "#we assign three values to three keyword arguments\n",
    "# first ='I', mid ='like', last='programming' will be passed to **kwargs\n",
    "# **kwargs will automatically map each value to each keyword\n",
    "# first-->'I'\n",
    "# mid-->'like'\n",
    "# last-->'programming'\n",
    "#myFun(first ='I', mid ='like', last='programming') \n",
    "myFun(apple=1,banana=2,mango=3,watermelon=4)"
   ]
  },
  {
   "cell_type": "code",
   "execution_count": 5,
   "metadata": {
    "ExecuteTime": {
     "end_time": "2021-02-26T04:51:16.813100Z",
     "start_time": "2021-02-26T04:51:16.806391Z"
    },
    "slideshow": {
     "slide_type": "fragment"
    }
   },
   "outputs": [
    {
     "name": "stdout",
     "output_type": "stream",
     "text": [
      "args (<class 'tuple'>): (0, 10, 2)\n",
      "kwargs (<class 'dict'>): {'start': 1, 'stop': 2}\n"
     ]
    }
   ],
   "source": [
    "#this example shows how to combine *args and **kwargs together in a function\n",
    "def print_arguments(*args, **kwargs):\n",
    "    '''Take any number of arguments and prints them'''\n",
    "    print('args ({}): {}'.format(type(args),args))\n",
    "    print('kwargs ({}): {}'.format(type(kwargs),kwargs))\n",
    "\n",
    "#print_arguments(0, start=1, stop=2)\n",
    "print_arguments(0, 10, 2, start=1, stop=2)\n",
    "#print_arguments(0, 10, start=1)"
   ]
  },
  {
   "cell_type": "markdown",
   "metadata": {},
   "source": [
    "The following function converts all the arguments to a string.\n",
    "It is used later in this lecture."
   ]
  },
  {
   "cell_type": "code",
   "execution_count": 7,
   "metadata": {
    "ExecuteTime": {
     "end_time": "2020-10-29T01:02:53.949139Z",
     "start_time": "2020-10-29T01:02:53.938942Z"
    },
    "slideshow": {
     "slide_type": "fragment"
    }
   },
   "outputs": [
    {
     "data": {
      "text/plain": [
       "'(0, 10, 2, start=1, stop=2)'"
      ]
     },
     "execution_count": 7,
     "metadata": {},
     "output_type": "execute_result"
    }
   ],
   "source": [
    "def argument_string(*args, **kwargs):\n",
    "    \"\"\"Return the string representation of the list of arguments.\"\"\"\n",
    "    return \"({})\".format(\n",
    "        \", \".join(\n",
    "            [\n",
    "                *[\"{!r}\".format(v) for v in args],  # arguments\n",
    "                *[\n",
    "                    \"{}={!r}\".format(k, v) for k, v in kwargs.items()\n",
    "                ],  # keyword arguments\n",
    "            ]\n",
    "        )\n",
    "    )\n",
    "\n",
    "\n",
    "argument_string(0, 10, 2, start=1, stop=2)"
   ]
  },
  {
   "cell_type": "markdown",
   "metadata": {},
   "source": [
    "**Exercise** Why use `\"{!r}\".format(v)` to format the argument? (this part is optional)\n",
    "\n",
    "*Hint:* See [token conversion](https://docs.python.org/3/reference/lexical_analysis.html#grammar-token-conversion) and the following code:"
   ]
  },
  {
   "cell_type": "code",
   "execution_count": 29,
   "metadata": {},
   "outputs": [
    {
     "data": {
      "text/plain": [
       "('5', '5')"
      ]
     },
     "execution_count": 29,
     "metadata": {},
     "output_type": "execute_result"
    }
   ],
   "source": [
    "v = 5\n",
    "\"{!r}\".format(v), repr(v)"
   ]
  },
  {
   "cell_type": "markdown",
   "metadata": {},
   "source": [
    "!r - convert the value to a string using repr(). Visit this [link](https://peps.python.org/pep-3101/#explicit-conversion-flag) to see more "
   ]
  },
  {
   "cell_type": "markdown",
   "metadata": {},
   "source": [
    "`repr()` function returns a printable representation of the object by converting that object to a string"
   ]
  },
  {
   "cell_type": "code",
   "execution_count": 30,
   "metadata": {},
   "outputs": [
    {
     "name": "stdout",
     "output_type": "stream",
     "text": [
      "1\n",
      "'Hello, World!'\n",
      "[1, 2, 3, 4, 5]\n"
     ]
    }
   ],
   "source": [
    "# Example with an integer\n",
    "x = 1\n",
    "print(repr(x))  # Output: '1'\n",
    "\n",
    "# Example with a string\n",
    "text = \"Hello, World!\"\n",
    "print(repr(text))  # Output: \"'Hello, World!'\"\n",
    "\n",
    "# Example with a list\n",
    "numbers = [1, 2, 3, 4, 5]\n",
    "print(repr(numbers))  # Output: '[1, 2, 3, 4, 5]'"
   ]
  },
  {
   "cell_type": "markdown",
   "metadata": {},
   "source": [
    "`str()` VS `repr()`:\n",
    "- see this [link](https://stackoverflow.com/questions/38418070/what-does-r-do-in-str-and-repr) for more details."
   ]
  },
  {
   "cell_type": "markdown",
   "metadata": {
    "slideshow": {
     "slide_type": "subslide"
    }
   },
   "source": [
    "**Exercise** Redefine `fibonacci_sequence` so that the positional arguments depend on the number of arguments:"
   ]
  },
  {
   "cell_type": "code",
   "execution_count": 32,
   "metadata": {
    "ExecuteTime": {
     "end_time": "2021-02-26T04:51:39.083510Z",
     "start_time": "2021-02-26T04:51:39.077822Z"
    },
    "code_folding": [
     19
    ],
    "deletable": false,
    "nbgrader": {
     "checksum": "a59d5bab4c1f2229305fd8ab8189ce57",
     "grade": false,
     "grade_id": "optional",
     "locked": false,
     "schema_version": 3,
     "solution": true,
     "task": false
    },
    "slideshow": {
     "slide_type": "-"
    }
   },
   "outputs": [],
   "source": [
    "def fibonacci_sequence(*args):\n",
    "    '''Return a generator that generates Fibonacci numbers\n",
    "    starting from Fn and Fn1 to stop (exclusive). \n",
    "    generator.send(value) sets next number to value.\n",
    "    \n",
    "    fibonacci_sequence(stop)\n",
    "    fibonacci_sequence(Fn,Fn1)\n",
    "    fibonacci_sequence(Fn,Fn1,stop)\n",
    "    '''\n",
    "    Fn, Fn1, stop = 0, 1, None  # default values\n",
    "\n",
    "    # handle different number of arguments\n",
    "    if len(args) == 1:\n",
    "        ### BEGIN SOLUTION\n",
    "        stop = args[0]\n",
    "        ### END SOLUTION\n",
    "    elif len(args) == 2:\n",
    "        Fn, Fn1 = args[0], args[1]\n",
    "    elif len(args) > 2:\n",
    "        Fn, Fn1, stop = args[0], args[1], args[2]\n",
    "    \n",
    "    while stop is None or Fn < stop:\n",
    "        value = yield Fn\n",
    "        if value is not None: \n",
    "            Fn1 = value  # set next number to the value of yield expression\n",
    "            print(\"not None\")\n",
    "        Fn, Fn1 = Fn1, Fn1 + Fn"
   ]
  },
  {
   "cell_type": "code",
   "execution_count": 33,
   "metadata": {
    "ExecuteTime": {
     "end_time": "2021-02-26T04:51:42.796814Z",
     "start_time": "2021-02-26T04:51:42.790424Z"
    },
    "slideshow": {
     "slide_type": "fragment"
    }
   },
   "outputs": [
    {
     "name": "stdout",
     "output_type": "stream",
     "text": [
      "0\n",
      "1\n",
      "1\n",
      "2\n",
      "3\n"
     ]
    }
   ],
   "source": [
    "for fib in fibonacci_sequence(5): # default Fn=0, Fn1=1\n",
    "    print(fib)"
   ]
  },
  {
   "cell_type": "code",
   "execution_count": 34,
   "metadata": {
    "ExecuteTime": {
     "end_time": "2021-02-26T04:51:46.782028Z",
     "start_time": "2021-02-26T04:51:46.774790Z"
    },
    "slideshow": {
     "slide_type": "fragment"
    }
   },
   "outputs": [
    {
     "name": "stdout",
     "output_type": "stream",
     "text": [
      "1\n",
      "2\n",
      "3\n",
      "5\n",
      "8\n"
     ]
    }
   ],
   "source": [
    "for fib in fibonacci_sequence(1, 2): # default stop=None\n",
    "    print(fib)\n",
    "    if fib>5:\n",
    "        break"
   ]
  },
  {
   "cell_type": "code",
   "execution_count": 35,
   "metadata": {
    "ExecuteTime": {
     "end_time": "2021-02-26T04:51:49.617546Z",
     "start_time": "2021-02-26T04:51:49.613923Z"
    },
    "slideshow": {
     "slide_type": "fragment"
    }
   },
   "outputs": [
    {
     "name": "stdout",
     "output_type": "stream",
     "text": [
      "1\n",
      "2\n",
      "3\n"
     ]
    }
   ],
   "source": [
    "for fib in fibonacci_sequence(1, 2, 5):\n",
    "    print(fib)"
   ]
  },
  {
   "cell_type": "markdown",
   "metadata": {},
   "source": [
    "now we know how to solve the problem in the very beginning of the lecture:"
   ]
  },
  {
   "cell_type": "code",
   "execution_count": 39,
   "metadata": {},
   "outputs": [
    {
     "data": {
      "text/plain": [
       "1002347"
      ]
     },
     "execution_count": 39,
     "metadata": {},
     "output_type": "execute_result"
    }
   ],
   "source": [
    "def calculate_sum(*args):\n",
    "    sum = 0\n",
    "    for x in args:\n",
    "        sum += x\n",
    "    return sum\n",
    "\n",
    "calculate_sum(1,4,8,1000000,2334)"
   ]
  },
  {
   "cell_type": "markdown",
   "metadata": {},
   "source": [
    "*args and **kwargs are just names, you can change them to other names, but need to ensure consistency in the code"
   ]
  },
  {
   "cell_type": "code",
   "execution_count": 29,
   "metadata": {},
   "outputs": [
    {
     "data": {
      "text/plain": [
       "1002347"
      ]
     },
     "execution_count": 29,
     "metadata": {},
     "output_type": "execute_result"
    }
   ],
   "source": [
    "def calculate_sum(*abc): #you can change args to any names,\n",
    "    sum = 0\n",
    "    for x in abc:\n",
    "        sum += x\n",
    "    return sum\n",
    "\n",
    "calculate_sum(1,4,8,1000000,2334)"
   ]
  },
  {
   "cell_type": "markdown",
   "metadata": {},
   "source": [
    "**A short summary**\n",
    "\n",
    "Know how to use \\*args and \\**kwargs to pass an arbitrary number of arguments to a function"
   ]
  },
  {
   "cell_type": "markdown",
   "metadata": {
    "slideshow": {
     "slide_type": "slide"
    }
   },
   "source": [
    "## Decorator (chapter 8.10 in reference book)"
   ]
  },
  {
   "cell_type": "markdown",
   "metadata": {
    "slideshow": {
     "slide_type": "subslide"
    }
   },
   "source": [
    "**What is function decoration?**  \n",
    "\n",
    "By definition, a decorator is a function that takes another function and extends the behavior of the latter function without explicitly modifying it.\n",
    "\n",
    "**Why decorate a function?**\n",
    "\n",
    "Decorators are very powerful and useful tool in Python since it allows programmers to extend the behavior of function without permanently modifying it"
   ]
  },
  {
   "cell_type": "markdown",
   "metadata": {},
   "source": [
    "Suppose we have the following two functions which print the total number of prime numbers between x and y."
   ]
  },
  {
   "cell_type": "code",
   "execution_count": 40,
   "metadata": {},
   "outputs": [],
   "source": [
    "def is_prime(num):\n",
    "    if num<2:\n",
    "        return False\n",
    "    elif num==2:\n",
    "        return True\n",
    "    else:\n",
    "        for i in range(2,num):\n",
    "            if num%i ==0:\n",
    "                return False\n",
    "        return True\n",
    "\n",
    "def count_prime_nums(x,y):\n",
    "    count=0\n",
    "    for i in range(x,y):\n",
    "        if is_prime(i):\n",
    "            count+=1  \n",
    "    print(\"there are\",count,\"prime numbers between\", x, \"and\", y)\n",
    "    return count"
   ]
  },
  {
   "cell_type": "markdown",
   "metadata": {},
   "source": [
    "We can run the following code to calculate the number of prime numbers between 2 and 10000."
   ]
  },
  {
   "cell_type": "code",
   "execution_count": 41,
   "metadata": {},
   "outputs": [
    {
     "name": "stdout",
     "output_type": "stream",
     "text": [
      "there are 1229 prime numbers between 2 and 10000\n"
     ]
    },
    {
     "data": {
      "text/plain": [
       "1229"
      ]
     },
     "execution_count": 41,
     "metadata": {},
     "output_type": "execute_result"
    }
   ],
   "source": [
    "count_prime_nums(2,10000)"
   ]
  },
  {
   "cell_type": "markdown",
   "metadata": {},
   "source": [
    "Now we'd like to add a string `'Started'` before execution and `'Ended'` after execution. The most straightforward method is as follows."
   ]
  },
  {
   "cell_type": "code",
   "execution_count": 11,
   "metadata": {},
   "outputs": [
    {
     "name": "stdout",
     "output_type": "stream",
     "text": [
      "Started\n",
      "there are 1229 prime numbers between 2 and 10000\n",
      "Ended\n"
     ]
    }
   ],
   "source": [
    "print(\"Started\")\n",
    "count_prime_nums(2,10000)\n",
    "print(\"Ended\")"
   ]
  },
  {
   "cell_type": "markdown",
   "metadata": {},
   "source": [
    "However, that means we need to add `print(\"Started\")` and `print(\"Ended\")` every time we call the function."
   ]
  },
  {
   "cell_type": "code",
   "execution_count": 12,
   "metadata": {},
   "outputs": [
    {
     "name": "stdout",
     "output_type": "stream",
     "text": [
      "Started\n",
      "there are 1229 prime numbers between 2 and 10000\n",
      "Ended\n",
      "Started\n",
      "there are 21 prime numbers between 10 and 100\n",
      "Ended\n",
      "Started\n",
      "there are 153 prime numbers between 50 and 1000\n",
      "Ended\n"
     ]
    }
   ],
   "source": [
    "print(\"Started\")\n",
    "count_prime_nums(2,10000)\n",
    "print(\"Ended\")\n",
    "\n",
    "print(\"Started\")\n",
    "count_prime_nums(10,100)\n",
    "print(\"Ended\")\n",
    "\n",
    "print(\"Started\")\n",
    "count_prime_nums(50,1000)\n",
    "print(\"Ended\")"
   ]
  },
  {
   "cell_type": "markdown",
   "metadata": {},
   "source": [
    "Is there any simpler way?\n",
    "- we can use decorator, which adds some functionality to existing code.\n",
    "- Decorator has a fixed template, and we only need to modify the function body where we can add new functionalities."
   ]
  },
  {
   "cell_type": "code",
   "execution_count": 47,
   "metadata": {},
   "outputs": [],
   "source": [
    "#the following code is a decorator template\n",
    "#a decorator is also a function. It's a function wraps another function\n",
    "#remember this template!!\n",
    "\n",
    "import functools\n",
    "\n",
    "\n",
    "def my_decorator(func): #the name of the decorator my_decorator can be any name you like or required by the programming question\n",
    "    @functools.wraps(func)\n",
    "    def wrapper(*args, **kwargs): #a decorator can be used to decorate many functions, so we need to use *args and **kwargs to\n",
    "                                  #hanldle different number of arguments\n",
    "         # Write your decoration code before calling func\n",
    "        value = func(*args, **kwargs) #call func\n",
    "         # Write your decoration code after calling func\n",
    "\n",
    "        return value\n",
    "\n",
    "    return wrapper"
   ]
  },
  {
   "cell_type": "code",
   "execution_count": 43,
   "metadata": {},
   "outputs": [],
   "source": [
    "import functools\n",
    "\n",
    "\n",
    "def my_decorator(func):\n",
    "    @functools.wraps(func)\n",
    "    def wrapper(*args, **kwargs): \n",
    "        print(\"Started\")\n",
    "        value = func(*args, **kwargs) \n",
    "        print(\"Ended\")\n",
    "\n",
    "        return value\n",
    "\n",
    "    return wrapper"
   ]
  },
  {
   "cell_type": "markdown",
   "metadata": {},
   "source": [
    "The above code defines a decorator `my_decorator()`. Now we can use it to decorate any functions.\n",
    "\n",
    "Decoration Method 1:"
   ]
  },
  {
   "cell_type": "code",
   "execution_count": 53,
   "metadata": {},
   "outputs": [
    {
     "name": "stdout",
     "output_type": "stream",
     "text": [
      "there are 1229 prime numbers between 2 and 10000\n",
      "there are 1229 prime numbers between 2 and 10000\n"
     ]
    },
    {
     "data": {
      "text/plain": [
       "1229"
      ]
     },
     "execution_count": 53,
     "metadata": {},
     "output_type": "execute_result"
    }
   ],
   "source": [
    "my_decorator(count_prime_nums)(2,10000)  #use my_decorator to decorate count_prime_nums\n",
    "\n",
    "#the following code works the same as above\n",
    "x=my_decorator(count_prime_nums)\n",
    "x(2,10000)"
   ]
  },
  {
   "cell_type": "markdown",
   "metadata": {},
   "source": [
    "Decoration Method 2: add `@my_decorator` one line above the function to be decorated"
   ]
  },
  {
   "cell_type": "code",
   "execution_count": null,
   "metadata": {},
   "outputs": [],
   "source": [
    "@my_decorator        #@my_decorator is just an easier way of saying count_prime_nums = my_decorator(count_prime_nums)\n",
    "def count_prime_nums(x,y):\n",
    "    count=0\n",
    "    for i in range(x,y):\n",
    "        if is_prime(i):\n",
    "            count+=1  \n",
    "    print(\"there are\",count,\"prime numbers between\", x, \"and\", y)\n",
    "    return count\n",
    "\n",
    "count_prime_nums(2,10000)  #if we use @my_decorator, we can call this function directly"
   ]
  },
  {
   "cell_type": "code",
   "execution_count": 54,
   "metadata": {},
   "outputs": [],
   "source": [
    "import functools\n",
    "\n",
    "\n",
    "def decorator2(func):\n",
    "    @functools.wraps(func)\n",
    "    def wrapper(*args, **kwargs): \n",
    "        print(\"Hello\") \n",
    "        value = func(*args, **kwargs)\n",
    "\n",
    "        return value\n",
    "\n",
    "    return wrapper"
   ]
  },
  {
   "cell_type": "code",
   "execution_count": 56,
   "metadata": {},
   "outputs": [
    {
     "name": "stdout",
     "output_type": "stream",
     "text": [
      "Hello\n",
      "David\n",
      "remove decoration:\n",
      "Alice\n"
     ]
    }
   ],
   "source": [
    "@decorator2\n",
    "def display_yourname(name):\n",
    "    print(name)\n",
    "\n",
    "display_yourname(\"David\")\n",
    "\n",
    "#how to remove the decoration? use __wrapped__ method\n",
    "print(\"remove decoration:\")\n",
    "f=display_yourname.__wrapped__  #dunder method, special method\n",
    "f('Alice')"
   ]
  },
  {
   "cell_type": "markdown",
   "metadata": {
    "slideshow": {
     "slide_type": "fragment"
    }
   },
   "source": [
    "More reference\n",
    "- A tutorial on decorator can be found [here](https://realpython.com/primer-on-python-decorators/). If you understand this tutorial, you can skip the rest part.\n",
    "- A nice video tutorial can be found [here](https://www.youtube.com/watch?v=r7Dtus7N4pI)"
   ]
  },
  {
   "cell_type": "markdown",
   "metadata": {
    "slideshow": {
     "slide_type": "fragment"
    }
   },
   "source": [
    "**Why use a variable number of arguments in `wrapper`**"
   ]
  },
  {
   "cell_type": "markdown",
   "metadata": {
    "slideshow": {
     "slide_type": "fragment"
    }
   },
   "source": [
    "To decorate any function with possibly different number of arguments."
   ]
  },
  {
   "cell_type": "markdown",
   "metadata": {
    "slideshow": {
     "slide_type": "subslide"
    }
   },
   "source": [
    "**Why decorate the wrapper with `@functools.wraps(f)`?**"
   ]
  },
  {
   "cell_type": "markdown",
   "metadata": {
    "slideshow": {
     "slide_type": "fragment"
    }
   },
   "source": [
    "- Ensures some attributes (such as `__name__`) of the wrapper function is the same as those of `f`.\n",
    "- Add useful attributes. E.g., `__wrapped__` stores the original function so we can undo the decoration.\n"
   ]
  },
  {
   "cell_type": "markdown",
   "metadata": {},
   "source": [
    "**We can use multiple decorators to decorate a function**\n",
    "- Note the order of the decorators"
   ]
  },
  {
   "cell_type": "code",
   "execution_count": 27,
   "metadata": {},
   "outputs": [
    {
     "name": "stdout",
     "output_type": "stream",
     "text": [
      "Hello\n",
      "Started\n",
      "there are 1229 prime numbers between 2 and 10000\n",
      "Ended\n"
     ]
    },
    {
     "data": {
      "text/plain": [
       "1229"
      ]
     },
     "execution_count": 27,
     "metadata": {},
     "output_type": "execute_result"
    }
   ],
   "source": [
    "@decorator2\n",
    "@my_decorator  \n",
    "def count_prime_nums(x,y):\n",
    "    count=0\n",
    "    for i in range(x,y):\n",
    "        if is_prime(i):\n",
    "            count+=1  \n",
    "    print(\"there are\",count,\"prime numbers between\", x, \"and\", y)\n",
    "    return count\n",
    "\n",
    "count_prime_nums(2,10000)"
   ]
  },
  {
   "cell_type": "code",
   "execution_count": 28,
   "metadata": {},
   "outputs": [
    {
     "name": "stdout",
     "output_type": "stream",
     "text": [
      "Started\n",
      "Hello\n",
      "there are 1229 prime numbers between 2 and 10000\n",
      "Ended\n"
     ]
    },
    {
     "data": {
      "text/plain": [
       "1229"
      ]
     },
     "execution_count": 28,
     "metadata": {},
     "output_type": "execute_result"
    }
   ],
   "source": [
    "@my_decorator\n",
    "@decorator2\n",
    "def count_prime_nums(x,y):\n",
    "    count=0\n",
    "    for i in range(x,y):\n",
    "        if is_prime(i):\n",
    "            count+=1  \n",
    "    print(\"there are\",count,\"prime numbers between\", x, \"and\", y)\n",
    "    return count\n",
    "\n",
    "count_prime_nums(2,10000)"
   ]
  },
  {
   "cell_type": "markdown",
   "metadata": {
    "slideshow": {
     "slide_type": "fragment"
    }
   },
   "source": [
    "**Lambda expression**  \n",
    "`lambda <argument list> : <expression>`is called a [*lambda* expression](https://docs.python.org/3/reference/expressions.html#lambda), which conveniently defines an *anonymous function*."
   ]
  },
  {
   "cell_type": "code",
   "execution_count": null,
   "metadata": {
    "ExecuteTime": {
     "end_time": "2020-10-19T14:37:23.484852Z",
     "start_time": "2020-10-19T14:37:23.407472Z"
    }
   },
   "outputs": [],
   "source": [
    "#this example shows how a lambda expression works\n",
    "\n",
    "add= lambda x,y: x + y\n",
    "\n",
    "print(add(2,3)) # 2+3\n",
    "\n",
    "#add= lambda x,y:x+y is equivalent to define a function below\n",
    "\n",
    "def add(x,y):\n",
    "    return x+y"
   ]
  },
  {
   "cell_type": "markdown",
   "metadata": {},
   "source": [
    "**A short summary**\n",
    "1. what is decorator\n",
    "2. How to use decorator\n",
    "3. Lambda expression"
   ]
  },
  {
   "cell_type": "markdown",
   "metadata": {
    "slideshow": {
     "slide_type": "slide"
    }
   },
   "source": [
    "## Module"
   ]
  },
  {
   "cell_type": "markdown",
   "metadata": {
    "slideshow": {
     "slide_type": "subslide"
    }
   },
   "source": [
    "**How to create a module?**"
   ]
  },
  {
   "cell_type": "markdown",
   "metadata": {
    "slideshow": {
     "slide_type": "fragment"
    }
   },
   "source": [
    "To create a module, simply put the code in a python source file `<module name>.py` in\n",
    "- the current directory, or\n",
    "- a python *site-packages* directory in system path."
   ]
  },
  {
   "cell_type": "code",
   "execution_count": 19,
   "metadata": {
    "ExecuteTime": {
     "end_time": "2021-02-26T04:55:55.740206Z",
     "start_time": "2021-02-26T04:55:55.735940Z"
    },
    "slideshow": {
     "slide_type": "-"
    }
   },
   "outputs": [
    {
     "name": "stdout",
     "output_type": "stream",
     "text": [
      "['/home/jovyan/cs1302_23a/Weitao/Lecture_6', '/opt/conda/lib/python311.zip', '/opt/conda/lib/python3.11', '/opt/conda/lib/python3.11/lib-dynload', '', '/opt/conda/lib/python3.11/site-packages']\n"
     ]
    }
   ],
   "source": [
    "import sys\n",
    "print(sys.path)"
   ]
  },
  {
   "cell_type": "markdown",
   "metadata": {
    "slideshow": {
     "slide_type": "subslide"
    }
   },
   "source": [
    "For example, `recurtools.py` in the current directory defines the module `recurtools`.\n",
    "\n",
    "The following code will print the content of `recurtools.py` on the screen (no need to remember how it works)"
   ]
  },
  {
   "cell_type": "code",
   "execution_count": 20,
   "metadata": {
    "ExecuteTime": {
     "end_time": "2021-02-26T08:23:05.444727Z",
     "start_time": "2021-02-26T08:23:05.440359Z"
    },
    "slideshow": {
     "slide_type": "-"
    }
   },
   "outputs": [
    {
     "data": {
      "text/html": [
       "<style>pre { line-height: 125%; }\n",
       "td.linenos .normal { color: inherit; background-color: transparent; padding-left: 5px; padding-right: 5px; }\n",
       "span.linenos { color: inherit; background-color: transparent; padding-left: 5px; padding-right: 5px; }\n",
       "td.linenos .special { color: #000000; background-color: #ffffc0; padding-left: 5px; padding-right: 5px; }\n",
       "span.linenos.special { color: #000000; background-color: #ffffc0; padding-left: 5px; padding-right: 5px; }\n",
       ".output_html .hll { background-color: #ffffcc }\n",
       ".output_html { background: #f8f8f8; }\n",
       ".output_html .c { color: #3D7B7B; font-style: italic } /* Comment */\n",
       ".output_html .err { border: 1px solid #FF0000 } /* Error */\n",
       ".output_html .k { color: #008000; font-weight: bold } /* Keyword */\n",
       ".output_html .o { color: #666666 } /* Operator */\n",
       ".output_html .ch { color: #3D7B7B; font-style: italic } /* Comment.Hashbang */\n",
       ".output_html .cm { color: #3D7B7B; font-style: italic } /* Comment.Multiline */\n",
       ".output_html .cp { color: #9C6500 } /* Comment.Preproc */\n",
       ".output_html .cpf { color: #3D7B7B; font-style: italic } /* Comment.PreprocFile */\n",
       ".output_html .c1 { color: #3D7B7B; font-style: italic } /* Comment.Single */\n",
       ".output_html .cs { color: #3D7B7B; font-style: italic } /* Comment.Special */\n",
       ".output_html .gd { color: #A00000 } /* Generic.Deleted */\n",
       ".output_html .ge { font-style: italic } /* Generic.Emph */\n",
       ".output_html .ges { font-weight: bold; font-style: italic } /* Generic.EmphStrong */\n",
       ".output_html .gr { color: #E40000 } /* Generic.Error */\n",
       ".output_html .gh { color: #000080; font-weight: bold } /* Generic.Heading */\n",
       ".output_html .gi { color: #008400 } /* Generic.Inserted */\n",
       ".output_html .go { color: #717171 } /* Generic.Output */\n",
       ".output_html .gp { color: #000080; font-weight: bold } /* Generic.Prompt */\n",
       ".output_html .gs { font-weight: bold } /* Generic.Strong */\n",
       ".output_html .gu { color: #800080; font-weight: bold } /* Generic.Subheading */\n",
       ".output_html .gt { color: #0044DD } /* Generic.Traceback */\n",
       ".output_html .kc { color: #008000; font-weight: bold } /* Keyword.Constant */\n",
       ".output_html .kd { color: #008000; font-weight: bold } /* Keyword.Declaration */\n",
       ".output_html .kn { color: #008000; font-weight: bold } /* Keyword.Namespace */\n",
       ".output_html .kp { color: #008000 } /* Keyword.Pseudo */\n",
       ".output_html .kr { color: #008000; font-weight: bold } /* Keyword.Reserved */\n",
       ".output_html .kt { color: #B00040 } /* Keyword.Type */\n",
       ".output_html .m { color: #666666 } /* Literal.Number */\n",
       ".output_html .s { color: #BA2121 } /* Literal.String */\n",
       ".output_html .na { color: #687822 } /* Name.Attribute */\n",
       ".output_html .nb { color: #008000 } /* Name.Builtin */\n",
       ".output_html .nc { color: #0000FF; font-weight: bold } /* Name.Class */\n",
       ".output_html .no { color: #880000 } /* Name.Constant */\n",
       ".output_html .nd { color: #AA22FF } /* Name.Decorator */\n",
       ".output_html .ni { color: #717171; font-weight: bold } /* Name.Entity */\n",
       ".output_html .ne { color: #CB3F38; font-weight: bold } /* Name.Exception */\n",
       ".output_html .nf { color: #0000FF } /* Name.Function */\n",
       ".output_html .nl { color: #767600 } /* Name.Label */\n",
       ".output_html .nn { color: #0000FF; font-weight: bold } /* Name.Namespace */\n",
       ".output_html .nt { color: #008000; font-weight: bold } /* Name.Tag */\n",
       ".output_html .nv { color: #19177C } /* Name.Variable */\n",
       ".output_html .ow { color: #AA22FF; font-weight: bold } /* Operator.Word */\n",
       ".output_html .w { color: #bbbbbb } /* Text.Whitespace */\n",
       ".output_html .mb { color: #666666 } /* Literal.Number.Bin */\n",
       ".output_html .mf { color: #666666 } /* Literal.Number.Float */\n",
       ".output_html .mh { color: #666666 } /* Literal.Number.Hex */\n",
       ".output_html .mi { color: #666666 } /* Literal.Number.Integer */\n",
       ".output_html .mo { color: #666666 } /* Literal.Number.Oct */\n",
       ".output_html .sa { color: #BA2121 } /* Literal.String.Affix */\n",
       ".output_html .sb { color: #BA2121 } /* Literal.String.Backtick */\n",
       ".output_html .sc { color: #BA2121 } /* Literal.String.Char */\n",
       ".output_html .dl { color: #BA2121 } /* Literal.String.Delimiter */\n",
       ".output_html .sd { color: #BA2121; font-style: italic } /* Literal.String.Doc */\n",
       ".output_html .s2 { color: #BA2121 } /* Literal.String.Double */\n",
       ".output_html .se { color: #AA5D1F; font-weight: bold } /* Literal.String.Escape */\n",
       ".output_html .sh { color: #BA2121 } /* Literal.String.Heredoc */\n",
       ".output_html .si { color: #A45A77; font-weight: bold } /* Literal.String.Interpol */\n",
       ".output_html .sx { color: #008000 } /* Literal.String.Other */\n",
       ".output_html .sr { color: #A45A77 } /* Literal.String.Regex */\n",
       ".output_html .s1 { color: #BA2121 } /* Literal.String.Single */\n",
       ".output_html .ss { color: #19177C } /* Literal.String.Symbol */\n",
       ".output_html .bp { color: #008000 } /* Name.Builtin.Pseudo */\n",
       ".output_html .fm { color: #0000FF } /* Name.Function.Magic */\n",
       ".output_html .vc { color: #19177C } /* Name.Variable.Class */\n",
       ".output_html .vg { color: #19177C } /* Name.Variable.Global */\n",
       ".output_html .vi { color: #19177C } /* Name.Variable.Instance */\n",
       ".output_html .vm { color: #19177C } /* Name.Variable.Magic */\n",
       ".output_html .il { color: #666666 } /* Literal.Number.Integer.Long */</style><div class=\"highlight\"><pre><span></span><span class=\"sd\">&#39;&#39;&#39;</span>\n",
       "<span class=\"sd\">Recursion Tools</span>\n",
       "<span class=\"sd\">===============</span>\n",
       "\n",
       "<span class=\"sd\">Contain tools to print the call stack and cache the return values</span>\n",
       "<span class=\"sd\">of a recursive function.</span>\n",
       "<span class=\"sd\">&#39;&#39;&#39;</span>\n",
       "\n",
       "<span class=\"kn\">import</span> <span class=\"nn\">functools</span>\n",
       "\n",
       "\n",
       "<span class=\"k\">def</span> <span class=\"nf\">_argument_string</span><span class=\"p\">(</span><span class=\"o\">*</span><span class=\"n\">args</span><span class=\"p\">,</span> <span class=\"o\">**</span><span class=\"n\">kwargs</span><span class=\"p\">):</span>\n",
       "<span class=\"w\">    </span><span class=\"sd\">&quot;&quot;&quot;Return the string representation of the list of arguments.&quot;&quot;&quot;</span>\n",
       "    <span class=\"k\">return</span> <span class=\"s2\">&quot;(</span><span class=\"si\">{}</span><span class=\"s2\">)&quot;</span><span class=\"o\">.</span><span class=\"n\">format</span><span class=\"p\">(</span>\n",
       "        <span class=\"s2\">&quot;, &quot;</span><span class=\"o\">.</span><span class=\"n\">join</span><span class=\"p\">(</span>\n",
       "            <span class=\"p\">[</span>\n",
       "                <span class=\"o\">*</span><span class=\"p\">[</span><span class=\"s2\">&quot;</span><span class=\"si\">{!r}</span><span class=\"s2\">&quot;</span><span class=\"o\">.</span><span class=\"n\">format</span><span class=\"p\">(</span><span class=\"n\">v</span><span class=\"p\">)</span> <span class=\"k\">for</span> <span class=\"n\">v</span> <span class=\"ow\">in</span> <span class=\"n\">args</span><span class=\"p\">],</span>  <span class=\"c1\"># arguments</span>\n",
       "                <span class=\"o\">*</span><span class=\"p\">[</span>\n",
       "                    <span class=\"s2\">&quot;</span><span class=\"si\">{}</span><span class=\"s2\">=</span><span class=\"si\">{!r}</span><span class=\"s2\">&quot;</span><span class=\"o\">.</span><span class=\"n\">format</span><span class=\"p\">(</span><span class=\"n\">k</span><span class=\"p\">,</span> <span class=\"n\">v</span><span class=\"p\">)</span> <span class=\"k\">for</span> <span class=\"n\">k</span><span class=\"p\">,</span> <span class=\"n\">v</span> <span class=\"ow\">in</span> <span class=\"n\">kwargs</span><span class=\"o\">.</span><span class=\"n\">items</span><span class=\"p\">()</span>\n",
       "                <span class=\"p\">],</span>  <span class=\"c1\"># keyword arguments</span>\n",
       "            <span class=\"p\">]</span>\n",
       "        <span class=\"p\">)</span>\n",
       "    <span class=\"p\">)</span>\n",
       "\n",
       "\n",
       "<span class=\"k\">def</span> <span class=\"nf\">print_function_call</span><span class=\"p\">(</span><span class=\"n\">f</span><span class=\"p\">):</span>\n",
       "<span class=\"w\">    </span><span class=\"sd\">&quot;&quot;&quot;Decorate a recursive function to print the call stack.</span>\n",
       "\n",
       "<span class=\"sd\">    The decorator also keep tracks of the number and depth of a recursive call to print the call stack.</span>\n",
       "\n",
       "<span class=\"sd\">    Parameters</span>\n",
       "<span class=\"sd\">    ----------</span>\n",
       "<span class=\"sd\">    f: Callable</span>\n",
       "<span class=\"sd\">        A recursive function.</span>\n",
       "\n",
       "<span class=\"sd\">    Returns</span>\n",
       "<span class=\"sd\">    -------</span>\n",
       "<span class=\"sd\">    Callable:</span>\n",
       "<span class=\"sd\">        The decorated function that also prints the function call</span>\n",
       "<span class=\"sd\">        when called.</span>\n",
       "\n",
       "<span class=\"sd\">    Examples</span>\n",
       "<span class=\"sd\">    --------</span>\n",
       "<span class=\"sd\">    &gt;&gt;&gt; @print_function_call</span>\n",
       "<span class=\"sd\">    ... def fibonacci(n):</span>\n",
       "<span class=\"sd\">    ...     return fibonacci(n - 1) + fibonacci(n - 2) if n &gt; 1 else 1 if n == 1 else 0</span>\n",
       "<span class=\"sd\">    ...</span>\n",
       "<span class=\"sd\">    &gt;&gt;&gt; fibonacci(5)</span>\n",
       "<span class=\"sd\">      1:fibonacci(5)</span>\n",
       "<span class=\"sd\">      2:|fibonacci(4)</span>\n",
       "<span class=\"sd\">      3:||fibonacci(3)</span>\n",
       "<span class=\"sd\">      4:|||fibonacci(2)</span>\n",
       "<span class=\"sd\">      5:||||fibonacci(1)</span>\n",
       "<span class=\"sd\">      6:||||fibonacci(0)</span>\n",
       "<span class=\"sd\">      7:|||fibonacci(1)</span>\n",
       "<span class=\"sd\">      8:||fibonacci(2)</span>\n",
       "<span class=\"sd\">      9:|||fibonacci(1)</span>\n",
       "<span class=\"sd\">     10:|||fibonacci(0)</span>\n",
       "<span class=\"sd\">     11:|fibonacci(3)</span>\n",
       "<span class=\"sd\">     12:||fibonacci(2)</span>\n",
       "<span class=\"sd\">     13:|||fibonacci(1)</span>\n",
       "<span class=\"sd\">     14:|||fibonacci(0)</span>\n",
       "<span class=\"sd\">     15:||fibonacci(1)</span>\n",
       "<span class=\"sd\">    Done</span>\n",
       "<span class=\"sd\">    5</span>\n",
       "<span class=\"sd\">    &quot;&quot;&quot;</span>\n",
       "\n",
       "    <span class=\"nd\">@functools</span><span class=\"o\">.</span><span class=\"n\">wraps</span><span class=\"p\">(</span><span class=\"n\">f</span><span class=\"p\">)</span>  <span class=\"c1\"># give wrapper the identity of f and more</span>\n",
       "    <span class=\"k\">def</span> <span class=\"nf\">wrapper</span><span class=\"p\">(</span><span class=\"o\">*</span><span class=\"n\">args</span><span class=\"p\">,</span> <span class=\"o\">**</span><span class=\"n\">kwargs</span><span class=\"p\">):</span>\n",
       "        <span class=\"k\">nonlocal</span> <span class=\"n\">count</span><span class=\"p\">,</span> <span class=\"n\">depth</span>\n",
       "        <span class=\"n\">count</span> <span class=\"o\">+=</span> <span class=\"mi\">1</span>\n",
       "        <span class=\"n\">depth</span> <span class=\"o\">+=</span> <span class=\"mi\">1</span>\n",
       "        <span class=\"n\">call</span> <span class=\"o\">=</span> <span class=\"s2\">&quot;</span><span class=\"si\">{}{}</span><span class=\"s2\">&quot;</span><span class=\"o\">.</span><span class=\"n\">format</span><span class=\"p\">(</span><span class=\"n\">f</span><span class=\"o\">.</span><span class=\"vm\">__name__</span><span class=\"p\">,</span> <span class=\"n\">_argument_string</span><span class=\"p\">(</span><span class=\"o\">*</span><span class=\"n\">args</span><span class=\"p\">,</span> <span class=\"o\">**</span><span class=\"n\">kwargs</span><span class=\"p\">))</span>\n",
       "        <span class=\"nb\">print</span><span class=\"p\">(</span><span class=\"s2\">&quot;</span><span class=\"si\">{:&gt;3}</span><span class=\"s2\">:</span><span class=\"si\">{}{}</span><span class=\"s2\">&quot;</span><span class=\"o\">.</span><span class=\"n\">format</span><span class=\"p\">(</span><span class=\"n\">count</span><span class=\"p\">,</span> <span class=\"s2\">&quot;|&quot;</span> <span class=\"o\">*</span> <span class=\"n\">depth</span><span class=\"p\">,</span> <span class=\"n\">call</span><span class=\"p\">))</span>\n",
       "\n",
       "        <span class=\"n\">value</span> <span class=\"o\">=</span> <span class=\"n\">f</span><span class=\"p\">(</span><span class=\"o\">*</span><span class=\"n\">args</span><span class=\"p\">,</span> <span class=\"o\">**</span><span class=\"n\">kwargs</span><span class=\"p\">)</span>  <span class=\"c1\"># calls f</span>\n",
       "\n",
       "        <span class=\"n\">depth</span> <span class=\"o\">-=</span> <span class=\"mi\">1</span>\n",
       "        <span class=\"k\">if</span> <span class=\"n\">depth</span> <span class=\"o\">==</span> <span class=\"o\">-</span><span class=\"mi\">1</span><span class=\"p\">:</span>\n",
       "            <span class=\"nb\">print</span><span class=\"p\">(</span><span class=\"s2\">&quot;Done&quot;</span><span class=\"p\">)</span>\n",
       "            <span class=\"n\">count</span> <span class=\"o\">=</span> <span class=\"mi\">0</span>\n",
       "        <span class=\"k\">return</span> <span class=\"n\">value</span>\n",
       "\n",
       "    <span class=\"n\">count</span><span class=\"p\">,</span> <span class=\"n\">depth</span> <span class=\"o\">=</span> <span class=\"mi\">0</span><span class=\"p\">,</span> <span class=\"o\">-</span><span class=\"mi\">1</span>\n",
       "    <span class=\"k\">return</span> <span class=\"n\">wrapper</span>  <span class=\"c1\"># return the decorated function</span>\n",
       "\n",
       "\n",
       "<span class=\"k\">def</span> <span class=\"nf\">caching</span><span class=\"p\">(</span><span class=\"n\">f</span><span class=\"p\">):</span>\n",
       "<span class=\"w\">    </span><span class=\"sd\">&quot;&quot;&quot;Cache the return value of a function that takes a single argument.</span>\n",
       "\n",
       "<span class=\"sd\">    Parameters</span>\n",
       "<span class=\"sd\">    ----------</span>\n",
       "<span class=\"sd\">    f: Callable</span>\n",
       "<span class=\"sd\">        A function that takes a single argument.</span>\n",
       "\n",
       "<span class=\"sd\">    Returns</span>\n",
       "<span class=\"sd\">    -------</span>\n",
       "<span class=\"sd\">    Callable:</span>\n",
       "<span class=\"sd\">        The function same as f but has its return valued automatically cached</span>\n",
       "<span class=\"sd\">        when called. It has a method clear_cache to clear its cache.</span>\n",
       "\n",
       "<span class=\"sd\">    Examples</span>\n",
       "<span class=\"sd\">    --------</span>\n",
       "<span class=\"sd\">    &gt;&gt;&gt; @print_function_call</span>\n",
       "<span class=\"sd\">    ... @caching</span>\n",
       "<span class=\"sd\">    ... def fibonacci(n):</span>\n",
       "<span class=\"sd\">    ...     return fibonacci(n - 1) + fibonacci(n - 2) if n &gt; 1 else 1 if n == 1 else 0</span>\n",
       "<span class=\"sd\">    ...</span>\n",
       "<span class=\"sd\">    &gt;&gt;&gt; fibonacci(5)</span>\n",
       "<span class=\"sd\">      1:fibonacci(5)</span>\n",
       "<span class=\"sd\">      2:|fibonacci(4)</span>\n",
       "<span class=\"sd\">      3:||fibonacci(3)</span>\n",
       "<span class=\"sd\">      4:|||fibonacci(2)</span>\n",
       "<span class=\"sd\">      5:||||fibonacci(1)</span>\n",
       "<span class=\"sd\">      6:||||fibonacci(0)</span>\n",
       "<span class=\"sd\">      7:|||fibonacci(1)</span>\n",
       "<span class=\"sd\">    read from cache</span>\n",
       "<span class=\"sd\">      8:||fibonacci(2)</span>\n",
       "<span class=\"sd\">    read from cache</span>\n",
       "<span class=\"sd\">      9:|fibonacci(3)</span>\n",
       "<span class=\"sd\">    read from cache</span>\n",
       "<span class=\"sd\">    Done</span>\n",
       "<span class=\"sd\">    5</span>\n",
       "<span class=\"sd\">    &gt;&gt;&gt; fibonacci(5)</span>\n",
       "<span class=\"sd\">      1:fibonacci(5)</span>\n",
       "<span class=\"sd\">    read from cache</span>\n",
       "<span class=\"sd\">    Done</span>\n",
       "<span class=\"sd\">    5</span>\n",
       "<span class=\"sd\">    &gt;&gt;&gt; fibonacci.clear_cache()</span>\n",
       "<span class=\"sd\">    &gt;&gt;&gt; fibonacci(5)</span>\n",
       "<span class=\"sd\">      1:fibonacci(5)</span>\n",
       "<span class=\"sd\">      2:|fibonacci(4)</span>\n",
       "<span class=\"sd\">      3:||fibonacci(3)</span>\n",
       "<span class=\"sd\">      4:|||fibonacci(2)</span>\n",
       "<span class=\"sd\">      5:||||fibonacci(1)</span>\n",
       "<span class=\"sd\">      6:||||fibonacci(0)</span>\n",
       "<span class=\"sd\">      7:|||fibonacci(1)</span>\n",
       "<span class=\"sd\">    read from cache</span>\n",
       "<span class=\"sd\">      8:||fibonacci(2)</span>\n",
       "<span class=\"sd\">    read from cache</span>\n",
       "<span class=\"sd\">      9:|fibonacci(3)</span>\n",
       "<span class=\"sd\">    read from cache</span>\n",
       "<span class=\"sd\">    Done</span>\n",
       "<span class=\"sd\">    5</span>\n",
       "<span class=\"sd\">    &quot;&quot;&quot;</span>\n",
       "\n",
       "    <span class=\"nd\">@functools</span><span class=\"o\">.</span><span class=\"n\">wraps</span><span class=\"p\">(</span><span class=\"n\">f</span><span class=\"p\">)</span>\n",
       "    <span class=\"k\">def</span> <span class=\"nf\">wrapper</span><span class=\"p\">(</span><span class=\"n\">n</span><span class=\"p\">):</span>\n",
       "        <span class=\"k\">if</span> <span class=\"n\">n</span> <span class=\"ow\">not</span> <span class=\"ow\">in</span> <span class=\"n\">cache</span><span class=\"p\">:</span>\n",
       "            <span class=\"n\">cache</span><span class=\"p\">[</span><span class=\"n\">n</span><span class=\"p\">]</span> <span class=\"o\">=</span> <span class=\"n\">f</span><span class=\"p\">(</span><span class=\"n\">n</span><span class=\"p\">)</span>\n",
       "        <span class=\"k\">else</span><span class=\"p\">:</span>\n",
       "            <span class=\"nb\">print</span><span class=\"p\">(</span><span class=\"s2\">&quot;read from cache&quot;</span><span class=\"p\">)</span>\n",
       "        <span class=\"k\">return</span> <span class=\"n\">cache</span><span class=\"p\">[</span><span class=\"n\">n</span><span class=\"p\">]</span>\n",
       "\n",
       "    <span class=\"n\">cache</span> <span class=\"o\">=</span> <span class=\"p\">{}</span>\n",
       "    <span class=\"n\">wrapper</span><span class=\"o\">.</span><span class=\"n\">clear_cache</span> <span class=\"o\">=</span> <span class=\"k\">lambda</span><span class=\"p\">:</span> <span class=\"n\">cache</span><span class=\"o\">.</span><span class=\"n\">clear</span><span class=\"p\">()</span>  <span class=\"c1\"># add method to clear cache</span>\n",
       "    <span class=\"k\">return</span> <span class=\"n\">wrapper</span>\n",
       "</pre></div>\n"
      ],
      "text/latex": [
       "\\begin{Verbatim}[commandchars=\\\\\\{\\}]\n",
       "\\PY{l+s+sd}{\\PYZsq{}\\PYZsq{}\\PYZsq{}}\n",
       "\\PY{l+s+sd}{Recursion Tools}\n",
       "\\PY{l+s+sd}{===============}\n",
       "\n",
       "\\PY{l+s+sd}{Contain tools to print the call stack and cache the return values}\n",
       "\\PY{l+s+sd}{of a recursive function.}\n",
       "\\PY{l+s+sd}{\\PYZsq{}\\PYZsq{}\\PYZsq{}}\n",
       "\n",
       "\\PY{k+kn}{import} \\PY{n+nn}{functools}\n",
       "\n",
       "\n",
       "\\PY{k}{def} \\PY{n+nf}{\\PYZus{}argument\\PYZus{}string}\\PY{p}{(}\\PY{o}{*}\\PY{n}{args}\\PY{p}{,} \\PY{o}{*}\\PY{o}{*}\\PY{n}{kwargs}\\PY{p}{)}\\PY{p}{:}\n",
       "\\PY{+w}{    }\\PY{l+s+sd}{\\PYZdq{}\\PYZdq{}\\PYZdq{}Return the string representation of the list of arguments.\\PYZdq{}\\PYZdq{}\\PYZdq{}}\n",
       "    \\PY{k}{return} \\PY{l+s+s2}{\\PYZdq{}}\\PY{l+s+s2}{(}\\PY{l+s+si}{\\PYZob{}\\PYZcb{}}\\PY{l+s+s2}{)}\\PY{l+s+s2}{\\PYZdq{}}\\PY{o}{.}\\PY{n}{format}\\PY{p}{(}\n",
       "        \\PY{l+s+s2}{\\PYZdq{}}\\PY{l+s+s2}{, }\\PY{l+s+s2}{\\PYZdq{}}\\PY{o}{.}\\PY{n}{join}\\PY{p}{(}\n",
       "            \\PY{p}{[}\n",
       "                \\PY{o}{*}\\PY{p}{[}\\PY{l+s+s2}{\\PYZdq{}}\\PY{l+s+si}{\\PYZob{}!r\\PYZcb{}}\\PY{l+s+s2}{\\PYZdq{}}\\PY{o}{.}\\PY{n}{format}\\PY{p}{(}\\PY{n}{v}\\PY{p}{)} \\PY{k}{for} \\PY{n}{v} \\PY{o+ow}{in} \\PY{n}{args}\\PY{p}{]}\\PY{p}{,}  \\PY{c+c1}{\\PYZsh{} arguments}\n",
       "                \\PY{o}{*}\\PY{p}{[}\n",
       "                    \\PY{l+s+s2}{\\PYZdq{}}\\PY{l+s+si}{\\PYZob{}\\PYZcb{}}\\PY{l+s+s2}{=}\\PY{l+s+si}{\\PYZob{}!r\\PYZcb{}}\\PY{l+s+s2}{\\PYZdq{}}\\PY{o}{.}\\PY{n}{format}\\PY{p}{(}\\PY{n}{k}\\PY{p}{,} \\PY{n}{v}\\PY{p}{)} \\PY{k}{for} \\PY{n}{k}\\PY{p}{,} \\PY{n}{v} \\PY{o+ow}{in} \\PY{n}{kwargs}\\PY{o}{.}\\PY{n}{items}\\PY{p}{(}\\PY{p}{)}\n",
       "                \\PY{p}{]}\\PY{p}{,}  \\PY{c+c1}{\\PYZsh{} keyword arguments}\n",
       "            \\PY{p}{]}\n",
       "        \\PY{p}{)}\n",
       "    \\PY{p}{)}\n",
       "\n",
       "\n",
       "\\PY{k}{def} \\PY{n+nf}{print\\PYZus{}function\\PYZus{}call}\\PY{p}{(}\\PY{n}{f}\\PY{p}{)}\\PY{p}{:}\n",
       "\\PY{+w}{    }\\PY{l+s+sd}{\\PYZdq{}\\PYZdq{}\\PYZdq{}Decorate a recursive function to print the call stack.}\n",
       "\n",
       "\\PY{l+s+sd}{    The decorator also keep tracks of the number and depth of a recursive call to print the call stack.}\n",
       "\n",
       "\\PY{l+s+sd}{    Parameters}\n",
       "\\PY{l+s+sd}{    \\PYZhy{}\\PYZhy{}\\PYZhy{}\\PYZhy{}\\PYZhy{}\\PYZhy{}\\PYZhy{}\\PYZhy{}\\PYZhy{}\\PYZhy{}}\n",
       "\\PY{l+s+sd}{    f: Callable}\n",
       "\\PY{l+s+sd}{        A recursive function.}\n",
       "\n",
       "\\PY{l+s+sd}{    Returns}\n",
       "\\PY{l+s+sd}{    \\PYZhy{}\\PYZhy{}\\PYZhy{}\\PYZhy{}\\PYZhy{}\\PYZhy{}\\PYZhy{}}\n",
       "\\PY{l+s+sd}{    Callable:}\n",
       "\\PY{l+s+sd}{        The decorated function that also prints the function call}\n",
       "\\PY{l+s+sd}{        when called.}\n",
       "\n",
       "\\PY{l+s+sd}{    Examples}\n",
       "\\PY{l+s+sd}{    \\PYZhy{}\\PYZhy{}\\PYZhy{}\\PYZhy{}\\PYZhy{}\\PYZhy{}\\PYZhy{}\\PYZhy{}}\n",
       "\\PY{l+s+sd}{    \\PYZgt{}\\PYZgt{}\\PYZgt{} @print\\PYZus{}function\\PYZus{}call}\n",
       "\\PY{l+s+sd}{    ... def fibonacci(n):}\n",
       "\\PY{l+s+sd}{    ...     return fibonacci(n \\PYZhy{} 1) + fibonacci(n \\PYZhy{} 2) if n \\PYZgt{} 1 else 1 if n == 1 else 0}\n",
       "\\PY{l+s+sd}{    ...}\n",
       "\\PY{l+s+sd}{    \\PYZgt{}\\PYZgt{}\\PYZgt{} fibonacci(5)}\n",
       "\\PY{l+s+sd}{      1:fibonacci(5)}\n",
       "\\PY{l+s+sd}{      2:|fibonacci(4)}\n",
       "\\PY{l+s+sd}{      3:||fibonacci(3)}\n",
       "\\PY{l+s+sd}{      4:|||fibonacci(2)}\n",
       "\\PY{l+s+sd}{      5:||||fibonacci(1)}\n",
       "\\PY{l+s+sd}{      6:||||fibonacci(0)}\n",
       "\\PY{l+s+sd}{      7:|||fibonacci(1)}\n",
       "\\PY{l+s+sd}{      8:||fibonacci(2)}\n",
       "\\PY{l+s+sd}{      9:|||fibonacci(1)}\n",
       "\\PY{l+s+sd}{     10:|||fibonacci(0)}\n",
       "\\PY{l+s+sd}{     11:|fibonacci(3)}\n",
       "\\PY{l+s+sd}{     12:||fibonacci(2)}\n",
       "\\PY{l+s+sd}{     13:|||fibonacci(1)}\n",
       "\\PY{l+s+sd}{     14:|||fibonacci(0)}\n",
       "\\PY{l+s+sd}{     15:||fibonacci(1)}\n",
       "\\PY{l+s+sd}{    Done}\n",
       "\\PY{l+s+sd}{    5}\n",
       "\\PY{l+s+sd}{    \\PYZdq{}\\PYZdq{}\\PYZdq{}}\n",
       "\n",
       "    \\PY{n+nd}{@functools}\\PY{o}{.}\\PY{n}{wraps}\\PY{p}{(}\\PY{n}{f}\\PY{p}{)}  \\PY{c+c1}{\\PYZsh{} give wrapper the identity of f and more}\n",
       "    \\PY{k}{def} \\PY{n+nf}{wrapper}\\PY{p}{(}\\PY{o}{*}\\PY{n}{args}\\PY{p}{,} \\PY{o}{*}\\PY{o}{*}\\PY{n}{kwargs}\\PY{p}{)}\\PY{p}{:}\n",
       "        \\PY{k}{nonlocal} \\PY{n}{count}\\PY{p}{,} \\PY{n}{depth}\n",
       "        \\PY{n}{count} \\PY{o}{+}\\PY{o}{=} \\PY{l+m+mi}{1}\n",
       "        \\PY{n}{depth} \\PY{o}{+}\\PY{o}{=} \\PY{l+m+mi}{1}\n",
       "        \\PY{n}{call} \\PY{o}{=} \\PY{l+s+s2}{\\PYZdq{}}\\PY{l+s+si}{\\PYZob{}\\PYZcb{}}\\PY{l+s+si}{\\PYZob{}\\PYZcb{}}\\PY{l+s+s2}{\\PYZdq{}}\\PY{o}{.}\\PY{n}{format}\\PY{p}{(}\\PY{n}{f}\\PY{o}{.}\\PY{n+nv+vm}{\\PYZus{}\\PYZus{}name\\PYZus{}\\PYZus{}}\\PY{p}{,} \\PY{n}{\\PYZus{}argument\\PYZus{}string}\\PY{p}{(}\\PY{o}{*}\\PY{n}{args}\\PY{p}{,} \\PY{o}{*}\\PY{o}{*}\\PY{n}{kwargs}\\PY{p}{)}\\PY{p}{)}\n",
       "        \\PY{n+nb}{print}\\PY{p}{(}\\PY{l+s+s2}{\\PYZdq{}}\\PY{l+s+si}{\\PYZob{}:\\PYZgt{}3\\PYZcb{}}\\PY{l+s+s2}{:}\\PY{l+s+si}{\\PYZob{}\\PYZcb{}}\\PY{l+s+si}{\\PYZob{}\\PYZcb{}}\\PY{l+s+s2}{\\PYZdq{}}\\PY{o}{.}\\PY{n}{format}\\PY{p}{(}\\PY{n}{count}\\PY{p}{,} \\PY{l+s+s2}{\\PYZdq{}}\\PY{l+s+s2}{|}\\PY{l+s+s2}{\\PYZdq{}} \\PY{o}{*} \\PY{n}{depth}\\PY{p}{,} \\PY{n}{call}\\PY{p}{)}\\PY{p}{)}\n",
       "\n",
       "        \\PY{n}{value} \\PY{o}{=} \\PY{n}{f}\\PY{p}{(}\\PY{o}{*}\\PY{n}{args}\\PY{p}{,} \\PY{o}{*}\\PY{o}{*}\\PY{n}{kwargs}\\PY{p}{)}  \\PY{c+c1}{\\PYZsh{} calls f}\n",
       "\n",
       "        \\PY{n}{depth} \\PY{o}{\\PYZhy{}}\\PY{o}{=} \\PY{l+m+mi}{1}\n",
       "        \\PY{k}{if} \\PY{n}{depth} \\PY{o}{==} \\PY{o}{\\PYZhy{}}\\PY{l+m+mi}{1}\\PY{p}{:}\n",
       "            \\PY{n+nb}{print}\\PY{p}{(}\\PY{l+s+s2}{\\PYZdq{}}\\PY{l+s+s2}{Done}\\PY{l+s+s2}{\\PYZdq{}}\\PY{p}{)}\n",
       "            \\PY{n}{count} \\PY{o}{=} \\PY{l+m+mi}{0}\n",
       "        \\PY{k}{return} \\PY{n}{value}\n",
       "\n",
       "    \\PY{n}{count}\\PY{p}{,} \\PY{n}{depth} \\PY{o}{=} \\PY{l+m+mi}{0}\\PY{p}{,} \\PY{o}{\\PYZhy{}}\\PY{l+m+mi}{1}\n",
       "    \\PY{k}{return} \\PY{n}{wrapper}  \\PY{c+c1}{\\PYZsh{} return the decorated function}\n",
       "\n",
       "\n",
       "\\PY{k}{def} \\PY{n+nf}{caching}\\PY{p}{(}\\PY{n}{f}\\PY{p}{)}\\PY{p}{:}\n",
       "\\PY{+w}{    }\\PY{l+s+sd}{\\PYZdq{}\\PYZdq{}\\PYZdq{}Cache the return value of a function that takes a single argument.}\n",
       "\n",
       "\\PY{l+s+sd}{    Parameters}\n",
       "\\PY{l+s+sd}{    \\PYZhy{}\\PYZhy{}\\PYZhy{}\\PYZhy{}\\PYZhy{}\\PYZhy{}\\PYZhy{}\\PYZhy{}\\PYZhy{}\\PYZhy{}}\n",
       "\\PY{l+s+sd}{    f: Callable}\n",
       "\\PY{l+s+sd}{        A function that takes a single argument.}\n",
       "\n",
       "\\PY{l+s+sd}{    Returns}\n",
       "\\PY{l+s+sd}{    \\PYZhy{}\\PYZhy{}\\PYZhy{}\\PYZhy{}\\PYZhy{}\\PYZhy{}\\PYZhy{}}\n",
       "\\PY{l+s+sd}{    Callable:}\n",
       "\\PY{l+s+sd}{        The function same as f but has its return valued automatically cached}\n",
       "\\PY{l+s+sd}{        when called. It has a method clear\\PYZus{}cache to clear its cache.}\n",
       "\n",
       "\\PY{l+s+sd}{    Examples}\n",
       "\\PY{l+s+sd}{    \\PYZhy{}\\PYZhy{}\\PYZhy{}\\PYZhy{}\\PYZhy{}\\PYZhy{}\\PYZhy{}\\PYZhy{}}\n",
       "\\PY{l+s+sd}{    \\PYZgt{}\\PYZgt{}\\PYZgt{} @print\\PYZus{}function\\PYZus{}call}\n",
       "\\PY{l+s+sd}{    ... @caching}\n",
       "\\PY{l+s+sd}{    ... def fibonacci(n):}\n",
       "\\PY{l+s+sd}{    ...     return fibonacci(n \\PYZhy{} 1) + fibonacci(n \\PYZhy{} 2) if n \\PYZgt{} 1 else 1 if n == 1 else 0}\n",
       "\\PY{l+s+sd}{    ...}\n",
       "\\PY{l+s+sd}{    \\PYZgt{}\\PYZgt{}\\PYZgt{} fibonacci(5)}\n",
       "\\PY{l+s+sd}{      1:fibonacci(5)}\n",
       "\\PY{l+s+sd}{      2:|fibonacci(4)}\n",
       "\\PY{l+s+sd}{      3:||fibonacci(3)}\n",
       "\\PY{l+s+sd}{      4:|||fibonacci(2)}\n",
       "\\PY{l+s+sd}{      5:||||fibonacci(1)}\n",
       "\\PY{l+s+sd}{      6:||||fibonacci(0)}\n",
       "\\PY{l+s+sd}{      7:|||fibonacci(1)}\n",
       "\\PY{l+s+sd}{    read from cache}\n",
       "\\PY{l+s+sd}{      8:||fibonacci(2)}\n",
       "\\PY{l+s+sd}{    read from cache}\n",
       "\\PY{l+s+sd}{      9:|fibonacci(3)}\n",
       "\\PY{l+s+sd}{    read from cache}\n",
       "\\PY{l+s+sd}{    Done}\n",
       "\\PY{l+s+sd}{    5}\n",
       "\\PY{l+s+sd}{    \\PYZgt{}\\PYZgt{}\\PYZgt{} fibonacci(5)}\n",
       "\\PY{l+s+sd}{      1:fibonacci(5)}\n",
       "\\PY{l+s+sd}{    read from cache}\n",
       "\\PY{l+s+sd}{    Done}\n",
       "\\PY{l+s+sd}{    5}\n",
       "\\PY{l+s+sd}{    \\PYZgt{}\\PYZgt{}\\PYZgt{} fibonacci.clear\\PYZus{}cache()}\n",
       "\\PY{l+s+sd}{    \\PYZgt{}\\PYZgt{}\\PYZgt{} fibonacci(5)}\n",
       "\\PY{l+s+sd}{      1:fibonacci(5)}\n",
       "\\PY{l+s+sd}{      2:|fibonacci(4)}\n",
       "\\PY{l+s+sd}{      3:||fibonacci(3)}\n",
       "\\PY{l+s+sd}{      4:|||fibonacci(2)}\n",
       "\\PY{l+s+sd}{      5:||||fibonacci(1)}\n",
       "\\PY{l+s+sd}{      6:||||fibonacci(0)}\n",
       "\\PY{l+s+sd}{      7:|||fibonacci(1)}\n",
       "\\PY{l+s+sd}{    read from cache}\n",
       "\\PY{l+s+sd}{      8:||fibonacci(2)}\n",
       "\\PY{l+s+sd}{    read from cache}\n",
       "\\PY{l+s+sd}{      9:|fibonacci(3)}\n",
       "\\PY{l+s+sd}{    read from cache}\n",
       "\\PY{l+s+sd}{    Done}\n",
       "\\PY{l+s+sd}{    5}\n",
       "\\PY{l+s+sd}{    \\PYZdq{}\\PYZdq{}\\PYZdq{}}\n",
       "\n",
       "    \\PY{n+nd}{@functools}\\PY{o}{.}\\PY{n}{wraps}\\PY{p}{(}\\PY{n}{f}\\PY{p}{)}\n",
       "    \\PY{k}{def} \\PY{n+nf}{wrapper}\\PY{p}{(}\\PY{n}{n}\\PY{p}{)}\\PY{p}{:}\n",
       "        \\PY{k}{if} \\PY{n}{n} \\PY{o+ow}{not} \\PY{o+ow}{in} \\PY{n}{cache}\\PY{p}{:}\n",
       "            \\PY{n}{cache}\\PY{p}{[}\\PY{n}{n}\\PY{p}{]} \\PY{o}{=} \\PY{n}{f}\\PY{p}{(}\\PY{n}{n}\\PY{p}{)}\n",
       "        \\PY{k}{else}\\PY{p}{:}\n",
       "            \\PY{n+nb}{print}\\PY{p}{(}\\PY{l+s+s2}{\\PYZdq{}}\\PY{l+s+s2}{read from cache}\\PY{l+s+s2}{\\PYZdq{}}\\PY{p}{)}\n",
       "        \\PY{k}{return} \\PY{n}{cache}\\PY{p}{[}\\PY{n}{n}\\PY{p}{]}\n",
       "\n",
       "    \\PY{n}{cache} \\PY{o}{=} \\PY{p}{\\PYZob{}}\\PY{p}{\\PYZcb{}}\n",
       "    \\PY{n}{wrapper}\\PY{o}{.}\\PY{n}{clear\\PYZus{}cache} \\PY{o}{=} \\PY{k}{lambda}\\PY{p}{:} \\PY{n}{cache}\\PY{o}{.}\\PY{n}{clear}\\PY{p}{(}\\PY{p}{)}  \\PY{c+c1}{\\PYZsh{} add method to clear cache}\n",
       "    \\PY{k}{return} \\PY{n}{wrapper}\n",
       "\\end{Verbatim}\n"
      ],
      "text/plain": [
       "'''\n",
       "Recursion Tools\n",
       "===============\n",
       "\n",
       "Contain tools to print the call stack and cache the return values\n",
       "of a recursive function.\n",
       "'''\n",
       "\n",
       "import functools\n",
       "\n",
       "\n",
       "def _argument_string(*args, **kwargs):\n",
       "    \"\"\"Return the string representation of the list of arguments.\"\"\"\n",
       "    return \"({})\".format(\n",
       "        \", \".join(\n",
       "            [\n",
       "                *[\"{!r}\".format(v) for v in args],  # arguments\n",
       "                *[\n",
       "                    \"{}={!r}\".format(k, v) for k, v in kwargs.items()\n",
       "                ],  # keyword arguments\n",
       "            ]\n",
       "        )\n",
       "    )\n",
       "\n",
       "\n",
       "def print_function_call(f):\n",
       "    \"\"\"Decorate a recursive function to print the call stack.\n",
       "\n",
       "    The decorator also keep tracks of the number and depth of a recursive call to print the call stack.\n",
       "\n",
       "    Parameters\n",
       "    ----------\n",
       "    f: Callable\n",
       "        A recursive function.\n",
       "\n",
       "    Returns\n",
       "    -------\n",
       "    Callable:\n",
       "        The decorated function that also prints the function call\n",
       "        when called.\n",
       "\n",
       "    Examples\n",
       "    --------\n",
       "    >>> @print_function_call\n",
       "    ... def fibonacci(n):\n",
       "    ...     return fibonacci(n - 1) + fibonacci(n - 2) if n > 1 else 1 if n == 1 else 0\n",
       "    ...\n",
       "    >>> fibonacci(5)\n",
       "      1:fibonacci(5)\n",
       "      2:|fibonacci(4)\n",
       "      3:||fibonacci(3)\n",
       "      4:|||fibonacci(2)\n",
       "      5:||||fibonacci(1)\n",
       "      6:||||fibonacci(0)\n",
       "      7:|||fibonacci(1)\n",
       "      8:||fibonacci(2)\n",
       "      9:|||fibonacci(1)\n",
       "     10:|||fibonacci(0)\n",
       "     11:|fibonacci(3)\n",
       "     12:||fibonacci(2)\n",
       "     13:|||fibonacci(1)\n",
       "     14:|||fibonacci(0)\n",
       "     15:||fibonacci(1)\n",
       "    Done\n",
       "    5\n",
       "    \"\"\"\n",
       "\n",
       "    @functools.wraps(f)  # give wrapper the identity of f and more\n",
       "    def wrapper(*args, **kwargs):\n",
       "        nonlocal count, depth\n",
       "        count += 1\n",
       "        depth += 1\n",
       "        call = \"{}{}\".format(f.__name__, _argument_string(*args, **kwargs))\n",
       "        print(\"{:>3}:{}{}\".format(count, \"|\" * depth, call))\n",
       "\n",
       "        value = f(*args, **kwargs)  # calls f\n",
       "\n",
       "        depth -= 1\n",
       "        if depth == -1:\n",
       "            print(\"Done\")\n",
       "            count = 0\n",
       "        return value\n",
       "\n",
       "    count, depth = 0, -1\n",
       "    return wrapper  # return the decorated function\n",
       "\n",
       "\n",
       "def caching(f):\n",
       "    \"\"\"Cache the return value of a function that takes a single argument.\n",
       "\n",
       "    Parameters\n",
       "    ----------\n",
       "    f: Callable\n",
       "        A function that takes a single argument.\n",
       "\n",
       "    Returns\n",
       "    -------\n",
       "    Callable:\n",
       "        The function same as f but has its return valued automatically cached\n",
       "        when called. It has a method clear_cache to clear its cache.\n",
       "\n",
       "    Examples\n",
       "    --------\n",
       "    >>> @print_function_call\n",
       "    ... @caching\n",
       "    ... def fibonacci(n):\n",
       "    ...     return fibonacci(n - 1) + fibonacci(n - 2) if n > 1 else 1 if n == 1 else 0\n",
       "    ...\n",
       "    >>> fibonacci(5)\n",
       "      1:fibonacci(5)\n",
       "      2:|fibonacci(4)\n",
       "      3:||fibonacci(3)\n",
       "      4:|||fibonacci(2)\n",
       "      5:||||fibonacci(1)\n",
       "      6:||||fibonacci(0)\n",
       "      7:|||fibonacci(1)\n",
       "    read from cache\n",
       "      8:||fibonacci(2)\n",
       "    read from cache\n",
       "      9:|fibonacci(3)\n",
       "    read from cache\n",
       "    Done\n",
       "    5\n",
       "    >>> fibonacci(5)\n",
       "      1:fibonacci(5)\n",
       "    read from cache\n",
       "    Done\n",
       "    5\n",
       "    >>> fibonacci.clear_cache()\n",
       "    >>> fibonacci(5)\n",
       "      1:fibonacci(5)\n",
       "      2:|fibonacci(4)\n",
       "      3:||fibonacci(3)\n",
       "      4:|||fibonacci(2)\n",
       "      5:||||fibonacci(1)\n",
       "      6:||||fibonacci(0)\n",
       "      7:|||fibonacci(1)\n",
       "    read from cache\n",
       "      8:||fibonacci(2)\n",
       "    read from cache\n",
       "      9:|fibonacci(3)\n",
       "    read from cache\n",
       "    Done\n",
       "    5\n",
       "    \"\"\"\n",
       "\n",
       "    @functools.wraps(f)\n",
       "    def wrapper(n):\n",
       "        if n not in cache:\n",
       "            cache[n] = f(n)\n",
       "        else:\n",
       "            print(\"read from cache\")\n",
       "        return cache[n]\n",
       "\n",
       "    cache = {}\n",
       "    wrapper.clear_cache = lambda: cache.clear()  # add method to clear cache\n",
       "    return wrapper"
      ]
     },
     "execution_count": 20,
     "metadata": {},
     "output_type": "execute_result"
    }
   ],
   "source": [
    "from IPython.display import Code\n",
    "\n",
    "Code(filename=\"recurtools.py\", language=\"python\")"
   ]
  },
  {
   "cell_type": "markdown",
   "metadata": {
    "ExecuteTime": {
     "end_time": "2021-02-26T04:56:24.058289Z",
     "start_time": "2021-02-26T04:56:24.047762Z"
    },
    "slideshow": {
     "slide_type": "-"
    }
   },
   "source": [
    "The module provides the decorators `print_function_call` and `caching` defined earlier."
   ]
  },
  {
   "cell_type": "code",
   "execution_count": 21,
   "metadata": {
    "ExecuteTime": {
     "end_time": "2021-02-26T04:56:27.699505Z",
     "start_time": "2021-02-26T04:56:27.696428Z"
    },
    "slideshow": {
     "slide_type": "-"
    }
   },
   "outputs": [],
   "source": [
    "import recurtools as rc\n",
    "\n",
    "@rc.print_function_call\n",
    "@rc.caching\n",
    "def factorial(n):\n",
    "    return factorial(n - 1) if n > 1 else 1"
   ]
  },
  {
   "cell_type": "code",
   "execution_count": 22,
   "metadata": {},
   "outputs": [
    {
     "name": "stdout",
     "output_type": "stream",
     "text": [
      "  1:factorial(5)\n",
      "  2:|factorial(4)\n",
      "  3:||factorial(3)\n",
      "  4:|||factorial(2)\n",
      "  5:||||factorial(1)\n",
      "Done\n",
      "  1:factorial(5)\n",
      "read from cache\n",
      "Done\n",
      "  1:factorial(5)\n",
      "  2:|factorial(4)\n",
      "  3:||factorial(3)\n",
      "  4:|||factorial(2)\n",
      "  5:||||factorial(1)\n",
      "Done\n"
     ]
    },
    {
     "data": {
      "text/plain": [
       "1"
      ]
     },
     "execution_count": 22,
     "metadata": {},
     "output_type": "execute_result"
    }
   ],
   "source": [
    "factorial(5)\n",
    "factorial(5)\n",
    "factorial.clear_cache()\n",
    "factorial(5)"
   ]
  },
  {
   "cell_type": "code",
   "execution_count": null,
   "metadata": {},
   "outputs": [],
   "source": []
  },
  {
   "cell_type": "code",
   "execution_count": null,
   "metadata": {},
   "outputs": [],
   "source": []
  }
 ],
 "metadata": {
  "celltoolbar": "Edit Metadata",
  "kernelspec": {
   "display_name": "Python 3 (ipykernel)",
   "language": "python",
   "name": "python3"
  },
  "language_info": {
   "codemirror_mode": {
    "name": "ipython",
    "version": 3
   },
   "file_extension": ".py",
   "mimetype": "text/x-python",
   "name": "python",
   "nbconvert_exporter": "python",
   "pygments_lexer": "ipython3",
   "version": "3.11.10"
  },
  "latex_envs": {
   "LaTeX_envs_menu_present": true,
   "autoclose": false,
   "autocomplete": true,
   "bibliofile": "biblio.bib",
   "cite_by": "apalike",
   "current_citInitial": 1,
   "eqLabelWithNumbers": true,
   "eqNumInitial": 1,
   "hotkeys": {
    "equation": "Ctrl-E",
    "itemize": "Ctrl-I"
   },
   "labels_anchors": false,
   "latex_user_defs": false,
   "report_style_numbering": false,
   "user_envs_cfg": false
  },
  "rise": {
   "enable_chalkboard": true,
   "scroll": true,
   "theme": "white"
  },
  "scenes_data": {
   "active_scene": "Default Scene",
   "init_scene": "",
   "scenes": [
    "Default Scene"
   ]
  },
  "toc": {
   "base_numbering": 1,
   "nav_menu": {
    "height": "195px",
    "width": "330px"
   },
   "number_sections": true,
   "sideBar": true,
   "skip_h1_title": true,
   "title_cell": "Table of Contents",
   "title_sidebar": "Contents",
   "toc_cell": false,
   "toc_position": {
    "height": "454.418px",
    "left": "1533px",
    "top": "110.284px",
    "width": "261px"
   },
   "toc_section_display": true,
   "toc_window_display": false
  }
 },
 "nbformat": 4,
 "nbformat_minor": 4
}
