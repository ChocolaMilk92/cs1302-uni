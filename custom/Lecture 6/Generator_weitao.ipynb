{
 "cells": [
  {
   "cell_type": "markdown",
   "metadata": {
    "cell_style": "center",
    "id": "pJQOMhm6HmOV"
   },
   "source": [
    "# Generator\n",
    "**CS1302 Introduction to Computer Programming**\n",
    "___"
   ]
  },
  {
   "cell_type": "code",
   "execution_count": 1,
   "metadata": {
    "id": "G1L_8rdGHmOY"
   },
   "outputs": [],
   "source": [
    "%reload_ext divewidgets"
   ]
  },
  {
   "cell_type": "markdown",
   "metadata": {
    "ExecuteTime": {
     "end_time": "2020-10-17T02:07:52.385258Z",
     "start_time": "2020-10-17T02:07:52.311358Z"
    },
    "id": "Uc9-nAxyHmOZ"
   },
   "source": [
    "Content\n",
    "* Recursion\n",
    "* Global variables\n",
    "* Generator\n",
    "\n",
    "ps. This lecture introduces some advanced topics and thus is more difficult than previous ones."
   ]
  },
  {
   "cell_type": "markdown",
   "metadata": {
    "id": "KPtQ803vHmOa"
   },
   "source": [
    "## Recursion"
   ]
  },
  {
   "cell_type": "markdown",
   "metadata": {
    "id": "BUIPKjacHmOb"
   },
   "source": [
    "Fibonacci number:\n",
    "0, 1, 1, 2, 3, 5, 8, 13, 21,....\n",
    "\n",
    "Consider computing the [Fibonacci number](https://en.wikipedia.org/wiki/Fibonacci_number) of order $n$:\n",
    "$$\n",
    "F_n := \n",
    "\\begin{cases}\n",
    "F_{n-1}+F_{n-2} & n>1 \\kern1em \\text{(recurrence)}\\\\\n",
    "1 & n=1 \\kern1em \\text{(base case)}\\\\\n",
    "0 & n=0 \\kern1em \\text{(base case)}.\n",
    "\\end{cases}$$\n",
    "Fibonacci numbers have practical applications in generating [pseudorandom numbers](https://en.wikipedia.org/wiki/Lagged_Fibonacci_generator)."
   ]
  },
  {
   "cell_type": "markdown",
   "metadata": {
    "id": "iuq321UoHmOb"
   },
   "source": [
    "**Can we define the function by calling the function itself?**\n",
    "\n",
    "[*Recursion*](https://en.wikipedia.org/wiki/Recursion_(computer_science)) is a function that calls itself (*recurs*).\n",
    "\n",
    "To be more specific, recursion is a method of solving a problem where the solution depends on solutions to smaller instances of the same problem"
   ]
  },
  {
   "cell_type": "code",
   "execution_count": 2,
   "metadata": {
    "ExecuteTime": {
     "end_time": "2021-03-01T02:16:49.395267Z",
     "start_time": "2021-03-01T02:16:49.317680Z"
    },
    "code_folding": [],
    "colab": {
     "referenced_widgets": [
      "8ba51701c4fe40fab4f3f65f030b7d3d"
     ]
    },
    "id": "YVyR1tdPHmOc",
    "outputId": "81d8ea6e-3fa6-4400-e8e9-4d9d27e3b87e"
   },
   "outputs": [
    {
     "data": {
      "text/plain": [
       "2"
      ]
     },
     "execution_count": 2,
     "metadata": {},
     "output_type": "execute_result"
    },
    {
     "data": {
      "application/vnd.jupyter.widget-view+json": {
       "model_id": "19d34f26c2ef4ec291d80593510af7ed",
       "version_major": 2,
       "version_minor": 0
      },
      "text/plain": [
       "OPTWidget(value=None, height=450, script='def fibonacci(n):\\n    if n > 1:\\n        return fibonacci(n - 1) + …"
      ]
     },
     "execution_count": 2,
     "metadata": {},
     "output_type": "execute_result"
    }
   ],
   "source": [
    "%%optlite -r -h 450\n",
    "def fibonacci(n):\n",
    "    if n > 1:\n",
    "        return fibonacci(n - 1) + fibonacci(n - 2)  # recursion\n",
    "    elif n == 1:\n",
    "        return 1\n",
    "    else:\n",
    "        return 0\n",
    "\n",
    "fibonacci(3)"
   ]
  },
  {
   "cell_type": "markdown",
   "metadata": {
    "id": "4euNeG8vHmOe"
   },
   "source": [
    "**Exercise** Write a function `gcd` that implements the [Euclidean algorithm for the greatest common divisor](https://en.wikipedia.org/wiki/Euclidean_algorithm): \n",
    "$$\\operatorname{gcd}(a,b)=\\begin{cases}a & b=0\\\\ \\operatorname{gcd}(b, a\\operatorname{mod}b) & \\text{otherwise} \\end{cases}$$"
   ]
  },
  {
   "cell_type": "code",
   "execution_count": 3,
   "metadata": {
    "ExecuteTime": {
     "end_time": "2021-02-26T04:21:36.555582Z",
     "start_time": "2021-02-26T04:21:36.547377Z"
    },
    "deletable": false,
    "id": "n4D7-tcUHmOf",
    "nbgrader": {
     "checksum": "ec4f43be2bfc949b381938650789fbd7",
     "grade": false,
     "grade_id": "gcd",
     "locked": false,
     "schema_version": 3,
     "solution": true,
     "task": false
    },
    "outputId": "ba3001fc-609e-45f2-e1c7-ed334cc14c78"
   },
   "outputs": [
    {
     "data": {
      "text/plain": [
       "5"
      ]
     },
     "execution_count": 3,
     "metadata": {},
     "output_type": "execute_result"
    }
   ],
   "source": [
    "def gcd(a, b):\n",
    "    # YOUR CODE HERE\n",
    "    if b==0:\n",
    "        return a\n",
    "    else:\n",
    "        return gcd(b, a%b) #recursion: call itself but with different parameters\n",
    "\n",
    "\n",
    "gcd(15, 35)"
   ]
  },
  {
   "cell_type": "markdown",
   "metadata": {
    "id": "jn2tfTKxHmOh"
   },
   "source": [
    "**Is recursion strictly necessary?**  \n",
    "\n",
    "No. We can always convert a recursion to an iteration.  "
   ]
  },
  {
   "cell_type": "markdown",
   "metadata": {
    "id": "i2eDpQ1IHmOj"
   },
   "source": [
    "E.g., the following computes the Fibonnacci number of order using a while loop instead."
   ]
  },
  {
   "cell_type": "code",
   "execution_count": 3,
   "metadata": {
    "ExecuteTime": {
     "end_time": "2021-03-01T02:26:08.759665Z",
     "start_time": "2021-03-01T02:26:08.747303Z"
    },
    "colab": {
     "referenced_widgets": [
      "ba60705f79fc4b858f35b65cce255be6"
     ]
    },
    "id": "tHZE79gWHmOk",
    "outputId": "cd3822e9-bd58-4f16-fb13-68263524b524"
   },
   "outputs": [
    {
     "data": {
      "text/plain": [
       "2"
      ]
     },
     "execution_count": 3,
     "metadata": {},
     "output_type": "execute_result"
    },
    {
     "data": {
      "application/vnd.jupyter.widget-view+json": {
       "model_id": "5af6a8fbc0154d88ae3184151e6e5c6f",
       "version_major": 2,
       "version_minor": 0
      },
      "text/plain": [
       "OPTWidget(value=None, height=550, script='def fibonacci_iteration(n):\\n    if n > 1:\\n        x, y = 0, 1  # n…"
      ]
     },
     "execution_count": 3,
     "metadata": {},
     "output_type": "execute_result"
    }
   ],
   "source": [
    "%%optlite -r -h 550\n",
    "def fibonacci_iteration(n):\n",
    "    if n > 1:\n",
    "        x, y = 0, 1  # next two Fibonacci numbers\n",
    "        while n > 1:\n",
    "            x, y, n = y, x + y, n - 1         \n",
    "        return y\n",
    "    elif n == 1:\n",
    "        return 1\n",
    "    else:\n",
    "        return 0\n",
    "    \n",
    "fibonacci_iteration(3)"
   ]
  },
  {
   "cell_type": "code",
   "execution_count": 4,
   "metadata": {
    "ExecuteTime": {
     "end_time": "2021-02-26T04:21:47.404596Z",
     "start_time": "2021-02-26T04:21:47.398317Z"
    },
    "id": "0r5VfmvzHmOl"
   },
   "outputs": [],
   "source": [
    "# more tests\n",
    "for n in range(5):\n",
    "    assert fibonacci(n) == fibonacci_iteration(n)"
   ]
  },
  {
   "cell_type": "markdown",
   "metadata": {
    "id": "azmvxPWNHmOm"
   },
   "source": [
    "In the example above, we have *x, y, n = y, x + y, n - 1*, is it equivalent to the code below?\n",
    "\n",
    "*x=y*\n",
    "\n",
    "*y=x+y*\n",
    "\n",
    "*n=n-1*\n",
    "\n",
    "The answer is NO"
   ]
  },
  {
   "cell_type": "code",
   "execution_count": 5,
   "metadata": {
    "ExecuteTime": {
     "end_time": "2021-03-01T02:28:12.797046Z",
     "start_time": "2021-03-01T02:28:12.777955Z"
    },
    "colab": {
     "referenced_widgets": [
      "6380bca2f5d64c3dbba68b34fe270fd0"
     ]
    },
    "id": "BqWv51vxHmOm",
    "outputId": "ae67b192-7fb6-4aae-baeb-cdba93fc15e1"
   },
   "outputs": [
    {
     "name": "stdout",
     "output_type": "stream",
     "text": [
      "a is 5 b is 5\n"
     ]
    },
    {
     "data": {
      "application/vnd.jupyter.widget-view+json": {
       "model_id": "755acf0a054f4d9fb337dc6beb7a3c89",
       "version_major": 2,
       "version_minor": 0
      },
      "text/plain": [
       "OPTWidget(value=None, height=550, script=\"#how can we exchange the value of two variables a and b? \\n#is the f…"
      ]
     },
     "execution_count": 5,
     "metadata": {},
     "output_type": "execute_result"
    }
   ],
   "source": [
    "%%optlite -r -h 550\n",
    "#how can we exchange the value of two variables a and b? \n",
    "#is the following code correct?\n",
    "a=1\n",
    "b=5\n",
    "\n",
    "a=b\n",
    "b=a\n",
    "\n",
    "print('a is',a,'b is', b)\n"
   ]
  },
  {
   "cell_type": "code",
   "execution_count": 6,
   "metadata": {
    "ExecuteTime": {
     "end_time": "2021-02-26T04:09:30.060257Z",
     "start_time": "2021-02-26T04:09:30.054810Z"
    },
    "colab": {
     "referenced_widgets": [
      "b03139b5176f44729d3929ee377460ef"
     ]
    },
    "id": "dxs5W5SYHmOn",
    "outputId": "aa55cfd4-55e5-4309-86d5-f8735d3973df",
    "scrolled": true
   },
   "outputs": [
    {
     "name": "stdout",
     "output_type": "stream",
     "text": [
      "a is 5 b is 1\n"
     ]
    },
    {
     "data": {
      "application/vnd.jupyter.widget-view+json": {
       "model_id": "9060621008bc4a26aa5e2072316673e6",
       "version_major": 2,
       "version_minor": 0
      },
      "text/plain": [
       "OPTWidget(value=None, height=650, script=\"#the following is the correct way to exchange two variables\\n#we nee…"
      ]
     },
     "execution_count": 6,
     "metadata": {},
     "output_type": "execute_result"
    }
   ],
   "source": [
    "%%optlite -r -h 650\n",
    "#the following is the correct way to exchange two variables\n",
    "#we need a temporary variable to store the value of a\n",
    "a=1\n",
    "b=5\n",
    "\n",
    "c=a\n",
    "a=b\n",
    "b=c\n",
    "\n",
    "print('a is',a,'b is', b)"
   ]
  },
  {
   "cell_type": "code",
   "execution_count": null,
   "metadata": {
    "ExecuteTime": {
     "end_time": "2021-03-01T02:32:26.294919Z",
     "start_time": "2021-03-01T02:32:26.276646Z"
    },
    "id": "xcwJclZIHmOn",
    "outputId": "2d4bc27e-2f70-4144-e5a0-22e3d7b0ee25"
   },
   "outputs": [
    {
     "name": "stdout",
     "output_type": "stream",
     "text": [
      "a is 5 b is 1\n",
      "x is 6 y is 1 z is 5\n"
     ]
    }
   ],
   "source": [
    "#can we make it simpler?\n",
    "a=1\n",
    "b=5\n",
    "\n",
    "a,b = b,a #in this way, we don't need temporary variable\n",
    "print('a is',a,'b is', b)\n",
    "\n",
    "#similarly, if we have three variables\n",
    "x=1\n",
    "y=5\n",
    "z=6\n",
    "\n",
    "x, y, z = z, x, y #in this way, we don't need temporary variable\n",
    "print('x is',x,'y is', y, 'z is', z)"
   ]
  },
  {
   "cell_type": "markdown",
   "metadata": {
    "id": "L-X6DvHIHmOo"
   },
   "source": [
    "**Exercise** \n",
    "\n",
    "We can always convert a recursion to an iteration. Why?\n",
    "\n",
    "```{hint}\n",
    "See the [recursion vs iteration](https://en.wikipedia.org/wiki/Recursion_(computer_science)#Recursion_versus_iteration).\n",
    "```"
   ]
  },
  {
   "cell_type": "markdown",
   "metadata": {
    "id": "trBlmZrQHmOo"
   },
   "source": [
    "```{admonition} Solution\n",
    "The step-by-step execution of the recursion is indeed how python implements a recursion as an iteration.\n",
    "```"
   ]
  },
  {
   "cell_type": "markdown",
   "metadata": {
    "id": "Q4BoQUtbHmOo"
   },
   "source": [
    "**Exercise** Implement `gcd_iteration` using a while loop instead of a recursion."
   ]
  },
  {
   "cell_type": "code",
   "execution_count": 8,
   "metadata": {
    "ExecuteTime": {
     "end_time": "2021-02-26T08:32:15.332435Z",
     "start_time": "2021-02-26T08:32:15.325829Z"
    },
    "code_folding": [],
    "colab": {
     "referenced_widgets": [
      "c025f2dae4874f298ca7e1a429e80839"
     ]
    },
    "deletable": false,
    "id": "w0jL1wuKHmOp",
    "nbgrader": {
     "checksum": "fc3821267797bd414aba328661086269",
     "grade": false,
     "grade_id": "gcd_iteration",
     "locked": false,
     "schema_version": 3,
     "solution": true,
     "task": false
    },
    "outputId": "8ad688fe-4c69-47c5-c7fe-7b3bc8fe6c8b"
   },
   "outputs": [
    {
     "data": {
      "text/plain": [
       "5"
      ]
     },
     "execution_count": 8,
     "metadata": {},
     "output_type": "execute_result"
    },
    {
     "data": {
      "application/vnd.jupyter.widget-view+json": {
       "model_id": "8e9309d4c9044e4297cb69697c025139",
       "version_major": 2,
       "version_minor": 0
      },
      "text/plain": [
       "OPTWidget(value=None, height=550, script='def gcd_iteration(a, b):\\n    # YOUR CODE HERE\\n    while b:\\n      …"
      ]
     },
     "execution_count": 8,
     "metadata": {},
     "output_type": "execute_result"
    }
   ],
   "source": [
    "%%optlite -r -h 550\n",
    "def gcd_iteration(a, b):\n",
    "    # YOUR CODE HERE\n",
    "    while b:\n",
    "        a, b =b, a % b\n",
    "    return a\n",
    "\n",
    "\n",
    "gcd_iteration(3 * 5, 5 * 7)"
   ]
  },
  {
   "cell_type": "markdown",
   "metadata": {
    "id": "r6I6_d08HmOp"
   },
   "source": [
    "**What are the benefits of recursion?**"
   ]
  },
  {
   "cell_type": "markdown",
   "metadata": {
    "id": "jHe7V_p9HmOp"
   },
   "source": [
    "- Recursion is often shorter and easier to understand.\n",
    "- It is also easier to write code by *wishful thinking* or *[declarative programming](https://en.wikipedia.org/wiki/Declarative_programming)* as supposed to [imperative programming](https://en.wikipedia.org/wiki/Imperative_programming)."
   ]
  },
  {
   "cell_type": "markdown",
   "metadata": {
    "id": "wL0eddKHHmOq"
   },
   "source": [
    "**Is recusion more efficient than iteration?**\n",
    "\n",
    "No, let's see the example below"
   ]
  },
  {
   "cell_type": "code",
   "execution_count": 7,
   "metadata": {
    "ExecuteTime": {
     "end_time": "2021-02-26T04:22:34.899392Z",
     "start_time": "2021-02-26T04:22:34.643181Z"
    },
    "deletable": false,
    "id": "2fQYNDdBHmOq",
    "outputId": "d4bb4707-0756-423d-9cca-b7bb810f8fe0"
   },
   "outputs": [
    {
     "name": "stdout",
     "output_type": "stream",
     "text": [
      "Running time of recursion:0.13329 seconds\n"
     ]
    }
   ],
   "source": [
    "import time  #import package time because we need to use time.time()\n",
    "n=30   #if the number is too large, it takes a while to run\n",
    "time1=time.time() #get the current system time\n",
    "fibonacci(n)\n",
    "time2=time.time() #get the current system time\n",
    "print('Running time of recursion:{:.5f} seconds'.format(time2-time1))"
   ]
  },
  {
   "cell_type": "code",
   "execution_count": 8,
   "metadata": {
    "ExecuteTime": {
     "end_time": "2021-02-26T04:22:40.282260Z",
     "start_time": "2021-02-26T04:22:40.275877Z"
    },
    "deletable": false,
    "id": "p9grFQTrHmOq",
    "outputId": "b9a3b57a-8720-4348-a9cf-1c07b4e0c2dc"
   },
   "outputs": [
    {
     "name": "stdout",
     "output_type": "stream",
     "text": [
      "Running time of iteration:0.00005 seconds\n"
     ]
    }
   ],
   "source": [
    "n=30\n",
    "time1=time.time() #get the current system time\n",
    "fibonacci_iteration(n)\n",
    "time2=time.time() #get the current system time\n",
    "print('Running time of iteration:{:.5f} seconds'.format(time2-time1))"
   ]
  },
  {
   "cell_type": "markdown",
   "metadata": {
    "id": "wzWH8QWxHmOr"
   },
   "source": [
    "To see why recursion is slow, we will modify `fibonacci` to print each function call as follows."
   ]
  },
  {
   "cell_type": "code",
   "execution_count": 7,
   "metadata": {
    "ExecuteTime": {
     "end_time": "2021-02-26T04:22:47.578837Z",
     "start_time": "2021-02-26T04:22:47.571658Z"
    },
    "id": "3RD9JmEEHmOr",
    "outputId": "b9e1e0ca-3b71-4685-b866-53aab719d02b"
   },
   "outputs": [
    {
     "name": "stdout",
     "output_type": "stream",
     "text": [
      "fibonacci(5)\n",
      "fibonacci(4)\n",
      "fibonacci(3)\n",
      "fibonacci(2)\n",
      "fibonacci(1)\n",
      "fibonacci(0)\n",
      "fibonacci(1)\n",
      "fibonacci(2)\n",
      "fibonacci(1)\n",
      "fibonacci(0)\n",
      "fibonacci(3)\n",
      "fibonacci(2)\n",
      "fibonacci(1)\n",
      "fibonacci(0)\n",
      "fibonacci(1)\n"
     ]
    },
    {
     "data": {
      "text/plain": [
       "5"
      ]
     },
     "execution_count": 7,
     "metadata": {},
     "output_type": "execute_result"
    }
   ],
   "source": [
    "#this function show how many functions are called in order to calculate fibonacci number of order n\n",
    "def fibonacci(n):\n",
    "    '''Returns the Fibonacci number of order n.'''\n",
    "    print('fibonacci({!r})'.format(n))  #everytime, we print the funtion called to calculate fibonacci(n)\n",
    "    return fibonacci(n - 1) + fibonacci(n - 2) if n > 1 else 1 if n == 1 else 0\n",
    "\n",
    "\n",
    "fibonacci(5)"
   ]
  },
  {
   "cell_type": "markdown",
   "metadata": {
    "id": "TtQlO2QnHmOr"
   },
   "source": [
    "There are many redundant computations. E.g.,, `fibonacci(3)` is called twice because\n",
    "\n",
    "- `fibonacci(5)` calls `fibonacci(4)` and `fibonacci(3)`.\n",
    "- `fibonacci(4)` then calls `fibonacci(3)` and `fibonacci(2)`."
   ]
  },
  {
   "cell_type": "markdown",
   "metadata": {
    "id": "uoozApK4HmOs"
   },
   "source": [
    "## Global Variables and Closures (chapter 8.1 in reference book)\n",
    "\n",
    "Actually, we already introduced global variables and local variables in Lecture 4: using functions. Now, we'll introduce more details.\n",
    "\n",
    "Local variable vs Global variable\n",
    "\n",
    "* A local variable is a variable declared inside a function. It can be only accessed inside a function.\n",
    "\n",
    "* A global variable is a variable declared outside of the function or in global scope. This means that a global variable can be accessed inside or outside of the function."
   ]
  },
  {
   "cell_type": "markdown",
   "metadata": {
    "id": "MNQdd-PaHmOs"
   },
   "source": [
    "Rules for [*global/local variables*](https://docs.python.org/3/faq/programming.html#what-are-the-rules-for-local-and-global-variables-in-python):\n",
    "1. A local variable must be defined within a function.\n",
    "1. An assignment defines a local variable except in a [`global` statement](https://docs.python.org/3/reference/simple_stmts.html#the-global-statement).\n",
    "\n",
    "Explanations about the two rules above.\n",
    "\n",
    "`global variables` are defined outside a function\n",
    "   - if we want to change its value in a function, we `must` use keyword ``global`` to declare it; otherwise, we just create a local variable\n",
    "   - otherwise, ``global`` is not necessary, but it's always a good habit to use ``global`` to decare global variables to make your code easy to read\n",
    "   \n",
    "See example below"
   ]
  },
  {
   "cell_type": "code",
   "execution_count": 11,
   "metadata": {
    "ExecuteTime": {
     "end_time": "2021-02-26T04:26:41.443117Z",
     "start_time": "2021-02-26T04:26:41.429796Z"
    },
    "id": "gayrgPmEHmOs",
    "outputId": "672de7ad-7d51-450f-88f6-44469a3d0202"
   },
   "outputs": [
    {
     "name": "stdout",
     "output_type": "stream",
     "text": [
      "10\n",
      "5\n"
     ]
    }
   ],
   "source": [
    "x=5  #x is a global variable\n",
    "\n",
    "def add_1():\n",
    "    #global x\n",
    "    x = 10 #this x is a local variable\n",
    "    return x\n",
    "\n",
    "print(add_1())\n",
    "\n",
    "print(x)"
   ]
  },
  {
   "cell_type": "code",
   "execution_count": 10,
   "metadata": {
    "ExecuteTime": {
     "end_time": "2021-02-26T04:27:00.272228Z",
     "start_time": "2021-02-26T04:27:00.267701Z"
    },
    "id": "mcIZ64K6HmOt",
    "outputId": "43aa62c3-71c5-414d-925b-04863033ce02"
   },
   "outputs": [
    {
     "name": "stdout",
     "output_type": "stream",
     "text": [
      "10\n",
      "10\n"
     ]
    }
   ],
   "source": [
    "x=5  #x is a global variable\n",
    "\n",
    "def add_1():\n",
    "    global x #if you want to use global variable x in a function, you must use global to delcare it\n",
    "    x= 10\n",
    "    return x\n",
    "\n",
    "print(add_1())\n",
    "print(x)"
   ]
  },
  {
   "cell_type": "markdown",
   "metadata": {
    "id": "GqEvmfMzHmOt"
   },
   "source": [
    "Then, the following code also uses global variable `x` in function `add_1()`, but doesn't use `global` to declare it, why it can be executed without any error?"
   ]
  },
  {
   "cell_type": "code",
   "execution_count": 12,
   "metadata": {
    "id": "AoWXxUqFHmOt",
    "outputId": "8dd14a2a-7945-4255-bbe8-0f30b95f08cc"
   },
   "outputs": [
    {
     "name": "stdout",
     "output_type": "stream",
     "text": [
      "6\n",
      "5\n"
     ]
    }
   ],
   "source": [
    "x=5  #x is a global variable\n",
    "\n",
    "def add_1():\n",
    "    #global x\n",
    "    y = x + 1\n",
    "    return y\n",
    "\n",
    "print(add_1())\n",
    "print(x)"
   ]
  },
  {
   "cell_type": "markdown",
   "metadata": {
    "id": "sOz3OSFnHmOu"
   },
   "source": [
    "This is because we don't change the value of global variable `x` (we didn't assign any values to `x`), so we don't need to declare it."
   ]
  },
  {
   "cell_type": "markdown",
   "metadata": {
    "deletable": false,
    "id": "OCkN7dseHmOu"
   },
   "source": [
    "**name collision**\n",
    "\n",
    "If a function defines a local variable with the same name as a global variable, the global variable become\n",
    "inaccessible to code within the function. We say the local variable `hides` the like-named global variable from\n",
    "code in the function’s body. ---page 235 of reference book"
   ]
  },
  {
   "cell_type": "code",
   "execution_count": null,
   "metadata": {
    "ExecuteTime": {
     "end_time": "2021-03-01T00:19:52.528900Z",
     "start_time": "2021-03-01T00:19:52.523116Z"
    },
    "id": "8pMQk7WLHmOv",
    "outputId": "2e54c8f6-4287-4580-d466-ab0300f15f0a"
   },
   "outputs": [
    {
     "name": "stdout",
     "output_type": "stream",
     "text": [
      "Local variable\n",
      "Global variable\n"
     ]
    }
   ],
   "source": [
    "#my_name is a global variable\n",
    "my_name='Global variable'   \n",
    "\n",
    "#in this function, my_name is a local variable, here the global variable will be ineffective\n",
    "def print_name():\n",
    "    my_name='Local variable'  #local variable will hide global variable if they have the same name\n",
    "    print(my_name)\n",
    "    \n",
    "print_name()            #this line will print local variable my_name\n",
    "print(my_name)          #this line will print global variable my_name"
   ]
  },
  {
   "cell_type": "markdown",
   "metadata": {
    "id": "74DJ3QVMHmOw"
   },
   "source": [
    "With global variables\n",
    "- codes are less predictable, more difficult to reuse/extend, and\n",
    "- tests cannot be isolated, making debugging difficult.\n",
    "- More disadvantages are explained on page 235-237 in reference book."
   ]
  },
  {
   "cell_type": "markdown",
   "metadata": {
    "id": "SWpf5hEFHmOw"
   },
   "source": [
    "**Nested function and Nonlocal variable**\n",
    "- A function defined inside another function is called a `nested function`. \n",
    "- Nested functions can access variables of the enclosing scope.\n",
    "\n",
    "In the following example, we can see that the nested `printer()` function is able to access the `non-local` msg variable of the enclosing function."
   ]
  },
  {
   "cell_type": "code",
   "execution_count": 9,
   "metadata": {
    "id": "3L_5UbNzHmOw",
    "outputId": "4b4e7b31-b809-4c95-efbc-1060dc7ba766"
   },
   "outputs": [
    {
     "name": "stdout",
     "output_type": "stream",
     "text": [
      "Hello\n",
      "CS1302\n"
     ]
    }
   ],
   "source": [
    "s=\"CS1302\" #this is a global variable\n",
    "\n",
    "def print_msg(msg):\n",
    "    # This is the outer enclosing function\n",
    "    s1=msg          #s1 is a nonlocal variable\n",
    "    def printer():\n",
    "        # This is the nested function\n",
    "        #nonlocal s1 #we need to use nonlocal to declare s1 in the inner function, if s1 is not assigned a new value, no need to decalre\n",
    "        global s\n",
    "        s2=s1       #s2 is a local variable\n",
    "        print(s2)\n",
    "        print(s)\n",
    "\n",
    "    printer()\n",
    "\n",
    "\n",
    "# We execute the function\n",
    "print_msg(\"Hello\")"
   ]
  },
  {
   "cell_type": "markdown",
   "metadata": {
    "id": "DQSiJSxbHmOx"
   },
   "source": [
    "`global variables` are defined outside a function\n",
    "   - if we use it in an assignment to change its value, we `must` use keyword ``global`` to declare it\n",
    "   - if we don't use assignment operator to change its value, we `don't need to` use keyword ``global`` to declare it"
   ]
  },
  {
   "cell_type": "markdown",
   "metadata": {
    "id": "yyc7F-aiHmOx"
   },
   "source": [
    "Similarly,\n",
    "\n",
    "`Nonlocal variables` are defined in the outer function\n",
    "   - if we use it in an assignment to change its value, we `must` use keyword ``nonlocal`` to declare it\n",
    "   - if we don't use assignment operator to change its value, we `don't need to` use keyword ``nonlocal`` to declare it\n",
    "  \n",
    "Global vs Local vs Nonlocal\n",
    "- More information can be found in this [page](https://www.programiz.com/python-programming/global-local-nonlocal-variables)"
   ]
  },
  {
   "cell_type": "code",
   "execution_count": 13,
   "metadata": {
    "id": "l9PLb_HBHmOx",
    "outputId": "56e31d4a-9cc6-43f7-ad9d-3af8dfce3946"
   },
   "outputs": [
    {
     "name": "stdout",
     "output_type": "stream",
     "text": [
      "2\n"
     ]
    }
   ],
   "source": [
    "def outer():\n",
    "    x = 1 #this x is a nonlocal variable\n",
    "    def inner():\n",
    "        y=x+1 # if we don't change its value, we don't need to use nonlocal to declare x\n",
    "        print(y)\n",
    "        \n",
    "    inner()\n",
    "\n",
    "\n",
    "outer()"
   ]
  },
  {
   "cell_type": "code",
   "execution_count": 14,
   "metadata": {
    "id": "OeKcCqKtHmOy"
   },
   "outputs": [
    {
     "name": "stdout",
     "output_type": "stream",
     "text": [
      "2\n"
     ]
    }
   ],
   "source": [
    "def outer():\n",
    "    x = 1 #this x is a nonlocal variable\n",
    "    def inner():\n",
    "        nonlocal x #if we want to change x's value in the inner function, we must use nonlocal to declare x\n",
    "        x=x+1\n",
    "        print(x)\n",
    "        \n",
    "    inner()\n",
    "\n",
    "\n",
    "outer()"
   ]
  },
  {
   "cell_type": "markdown",
   "metadata": {},
   "source": [
    "Note that inner function is defined in the outer function, and hence can't be called outside the outer function. It can only be called inside the outer function. Try the example below."
   ]
  },
  {
   "cell_type": "code",
   "execution_count": 11,
   "metadata": {},
   "outputs": [
    {
     "ename": "NameError",
     "evalue": "name 'inner' is not defined",
     "output_type": "error",
     "traceback": [
      "\u001b[0;31m---------------------------------------------------------------------------\u001b[0m",
      "\u001b[0;31mNameError\u001b[0m                                 Traceback (most recent call last)",
      "Cell \u001b[0;32mIn[11], line 9\u001b[0m\n\u001b[1;32m      5\u001b[0m         x\u001b[38;5;241m=\u001b[39mx\u001b[38;5;241m+\u001b[39m\u001b[38;5;241m1\u001b[39m\n\u001b[1;32m      6\u001b[0m         \u001b[38;5;28mprint\u001b[39m(x)\n\u001b[0;32m----> 9\u001b[0m \u001b[43minner\u001b[49m() \u001b[38;5;66;03m#leads to error because inner() is defined inside outer and can only be used in outer()\u001b[39;00m\n",
      "\u001b[0;31mNameError\u001b[0m: name 'inner' is not defined"
     ]
    }
   ],
   "source": [
    "def outer():\n",
    "    x = 1 #this x is a nonlocal variable\n",
    "    def inner():\n",
    "        nonlocal x #if we want to change x's value in the inner function, we must use nonlocal to declare x\n",
    "        x=x+1\n",
    "        print(x)\n",
    "\n",
    "\n",
    "inner() #leads to error because inner() is defined inside outer and can only be used in outer()"
   ]
  },
  {
   "cell_type": "markdown",
   "metadata": {
    "id": "8ykPsC_qHmOy"
   },
   "source": [
    "**Python Closures**\n",
    "\n",
    "In the example above, we have called the inner function inside the outer function. The inner function becomes a closure when we return the inner function instead of calling it.\n",
    "\n",
    "What happens if we don't call the inner function?\n",
    "- Run the code below to see the result"
   ]
  },
  {
   "cell_type": "code",
   "execution_count": 15,
   "metadata": {},
   "outputs": [],
   "source": [
    "#running this example doesn't print anything, because we don't call printer() inside print_msg()\n",
    "def print_msg(msg):\n",
    "    # This is the outer enclosing function\n",
    "    s1=msg          #s1 is a nonlocal variable\n",
    "    def printer():\n",
    "        # This is the nested function\n",
    "        nonlocal s1 #we need to use nonlocal to declare s1 in the inner function\n",
    "        s2=s1       #s2 is a local variable\n",
    "        print(s2)\n",
    "\n",
    "print_msg(\"Hello\")"
   ]
  },
  {
   "cell_type": "markdown",
   "metadata": {
    "id": "ZZvA6FZDHmOz"
   },
   "source": [
    "To solve this problem, we can create a `closure` in Python if\n",
    "\n",
    "- We have a nested function, i.e. function within a function\n",
    "- The nested function refers to a variable of the outer function\n",
    "- The enclosing function returns the enclosed function"
   ]
  },
  {
   "cell_type": "code",
   "execution_count": null,
   "metadata": {
    "id": "KcLdy4zLHmOz",
    "outputId": "f7aabc18-6e67-4900-8bfe-6d3ce832b836"
   },
   "outputs": [
    {
     "name": "stdout",
     "output_type": "stream",
     "text": [
      "Hello\n",
      "Hello\n"
     ]
    }
   ],
   "source": [
    "def print_msg(msg):\n",
    "    # This is the outer enclosing function\n",
    "    s1=msg          #s1 is a nonlocal variable\n",
    "    def printer():\n",
    "        # This is the nested function\n",
    "        nonlocal s1 #we need to use nonlocal to declare s1 in the inner function\n",
    "        s2=s1       #s2 is a local variable\n",
    "        print(s2)\n",
    "\n",
    "    return printer  #we return printer instead of executing it using printer()\n",
    "\n",
    "\n",
    "myFunction=print_msg(\"Hello\")\n",
    "myFunction()\n",
    "\n",
    "del print_msg  #even we delete print_msg, the value \"Hello\" is still remembered\n",
    "myFunction()"
   ]
  },
  {
   "cell_type": "code",
   "execution_count": null,
   "metadata": {
    "id": "RKJitJG2HmO0",
    "outputId": "b560908b-abcf-44d7-a8db-2c385c20f774"
   },
   "outputs": [
    {
     "name": "stdout",
     "output_type": "stream",
     "text": [
      "hello\n"
     ]
    },
    {
     "ename": "NameError",
     "evalue": "name 'str1' is not defined",
     "output_type": "error",
     "traceback": [
      "\u001b[0;31m---------------------------------------------------------------------------\u001b[0m",
      "\u001b[0;31mNameError\u001b[0m                                 Traceback (most recent call last)",
      "Cell \u001b[0;32mIn [22], line 5\u001b[0m\n\u001b[1;32m      2\u001b[0m \u001b[38;5;28mprint\u001b[39m(str1)\n\u001b[1;32m      4\u001b[0m \u001b[38;5;28;01mdel\u001b[39;00m str1\n\u001b[0;32m----> 5\u001b[0m \u001b[38;5;28mprint\u001b[39m(str1)\n",
      "\u001b[0;31mNameError\u001b[0m: name 'str1' is not defined"
     ]
    }
   ],
   "source": [
    "str1=\"hello\"\n",
    "print(str1)\n",
    "\n",
    "del str1\n",
    "print(str1)"
   ]
  },
  {
   "cell_type": "markdown",
   "metadata": {
    "id": "dYUGMoJ3HmO0"
   },
   "source": [
    "- Here, the call to outer function returns the inner function. This then gets assigned to ‘myFunction’. Now when we call myFunction, it prints ‘Hello’ (which was earlier given as an argument to outer).\n",
    "\n",
    "- Even after ‘outer’ finishes its execution and all its variables go out of scope, the value passed to its argument is still remembered.\n",
    "- This is the beauty of closures! We can access the values of a function that no longer exists. \n",
    "\n",
    "More information can be found [here](https://techvidvan.com/tutorials/closures-in-python/)"
   ]
  },
  {
   "cell_type": "markdown",
   "metadata": {
    "id": "wJJ9t1AJHmO0"
   },
   "source": [
    "**Function as data**\n",
    "\n",
    "We can treat function as data (int, string etc).\n",
    "- so a function name can be used as parameter\n",
    "- we can also return a function\n",
    "\n",
    "See example below"
   ]
  },
  {
   "cell_type": "code",
   "execution_count": null,
   "metadata": {
    "ExecuteTime": {
     "end_time": "2021-03-01T00:28:14.994846Z",
     "start_time": "2021-03-01T00:28:14.951713Z"
    },
    "id": "SPNT-jHEHmO1",
    "outputId": "73630958-2741-4cfb-c934-b3df57bbfa65"
   },
   "outputs": [
    {
     "name": "stdout",
     "output_type": "stream",
     "text": [
      "5\n",
      "6\n",
      "5\n",
      "6\n"
     ]
    }
   ],
   "source": [
    "#this example shows we can use funtion name as input parameters and return functions\n",
    "def add(x, y):\n",
    "    \"\"\"\n",
    "    Adds the parameters x and y and returns the result\n",
    "    \"\"\"\n",
    "    return x + y\n",
    "\n",
    "def multiply(x, y):\n",
    "    \"\"\"\n",
    "    Multiplies the parameters x and y and returns the result\n",
    "    \"\"\"\n",
    "    return x * y\n",
    "\n",
    "def evaluate(f, x, y):\n",
    "    \"\"\"\n",
    "    Calls the function f with parameters x and y:\n",
    "    f(x, y)\n",
    "    \"\"\"\n",
    "    return f(x,y)\n",
    "\n",
    "\n",
    "\"\"\"\n",
    "Tests the add, multiply, and evaluate functions\n",
    "\"\"\"\n",
    "print(add(2, 3))\n",
    "print(multiply(2, 3))\n",
    "print(evaluate(add, 2, 3))\n",
    "print(evaluate(multiply, 2, 3))"
   ]
  },
  {
   "cell_type": "markdown",
   "metadata": {
    "id": "FUS-z5WbHmO1"
   },
   "source": [
    "## Generator"
   ]
  },
  {
   "cell_type": "markdown",
   "metadata": {
    "id": "MYCKI5DwHmO1"
   },
   "source": [
    "We can use iteration/loop to generate a sequence of value. Another way to generate a sequence of value one-by-one is to write a *generator*.\n",
    "\n",
    "A **generator** is a programming object that produces (that is, generates) a sequence of values. ---page 280 in reference book\n",
    "\n",
    "How to create a generator?\n",
    "- method 1: use `generator_name=(iterable object)`\n",
    "- must be enclosed by parentheses ()"
   ]
  },
  {
   "cell_type": "code",
   "execution_count": 18,
   "metadata": {
    "ExecuteTime": {
     "end_time": "2021-02-26T04:29:28.396664Z",
     "start_time": "2021-02-26T04:29:28.389869Z"
    },
    "code_folding": [],
    "id": "t_m0WR8IHmO2",
    "outputId": "791ff95a-7341-4787-919d-55d5ff0a5b88"
   },
   "outputs": [
    {
     "name": "stdout",
     "output_type": "stream",
     "text": [
      "<class 'generator'>\n",
      "<class 'generator'>\n",
      "[0, 1, 2, 3, 4]\n",
      "0 1 2 3 4\n"
     ]
    }
   ],
   "source": [
    "fibonacci_generator = (fibonacci_iteration(n) for n in range(3))\n",
    "print(type(fibonacci_generator))\n",
    "\n",
    "#another example\n",
    "x=(i for i in range(5))\n",
    "print(type(x))\n",
    "\n",
    "print(list(range(5))) #convert range object to a list\n",
    "print(*range(5)) #use unpacking operator to unpack a range object"
   ]
  },
  {
   "cell_type": "code",
   "execution_count": 17,
   "metadata": {},
   "outputs": [
    {
     "ename": "SyntaxError",
     "evalue": "invalid syntax (3828263005.py, line 2)",
     "output_type": "error",
     "traceback": [
      "\u001b[0;36m  Cell \u001b[0;32mIn[17], line 2\u001b[0;36m\u001b[0m\n\u001b[0;31m    x= i for i in range(5)\u001b[0m\n\u001b[0m         ^\u001b[0m\n\u001b[0;31mSyntaxError\u001b[0m\u001b[0;31m:\u001b[0m invalid syntax\n"
     ]
    }
   ],
   "source": [
    "#what happens if there's no parentheses ()-->error\n",
    "x= i for i in range(5)\n",
    "print(type(x))"
   ]
  },
  {
   "cell_type": "markdown",
   "metadata": {
    "id": "jQrEXZI8HmO2"
   },
   "source": [
    "The above uses a [*generator expression*](https://docs.python.org/3/reference/expressions.html#grammar-token-generator-expression) to define `fibonacci_generator`."
   ]
  },
  {
   "cell_type": "markdown",
   "metadata": {
    "id": "H4BM2DWrHmO2"
   },
   "source": [
    "**How to obtain items from a generator?**"
   ]
  },
  {
   "cell_type": "markdown",
   "metadata": {
    "id": "I2bMl9SzHmO3"
   },
   "source": [
    "We can use the [`next` function](https://docs.python.org/3/library/functions.html#next).\n",
    "\n",
    "`next()`\n",
    "- it accepts a generator object and returns the next value in the generator’s sequence\n",
    "- we'll get an error if we ask the generator to provide a value after the final value in its sequence"
   ]
  },
  {
   "cell_type": "code",
   "execution_count": null,
   "metadata": {
    "ExecuteTime": {
     "end_time": "2021-02-26T04:29:39.261545Z",
     "start_time": "2021-02-26T04:29:39.253413Z"
    },
    "id": "QPqLmwLcHmO3",
    "outputId": "003ee2e2-4dcb-4157-e866-d92c6fdae07d"
   },
   "outputs": [
    {
     "name": "stdout",
     "output_type": "stream",
     "text": [
      "0\n",
      "1\n",
      "2\n",
      "3\n",
      "4\n"
     ]
    },
    {
     "ename": "StopIteration",
     "evalue": "",
     "output_type": "error",
     "traceback": [
      "\u001b[0;31m---------------------------------------------------------------------------\u001b[0m",
      "\u001b[0;31mStopIteration\u001b[0m                             Traceback (most recent call last)",
      "Cell \u001b[0;32mIn [25], line 7\u001b[0m\n\u001b[1;32m      5\u001b[0m \u001b[38;5;28mprint\u001b[39m(\u001b[38;5;28mnext\u001b[39m(x))  \u001b[38;5;66;03m#3\u001b[39;00m\n\u001b[1;32m      6\u001b[0m \u001b[38;5;28mprint\u001b[39m(\u001b[38;5;28mnext\u001b[39m(x))  \u001b[38;5;66;03m#4\u001b[39;00m\n\u001b[0;32m----> 7\u001b[0m \u001b[38;5;28mprint\u001b[39m(\u001b[38;5;28mnext\u001b[39m(x))\n",
      "\u001b[0;31mStopIteration\u001b[0m: "
     ]
    }
   ],
   "source": [
    "x=(i for i in range(5)) #0 1 2 3 4\n",
    "print(next(x))  #0\n",
    "print(next(x))  #1\n",
    "print(next(x))  #2\n",
    "print(next(x))  #3\n",
    "print(next(x))  #4\n",
    "print(next(x))   #raise an error cause there's no next value\n"
   ]
  },
  {
   "cell_type": "markdown",
   "metadata": {
    "id": "wSGONOTtHmO3"
   },
   "source": [
    "A generator object is [*iterable*](https://www.programiz.com/python-programming/iterator), i.e., it implements both `__iter__` and `__next__` methods that are automatically called in a `for` loop as well as the `next` function."
   ]
  },
  {
   "cell_type": "code",
   "execution_count": null,
   "metadata": {
    "ExecuteTime": {
     "end_time": "2021-02-26T04:30:26.003822Z",
     "start_time": "2021-02-26T04:30:25.999723Z"
    },
    "id": "_uDpm1W2HmO3",
    "outputId": "c5c30ffc-eaee-4a88-de95-64e3152fdf3a"
   },
   "outputs": [
    {
     "name": "stdout",
     "output_type": "stream",
     "text": [
      "0\n",
      "1\n",
      "2\n",
      "3\n",
      "4\n"
     ]
    }
   ],
   "source": [
    "x=(i for i in range(5)) #0 1 2 3 4\n",
    "#we can access the elements in a generator using for loop\n",
    "for i in x:\n",
    "    print(i)"
   ]
  },
  {
   "cell_type": "markdown",
   "metadata": {
    "id": "Ld-PJnvjHmO4"
   },
   "source": [
    "**Is `fibonacci_generator` efficient?**"
   ]
  },
  {
   "cell_type": "markdown",
   "metadata": {
    "id": "jQ78WN76HmO4"
   },
   "source": [
    "No again due to redundant computations.\n",
    "\n",
    "A better way to define the generator is to use the keyword [`yield`](https://docs.python.org/3/reference/expressions.html?highlight=yield#yield-expressions):"
   ]
  },
  {
   "cell_type": "code",
   "execution_count": 18,
   "metadata": {
    "ExecuteTime": {
     "end_time": "2021-03-01T00:37:31.695664Z",
     "start_time": "2021-03-01T00:37:31.690534Z"
    },
    "colab": {
     "referenced_widgets": [
      "2de61ef3a507421e9da04e07ab0f3156"
     ]
    },
    "id": "00UyGVrVHmO4",
    "outputId": "5a998e17-0398-49c4-b09a-314320d1d9af",
    "scrolled": true
   },
   "outputs": [
    {
     "data": {
      "application/vnd.jupyter.widget-view+json": {
       "model_id": "d66d3575e7f04299b591b9046b1a0c83",
       "version_major": 2,
       "version_minor": 0
      },
      "text/plain": [
       "OPTWidget(value=None, height=600, script='def fibonacci_sequence(Fn, Fn1, stop):\\n    while Fn < stop:\\n      …"
      ]
     },
     "execution_count": 18,
     "metadata": {},
     "output_type": "execute_result"
    }
   ],
   "source": [
    "%%optlite -h 600\n",
    "def fibonacci_sequence(Fn, Fn1, stop):\n",
    "    while Fn < stop:\n",
    "        yield Fn  # return Fn and pause execution\n",
    "        Fn, Fn1 = Fn1, Fn1 + Fn\n",
    "\n",
    "for fib in fibonacci_sequence(0, 1, 5):\n",
    "    print(fib)"
   ]
  },
  {
   "cell_type": "markdown",
   "metadata": {
    "id": "SaaQ7cYHHmO5"
   },
   "source": [
    "```{important}\n",
    "\n",
    "1. `yield` causes the function to return a *generator* without executing the function body.\n",
    "1. Calling `__next__` resumes the execution, which \n",
    "    - pauses at the next `yield` expression, or\n",
    "    - raises the `StopIterationException` at the end.\n",
    "```"
   ]
  },
  {
   "cell_type": "markdown",
   "metadata": {
    "id": "zM3kUBdQHmO5"
   },
   "source": [
    "```{important}\n",
    "\n",
    "return vs yield\n",
    "- `return` will return the data and terminate a function immediately\n",
    "- `yield` just pauses the function, and will continue from there in next function call \n",
    "```"
   ]
  },
  {
   "cell_type": "code",
   "execution_count": 19,
   "metadata": {
    "id": "Tczf39VwHmO5",
    "outputId": "8cedce0d-8041-4309-f22d-860ee5d351e1"
   },
   "outputs": [
    {
     "name": "stdout",
     "output_type": "stream",
     "text": [
      "This is printed first\n"
     ]
    },
    {
     "data": {
      "text/plain": [
       "1"
      ]
     },
     "execution_count": 19,
     "metadata": {},
     "output_type": "execute_result"
    }
   ],
   "source": [
    "#a normal function\n",
    "def my_gen():\n",
    "    n = 1\n",
    "    print('This is printed first')\n",
    "    return n # function will stop here, because return statement returns a value and terminate the function immediately\n",
    "\n",
    "    n += 1\n",
    "    print('This is printed second')\n",
    "    return n\n",
    "\n",
    "    n += 1\n",
    "    print('This is printed at last')\n",
    "    return n\n",
    "\n",
    "#run this function\n",
    "my_gen()"
   ]
  },
  {
   "cell_type": "code",
   "execution_count": 20,
   "metadata": {
    "id": "bNcczXh9HmO5",
    "outputId": "8dc339ee-07ea-4e5c-ff0c-c14d59057804"
   },
   "outputs": [
    {
     "name": "stdout",
     "output_type": "stream",
     "text": [
      "This is printed first\n",
      "1\n",
      "This is printed second\n",
      "2\n",
      "This is printed at last\n",
      "3\n"
     ]
    }
   ],
   "source": [
    "# A simple generator function\n",
    "def my_gen():\n",
    "    n = 1\n",
    "    print('This is printed first')\n",
    "    # Generator function contains yield statements\n",
    "    yield n\n",
    "\n",
    "    n += 1\n",
    "    print('This is printed second')\n",
    "    yield n\n",
    "\n",
    "    n += 1\n",
    "    print('This is printed at last')\n",
    "    yield n\n",
    "\n",
    "\n",
    "# Using for loop\n",
    "for item in my_gen():\n",
    "    print(item)"
   ]
  },
  {
   "cell_type": "code",
   "execution_count": null,
   "metadata": {
    "id": "GRA7KE8vHmO6",
    "outputId": "e750a931-4958-4cdf-a289-19796a1e4e96"
   },
   "outputs": [
    {
     "name": "stdout",
     "output_type": "stream",
     "text": [
      "This is printed first\n",
      "1\n",
      "This is printed second\n",
      "2\n",
      "This is printed at last\n",
      "3\n"
     ]
    }
   ],
   "source": [
    "#A simple generator function\n",
    "def my_gen():\n",
    "    n = 1\n",
    "    print('This is printed first')\n",
    "    # Generator function contains yield statements\n",
    "    yield n\n",
    "\n",
    "    n += 1\n",
    "    print('This is printed second')\n",
    "    yield n\n",
    "\n",
    "    n += 1\n",
    "    print('This is printed at last')\n",
    "    yield n\n",
    "    \n",
    "#we can use next() to replace for loop to continue to the next yield expression\n",
    "\n",
    "#it returns a generator object, but doesn't start execution immediately\n",
    "a=my_gen()\n",
    "#we can get all the numbers using next()\n",
    "value=next(a)\n",
    "print(value)\n",
    "# once the function yields, the function is paused and the control is transferred to the caller.\n",
    "# local variables and their states are remembered between successive calls\n",
    "value=next(a)\n",
    "print(value)\n",
    "value=next(a)\n",
    "print(value)"
   ]
  },
  {
   "cell_type": "markdown",
   "metadata": {
    "id": "YLM0Q_FiHmO6"
   },
   "source": [
    "So far, a generator can only generate some data, can it receive data?\n",
    "- Yes, we can use send() function\n",
    "\n",
    "send() function can send a value to a generator\n",
    "- The send() method returns `the next value yielded by the generator`, or raises `StopIteration` if the generator exits without yielding another value. \n",
    "- When send() is called to start the generator, it must be called with `None` as the argument, because there is no yield expression that could receive the value."
   ]
  },
  {
   "cell_type": "code",
   "execution_count": null,
   "metadata": {
    "id": "vddF1kRLHmO7",
    "outputId": "33004423-a44f-442a-ae90-f4f480157290"
   },
   "outputs": [
    {
     "name": "stdout",
     "output_type": "stream",
     "text": [
      "I generate: 1\n",
      "I received the first number: 100\n",
      "I generate: 2\n",
      "I received the second number: 200\n",
      "I generate: 3\n",
      "I received the third number: 300\n"
     ]
    },
    {
     "ename": "StopIteration",
     "evalue": "",
     "output_type": "error",
     "traceback": [
      "\u001b[0;31m---------------------------------------------------------------------------\u001b[0m",
      "\u001b[0;31mStopIteration\u001b[0m                             Traceback (most recent call last)",
      "Cell \u001b[0;32mIn [38], line 27\u001b[0m\n\u001b[1;32m     24\u001b[0m \u001b[38;5;28mprint\u001b[39m(\u001b[38;5;124m\"\u001b[39m\u001b[38;5;124mI generate:\u001b[39m\u001b[38;5;124m\"\u001b[39m,generated_value)\n\u001b[1;32m     26\u001b[0m \u001b[38;5;66;03m#this send() will cause error because there's no more yield expression\u001b[39;00m\n\u001b[0;32m---> 27\u001b[0m generated_value\u001b[38;5;241m=\u001b[39ma\u001b[38;5;241m.\u001b[39msend(\u001b[38;5;241m300\u001b[39m)\n",
      "\u001b[0;31mStopIteration\u001b[0m: "
     ]
    }
   ],
   "source": [
    "def my_gen():\n",
    "    n=1\n",
    "    received_value=yield n #this is how we receive data\n",
    "    print(\"I received the first number:\",received_value)\n",
    "    \n",
    "    n=n+1\n",
    "    received_value=yield n\n",
    "    print(\"I received the second number:\", received_value)\n",
    "    \n",
    "    n=n+1\n",
    "    received_value=yield n\n",
    "    print(\"I received the third number:\", received_value)\n",
    "    \n",
    "    \n",
    "a=my_gen()\n",
    "\n",
    "generated_value=next(a)\n",
    "print(\"I generate:\", generated_value)\n",
    "\n",
    "generated_value=a.send(100)\n",
    "print(\"I generate:\",generated_value)\n",
    "\n",
    "generated_value=a.send(200)\n",
    "print(\"I generate:\",generated_value)\n",
    "\n",
    "#this send() will cause error because there's no more yield expression\n",
    "generated_value=a.send(300)\n"
   ]
  },
  {
   "cell_type": "markdown",
   "metadata": {
    "id": "azZ2zNKhHmO7"
   },
   "source": [
    "**Exercise** `yield` can be both a statement and an expression. As an expression: \n",
    "- The value of a `yield` expression is `None` by default, but \n",
    "- it can be set by the `generator.send` method.\n",
    "\n",
    "Add the document string to the following function. In particular, explain the effect of calling the method `send` on the returned generator."
   ]
  },
  {
   "cell_type": "code",
   "execution_count": null,
   "metadata": {
    "id": "FB1mFniuHmO7"
   },
   "outputs": [],
   "source": [
    "def fibonacci_sequence(Fn, Fnn, stop):\n",
    "    # YOUR CODE HERE\n",
    "    raise NotImplementedError()\n",
    "    while Fn < stop:\n",
    "        value = yield Fn\n",
    "        if value is not None:\n",
    "            Fnn = value  # set next number to the value of yield expression\n",
    "        Fn, Fnn = Fnn, Fnn + Fn\n",
    "\n",
    "\n",
    "fibonacci_generator = fibonacci_sequence(0, 1, 5)\n",
    "print(next(fibonacci_generator))\n",
    "print(fibonacci_generator.send(2))\n",
    "for fib in fibonacci_generator:\n",
    "    print(fib)"
   ]
  },
  {
   "cell_type": "code",
   "execution_count": null,
   "metadata": {
    "id": "7Qh3QqArHmO8"
   },
   "outputs": [],
   "source": [
    "#answer to the above question\n",
    "\n",
    "def fibonacci_sequence(Fn, Fnn, stop):\n",
    "    ### BEGIN SOLUTION\n",
    "    \"\"\"Return a generator that generates Fibonacci numbers\n",
    "    starting from Fn and Fnn to stop (exclusive).\n",
    "    generator.send(value) sets and returns the next number as value.\"\"\"\n",
    "    ### END SOLUTION\n",
    "    while Fn < stop:\n",
    "        value = yield Fn\n",
    "        if value is not None:\n",
    "            Fnn = value  # set next number to the value of yield expression\n",
    "        Fn, Fnn = Fnn, Fnn + Fn\n",
    "\n",
    "\n",
    "fibonacci_generator = fibonacci_sequence(0, 1, 5)\n",
    "print(next(fibonacci_generator))\n",
    "print(fibonacci_generator.send(2))\n",
    "for fib in fibonacci_generator:\n",
    "    print(fib)"
   ]
  },
  {
   "cell_type": "markdown",
   "metadata": {
    "id": "-HZhVpnfHmO8"
   },
   "source": [
    "### A short Summary  (more information in Chapter 8.8)\n",
    "\n",
    "1. What is recursion and how to use recursion (Important! Must be tested in final exam)\n",
    "\n",
    "2. Global variables and closure\n",
    "\n",
    "3. What's a generator (Important! Must be tested in final exam)\n",
    "   - A generator is a programming object that produces (that is, generates) a sequence of values\n",
    "4. How to create a generator\n",
    "    - using `(iterable object)`\n",
    "    - use `yield` expression\n",
    "5. How to obtain the elements in generator?\n",
    "    - use `next()`\n",
    "    - use `for` loop\n",
    "6. How to use `send()` function\n",
    "\n",
    "More tutorials about Generator can be found [here](https://www.programiz.com/python-programming/generator)"
   ]
  },
  {
   "cell_type": "code",
   "execution_count": null,
   "metadata": {
    "id": "945HdzD_HmO8"
   },
   "outputs": [],
   "source": []
  }
 ],
 "metadata": {
  "celltoolbar": "Edit Metadata",
  "colab": {
   "provenance": []
  },
  "kernelspec": {
   "display_name": "Python 3 (ipykernel)",
   "language": "python",
   "name": "python3"
  },
  "language_info": {
   "codemirror_mode": {
    "name": "ipython",
    "version": 3
   },
   "file_extension": ".py",
   "mimetype": "text/x-python",
   "name": "python",
   "nbconvert_exporter": "python",
   "pygments_lexer": "ipython3",
   "version": "3.11.10"
  },
  "latex_envs": {
   "LaTeX_envs_menu_present": true,
   "autoclose": false,
   "autocomplete": true,
   "bibliofile": "biblio.bib",
   "cite_by": "apalike",
   "current_citInitial": 1,
   "eqLabelWithNumbers": true,
   "eqNumInitial": 1,
   "hotkeys": {
    "equation": "Ctrl-E",
    "itemize": "Ctrl-I"
   },
   "labels_anchors": false,
   "latex_user_defs": false,
   "report_style_numbering": false,
   "user_envs_cfg": false
  },
  "rise": {
   "enable_chalkboard": true,
   "scroll": true,
   "theme": "white"
  },
  "scenes_data": {
   "active_scene": "Default Scene",
   "init_scene": "",
   "scenes": [
    "Default Scene"
   ]
  },
  "toc": {
   "base_numbering": 1,
   "nav_menu": {
    "height": "195px",
    "width": "330px"
   },
   "number_sections": true,
   "sideBar": true,
   "skip_h1_title": true,
   "title_cell": "Table of Contents",
   "title_sidebar": "Contents",
   "toc_cell": false,
   "toc_position": {
    "height": "454.418px",
    "left": "1533px",
    "top": "110.284px",
    "width": "261px"
   },
   "toc_section_display": true,
   "toc_window_display": false
  }
 },
 "nbformat": 4,
 "nbformat_minor": 4
}
