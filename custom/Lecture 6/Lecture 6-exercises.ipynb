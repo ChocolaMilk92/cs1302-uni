{
 "cells": [
  {
   "cell_type": "markdown",
   "metadata": {},
   "source": [
    "### Exercises"
   ]
  },
  {
   "cell_type": "markdown",
   "metadata": {},
   "source": [
    "(1) Write a function `gcd_recursion()` that implements the [Euclidean algorithm for the greatest common divisor](https://en.wikipedia.org/wiki/Euclidean_algorithm): \n",
    "$$\\operatorname{gcd}(a,b)=\\begin{cases}a & b=0\\\\ \\operatorname{gcd}(b, a\\operatorname{mod}b) & \\text{otherwise} \\end{cases}$$"
   ]
  },
  {
   "cell_type": "code",
   "execution_count": 2,
   "metadata": {},
   "outputs": [
    {
     "ename": "IndentationError",
     "evalue": "expected an indented block after function definition on line 1 (2488525927.py, line 5)",
     "output_type": "error",
     "traceback": [
      "\u001b[0;36m  Cell \u001b[0;32mIn [2], line 5\u001b[0;36m\u001b[0m\n\u001b[0;31m    print(gcd_recursion(15, 35)) #the result should be 5\u001b[0m\n\u001b[0m    ^\u001b[0m\n\u001b[0;31mIndentationError\u001b[0m\u001b[0;31m:\u001b[0m expected an indented block after function definition on line 1\n"
     ]
    }
   ],
   "source": [
    "def gcd_recursion(a, b):\n",
    "    # YOUR CODE HERE\n",
    "    \n",
    "\n",
    "print(gcd_recursion(15, 35)) #the result should be 5"
   ]
  },
  {
   "cell_type": "markdown",
   "metadata": {},
   "source": [
    "(2) Convert the above function to be iteration"
   ]
  },
  {
   "cell_type": "code",
   "execution_count": 3,
   "metadata": {},
   "outputs": [
    {
     "ename": "IndentationError",
     "evalue": "expected an indented block after function definition on line 1 (846025692.py, line 5)",
     "output_type": "error",
     "traceback": [
      "\u001b[0;36m  Cell \u001b[0;32mIn [3], line 5\u001b[0;36m\u001b[0m\n\u001b[0;31m    print(gcd_iteration(3 * 5, 5 * 7))\u001b[0m\n\u001b[0m    ^\u001b[0m\n\u001b[0;31mIndentationError\u001b[0m\u001b[0;31m:\u001b[0m expected an indented block after function definition on line 1\n"
     ]
    }
   ],
   "source": [
    "def gcd_iteration(a, b):\n",
    "    # YOUR CODE HERE\n",
    "\n",
    "\n",
    "print(gcd_iteration(3 * 5, 5 * 7))"
   ]
  },
  {
   "cell_type": "markdown",
   "metadata": {},
   "source": [
    "(3) Complete the following lambda expression which returns `odd` if the input value is a odd number and `even` if the input value is an even number. "
   ]
  },
  {
   "cell_type": "code",
   "execution_count": null,
   "metadata": {
    "ExecuteTime": {
     "end_time": "2021-02-06T12:22:32.827169Z",
     "start_time": "2021-02-06T12:22:32.819839Z"
    }
   },
   "outputs": [],
   "source": [
    "y = lambda ___________\n",
    "\n",
    "print(y(4)) #this should print even\n",
    "print(y(5)) #this should print odd"
   ]
  },
  {
   "cell_type": "markdown",
   "metadata": {},
   "source": [
    "(4) Write a function `harmonic_sum(n)` to calculate the harmonic sum of `n`.\n",
    "\n",
    "Note: The harmonic sum is the sum of reciprocals of the positive integers.\n",
    "\n",
    "$1+\\frac{1}{2}+\\frac{1}{3}+\\frac{1}{4}+\\cdots+\\frac{1}{n}$\n",
    "\n",
    "In other words,\n",
    "\n",
    "harmonic_sum(1) = 1\n",
    "\n",
    "harmonic_sum(2) = $1 + \\frac{1}{2}$\n",
    "\n",
    "harmonic_sum(3) = $1 + \\frac{1}{2} + \\frac{1}{3}$\n",
    "\n",
    "..."
   ]
  },
  {
   "cell_type": "code",
   "execution_count": null,
   "metadata": {},
   "outputs": [],
   "source": [
    "def harmonic_sum(n):\n",
    "    #YOUR CODE HERE\n",
    "    \n",
    "\n",
    "print(harmonic_sum(1)) #the result should be 1\n",
    "print(harmonic_sum(2)) #the result should be 1.5\n",
    "print(harmonic_sum(3)) #the result should be 1.8333333333333333\n",
    "print(harmonic_sum(6)) #the result should be 2.4499999999999997"
   ]
  },
  {
   "cell_type": "markdown",
   "metadata": {},
   "source": [
    "(5) Write a function `fibonacci_numbers(n)` that uses generator to generate a sequence of fibonacci numbers up to fibonacci number Fn. \n",
    "\n",
    "For example, \n",
    "```\n",
    "fibonacci_numbers(0) should generate 0\n",
    "fibonacci_numbers(1) should generate 0,1\n",
    "fibonacci_numbers(2) should generate 0,1,1\n",
    "fibonacci_numbers(3) should generate 0,1,1,2\n",
    "fibonacci_numbers(4) should generate 0,1,1,2,3\n",
    "```"
   ]
  },
  {
   "cell_type": "code",
   "execution_count": null,
   "metadata": {},
   "outputs": [],
   "source": [
    "def fibonacci_numbers(n):\n",
    "    #YOUR CODE HERE\n",
    "        \n",
    "for i in fibonacci_numbers(4): #this should print 0 1 1 2 3 in each row\n",
    "    print(i)\n",
    "    \n"
   ]
  },
  {
   "cell_type": "code",
   "execution_count": null,
   "metadata": {},
   "outputs": [],
   "source": []
  }
 ],
 "metadata": {
  "kernelspec": {
   "display_name": "Python 3 (ipykernel)",
   "language": "python",
   "name": "python3"
  },
  "language_info": {
   "codemirror_mode": {
    "name": "ipython",
    "version": 3
   },
   "file_extension": ".py",
   "mimetype": "text/x-python",
   "name": "python",
   "nbconvert_exporter": "python",
   "pygments_lexer": "ipython3",
   "version": "3.11.10"
  },
  "latex_envs": {
   "LaTeX_envs_menu_present": true,
   "autoclose": false,
   "autocomplete": true,
   "bibliofile": "biblio.bib",
   "cite_by": "apalike",
   "current_citInitial": 1,
   "eqLabelWithNumbers": true,
   "eqNumInitial": 1,
   "hotkeys": {
    "equation": "Ctrl-E",
    "itemize": "Ctrl-I"
   },
   "labels_anchors": false,
   "latex_user_defs": false,
   "report_style_numbering": false,
   "user_envs_cfg": false
  },
  "scenes_data": {
   "active_scene": "Default Scene",
   "init_scene": "",
   "scenes": [
    "Default Scene"
   ]
  },
  "toc": {
   "base_numbering": 1,
   "nav_menu": {},
   "number_sections": true,
   "sideBar": true,
   "skip_h1_title": false,
   "title_cell": "Table of Contents",
   "title_sidebar": "Contents",
   "toc_cell": false,
   "toc_position": {},
   "toc_section_display": true,
   "toc_window_display": false
  }
 },
 "nbformat": 4,
 "nbformat_minor": 4
}
