{
 "cells": [
  {
   "cell_type": "code",
   "execution_count": 3,
   "metadata": {},
   "outputs": [],
   "source": [
    "from __init__ import install_dependencies\n",
    "\n",
    "await install_dependencies()"
   ]
  },
  {
   "cell_type": "code",
   "execution_count": 4,
   "metadata": {},
   "outputs": [],
   "source": [
    "from manim import *\n",
    "\n",
    "%reload_ext divewidgets"
   ]
  },
  {
   "cell_type": "markdown",
   "metadata": {
    "cell_style": "center",
    "slideshow": {
     "slide_type": "slide"
    }
   },
   "source": [
    "# Objects\n",
    "**CS1302 Introduction to Computer Programming**\n",
    "___"
   ]
  },
  {
   "cell_type": "markdown",
   "metadata": {},
   "source": [
    "## Definitions"
   ]
  },
  {
   "cell_type": "markdown",
   "metadata": {
    "slideshow": {
     "slide_type": "subslide"
    }
   },
   "source": [
    "```{important}\n",
    "\n",
    "Python is a [*class-based* object-oriented programming (OOP)](https://en.wikipedia.org/wiki/Object-oriented_programming#Class-based_vs_prototype-based) language:  \n",
    "- Each object is an instance of a *class/type*, which can be a *subclass* of one or more *base classes*.\n",
    "- An object is a collection of *members/attributes*, each of which is an object.\n",
    "```"
   ]
  },
  {
   "cell_type": "markdown",
   "metadata": {
    "slideshow": {
     "slide_type": "fragment"
    }
   },
   "source": [
    "**Why object-oriented programming?**"
   ]
  },
  {
   "cell_type": "markdown",
   "metadata": {},
   "source": [
    "Let's write the Hello-World program with OOP:"
   ]
  },
  {
   "cell_type": "code",
   "execution_count": null,
   "metadata": {},
   "outputs": [],
   "source": [
    "%%manim -ql --progress_bar=none --disable_caching --flush_cache -v ERROR HelloWorld\n",
    "class HelloWorld(Scene):\n",
    "    def construct(self):\n",
    "        self.play(Write(Text(\"Hello, World!\")))"
   ]
  },
  {
   "cell_type": "markdown",
   "metadata": {},
   "source": [
    "The above code creates a video by simply defining\n",
    " - a `Scene` called `HelloWorld` \n",
    " - `construct`ed by `play`ing an animation that\n",
    " - `Write`s the `Text` message `'Hello, World!'`. "
   ]
  },
  {
   "cell_type": "markdown",
   "metadata": {
    "slideshow": {
     "slide_type": "fragment"
    }
   },
   "source": [
    "Complicated animations can be created without too many lines of code:"
   ]
  },
  {
   "cell_type": "code",
   "execution_count": null,
   "metadata": {
    "ExecuteTime": {
     "end_time": "2020-09-27T11:30:40.028382Z",
     "start_time": "2020-09-27T11:30:40.020250Z"
    },
    "code_folding": [
     0
    ],
    "slideshow": {
     "slide_type": "-"
    }
   },
   "outputs": [],
   "source": [
    "%%html\n",
    "<iframe width=\"800\" height=\"450\" src=\"https://www.youtube.com/embed/ENMyFGmq5OA\" frameborder=\"0\" allow=\"accelerometer; autoplay; clipboard-write; encrypted-media; gyroscope; picture-in-picture\" allowfullscreen></iframe>"
   ]
  },
  {
   "cell_type": "markdown",
   "metadata": {
    "slideshow": {
     "slide_type": "fragment"
    }
   },
   "source": [
    "**Exercise** Define \n",
    "\n",
    "- a `Scene` called `Test`\n",
    "- `construct`ed by `play`ing an animation that\n",
    "- `FadeIn` a `Square()` and then\n",
    "- `play`ing another animation that\n",
    "- shows a `Circle` that `GrowFromCenter`.\n",
    "\n",
    "```{hint}\n",
    "See the [documentation](https://docs.manim.community/) and [tutorial](https://talkingphysics.wordpress.com/2019/01/08/getting-started-animating-with-manim-and-python-3-7/).\n",
    "```"
   ]
  },
  {
   "cell_type": "code",
   "execution_count": null,
   "metadata": {
    "ExecuteTime": {
     "end_time": "2020-09-28T11:37:13.912284Z",
     "start_time": "2020-09-28T11:37:13.903693Z"
    },
    "deletable": false,
    "nbgrader": {
     "cell_type": "code",
     "checksum": "45c9f9a611362d84e0b30eda3562ab18",
     "grade": false,
     "grade_id": "manim",
     "locked": false,
     "schema_version": 3,
     "solution": true,
     "task": false
    },
    "slideshow": {
     "slide_type": "-"
    }
   },
   "outputs": [],
   "source": [
    "%%manim -ql --progress_bar=none --disable_caching --flush_cache -v ERROR Test\n",
    "class Test(Scene):\n",
    "    def construct(self):\n",
    "        # YOUR CODE HERE\n",
    "        raise NotImplementedError()"
   ]
  },
  {
   "cell_type": "code",
   "execution_count": null,
   "metadata": {},
   "outputs": [],
   "source": [
    "%%manim -ql --progress_bar=none --disable_caching --flush_cache -v ERROR Test\n",
    "class Test(Scene):\n",
    "    def construct(self):\n",
    "       ### BEGIN SOLUTION\n",
    "        self.play(Write(Circle()))\n",
    "        self.play(FadeIn(Square()))\n",
    "        self.play(GrowFromCenter(Circle()))\n",
    "        ### END SOLUTION"
   ]
  },
  {
   "cell_type": "markdown",
   "metadata": {},
   "source": [
    "```{important}\n",
    "\n",
    "- OOP *encapsulates* implementation details while\n",
    "- making programming *expressive*.\n",
    "```"
   ]
  },
  {
   "cell_type": "markdown",
   "metadata": {
    "slideshow": {
     "slide_type": "subslide"
    }
   },
   "source": [
    "**What is an object?**"
   ]
  },
  {
   "cell_type": "markdown",
   "metadata": {
    "slideshow": {
     "slide_type": "subslide"
    }
   },
   "source": [
    "Class vs Object\n",
    "* Classes and objects are two important aspects of object-oriented programming.\n",
    "* a class is a template. It is like a blueprint (not real), and you can use class to create many of the “same” objects with different characteristics.\n",
    "* an object is an instance of a class, it defines the details of a template.\n",
    "\n",
    "<center><figure>\n",
    "<a title=\"\" href=\"https://www.cs.cityu.edu.hk/~weitaoxu/cs1302/Class_and_Object.jpg\"><img width=\"600\" alt=\"Class vs Object\" src=\"https://www.cs.cityu.edu.hk/~weitaoxu/cs1302/Class_and_Object.jpg\"></a>\n",
    "  <figcaption>Class vs Object.</figcaption>\n",
    "</figure>\n",
    "</center>"
   ]
  },
  {
   "cell_type": "markdown",
   "metadata": {
    "slideshow": {
     "slide_type": "fragment"
    }
   },
   "source": [
    "Atrribute/member: what an object has.\n",
    "- For example, a car has wheels and color, so wheel and color are the attribute/member of car\n",
    "- In program, an object has some variables and functions, they are called `member variable` and `member function`\n",
    "- To use the attribute/member of an object, we use member operator `.`\n",
    "- The syntax to use a variable/function of an object is `object.variable_name` or `object.function_name()`, e.g., math.PI, math.pow()\n",
    "\n",
    "Different objects of a class\n",
    "- have the same set of attributes as that of the class, but\n",
    "- the attribute values can be different.\n",
    "- For example, all cars have wheels and color, but Mercedes, BMW and Audi have different wheels and colors"
   ]
  },
  {
   "cell_type": "markdown",
   "metadata": {
    "slideshow": {
     "slide_type": "fragment"
    }
   },
   "source": [
    "Almost everything in Python is an object, or more precisely, an instance of type [`object`](https://docs.python.org/3/library/functions.html?highlight=object#object).\n",
    "\n",
    "To verify this, we can use function `isinstance(obj, class)`\n",
    "* it checks if the object (first argument) is an instance of class (second argument).\n",
    "\n",
    "\n",
    "Parameters :\n",
    "* obj : The object that need to be checked as a part of class or not.\n",
    "* class : class or type, against which object is needed to be checked. \n",
    "\n",
    "Returns : True, if object belongs to the given class/type, else returns False."
   ]
  },
  {
   "cell_type": "markdown",
   "metadata": {},
   "source": [
    "`object` is a class/type like `int`, `float`, `str`, and `bool`."
   ]
  },
  {
   "cell_type": "code",
   "execution_count": null,
   "metadata": {},
   "outputs": [],
   "source": [
    "isinstance(object, type)"
   ]
  },
  {
   "cell_type": "code",
   "execution_count": null,
   "metadata": {
    "ExecuteTime": {
     "end_time": "2020-10-09T11:55:23.765015Z",
     "start_time": "2020-10-09T11:55:23.702114Z"
    },
    "slideshow": {
     "slide_type": "-"
    }
   },
   "outputs": [],
   "source": [
    "(\n",
    "    isinstance(1, object)\n",
    "    and isinstance(1.0, object)\n",
    "    and isinstance(\"1\", object)\n",
    "    and isinstance(True, object)\n",
    "    and isinstance(None, object)\n",
    "    and isinstance(__builtin__, object)\n",
    "    and isinstance(object, object)\n",
    ")"
   ]
  },
  {
   "cell_type": "markdown",
   "metadata": {
    "slideshow": {
     "slide_type": "fragment"
    }
   },
   "source": [
    "A function is also a object."
   ]
  },
  {
   "cell_type": "code",
   "execution_count": null,
   "metadata": {
    "ExecuteTime": {
     "end_time": "2020-09-26T14:12:33.321836Z",
     "start_time": "2020-09-26T14:12:33.315596Z"
    },
    "slideshow": {
     "slide_type": "-"
    }
   },
   "outputs": [],
   "source": [
    "isinstance(print, object) and isinstance(range, object)"
   ]
  },
  {
   "cell_type": "markdown",
   "metadata": {},
   "source": [
    "```{note}\n",
    "\n",
    "Python treats functions as [first-class](https://en.wikipedia.org/wiki/First-class_function) objects that can be\n",
    "- passed as arguments to other functions,\n",
    "- assigned to variables, and\n",
    "- returned as values.\n",
    "```"
   ]
  },
  {
   "cell_type": "markdown",
   "metadata": {
    "ExecuteTime": {
     "end_time": "2020-09-28T11:37:13.912284Z",
     "start_time": "2020-09-28T11:37:13.903693Z"
    },
    "deletable": false,
    "nbgrader": {
     "cell_type": "code",
     "checksum": "309fe5bf896d8e9b7ea88921166f95b1",
     "grade": false,
     "grade_id": "chicken_and_egg",
     "locked": false,
     "schema_version": 3,
     "solution": true,
     "task": false
    },
    "slideshow": {
     "slide_type": "-"
    }
   },
   "source": [
    "**Can an object has multiple types?**"
   ]
  },
  {
   "cell_type": "markdown",
   "metadata": {},
   "source": [
    "```{important}\n",
    "An object can be an instance of more than one types.\n",
    "```"
   ]
  },
  {
   "cell_type": "markdown",
   "metadata": {},
   "source": [
    "For instance, `True` is an instance of `bool`, `int`, and `object`:"
   ]
  },
  {
   "cell_type": "code",
   "execution_count": null,
   "metadata": {},
   "outputs": [],
   "source": [
    "isinstance(True, bool) and isinstance(True, int) and isinstance(True, object)"
   ]
  },
  {
   "cell_type": "markdown",
   "metadata": {},
   "source": [
    "As proposed in [PEP 285](https://peps.python.org/pep-0285/#abstract),\n",
    "\n",
    "\n",
    "$$\n",
    "\\begin{CD}\n",
    "\\text{bool} @>{\\text{subclass}}>> \\text{int} @>{\\text{subclass}}>> \\text{object}\n",
    "\\end{CD}\n",
    "$$\n",
    "\n",
    "- `bool` is a subclass of `int`, and \n",
    "- `int` is a subclass of `object`. "
   ]
  },
  {
   "cell_type": "code",
   "execution_count": null,
   "metadata": {},
   "outputs": [],
   "source": [
    "issubclass(bool, int) and issubclass(int, object)"
   ]
  },
  {
   "cell_type": "markdown",
   "metadata": {},
   "source": [
    "- `type(True)` returns the immediate type of an object.\n",
    "- The sequences of base classes can be returned by `mro` (method resolution order)."
   ]
  },
  {
   "cell_type": "code",
   "execution_count": null,
   "metadata": {},
   "outputs": [],
   "source": [
    "print('type of True:',type(True))\n",
    "print('MRO of True:', type(True).mro())"
   ]
  },
  {
   "cell_type": "markdown",
   "metadata": {
    "ExecuteTime": {
     "end_time": "2020-09-28T11:37:13.912284Z",
     "start_time": "2020-09-28T11:37:13.903693Z"
    },
    "deletable": false,
    "nbgrader": {
     "cell_type": "code",
     "checksum": "462c03f5d1d1f4c9587492f302528d5b",
     "grade": false,
     "grade_id": "subclass",
     "locked": false,
     "schema_version": 3,
     "solution": true,
     "task": false
    },
    "slideshow": {
     "slide_type": "-"
    }
   },
   "source": [
    "**What is an attribute?**"
   ]
  },
  {
   "cell_type": "markdown",
   "metadata": {
    "slideshow": {
     "slide_type": "fragment"
    }
   },
   "source": [
    "```{important}\n",
    "\n",
    "The structure and behavior of an object is governed by its attributes.\n",
    "```"
   ]
  },
  {
   "cell_type": "markdown",
   "metadata": {},
   "source": [
    "To check whether an object has a given attribute, we use function`hasattr(object,attribute_name)`\n",
    "* check if an object has the given named attribute and return true if present, else false."
   ]
  },
  {
   "cell_type": "markdown",
   "metadata": {
    "slideshow": {
     "slide_type": "subslide"
    }
   },
   "source": [
    "**Preliminary of complex number**\n",
    "\n",
    "`Complex number`\n",
    "* An complex number is represented by `z = x + yj`. Python converts the real numbers `x` and `y` into complex using the function `complex(x,y)`. The real part can be accessed by `z.real` and imaginary part can be represented by `z.imag`."
   ]
  },
  {
   "cell_type": "code",
   "execution_count": null,
   "metadata": {
    "slideshow": {
     "slide_type": "fragment"
    }
   },
   "outputs": [],
   "source": [
    "#create a complex number\n",
    "x=complex(1,2) #x=1+2j\n",
    "x=complex('1+2j')\n",
    "print(x)\n",
    "print(x.real)\n",
    "print(x.imag)"
   ]
  },
  {
   "cell_type": "markdown",
   "metadata": {
    "slideshow": {
     "slide_type": "fragment"
    }
   },
   "source": [
    "conjugate complex number\n",
    "* complex conjugate is when \"Each of two complex numbers having their real parts identical and their imaginary parts of equal magnitude but opposite sign.\"\n",
    "* For example, a=1+2j,b=1-2j, then `a` is the conjugate complex number of `b`, or `b` is the conjugate complex number of `a`\n",
    "* In Python, we can get its complex conjugate by complex.conjugate(a), or a.conjugate()"
   ]
  },
  {
   "cell_type": "code",
   "execution_count": null,
   "metadata": {
    "ExecuteTime": {
     "end_time": "2021-02-18T03:14:00.009840Z",
     "start_time": "2021-02-18T03:14:00.001923Z"
    },
    "slideshow": {
     "slide_type": "fragment"
    }
   },
   "outputs": [],
   "source": [
    "y=complex(1,2)\n",
    "print(y)\n",
    "#method 1\n",
    "print(complex.conjugate(y))\n",
    "#method 2\n",
    "print(y.conjugate())\n"
   ]
  },
  {
   "cell_type": "code",
   "execution_count": null,
   "metadata": {},
   "outputs": [],
   "source": [
    "hasattr(complex(\"1+j\"), \"imag\"), hasattr(\"1+j\", \"imag\")"
   ]
  },
  {
   "cell_type": "markdown",
   "metadata": {},
   "source": [
    "To list all attributes of an object:"
   ]
  },
  {
   "cell_type": "code",
   "execution_count": null,
   "metadata": {},
   "outputs": [],
   "source": [
    "dir(complex(\"1+j\"))"
   ]
  },
  {
   "cell_type": "markdown",
   "metadata": {},
   "source": [
    "Different objects of a class have the *same set of attributes* as that of the class."
   ]
  },
  {
   "cell_type": "code",
   "execution_count": null,
   "metadata": {},
   "outputs": [],
   "source": [
    "dir(complex(\"1+j\")) == dir(complex(1)) == dir(complex)"
   ]
  },
  {
   "cell_type": "markdown",
   "metadata": {},
   "source": [
    "A subclass also inherits the attributes of its base classes."
   ]
  },
  {
   "cell_type": "code",
   "execution_count": null,
   "metadata": {},
   "outputs": [],
   "source": [
    "dir(bool) == dir(int)  # subset relation in general"
   ]
  },
  {
   "cell_type": "markdown",
   "metadata": {},
   "source": [
    "Different objects of the same class can still behave differently because their attribute *values can be different*."
   ]
  },
  {
   "cell_type": "code",
   "execution_count": null,
   "metadata": {},
   "outputs": [],
   "source": [
    "complex(\"1+j\").imag == complex(1).imag"
   ]
  },
  {
   "cell_type": "markdown",
   "metadata": {
    "slideshow": {
     "slide_type": "fragment"
    }
   },
   "source": [
    "An attribute can also be a function, which is called a *method* or *member function*."
   ]
  },
  {
   "cell_type": "code",
   "execution_count": null,
   "metadata": {
    "ExecuteTime": {
     "end_time": "2020-10-09T11:57:39.967209Z",
     "start_time": "2020-10-09T11:57:39.960448Z"
    },
    "slideshow": {
     "slide_type": "fragment"
    }
   },
   "outputs": [],
   "source": [
    "complex.conjugate(complex(1, 2)), type(complex.conjugate)"
   ]
  },
  {
   "cell_type": "markdown",
   "metadata": {
    "slideshow": {
     "slide_type": "fragment"
    }
   },
   "source": [
    "A [method](https://docs.python.org/3/tutorial/classes.html#method-objects) can be accessed by objects of the class:"
   ]
  },
  {
   "cell_type": "code",
   "execution_count": null,
   "metadata": {
    "ExecuteTime": {
     "end_time": "2020-09-26T15:27:25.840387Z",
     "start_time": "2020-09-26T15:27:25.833835Z"
    },
    "slideshow": {
     "slide_type": "-"
    }
   },
   "outputs": [],
   "source": [
    "complex(1, 2).conjugate(), type(complex(1, 2).conjugate)"
   ]
  },
  {
   "cell_type": "markdown",
   "metadata": {
    "slideshow": {
     "slide_type": "fragment"
    }
   },
   "source": [
    "`complex(1,2).conjugate` is a *callable* object:\n",
    "- Its attribute `__self__` is assigned to `complex(1,2)`.\n",
    "- When called, it passes `__self__` as the first argument to `complex.conjugate`."
   ]
  },
  {
   "cell_type": "code",
   "execution_count": null,
   "metadata": {},
   "outputs": [],
   "source": [
    "dir(complex(1,2).conjugate) #complex(1,2).conjugate has an attribute __self__"
   ]
  },
  {
   "cell_type": "code",
   "execution_count": null,
   "metadata": {
    "ExecuteTime": {
     "end_time": "2020-09-27T11:48:08.273598Z",
     "start_time": "2020-09-27T11:48:08.265782Z"
    },
    "slideshow": {
     "slide_type": "-"
    }
   },
   "outputs": [],
   "source": [
    "callable(complex(1, 2).conjugate), complex(1, 2).conjugate.__self__"
   ]
  },
  {
   "cell_type": "markdown",
   "metadata": {
    "slideshow": {
     "slide_type": "slide"
    }
   },
   "source": [
    "## Object Aliasing"
   ]
  },
  {
   "cell_type": "markdown",
   "metadata": {
    "slideshow": {
     "slide_type": "subslide"
    }
   },
   "source": [
    "**What is object Aliasing?**\n",
    "\n",
    "In Python, aliasing happens whenever one variable's value is assigned to another variable, because variables are just names that store references to values.\n",
    "- x=5\n",
    "- y=x\n",
    "- x and y refer to the same object (i.e., 5). We say that, y is alias (another name) of x. "
   ]
  },
  {
   "cell_type": "markdown",
   "metadata": {
    "slideshow": {
     "slide_type": "subslide"
    }
   },
   "source": [
    "**When are two objects identical?**\n",
    "\n",
    "- Two objects are the same if they occupy the same memory.  \n",
    "- The keyword `is` checks whether two objects are the same object."
   ]
  },
  {
   "cell_type": "code",
   "execution_count": 1,
   "metadata": {},
   "outputs": [
    {
     "data": {
      "text/plain": [
       "True"
      ]
     },
     "execution_count": 1,
     "metadata": {},
     "output_type": "execute_result"
    }
   ],
   "source": [
    "def f(f):\n",
    "    return f\n",
    "\n",
    "\n",
    "f(f) is f"
   ]
  },
  {
   "cell_type": "markdown",
   "metadata": {
    "slideshow": {
     "slide_type": "fragment"
    }
   },
   "source": [
    "**Is `is` the same as `==`?**"
   ]
  },
  {
   "cell_type": "markdown",
   "metadata": {
    "slideshow": {
     "slide_type": "fragment"
    }
   },
   "source": [
    "`is` is slightly faster because:\n",
    "\n",
    "- `is` simply checks whether two objects occupy the same memory, but \n",
    "- `==` calls the method (`__eq__`) of the operands to checks the equality in value."
   ]
  },
  {
   "cell_type": "markdown",
   "metadata": {
    "slideshow": {
     "slide_type": "fragment"
    }
   },
   "source": [
    "To see this, we can use the function `id` which returns an id number for an object based on its memory location."
   ]
  },
  {
   "cell_type": "code",
   "execution_count": null,
   "metadata": {},
   "outputs": [],
   "source": [
    "%%optlite -h 400\n",
    "x = y = complex(1, 0)\n",
    "z = complex(1, 0)\n",
    "print(x == y == z == 1.0)\n",
    "x_id = id(x)\n",
    "y_id = id(y)\n",
    "z_id = id(z)\n",
    "print(x is y)  # id(x) == id(y)\n",
    "print(x is z)  # id(x) != id(z)"
   ]
  },
  {
   "cell_type": "markdown",
   "metadata": {
    "slideshow": {
     "slide_type": "fragment"
    }
   },
   "source": [
    "As the box-pointer diagram shows:\n",
    "- `x` is `y` because the assignment `z = x` binds `z` to the same memory location `x` points to.  \n",
    "    `y` is said to be an *alias* (another name) of `x`. \n",
    "- `x` is not `z` because they point to objects at different memory locations,  \n",
    "  even though the objects have the same type and value."
   ]
  },
  {
   "cell_type": "markdown",
   "metadata": {
    "slideshow": {
     "slide_type": "subslide"
    }
   },
   "source": [
    "**Can we use `is` instead of `==` to compare integers/strings?**\n",
    "- No, see example below"
   ]
  },
  {
   "cell_type": "code",
   "execution_count": 5,
   "metadata": {
    "ExecuteTime": {
     "end_time": "2020-10-09T12:22:51.388017Z",
     "start_time": "2020-10-09T12:22:51.384450Z"
    },
    "slideshow": {
     "slide_type": "-"
    }
   },
   "outputs": [
    {
     "data": {
      "application/vnd.jupyter.widget-view+json": {
       "model_id": "a2f3591ddbb54877a026ad2b46349d33",
       "version_major": 2,
       "version_minor": 0
      },
      "text/plain": [
       "OPTWidget(value=None, height=350, script='print(10**10 is 10**10)\\nprint(10**100 is 10**100)\\n')"
      ]
     },
     "execution_count": 5,
     "metadata": {},
     "output_type": "execute_result"
    }
   ],
   "source": [
    "%%optlite -h 350\n",
    "print(10**10 is 10**10)\n",
    "print(10**100 is 10**100)"
   ]
  },
  {
   "cell_type": "code",
   "execution_count": 6,
   "metadata": {
    "slideshow": {
     "slide_type": "-"
    }
   },
   "outputs": [
    {
     "data": {
      "application/vnd.jupyter.widget-view+json": {
       "model_id": "609c0834e96f4e819e1d60548d523e5a",
       "version_major": 2,
       "version_minor": 0
      },
      "text/plain": [
       "OPTWidget(value=None, height=350, script='x = y = \"abc\"\\nprint(x is y)\\nprint(y is \"abc\")\\nprint(x + y is x + …"
      ]
     },
     "execution_count": 6,
     "metadata": {},
     "output_type": "execute_result"
    }
   ],
   "source": [
    "%%optlite -h 350\n",
    "x = y = \"abc\"\n",
    "print(x is y)\n",
    "print(y is \"abc\")\n",
    "print(x + y is x + \"abc\")"
   ]
  },
  {
   "cell_type": "markdown",
   "metadata": {},
   "source": [
    "Indeed, we normally gets a `SyntaxWarning` when using `is` with a literal."
   ]
  },
  {
   "cell_type": "code",
   "execution_count": 7,
   "metadata": {},
   "outputs": [
    {
     "name": "stderr",
     "output_type": "stream",
     "text": [
      "\"is\" with a literal. Did you mean \"==\"?\n",
      "\"is\" with a literal. Did you mean \"==\"?\n",
      "\"is\" with a literal. Did you mean \"==\"?\n",
      "\"is\" with a literal. Did you mean \"==\"?\n",
      "\"is\" with a literal. Did you mean \"==\"?\n",
      "\"is\" with a literal. Did you mean \"==\"?\n"
     ]
    },
    {
     "data": {
      "text/plain": [
       "(True, True)"
      ]
     },
     "execution_count": 7,
     "metadata": {},
     "output_type": "execute_result"
    }
   ],
   "source": [
    "10 is 10, \"abc\" is \"abc\""
   ]
  },
  {
   "cell_type": "markdown",
   "metadata": {
    "slideshow": {
     "slide_type": "fragment"
    }
   },
   "source": [
    "```{caution}\n",
    "\n",
    "When using `is` with a literal, the behavior is not entirely predictable because  \n",
    "- python tries to avoid storing the same value at different locations by [*interning*](https://www.codesansar.com/python-programming/integer-interning.htm) but\n",
    "- interning is not always possible/practical, especially when the same value is obtained in different ways.\n",
    "\n",
    "Hence, `is` should only be used for [built-in constants](https://docs.python.org/3/library/constants.html#built-in-constants) such as `None` because there can only be one instance of each of them.\n",
    "```"
   ]
  },
  {
   "cell_type": "code",
   "execution_count": 8,
   "metadata": {},
   "outputs": [
    {
     "name": "stdout",
     "output_type": "stream",
     "text": [
      "True\n",
      "True\n"
     ]
    }
   ],
   "source": [
    "#None is a special object, there's only one None object in the Python\n",
    "x = None\n",
    "y = None\n",
    "z = None\n",
    "print(x is y)\n",
    "print(x is z)"
   ]
  },
  {
   "cell_type": "markdown",
   "metadata": {
    "slideshow": {
     "slide_type": "slide"
    }
   },
   "source": [
    "## File Objects"
   ]
  },
  {
   "cell_type": "markdown",
   "metadata": {
    "ExecuteTime": {
     "end_time": "2020-07-25T05:29:37.415351Z",
     "start_time": "2020-07-25T05:29:37.409512Z"
    },
    "slideshow": {
     "slide_type": "subslide"
    }
   },
   "source": [
    "**How to read a text file?**"
   ]
  },
  {
   "cell_type": "markdown",
   "metadata": {
    "slideshow": {
     "slide_type": "fragment"
    }
   },
   "source": [
    "Consider reading a csv (comma separated value) file:"
   ]
  },
  {
   "cell_type": "code",
   "execution_count": 10,
   "metadata": {
    "ExecuteTime": {
     "end_time": "2021-02-18T03:19:17.713406Z",
     "start_time": "2021-02-18T03:19:17.587343Z"
    },
    "slideshow": {
     "slide_type": "-"
    }
   },
   "outputs": [
    {
     "name": "stdout",
     "output_type": "stream",
     "text": [
      "name, email, phone\n",
      "Amelia Hawkins,dugorre@lufu.cg,(414) 524-6465\n",
      "Alta Perez,bos@fiur.sc,(385) 247-9001\n",
      "Tai Ming Chan,tmchan@cityu.edu.hk,(634) 234-7294\n",
      "Annie Zimmerman,okodag@saswuf.mn,(259) 862-1082\n",
      "Eula Crawford,ve@rorohte.mx,(635) 827-9819\n",
      "Clayton Atkins,vape@nig.eh,(762) 271-7090\n",
      "Hallie Day,kozzazazi@ozakewje.am,(872) 949-5878\n",
      "Lida Matthews,joobu@pabnesis.kg,(213) 486-8330\n",
      "Amelia Pittman,nulif@uposzag.au,(800) 303-3234\n"
     ]
    }
   ],
   "source": [
    "!more 'contact.csv' #! means runing command 'more' in shell \n",
    "                    #more means showing the content of the file (no need to remember)"
   ]
  },
  {
   "cell_type": "markdown",
   "metadata": {
    "slideshow": {
     "slide_type": "fragment"
    }
   },
   "source": [
    "To read the file by a Python program:"
   ]
  },
  {
   "cell_type": "code",
   "execution_count": 11,
   "metadata": {
    "ExecuteTime": {
     "end_time": "2021-02-18T03:19:24.550886Z",
     "start_time": "2021-02-18T03:19:24.546056Z"
    },
    "slideshow": {
     "slide_type": "-"
    }
   },
   "outputs": [
    {
     "name": "stdout",
     "output_type": "stream",
     "text": [
      "name, email, phone\n",
      "Amelia Hawkins,dugorre@lufu.cg,(414) 524-6465\n",
      "Alta Perez,bos@fiur.sc,(385) 247-9001\n",
      "Tai Ming Chan,tmchan@cityu.edu.hk,(634) 234-7294\n",
      "Annie Zimmerman,okodag@saswuf.mn,(259) 862-1082\n",
      "Eula Crawford,ve@rorohte.mx,(635) 827-9819\n",
      "Clayton Atkins,vape@nig.eh,(762) 271-7090\n",
      "Hallie Day,kozzazazi@ozakewje.am,(872) 949-5878\n",
      "Lida Matthews,joobu@pabnesis.kg,(213) 486-8330\n",
      "Amelia Pittman,nulif@uposzag.au,(800) 303-3234\n"
     ]
    }
   ],
   "source": [
    "f = open('contact.csv')  # create a file object for reading\n",
    "print(f.read())   # return the entire content\n",
    "f.close()         # close the file"
   ]
  },
  {
   "cell_type": "markdown",
   "metadata": {
    "slideshow": {
     "slide_type": "fragment"
    }
   },
   "source": [
    "1. [`open`](https://docs.python.org/3/library/functions.html?highlight=open#open) is a function that creates a file object and assigns it to `f`.\n",
    "1. Associated with the file object, \n",
    " - [`read`](https://docs.python.org/3/library/io.html#io.TextIOBase.read) returns the entire content of the file as a string.\n",
    " - [`close`](https://docs.python.org/3/library/io.html#io.IOBase.close) flushes and closes the file."
   ]
  },
  {
   "cell_type": "markdown",
   "metadata": {
    "slideshow": {
     "slide_type": "subslide"
    }
   },
   "source": [
    "**Why close a file?**"
   ]
  },
  {
   "cell_type": "markdown",
   "metadata": {
    "slideshow": {
     "slide_type": "fragment"
    }
   },
   "source": [
    "If not, depending on the operating system,\n",
    "- other programs may not be able to access the file, and\n",
    "- changes may not be written to the file."
   ]
  },
  {
   "cell_type": "markdown",
   "metadata": {
    "slideshow": {
     "slide_type": "subslide"
    }
   },
   "source": [
    "It's very often programmers may forget to close a file, how to solve this problem?\n",
    "\n",
    "To ensure a file is closed properly, we can use the [`with` statement](https://docs.python.org/3/reference/compound_stmts.html#with):"
   ]
  },
  {
   "cell_type": "code",
   "execution_count": null,
   "metadata": {
    "ExecuteTime": {
     "end_time": "2021-02-18T03:19:39.747105Z",
     "start_time": "2021-02-18T03:19:39.743769Z"
    },
    "slideshow": {
     "slide_type": "fragment"
    }
   },
   "outputs": [],
   "source": [
    "with open('contact.csv') as f:\n",
    "    print(f.read())"
   ]
  },
  {
   "cell_type": "markdown",
   "metadata": {
    "slideshow": {
     "slide_type": "subslide"
    }
   },
   "source": [
    "Why we don't need to close a file in `with` statement?\n",
    "- Because it has a buit-in function `__exit__` to close file automatically.\n",
    "\n",
    "The `with` statement applies to any [context manager](https://docs.python.org/3/reference/datamodel.html#context-managers) that provides the methods\n",
    "- `__enter__` for initialization, and\n",
    "- `__exit__` for finalization."
   ]
  },
  {
   "cell_type": "code",
   "execution_count": null,
   "metadata": {
    "ExecuteTime": {
     "end_time": "2021-02-18T03:19:53.176354Z",
     "start_time": "2021-02-18T03:19:53.169282Z"
    },
    "slideshow": {
     "slide_type": "fragment"
    }
   },
   "outputs": [],
   "source": [
    "with open('contact.csv') as f:\n",
    "    print(f, hasattr(f, '__enter__'), hasattr(f, '__exit__'), sep='\\n')"
   ]
  },
  {
   "cell_type": "markdown",
   "metadata": {
    "slideshow": {
     "slide_type": "fragment"
    }
   },
   "source": [
    "- `f.__enter__` is called after the file object is successfully created and assigned to `f`, and\n",
    "- `f.__exit__` is called at the end, which closes the file.\n",
    "- `f.closed` indicates whether the file is closed."
   ]
  },
  {
   "cell_type": "code",
   "execution_count": 12,
   "metadata": {
    "ExecuteTime": {
     "end_time": "2020-10-11T05:54:49.092592Z",
     "start_time": "2020-10-11T05:54:49.088011Z"
    },
    "slideshow": {
     "slide_type": "fragment"
    }
   },
   "outputs": [
    {
     "name": "stdout",
     "output_type": "stream",
     "text": [
      "False\n",
      "True\n"
     ]
    }
   ],
   "source": [
    "f=open('contact.csv')\n",
    "print(f.closed)  #to check whether a file is closed or not\n",
    "\n",
    "f.close()\n",
    "print(f.closed) #after we run f.close() to close the file, f.closed returns True, meaning the file has been closed"
   ]
  },
  {
   "cell_type": "markdown",
   "metadata": {
    "slideshow": {
     "slide_type": "fragment"
    }
   },
   "source": [
    "As a file may contain many lines? how to read a file line by line?\n",
    "- We can iterate a file object in a `for` loop"
   ]
  },
  {
   "cell_type": "code",
   "execution_count": 15,
   "metadata": {
    "ExecuteTime": {
     "end_time": "2021-02-18T03:20:21.963514Z",
     "start_time": "2021-02-18T03:20:21.953832Z"
    },
    "slideshow": {
     "slide_type": "fragment"
    }
   },
   "outputs": [
    {
     "name": "stdout",
     "output_type": "stream",
     "text": [
      "name, email, phone\n",
      "Amelia Hawkins,dugorre@lufu.cg,(414) 524-6465\n",
      "Alta Perez,bos@fiur.sc,(385) 247-9001\n",
      "Tai Ming Chan,tmchan@cityu.edu.hk,(634) 234-7294\n",
      "Annie Zimmerman,okodag@saswuf.mn,(259) 862-1082\n",
      "Eula Crawford,ve@rorohte.mx,(635) 827-9819\n",
      "Clayton Atkins,vape@nig.eh,(762) 271-7090\n",
      "Hallie Day,kozzazazi@ozakewje.am,(872) 949-5878\n",
      "Lida Matthews,joobu@pabnesis.kg,(213) 486-8330\n",
      "Amelia Pittman,nulif@uposzag.au,(800) 303-3234"
     ]
    }
   ],
   "source": [
    "with open('contact.csv') as f:\n",
    "    for line in f:\n",
    "        print(line, end='')\n",
    "        #print(line) #what happens without end='': one more empty line is printed, because the default character of print() is '\\n' (new line)"
   ]
  },
  {
   "cell_type": "markdown",
   "metadata": {
    "slideshow": {
     "slide_type": "subslide"
    }
   },
   "source": [
    "**Exercise** Print only the first 5 lines of the file `contact.csv`."
   ]
  },
  {
   "cell_type": "code",
   "execution_count": null,
   "metadata": {},
   "outputs": [],
   "source": [
    "with open('contact.csv') as f:   #use with statement to create a file object and assign it to f\n",
    "    line_no = 1                    #create a variable to represent line no\n",
    "    for line in f:                 #use a for loop to read each line\n",
    "        if line_no <= 5:               #if line no is <5, we print it\n",
    "            print(line, end='')\n",
    "            line_no += 1"
   ]
  },
  {
   "cell_type": "markdown",
   "metadata": {
    "slideshow": {
     "slide_type": "subslide"
    }
   },
   "source": [
    "**How to write to a text file?**"
   ]
  },
  {
   "cell_type": "markdown",
   "metadata": {},
   "source": [
    "f = open('contact.csv', 'r')\n",
    "\n",
    "f2 = open('contact.csv', 'w')\n",
    "\n",
    "f3 = open('contact.csv', 'a')\n",
    "\n",
    "The open function supports the following modes:\n",
    "* 'r' opens the file for reading\n",
    "* 'w' opens the file for writing; original data will be lost.\n",
    "* 'a' opens the file to append data to it; original data will not be lost."
   ]
  },
  {
   "cell_type": "markdown",
   "metadata": {
    "slideshow": {
     "slide_type": "fragment"
    }
   },
   "source": [
    "Now, let's see how to write a file, but before that\n",
    "\n",
    "Consider backing up `contact.csv` to a new file:"
   ]
  },
  {
   "cell_type": "code",
   "execution_count": 25,
   "metadata": {
    "ExecuteTime": {
     "end_time": "2021-02-18T03:28:06.504508Z",
     "start_time": "2021-02-18T03:28:06.502252Z"
    },
    "slideshow": {
     "slide_type": "-"
    }
   },
   "outputs": [],
   "source": [
    "#first, create a string to represent the file name and directory\n",
    "destination = 'private/new_contact.csv'"
   ]
  },
  {
   "cell_type": "markdown",
   "metadata": {
    "slideshow": {
     "slide_type": "fragment"
    }
   },
   "source": [
    "The directory has to be created first if it does not exist:\n",
    "* `os` module provides a portable way of using operating system dependent functionality, such as access path and file\n",
    "* `os.makedirs()` is a function in `os` module to make a new directory\n",
    "* Syntax: `os.makedirs(directory_name, exist_ok)`\n",
    "* `exist_ok` (optional) : If the target directory already exists, an OSError is raised if its value is False otherwise not. It's False by default. \n",
    "* more information click [here](https://www.geeksforgeeks.org/python-os-makedirs-method/)"
   ]
  },
  {
   "cell_type": "code",
   "execution_count": 26,
   "metadata": {
    "ExecuteTime": {
     "end_time": "2021-02-18T03:28:34.943671Z",
     "start_time": "2021-02-18T03:28:34.938223Z"
    },
    "slideshow": {
     "slide_type": "-"
    }
   },
   "outputs": [
    {
     "name": "stdout",
     "output_type": "stream",
     "text": [
      "private\n"
     ]
    }
   ],
   "source": [
    "import os  #import os module\n",
    "dir_string=os.path.dirname(destination)\n",
    "print(dir_string)\n",
    "os.makedirs(dir_string, exist_ok=True) #if exist_ok is True, it will not report an error if the directory exists\n",
    "#os.makedirs(os.path.dirname(destination), exist_ok=False) # if exist_ok is False, it will report an error if the directory exits"
   ]
  },
  {
   "cell_type": "markdown",
   "metadata": {
    "slideshow": {
     "slide_type": "fragment"
    }
   },
   "source": [
    "To write to the destination file:"
   ]
  },
  {
   "cell_type": "code",
   "execution_count": 27,
   "metadata": {
    "ExecuteTime": {
     "end_time": "2021-02-18T03:28:47.085613Z",
     "start_time": "2021-02-18T03:28:47.077963Z"
    },
    "code_folding": [],
    "slideshow": {
     "slide_type": "-"
    }
   },
   "outputs": [],
   "source": [
    "with open('contact.csv') as source_file:   #create a file object and assign it to source file\n",
    "    with open(destination, 'w') as destination_file: # create a file object and assign it to destination_file\n",
    "        content=source_file.read()         #call read() function to read content from source_file\n",
    "        destination_file.write(content)   #call write() function to write the content to destination_file"
   ]
  },
  {
   "cell_type": "code",
   "execution_count": 28,
   "metadata": {
    "ExecuteTime": {
     "end_time": "2021-02-18T03:28:52.658731Z",
     "start_time": "2021-02-18T03:28:52.483994Z"
    },
    "slideshow": {
     "slide_type": "-"
    }
   },
   "outputs": [
    {
     "name": "stdout",
     "output_type": "stream",
     "text": [
      "name, email, phone\n",
      "Amelia Hawkins,dugorre@lufu.cg,(414) 524-6465\n",
      "Alta Perez,bos@fiur.sc,(385) 247-9001\n",
      "Tai Ming Chan,tmchan@cityu.edu.hk,(634) 234-7294\n",
      "Annie Zimmerman,okodag@saswuf.mn,(259) 862-1082\n",
      "Eula Crawford,ve@rorohte.mx,(635) 827-9819\n",
      "Clayton Atkins,vape@nig.eh,(762) 271-7090\n",
      "Hallie Day,kozzazazi@ozakewje.am,(872) 949-5878\n",
      "Lida Matthews,joobu@pabnesis.kg,(213) 486-8330\n",
      "Amelia Pittman,nulif@uposzag.au,(800) 303-3234\n"
     ]
    }
   ],
   "source": [
    "!more {destination}             #show the content in the destination file"
   ]
  },
  {
   "cell_type": "markdown",
   "metadata": {
    "slideshow": {
     "slide_type": "fragment"
    }
   },
   "source": [
    "- The argument `'w'` in `open()` sets the file object to write mode.\n",
    "- The method `write` writes the input strings to the file.\n",
    "- In this mode, the original data will be lost"
   ]
  },
  {
   "cell_type": "markdown",
   "metadata": {
    "slideshow": {
     "slide_type": "subslide"
    }
   },
   "source": [
    "**Exercise** We can also use `a` mode to *append* new content to a file.   \n",
    "Complete the following code to append `new_data` to the file `destination`."
   ]
  },
  {
   "cell_type": "code",
   "execution_count": 24,
   "metadata": {},
   "outputs": [
    {
     "name": "stdout",
     "output_type": "stream",
     "text": [
      "\n",
      "Effie, Douglas,galnec@naowdu.tc, (888) 311-9512\n"
     ]
    }
   ],
   "source": [
    "new_data = 'Effie, Douglas,galnec@naowdu.tc, (888) 311-9512'\n",
    "with open(destination, 'a') as f:\n",
    "    f.write('\\n')            # '\\n' means end of a line cause we need to print the new_data in a new line\n",
    "    f.write(new_data)        # call write() function to append the new data to the end of original data\n",
    "\n",
    "!more {destination}"
   ]
  },
  {
   "cell_type": "markdown",
   "metadata": {
    "ExecuteTime": {
     "end_time": "2020-07-27T09:38:13.743387Z",
     "start_time": "2020-07-27T09:38:13.731593Z"
    },
    "slideshow": {
     "slide_type": "subslide"
    }
   },
   "source": [
    "**How to delete a file?**"
   ]
  },
  {
   "cell_type": "markdown",
   "metadata": {
    "slideshow": {
     "slide_type": "fragment"
    }
   },
   "source": [
    "Note that the file object does not provide any method to delete the file.  \n",
    "Instead, we should use the function `remove` of the `os` module.\n",
    "*   Syntax: `os.remove(file_directory)`"
   ]
  },
  {
   "cell_type": "code",
   "execution_count": 30,
   "metadata": {
    "ExecuteTime": {
     "end_time": "2020-10-09T12:04:23.600006Z",
     "start_time": "2020-10-09T12:04:23.593802Z"
    },
    "slideshow": {
     "slide_type": "fragment"
    }
   },
   "outputs": [],
   "source": [
    "if os.path.exists(destination):  #os.path.exists() check if destination exist or not\n",
    "    os.remove(destination)       #if it exists, we call os.remove() function to remove it"
   ]
  },
  {
   "cell_type": "markdown",
   "metadata": {
    "slideshow": {
     "slide_type": "subslide"
    }
   },
   "source": [
    "## A short summary\n",
    "What you need to know for file objects.\n",
    "\n",
    "1. how to create a diretory and a file.\n",
    "   * we use `os.makedirs()` function\n",
    "2. how to read data from a file.\n",
    "   * we use `open()` function, and it has three modes. Be familiar with these modes\n",
    "3. how to write data to a file. \n",
    "   * we use `write()` function.\n",
    "4. Remember to always close a file after you open it.\n",
    "   * to eliminate this problem, we can use `with` statement cause it will close the file automatically.\n",
    "5. how to delete a file.\n",
    "   * we use `os.remove()` function"
   ]
  },
  {
   "cell_type": "markdown",
   "metadata": {
    "slideshow": {
     "slide_type": "slide"
    }
   },
   "source": [
    "## String Objects"
   ]
  },
  {
   "cell_type": "markdown",
   "metadata": {
    "slideshow": {
     "slide_type": "subslide"
    }
   },
   "source": [
    "**A string is an object, and actually it has many built-in functions**\n",
    "\n",
    "Next, we'll learn some common functions of `string`"
   ]
  },
  {
   "cell_type": "markdown",
   "metadata": {},
   "source": [
    "**How to search for a substring in a string?**\n",
    "* Syntax: `string.find(substring)`\n",
    "* Returns the lowest index where the string parameter is found as a substring of the input string; returns -1 if not found"
   ]
  },
  {
   "cell_type": "code",
   "execution_count": 31,
   "metadata": {
    "ExecuteTime": {
     "end_time": "2020-10-11T08:47:14.385369Z",
     "start_time": "2020-10-11T08:47:14.298637Z"
    }
   },
   "outputs": [
    {
     "name": "stdout",
     "output_type": "stream",
     "text": [
      "0\n",
      "-1\n"
     ]
    }
   ],
   "source": [
    "string=\"hello1, hello2\"\n",
    "print(string.find('hello'))  #return the index of the first match\n",
    "print(string.find('apple'))  #return -1 if 'apple' is not found"
   ]
  },
  {
   "cell_type": "markdown",
   "metadata": {
    "slideshow": {
     "slide_type": "subslide"
    }
   },
   "source": [
    "**How to split and join strings?**\n",
    "* Syntax `string.split(separator, maxsplit)`\n",
    "* The split() method splits a string into a list, based on the specified separator and maxsplit (the max number of split)\n",
    "* `separator` specifies the separator to use when splitting the string. By default any whitespace is a separator\n",
    "   * string.split(',') will separate string into substrings by `,`\n",
    "   * string.split('-') will separate string into substrings by `-`\n",
    "* `maxsplit`: specifies how many splits to do. Default value is -1, which is \"all occurrences\"\n",
    "* `string.rsplit(delimiter, maxsplit)` method splits a string into a list, starting from the right.\n",
    "   * if you don't specify maxsplit, it's the same as `split()` cause it splits \"all occurrences\"."
   ]
  },
  {
   "cell_type": "code",
   "execution_count": 32,
   "metadata": {},
   "outputs": [
    {
     "name": "stdout",
     "output_type": "stream",
     "text": [
      "Example 1:\n",
      "['a', 'b', 'c', 'd']\n",
      "['a', 'b', 'c', 'd']\n",
      "['a', 'b', 'c', 'd']\n",
      "['a', 'b', 'c', 'd']\n"
     ]
    }
   ],
   "source": [
    "str1='a,b,c,d'\n",
    "str2='a-b-c-d'\n",
    "\n",
    "#example 1, the basic usage of split()\n",
    "#you can see there's no difference between split() and rsplit()\n",
    "print('Example 1:')\n",
    "print(str1.split(','))\n",
    "print(str2.split('-'))\n",
    "print(str1.rsplit(','))\n",
    "print(str2.rsplit('-'))"
   ]
  },
  {
   "cell_type": "code",
   "execution_count": 33,
   "metadata": {},
   "outputs": [
    {
     "name": "stdout",
     "output_type": "stream",
     "text": [
      "Example 2:\n",
      "['a', 'b,c,d']\n",
      "['a', 'b-c-d']\n",
      "['a,b,c', 'd']\n",
      "['a-b-c', 'd']\n"
     ]
    }
   ],
   "source": [
    "#example 2, specify numbers of split,\n",
    "#now split() and rsplit() give different results\n",
    "str1='a,b,c,d'\n",
    "str2='a-b-c-d'\n",
    "print('Example 2:')\n",
    "print(str1.split(',',1))\n",
    "print(str2.split('-',1))\n",
    "print(str1.rsplit(',',1))\n",
    "print(str2.rsplit('-',1))"
   ]
  },
  {
   "cell_type": "code",
   "execution_count": 34,
   "metadata": {
    "ExecuteTime": {
     "end_time": "2020-10-12T05:32:15.283832Z",
     "start_time": "2020-10-12T05:32:15.244338Z"
    }
   },
   "outputs": [
    {
     "name": "stdout",
     "output_type": "stream",
     "text": [
      "Example 3:\n",
      "['a', 'b,c,d']\n",
      "['a', 'b-c-d']\n",
      "['a,b,c', 'd']\n",
      "['a-b-c', 'd']\n"
     ]
    }
   ],
   "source": [
    "#the expressions above are equivalent to the below\n",
    "print('Example 3:')\n",
    "print(str1.split(',',maxsplit=1))\n",
    "print(str2.split('-',maxsplit=1))\n",
    "print(str1.rsplit(',',maxsplit=1))\n",
    "print(str2.rsplit('-',maxsplit=1))\n"
   ]
  },
  {
   "cell_type": "markdown",
   "metadata": {
    "slideshow": {
     "slide_type": "fragment"
    }
   },
   "source": [
    "The list of substrings can be joined back together using the `join` methods.\n",
    "* Syntax: `delimiter.join(substrings)`\n",
    "* Join all items into a single string, separated by `delimiter`"
   ]
  },
  {
   "cell_type": "code",
   "execution_count": 35,
   "metadata": {
    "ExecuteTime": {
     "end_time": "2020-10-11T08:55:26.381820Z",
     "start_time": "2020-10-11T08:55:26.377385Z"
    }
   },
   "outputs": [
    {
     "name": "stdout",
     "output_type": "stream",
     "text": [
      "ba-na-na\n",
      "ba*na*na\n",
      "banana\n"
     ]
    }
   ],
   "source": [
    "substrings=['ba','na','na']\n",
    "print('-'.join(substrings))\n",
    "print('*'.join(substrings))\n",
    "print(''.join(substrings))"
   ]
  },
  {
   "cell_type": "markdown",
   "metadata": {
    "slideshow": {
     "slide_type": "subslide"
    }
   },
   "source": [
    "**How to remove unnecessary characters at the end?**\n",
    "\n",
    "* Syntax: `string.strip(character)`\n",
    "* remove any leading/trailing characters, by default it's `whitespace`\n",
    "* If the chars argument is not provided, all leading and trailing whitespaces are removed from the string.\n",
    "* `string.lstrip(character)`, l means left: remove characters on the left side of a string\n",
    "* `string.rstrip(character)`, r means right: remove characters on the right side of a string"
   ]
  },
  {
   "cell_type": "code",
   "execution_count": 37,
   "metadata": {
    "ExecuteTime": {
     "end_time": "2020-10-11T09:09:13.744747Z",
     "start_time": "2020-10-11T09:09:13.732859Z"
    }
   },
   "outputs": [
    {
     "name": "stdout",
     "output_type": "stream",
     "text": [
      "   banana   \n",
      "banana\n",
      "banana   \n",
      "   banana\n"
     ]
    }
   ],
   "source": [
    "string='   banana   '\n",
    "print(string)\n",
    "print(string.strip())  #remove all the space\n",
    "print(string.lstrip()) #remove all the space on the left side\n",
    "print(string.rstrip()) #remove all the space on the right side"
   ]
  },
  {
   "cell_type": "code",
   "execution_count": 38,
   "metadata": {},
   "outputs": [
    {
     "name": "stdout",
     "output_type": "stream",
     "text": [
      ",,,banana,,,\n",
      "banana\n",
      "banana,,,\n",
      ",,,banana\n"
     ]
    }
   ],
   "source": [
    "string=',,,banana,,,'\n",
    "print(string)\n",
    "print(string.strip(',')) #remove all the ,\n",
    "print(string.lstrip(',')) #remove all the , on the left side\n",
    "print(string.rstrip(',')) #remove all the , on the right side"
   ]
  },
  {
   "cell_type": "markdown",
   "metadata": {
    "slideshow": {
     "slide_type": "fragment"
    }
   },
   "source": [
    "**How to convert all characters to be upper case or lower case?** \n",
    "\n",
    "* The upper() method returns a string where all characters are in upper case.\n",
    "* The lower() method returns a string where all characters are in lower case."
   ]
  },
  {
   "cell_type": "code",
   "execution_count": 39,
   "metadata": {
    "ExecuteTime": {
     "end_time": "2020-10-11T10:27:49.285875Z",
     "start_time": "2020-10-11T10:27:49.246759Z"
    }
   },
   "outputs": [
    {
     "name": "stdout",
     "output_type": "stream",
     "text": [
      "APPLE\n",
      "apple\n"
     ]
    }
   ],
   "source": [
    "string=\"apple\"\n",
    "print(string.upper())\n",
    "\n",
    "string2=\"APPle\"\n",
    "print(string2.lower())"
   ]
  },
  {
   "cell_type": "markdown",
   "metadata": {
    "slideshow": {
     "slide_type": "slide"
    }
   },
   "source": [
    "## Operator Overloading"
   ]
  },
  {
   "cell_type": "markdown",
   "metadata": {},
   "source": [
    "Recall that adding `str` to `int` raises a type error. The following code circumvented this by OOP."
   ]
  },
  {
   "cell_type": "code",
   "execution_count": 40,
   "metadata": {},
   "outputs": [
    {
     "name": "stdout",
     "output_type": "stream",
     "text": [
      "11\n",
      "110\n"
     ]
    }
   ],
   "source": [
    "print(1+10)\n",
    "print('1'+'10')"
   ]
  },
  {
   "cell_type": "markdown",
   "metadata": {
    "slideshow": {
     "slide_type": "subslide"
    }
   },
   "source": [
    "### What is overloading?"
   ]
  },
  {
   "cell_type": "markdown",
   "metadata": {
    "slideshow": {
     "slide_type": "fragment"
    }
   },
   "source": [
    "Recall that the addition operation `+` behaves differently for different types."
   ]
  },
  {
   "cell_type": "code",
   "execution_count": 42,
   "metadata": {
    "ExecuteTime": {
     "end_time": "2020-10-09T12:07:04.432674Z",
     "start_time": "2020-10-09T12:07:04.415150Z"
    },
    "slideshow": {
     "slide_type": "fragment"
    }
   },
   "outputs": [
    {
     "data": {
      "application/vnd.jupyter.widget-view+json": {
       "model_id": "b19af1f51be541cfa1a7d58ca97fd891",
       "version_major": 2,
       "version_minor": 0
      },
      "text/plain": [
       "OPTWidget(value=None, height=300, script='for x, y in (1, 1), (\"1\", \"1\"), (1, \"1\"):\\n    print(f\"{x!r:^5} + {y…"
      ]
     },
     "execution_count": 42,
     "metadata": {},
     "output_type": "execute_result"
    }
   ],
   "source": [
    "%%optlite -h 300\n",
    "for x, y in (1, 1), (\"1\", \"1\"), (1, \"1\"):\n",
    "    print(f\"{x!r:^5} + {y!r:^5} = {x+y!r}\")"
   ]
  },
  {
   "cell_type": "markdown",
   "metadata": {},
   "source": [
    "- Having an operator perform differently based on its argument types is called [operator *overloading*](https://en.wikipedia.org/wiki/Operator_overloading).\n",
    "- `+` is called a *generic* operator.\n",
    "- We can also have function overloading to create generic functions."
   ]
  },
  {
   "cell_type": "markdown",
   "metadata": {
    "slideshow": {
     "slide_type": "subslide"
    }
   },
   "source": [
    "### Dispatch on type"
   ]
  },
  {
   "cell_type": "markdown",
   "metadata": {
    "slideshow": {
     "slide_type": "fragment"
    }
   },
   "source": [
    "The strategy of checking the type for the appropriate implementation is called *dispatching on type*."
   ]
  },
  {
   "cell_type": "markdown",
   "metadata": {
    "slideshow": {
     "slide_type": "fragment"
    }
   },
   "source": [
    "A naive idea is to put all different implementations together:\n",
    "\n",
    "```python\n",
    "def add_case_by_case(x, y):\n",
    "    if isinstance(x, int) and isinstance(y, int):\n",
    "        # integer summation\n",
    "        ...\n",
    "    elif isinstance(x, str) and isinstance(y, str):\n",
    "        # string concatenation...\n",
    "        ...\n",
    "    else:\n",
    "        # Return a TypeError\n",
    "        ...\n",
    "```"
   ]
  },
  {
   "cell_type": "code",
   "execution_count": null,
   "metadata": {
    "ExecuteTime": {
     "end_time": "2020-10-09T12:07:42.828229Z",
     "start_time": "2020-10-09T12:07:42.810588Z"
    },
    "slideshow": {
     "slide_type": "-"
    }
   },
   "outputs": [],
   "source": [
    "%%optlite -h 500\n",
    "def add_case_by_case(x, y):\n",
    "    if isinstance(x, int) and isinstance(y, int):\n",
    "        print(\"Do integer summation...\")\n",
    "    elif isinstance(x, str) and isinstance(y, str):\n",
    "        print(\"Do string concatenation...\")\n",
    "    else:\n",
    "        print(\"Return a TypeError...\")\n",
    "    return x + y  # replaced by internal implementations\n",
    "\n",
    "\n",
    "for x, y in (1, 1), (\"1\", \"1\"), (1, \"1\"):\n",
    "    print(f\"{x!r:^10} + {y!r:^10} = {add_case_by_case(x,y)!r}\")"
   ]
  },
  {
   "cell_type": "markdown",
   "metadata": {
    "slideshow": {
     "slide_type": "subslide"
    }
   },
   "source": [
    "It can get quite messy with all possible types and combinations."
   ]
  },
  {
   "cell_type": "code",
   "execution_count": null,
   "metadata": {
    "ExecuteTime": {
     "end_time": "2020-10-09T12:09:16.114595Z",
     "start_time": "2020-10-09T12:09:16.107719Z"
    },
    "slideshow": {
     "slide_type": "-"
    }
   },
   "outputs": [],
   "source": [
    "for x, y in ((1, 1.1), (1, complex(1, 2)), ((1, 2), (1, 2))):\n",
    "    print(f\"{x!r:^10} + {y!r:^10} = {x+y!r}\")"
   ]
  },
  {
   "cell_type": "markdown",
   "metadata": {
    "slideshow": {
     "slide_type": "subslide"
    }
   },
   "source": [
    "**What about new data types?**"
   ]
  },
  {
   "cell_type": "code",
   "execution_count": 44,
   "metadata": {
    "ExecuteTime": {
     "end_time": "2020-10-09T12:09:46.300495Z",
     "start_time": "2020-10-09T12:09:46.290011Z"
    },
    "slideshow": {
     "slide_type": "-"
    }
   },
   "outputs": [
    {
     "name": "stdout",
     "output_type": "stream",
     "text": [
      "1/2 + 1 = 3/2\n",
      "1 + 1/2 = 3/2\n"
     ]
    }
   ],
   "source": [
    "from fractions import Fraction  # non-built-in type for fractions\n",
    "\n",
    "for x, y in ((Fraction(1, 2), 1), (1, Fraction(1, 2))):\n",
    "    print(f\"{x} + {y} = {x+y}\")"
   ]
  },
  {
   "cell_type": "markdown",
   "metadata": {
    "slideshow": {
     "slide_type": "fragment"
    }
   },
   "source": [
    "```{caution}\n",
    "\n",
    "Weaknesses of the naive approach:\n",
    "1. New data types require rewriting the addition operation.\n",
    "1. A programmer may not know all other types and combinations to rewrite the code properly.\n",
    "```"
   ]
  },
  {
   "cell_type": "markdown",
   "metadata": {
    "slideshow": {
     "slide_type": "subslide"
    }
   },
   "source": [
    "### Data-directed programming"
   ]
  },
  {
   "cell_type": "markdown",
   "metadata": {
    "slideshow": {
     "slide_type": "fragment"
    }
   },
   "source": [
    "The idea is to treat an implementation as a datum that can be returned by the operand types."
   ]
  },
  {
   "cell_type": "markdown",
   "metadata": {
    "slideshow": {
     "slide_type": "fragment"
    }
   },
   "source": [
    "```{important}\n",
    "\n",
    "- `x + y` is a [*syntactic sugar*](https://en.wikipedia.org/wiki/Syntactic_sugar) that\n",
    "- invokes the method `type(x).__add__(x,y)` of `type(x)` to do the addition.\n",
    "```"
   ]
  },
  {
   "cell_type": "code",
   "execution_count": 45,
   "metadata": {
    "ExecuteTime": {
     "end_time": "2020-10-09T12:10:46.316918Z",
     "start_time": "2020-10-09T12:10:46.313007Z"
    },
    "slideshow": {
     "slide_type": "subslide"
    }
   },
   "outputs": [
    {
     "name": "stdout",
     "output_type": "stream",
     "text": [
      "1/2 + 1 = 3/2\n",
      "1 + 1/2 = NotImplemented\n"
     ]
    }
   ],
   "source": [
    "for x, y in (Fraction(1, 2), 1), (1, Fraction(1, 2)):\n",
    "    print(f\"{x} + {y} = {type(x).__add__(x,y)}\")  # instead of x + y"
   ]
  },
  {
   "cell_type": "markdown",
   "metadata": {
    "slideshow": {
     "slide_type": "fragment"
    }
   },
   "source": [
    "- The first case calls `Fraction.__add__`, which provides a way to add `int` to `Fraction`.\n",
    "- The second case calls `int.__add__`, which cannot provide any way of adding `Fraction` to `int`. (Why not?)"
   ]
  },
  {
   "cell_type": "markdown",
   "metadata": {
    "slideshow": {
     "slide_type": "fragment"
    }
   },
   "source": [
    "**Why does python return a [`NotImplemented` object](https://docs.python.org/3.6/library/constants.html#NotImplemented) instead of raising an error/exception?**"
   ]
  },
  {
   "cell_type": "markdown",
   "metadata": {
    "slideshow": {
     "slide_type": "fragment"
    }
   },
   "source": [
    "- This allows `+` to continue to handle the addition by\n",
    "- dispatching on `Fraction` to call its reverse addition method [`__radd__`](https://docs.python.org/3.6/library/numbers.html#implementing-the-arithmetic-operations)."
   ]
  },
  {
   "cell_type": "code",
   "execution_count": 46,
   "metadata": {
    "ExecuteTime": {
     "end_time": "2020-10-09T12:17:26.210151Z",
     "start_time": "2020-10-09T12:17:26.206468Z"
    },
    "code_folding": [],
    "slideshow": {
     "slide_type": "fragment"
    }
   },
   "outputs": [
    {
     "data": {
      "application/vnd.jupyter.widget-view+json": {
       "model_id": "ed284bef148c42a7847c91b203e19362",
       "version_major": 2,
       "version_minor": 0
      },
      "text/plain": [
       "OPTWidget(value=None, height=500, script='from fractions import Fraction\\n\\n\\ndef add(x, y):\\n    \"\"\"Simulate …"
      ]
     },
     "execution_count": 46,
     "metadata": {},
     "output_type": "execute_result"
    }
   ],
   "source": [
    "%%optlite -h 500\n",
    "from fractions import Fraction\n",
    "\n",
    "\n",
    "def add(x, y):\n",
    "    \"\"\"Simulate the + operator.\"\"\"\n",
    "    sum = x.__add__(y)\n",
    "    if sum is NotImplemented:\n",
    "        sum = y.__radd__(x)\n",
    "    return sum\n",
    "\n",
    "\n",
    "for x, y in (Fraction(1, 2), 1), (1, Fraction(1, 2)):\n",
    "    print(f\"{x} + {y} = {add(x,y)}\")"
   ]
  },
  {
   "cell_type": "markdown",
   "metadata": {
    "slideshow": {
     "slide_type": "subslide"
    }
   },
   "source": [
    "```{important}\n",
    "\n",
    "The object-oriented programming techniques involved are formally called:\n",
    "- [*Polymorphism*](https://en.wikipedia.org/wiki/Polymorphism_(computer_science)): Different types can have different implementations of the same method such as `__add__`.  \n",
    "- [*Single dispatch*](https://en.wikipedia.org/wiki/Dynamic_dispatch): The implementation is chosen based on one single type at a time. `+` calls `__add__` of the first operand, and if not properly implemented for the second operand type, `__radd__` of the second operand. \n",
    "```"
   ]
  },
  {
   "cell_type": "markdown",
   "metadata": {
    "slideshow": {
     "slide_type": "fragment"
    }
   },
   "source": [
    "```{note}\n",
    "\n",
    "- A method with *starting and trailing double underscores* in its name is called a [*dunder method*](https://dbader.org/blog/meaning-of-underscores-in-python).  \n",
    "- Dunder methods are not intended to be called directly. E.g., we normally use `+` instead of `__add__`.\n",
    "- [Other operators](https://docs.python.org/3/library/operator.html?highlight=operator) have their corresponding dunder methods that overloads the operator.\n",
    "```"
   ]
  },
  {
   "cell_type": "markdown",
   "metadata": {
    "deletable": false,
    "nbgrader": {
     "cell_type": "markdown",
     "checksum": "d32fdd668a59edffe7649c719393ea59",
     "grade": true,
     "grade_id": "MyStr",
     "locked": false,
     "points": 0,
     "schema_version": 3,
     "solution": true,
     "task": false
    },
    "slideshow": {
     "slide_type": "-"
    }
   },
   "source": [
    "# Summary\n",
    "1. Understand some concepts such as class, object and object-oriented programming.\n",
    "\n",
    "2. Know how to create, read/write, close files\n",
    "\n",
    "3. Know how to operate strings, such as `upper()`, `split()`, `strip()`, `join()`\n",
    "\n",
    "4. Understand what is object aliasing\n",
    "5. Understand what is operator overloading"
   ]
  }
 ],
 "metadata": {
  "celltoolbar": "Edit Metadata",
  "kernelspec": {
   "display_name": "Python 3 (ipykernel)",
   "language": "python",
   "name": "python3"
  },
  "language_info": {
   "codemirror_mode": {
    "name": "ipython",
    "version": 3
   },
   "file_extension": ".py",
   "mimetype": "text/x-python",
   "name": "python",
   "nbconvert_exporter": "python",
   "pygments_lexer": "ipython3",
   "version": "3.11.10"
  },
  "latex_envs": {
   "LaTeX_envs_menu_present": true,
   "autoclose": false,
   "autocomplete": true,
   "bibliofile": "biblio.bib",
   "cite_by": "apalike",
   "current_citInitial": 1,
   "eqLabelWithNumbers": true,
   "eqNumInitial": 1,
   "hotkeys": {
    "equation": "Ctrl-E",
    "itemize": "Ctrl-I"
   },
   "labels_anchors": false,
   "latex_user_defs": false,
   "report_style_numbering": false,
   "user_envs_cfg": false
  },
  "rise": {
   "enable_chalkboard": true,
   "scroll": true,
   "theme": "white"
  },
  "scenes_data": {
   "active_scene": "Default Scene",
   "init_scene": "",
   "scenes": [
    "Default Scene"
   ]
  },
  "toc": {
   "base_numbering": 1,
   "nav_menu": {
    "height": "195px",
    "width": "330px"
   },
   "number_sections": true,
   "sideBar": true,
   "skip_h1_title": true,
   "title_cell": "Table of Contents",
   "title_sidebar": "Contents",
   "toc_cell": false,
   "toc_position": {
    "height": "582.599px",
    "left": "657.989px",
    "top": "287px",
    "width": "439.844px"
   },
   "toc_section_display": true,
   "toc_window_display": false
  },
  "widgets": {
   "application/vnd.jupyter.widget-state+json": {
    "state": {
     "07e99bf9dc164e878f2ec5a6ff0732be": {
      "model_module": "jupyter-divewidgets",
      "model_module_version": "^0.1.5",
      "model_name": "OPTWidgetModel",
      "state": {
       "_model_module_version": "^0.1.5",
       "_model_name": "OPTWidgetModel",
       "_view_module_version": "^0.1.5",
       "_view_name": "OPTWidgetView",
       "height": 400,
       "layout": "IPY_MODEL_c5278d6319ed4e58980a2708a0557bc4",
       "script": "x = y = complex(1, 0)\nz = complex(1, 0)\nprint(x == y == z == 1.0)\nx_id = id(x)\ny_id = id(y)\nz_id = id(z)\nprint(x is y)  # id(x) == id(y)\nprint(x is not z)  # id(x) != id(z)\n",
       "srcprefix": "https://dive4dec.github.io/optlite/#mode=display&code=",
       "width": 1100
      }
     },
     "140cb623729d4c399f47deeda5deda0c": {
      "model_module": "jupyter-divewidgets",
      "model_module_version": "^0.1.5",
      "model_name": "OPTWidgetModel",
      "state": {
       "_model_module_version": "^0.1.5",
       "_model_name": "OPTWidgetModel",
       "_view_module_version": "^0.1.5",
       "_view_name": "OPTWidgetView",
       "height": 350,
       "layout": "IPY_MODEL_5f2205aae1284d9f80313c2c0d25370f",
       "script": "print(10**10 is 10**10)\nprint(10**100 is 10**100)\n",
       "srcprefix": "https://dive4dec.github.io/optlite/#mode=display&code=",
       "width": 1100
      }
     },
     "1d34d8897ff448adae2c6d64772bc85b": {
      "model_module": "@jupyter-widgets/base",
      "model_module_version": "1.2.0",
      "model_name": "LayoutModel",
      "state": {}
     },
     "400f3ff508524bd1b67532dc44bd9fed": {
      "model_module": "jupyter-divewidgets",
      "model_module_version": "^0.1.5",
      "model_name": "OPTWidgetModel",
      "state": {
       "_model_module_version": "^0.1.5",
       "_model_name": "OPTWidgetModel",
       "_view_module_version": "^0.1.5",
       "_view_name": "OPTWidgetView",
       "height": 700,
       "layout": "IPY_MODEL_4fe38950202543d7ad8c59b61909a49f",
       "script": "class MyStr(str):\n    def __add__(self, a):\n        return MyStr(str.__add__(self, str(a)))\n\n    def __radd__(self, a):\n        return MyStr(str.__add__(str(a), self))\n\n\nMyStr(1) + 2, 2 + MyStr(1)\n",
       "srcprefix": "https://dive4dec.github.io/optlite/#mode=display&code=",
       "width": 1100
      }
     },
     "4fe38950202543d7ad8c59b61909a49f": {
      "model_module": "@jupyter-widgets/base",
      "model_module_version": "1.2.0",
      "model_name": "LayoutModel",
      "state": {}
     },
     "535d91ea0a4d4c848cf7311c5187739e": {
      "model_module": "jupyter-divewidgets",
      "model_module_version": "^0.1.5",
      "model_name": "OPTWidgetModel",
      "state": {
       "_model_module_version": "^0.1.5",
       "_model_name": "OPTWidgetModel",
       "_view_module_version": "^0.1.5",
       "_view_name": "OPTWidgetView",
       "height": 300,
       "layout": "IPY_MODEL_eaf51e028fd0461c823bbc1f094c145e",
       "script": "for x, y in (1, 1), (\"1\", \"1\"), (1, \"1\"):\n    print(f\"{x!r:^5} + {y!r:^5} = {x+y!r}\")\n",
       "srcprefix": "https://dive4dec.github.io/optlite/#mode=display&code=",
       "width": 1100
      }
     },
     "5f2205aae1284d9f80313c2c0d25370f": {
      "model_module": "@jupyter-widgets/base",
      "model_module_version": "1.2.0",
      "model_name": "LayoutModel",
      "state": {}
     },
     "6c79828a63cb491aa87649e8a7d8b9b7": {
      "model_module": "jupyter-divewidgets",
      "model_module_version": "^0.1.5",
      "model_name": "OPTWidgetModel",
      "state": {
       "_model_module_version": "^0.1.5",
       "_model_name": "OPTWidgetModel",
       "_view_module_version": "^0.1.5",
       "_view_name": "OPTWidgetView",
       "height": 350,
       "layout": "IPY_MODEL_e9e33aa24a6341708cfdece42c1e7895",
       "script": "x = y = \"abc\"\nprint(x is y)\nprint(y is \"abc\")\nprint(x + y is x + \"abc\")\n",
       "srcprefix": "https://dive4dec.github.io/optlite/#mode=display&code=",
       "width": 1100
      }
     },
     "71fe65ebfa6c4b438790604e0f93c64e": {
      "model_module": "jupyter-divewidgets",
      "model_module_version": "^0.1.5",
      "model_name": "OPTWidgetModel",
      "state": {
       "_model_module_version": "^0.1.5",
       "_model_name": "OPTWidgetModel",
       "_view_module_version": "^0.1.5",
       "_view_name": "OPTWidgetView",
       "height": 400,
       "layout": "IPY_MODEL_95c8cbce676a45f0946525c3c22e7268",
       "script": "class MyStr(str):\n    def __add__(self, a):\n        return MyStr(str.__add__(self, str(a)))\n\n    def __radd__(self, a):\n        return MyStr(str.__add__(str(a), self))\n\n\nprint(MyStr(1) + 2, 2 + MyStr(1))\n",
       "srcprefix": "https://dive4dec.github.io/optlite/live.html#code=",
       "width": 1100
      }
     },
     "95c8cbce676a45f0946525c3c22e7268": {
      "model_module": "@jupyter-widgets/base",
      "model_module_version": "1.2.0",
      "model_name": "LayoutModel",
      "state": {}
     },
     "c0f1d5f4df414ea19172e71431b50955": {
      "model_module": "@jupyter-widgets/base",
      "model_module_version": "1.2.0",
      "model_name": "LayoutModel",
      "state": {}
     },
     "c5278d6319ed4e58980a2708a0557bc4": {
      "model_module": "@jupyter-widgets/base",
      "model_module_version": "1.2.0",
      "model_name": "LayoutModel",
      "state": {}
     },
     "cd2e46d107bc4b19bae882ef1288ddeb": {
      "model_module": "@jupyter-widgets/base",
      "model_module_version": "1.2.0",
      "model_name": "LayoutModel",
      "state": {}
     },
     "d633bf4ccdc440eba90015e41b1d58c0": {
      "model_module": "jupyter-divewidgets",
      "model_module_version": "^0.1.5",
      "model_name": "OPTWidgetModel",
      "state": {
       "_model_module_version": "^0.1.5",
       "_model_name": "OPTWidgetModel",
       "_view_module_version": "^0.1.5",
       "_view_name": "OPTWidgetView",
       "height": 500,
       "layout": "IPY_MODEL_cd2e46d107bc4b19bae882ef1288ddeb",
       "script": "from fractions import Fraction\n\n\ndef add(x, y):\n    \"\"\"Simulate the + operator.\"\"\"\n    sum = x.__add__(y)\n    if sum is NotImplemented:\n        sum = y.__radd__(x)\n    return sum\n\n\nfor x, y in (Fraction(1, 2), 1), (1, Fraction(1, 2)):\n    print(f\"{x} + {y} = {add(x,y)}\")\n",
       "srcprefix": "https://dive4dec.github.io/optlite/#mode=display&code=",
       "width": 1100
      }
     },
     "e9e33aa24a6341708cfdece42c1e7895": {
      "model_module": "@jupyter-widgets/base",
      "model_module_version": "1.2.0",
      "model_name": "LayoutModel",
      "state": {}
     },
     "eaf51e028fd0461c823bbc1f094c145e": {
      "model_module": "@jupyter-widgets/base",
      "model_module_version": "1.2.0",
      "model_name": "LayoutModel",
      "state": {}
     },
     "f673cd0dc8004e5cb569416a808ce424": {
      "model_module": "jupyter-divewidgets",
      "model_module_version": "^0.1.5",
      "model_name": "OPTWidgetModel",
      "state": {
       "_model_module_version": "^0.1.5",
       "_model_name": "OPTWidgetModel",
       "_view_module_version": "^0.1.5",
       "_view_name": "OPTWidgetView",
       "height": 500,
       "layout": "IPY_MODEL_c0f1d5f4df414ea19172e71431b50955",
       "script": "def add_case_by_case(x, y):\n    if isinstance(x, int) and isinstance(y, int):\n        print(\"Do integer summation...\")\n    elif isinstance(x, str) and isinstance(y, str):\n        print(\"Do string concatenation...\")\n    else:\n        print(\"Return a TypeError...\")\n    return x + y  # replaced by internal implementations\n\n\nfor x, y in (1, 1), (\"1\", \"1\"), (1, \"1\"):\n    print(f\"{x!r:^10} + {y!r:^10} = {add_case_by_case(x,y)!r}\")\n",
       "srcprefix": "https://dive4dec.github.io/optlite/#mode=display&code=",
       "width": 1100
      }
     },
     "fb5835733b1a40899f9705974ac083cb": {
      "model_module": "jupyter-divewidgets",
      "model_module_version": "^0.1.5",
      "model_name": "OPTWidgetModel",
      "state": {
       "_model_module_version": "^0.1.5",
       "_model_name": "OPTWidgetModel",
       "_view_module_version": "^0.1.5",
       "_view_name": "OPTWidgetView",
       "height": 300,
       "layout": "IPY_MODEL_1d34d8897ff448adae2c6d64772bc85b",
       "script": "def f(f):\n    return f\n\n\nf = f(f)\n",
       "srcprefix": "https://dive4dec.github.io/optlite/#mode=display&code=",
       "width": 1100
      }
     }
    },
    "version_major": 2,
    "version_minor": 0
   }
  }
 },
 "nbformat": 4,
 "nbformat_minor": 4
}
