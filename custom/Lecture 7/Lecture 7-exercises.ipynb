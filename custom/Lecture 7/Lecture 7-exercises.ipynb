{
 "cells": [
  {
   "cell_type": "markdown",
   "metadata": {},
   "source": [
    "### Exercises"
   ]
  },
  {
   "cell_type": "markdown",
   "metadata": {},
   "source": [
    "(1) Write a function `find_record(name)` that finds the record of the name from the `contact.csv` file, and prints his name, email address and phone number in different lines.\n",
    "\n",
    "For example, if we call `find_record('Tai Ming Chan')`, expected output is as follows.\n",
    "\n",
    "```\n",
    "Tai Ming Chan\n",
    "tmchan@cityu.edu.hk\n",
    "(634) 234-7294\n",
    "```\n",
    "\n",
    "If the name is not found in `contact.csv`, the function will print `Not Found`."
   ]
  },
  {
   "cell_type": "code",
   "execution_count": null,
   "metadata": {},
   "outputs": [],
   "source": [
    "def find_record(name):\n",
    "    #YOUR CODE HERE\n",
    "                \n",
    "find_record('Tai Ming Chan')"
   ]
  },
  {
   "cell_type": "markdown",
   "metadata": {},
   "source": [
    "(2) Write a function `remove_character(string, character)` that removes the character from the string. For example, remove_character('CS1302', `S`) will return `C1302` (after removing `S`)"
   ]
  },
  {
   "cell_type": "code",
   "execution_count": null,
   "metadata": {},
   "outputs": [],
   "source": [
    "def remove_character(string, character):\n",
    "    #YOUR CODE HERE\n",
    "\n",
    "remove_character(\"CS1302\",\"S\")"
   ]
  },
  {
   "cell_type": "markdown",
   "metadata": {},
   "source": [
    "(3) Complete the following `anagramCheck` function which checks if two Strings are Anagram.\n",
    "\n",
    "- An anagram of a string is another string that contains the same characters, only the order of characters can be different. For example, “abcd” and “dabc” are an anagram of each other."
   ]
  },
  {
   "cell_type": "code",
   "execution_count": null,
   "metadata": {
    "ExecuteTime": {
     "end_time": "2021-02-06T12:22:32.827169Z",
     "start_time": "2021-02-06T12:22:32.819839Z"
    }
   },
   "outputs": [],
   "source": [
    "def anagramCheck(str1, str2):\n",
    "    #YOUR CODE HERE\n",
    "\n",
    "print(anagramCheck(\"abcd\",\"dabc\")) #this should print True\n",
    "print(anagramCheck(\"apple\",\"app\")) #this should print False"
   ]
  },
  {
   "cell_type": "markdown",
   "metadata": {},
   "source": [
    "(4) Write a program `count_occurrence(string, character)` to count occurrence of a given character in a String. For example, `count_occurrence('apple', 'p')` will return 2, and `count_occurrence('apple', 'a')` will return 1."
   ]
  },
  {
   "cell_type": "code",
   "execution_count": null,
   "metadata": {},
   "outputs": [],
   "source": [
    "def count_occurrence(string, character):\n",
    "    #YOUR CODE HERE\n",
    "\n",
    "print(count_occurrence('apple','p')) #this should print 2\n",
    "print(count_occurrence('apple','a')) #this should print 1"
   ]
  },
  {
   "cell_type": "markdown",
   "metadata": {},
   "source": [
    "(5) Write a function `chars_mix_up(a,b)` which returns a single string from two given strings `a` and `b`, separated by a space and swap the first two characters of each string. For example, `chars_mix_up('abc','xyz')` will return `'xyc abz'`."
   ]
  },
  {
   "cell_type": "code",
   "execution_count": null,
   "metadata": {},
   "outputs": [],
   "source": [
    "def chars_mix_up(a, b):\n",
    "    #YOUR CODE HERE\n",
    "\n",
    "print(chars_mix_up('abc', 'xyz')) #the output should be `xyc abz`"
   ]
  }
 ],
 "metadata": {
  "kernelspec": {
   "display_name": "Python 3 (ipykernel)",
   "language": "python",
   "name": "python3"
  },
  "language_info": {
   "codemirror_mode": {
    "name": "ipython",
    "version": 3
   },
   "file_extension": ".py",
   "mimetype": "text/x-python",
   "name": "python",
   "nbconvert_exporter": "python",
   "pygments_lexer": "ipython3",
   "version": "3.10.6"
  },
  "latex_envs": {
   "LaTeX_envs_menu_present": true,
   "autoclose": false,
   "autocomplete": true,
   "bibliofile": "biblio.bib",
   "cite_by": "apalike",
   "current_citInitial": 1,
   "eqLabelWithNumbers": true,
   "eqNumInitial": 1,
   "hotkeys": {
    "equation": "Ctrl-E",
    "itemize": "Ctrl-I"
   },
   "labels_anchors": false,
   "latex_user_defs": false,
   "report_style_numbering": false,
   "user_envs_cfg": false
  },
  "toc": {
   "base_numbering": 1,
   "nav_menu": {},
   "number_sections": true,
   "sideBar": true,
   "skip_h1_title": false,
   "title_cell": "Table of Contents",
   "title_sidebar": "Contents",
   "toc_cell": false,
   "toc_position": {},
   "toc_section_display": true,
   "toc_window_display": false
  }
 },
 "nbformat": 4,
 "nbformat_minor": 4
}
