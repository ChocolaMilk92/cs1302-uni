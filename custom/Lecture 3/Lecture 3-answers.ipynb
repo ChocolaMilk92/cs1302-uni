{
 "cells": [
  {
   "cell_type": "markdown",
   "metadata": {},
   "source": [
    "# Exercises"
   ]
  },
  {
   "cell_type": "code",
   "execution_count": 6,
   "metadata": {
    "ExecuteTime": {
     "end_time": "2021-01-31T14:01:33.026009Z",
     "start_time": "2021-01-31T14:01:32.986082Z"
    },
    "slideshow": {
     "slide_type": "fragment"
    }
   },
   "outputs": [],
   "source": [
    "%reset -f\n",
    "from ipywidgets import interact"
   ]
  },
  {
   "cell_type": "markdown",
   "metadata": {
    "slideshow": {
     "slide_type": "slide"
    }
   },
   "source": [
    "**Exercise 1**\n",
    "\n",
    "Calculate the returned value of the following chained boolean expressions without running it in cells (i.e., calculate manually).\n",
    "1. True and True or False and False\n",
    "2. False and False or True and True or False\n",
    "3. False or True or False or True\n",
    "4. not False or True and False and True\n",
    "5. True and False or not True and False"
   ]
  },
  {
   "cell_type": "code",
   "execution_count": 2,
   "metadata": {
    "slideshow": {
     "slide_type": "fragment"
    }
   },
   "outputs": [
    {
     "name": "stdout",
     "output_type": "stream",
     "text": [
      "True\n",
      "True\n",
      "True\n",
      "True\n",
      "False\n"
     ]
    }
   ],
   "source": [
    "#run the following code to see the results\n",
    "\n",
    "print(True and True or False and False)\n",
    "print(False and False or True and True or False)\n",
    "print(False or True or False or True)\n",
    "print(not False or True and False and True)\n",
    "print(True and False or not True and False)"
   ]
  },
  {
   "cell_type": "markdown",
   "metadata": {
    "slideshow": {
     "slide_type": "slide"
    }
   },
   "source": [
    "**Exercise 2**\n",
    "\n",
    "The following code is used to receive an integer from user and then print different results based on whether it is an odd number or even number. Complete the code to make it work."
   ]
  },
  {
   "cell_type": "code",
   "execution_count": 4,
   "metadata": {
    "slideshow": {
     "slide_type": "fragment"
    }
   },
   "outputs": [
    {
     "name": "stdout",
     "output_type": "stream",
     "text": [
      "Please input an integer:20\n",
      "It is an even number\n"
     ]
    }
   ],
   "source": [
    "n = int(input(\"Please input an integer:\"))\n",
    "\n",
    "if n%2 ==1:\n",
    "    print(\"It is an odd number\")\n",
    "else:\n",
    "    print(\"It is an even number\")"
   ]
  },
  {
   "cell_type": "markdown",
   "metadata": {
    "ExecuteTime": {
     "end_time": "2021-01-31T12:43:17.189410Z",
     "start_time": "2021-01-31T12:43:17.182799Z"
    },
    "slideshow": {
     "slide_type": "slide"
    }
   },
   "source": [
    "**Exercise 3**\n",
    "\n",
    "**Different ways to give boolean expressions**\n",
    "\n",
    "Suppose `num_of_questions` stores the number of exercises to be done.  Which of the following checkings can give correct (meaningful) output? \n",
    "\n",
    "Hint: All are meaningful except one. 😀"
   ]
  },
  {
   "cell_type": "code",
   "execution_count": 9,
   "metadata": {
    "ExecuteTime": {
     "end_time": "2021-01-31T12:49:31.261148Z",
     "start_time": "2021-01-31T12:49:31.234874Z"
    },
    "slideshow": {
     "slide_type": "fragment"
    }
   },
   "outputs": [
    {
     "data": {
      "application/vnd.jupyter.widget-view+json": {
       "model_id": "54992cff52a14f1aa65f1c8599a77536",
       "version_major": 2,
       "version_minor": 0
      },
      "text/plain": [
       "interactive(children=(IntSlider(value=3, description='num_of_questions', max=10), Output()), _dom_classes=('wi…"
      ]
     },
     "metadata": {},
     "output_type": "display_data"
    }
   ],
   "source": [
    "@interact(num_of_questions=(0,10,1))\n",
    "def g(num_of_questions=3):\n",
    "    if num_of_questions > 0:          print(\"[check#1] Mary needs to work\") \n",
    "    if num_of_questions >= 1:         print(\"[check#2] Mary needs to work\") \n",
    "    if num_of_questions-1 >= 0:       print(\"[check#3] Mary needs to work\")\n",
    "    if num_of_questions > 0 == True:  print(\"[check#4] Mary needs to work\")\n",
    "    if num_of_questions:              print(\"[check#5] Mary needs to work\")\n",
    "    if not num_of_questions:          print(\"[check#6] Mary DOESN'T need to work\")\n",
    "        \n",
    "        \n",
    "x > y < z--> (x>y) and (y<z)"
   ]
  },
  {
   "cell_type": "markdown",
   "metadata": {
    "slideshow": {
     "slide_type": "fragment"
    }
   },
   "source": [
    "Answer: `if num_of_questions > 0 == True:` is wrong. Because `num_of_questions > 0 == True` will be evaluated as `(num_of_questions > 0) and (0 == True)`"
   ]
  },
  {
   "cell_type": "markdown",
   "metadata": {
    "slideshow": {
     "slide_type": "slide"
    }
   },
   "source": [
    "**Exercise 4**"
   ]
  },
  {
   "cell_type": "markdown",
   "metadata": {
    "slideshow": {
     "slide_type": "fragment"
    }
   },
   "source": [
    "**1. Try the following**"
   ]
  },
  {
   "cell_type": "code",
   "execution_count": 10,
   "metadata": {
    "ExecuteTime": {
     "end_time": "2021-01-31T12:50:24.000662Z",
     "start_time": "2021-01-31T12:50:23.890809Z"
    },
    "slideshow": {
     "slide_type": "fragment"
    }
   },
   "outputs": [
    {
     "data": {
      "application/vnd.jupyter.widget-view+json": {
       "model_id": "111fceed26404db2a5ef162e8692a5b7",
       "version_major": 2,
       "version_minor": 0
      },
      "text/plain": [
       "interactive(children=(IntSlider(value=0, description='num_MA_homework', max=3), IntSlider(value=0, description…"
      ]
     },
     "metadata": {},
     "output_type": "display_data"
    }
   ],
   "source": [
    "@interact(num_MA_homework=(0, 3, 1), num_CS1302_homework=(0, 3, 1), num_EN_homework=(0, 3, 1))\n",
    "def g(num_MA_homework=0, num_CS1302_homework=0, num_EN_homework=0):\n",
    "    no_homework = True\n",
    "    if num_MA_homework > 0:\n",
    "        no_homework = False\n",
    "    if num_CS1302_homework > 0:\n",
    "        no_homework = False\n",
    "    if num_EN_homework > 0:\n",
    "        no_homework = False\n",
    "    if no_homework != True:\n",
    "        return \"\\U0001F61E\" #this is an disappointed face\n",
    "    else: \n",
    "        return \"\\U0001f600\" #this is a grinning face"
   ]
  },
  {
   "cell_type": "markdown",
   "metadata": {
    "slideshow": {
     "slide_type": "fragment"
    }
   },
   "source": [
    "**2. The code above is a bit confusing when reading.**\n",
    "\n",
    "Can we improve the program?  How?  \n",
    "- For why it is confusing, it is because the variable name is negative\n",
    "\n",
    "Is your answer close to this one?  Complete it."
   ]
  },
  {
   "cell_type": "code",
   "execution_count": null,
   "metadata": {
    "ExecuteTime": {
     "end_time": "2021-01-31T12:59:00.246506Z",
     "start_time": "2021-01-31T12:59:00.114005Z"
    },
    "slideshow": {
     "slide_type": "fragment"
    }
   },
   "outputs": [],
   "source": [
    "@interact(num_MA_homework=(0, 3, 1), num_CS1302_homework=(0, 3, 1), num_EN_homework=(0, 3, 1))\n",
    "def g(num_MA_homework=0, num_CS1302_homework=0, num_EN_homework=0):\n",
    "    has_homework = False \n",
    "    if num_MA_homework > 0:\n",
    "        has_homework = ____\n",
    "    if num_CS1302_homework > 0:\n",
    "        has_homework = ____\n",
    "    if num_EN_homework > 0:\n",
    "        has_homework = ____\n",
    "    if has_homework == ____:\n",
    "        return \"\\U0001F61E\"\n",
    "    else:\n",
    "        return \"\\U0001f600\""
   ]
  },
  {
   "cell_type": "code",
   "execution_count": null,
   "metadata": {
    "ExecuteTime": {
     "end_time": "2021-01-31T13:00:04.326406Z",
     "start_time": "2021-01-31T13:00:04.277461Z"
    },
    "slideshow": {
     "slide_type": "fragment"
    }
   },
   "outputs": [],
   "source": [
    "#ANSWER\n",
    "@interact(num_MA_homework=(0, 3, 1), num_CS1302_homework=(0, 3, 1), num_EN_homework=(0, 3, 1))\n",
    "def g(num_MA_homework=0, num_CS1302_homework=0, num_EN_homework=0):\n",
    "    has_homework = False   \n",
    "    if num_MA_homework > 0:\n",
    "        has_homework = True\n",
    "    if num_CS1302_homework > 0:\n",
    "        has_homework = True\n",
    "    if num_EN_homework > 0:\n",
    "        has_homework = True\n",
    "    if has_homework == True:\n",
    "        return \"\\U0001F61E\"\n",
    "    else:\n",
    "        return \"\\U0001f600\""
   ]
  },
  {
   "cell_type": "markdown",
   "metadata": {
    "ExecuteTime": {
     "end_time": "2021-01-31T12:48:36.239257Z",
     "start_time": "2021-01-31T12:48:36.233008Z"
    },
    "slideshow": {
     "slide_type": "slide"
    }
   },
   "source": [
    "**3. After class, try to revise the following code to tell your emotion today 😀 etc.**"
   ]
  },
  {
   "cell_type": "markdown",
   "metadata": {
    "slideshow": {
     "slide_type": "fragment"
    }
   },
   "source": [
    "The unicode of the Emoji emotion can be found [here](https://en.wikipedia.org/wiki/Emoticons_(Unicode_block))"
   ]
  },
  {
   "cell_type": "code",
   "execution_count": 17,
   "metadata": {
    "slideshow": {
     "slide_type": "fragment"
    }
   },
   "outputs": [
    {
     "name": "stdout",
     "output_type": "stream",
     "text": [
      "Please enter your emotion (happy/sad/disappointed/worried):happiness\n",
      "Please enter a valid emotion!\n"
     ]
    }
   ],
   "source": [
    "emotion = input('Please enter your emotion (happy/sad/disappointed/worried):')\n",
    "\n",
    "if emotion == \"happy\":\n",
    "    print(\"\\U0001F603\")\n",
    "elif emotion == \"sad\":\n",
    "    print(\"\\U0001F62D\")\n",
    "elif emotion == \"disappointed\":\n",
    "    print(\"\\U0001F61E\")\n",
    "elif emotion == \"worried\":\n",
    "    print(\"\\U0001F61F\")\n",
    "else:\n",
    "    print(\"Please enter a valid emotion!\")"
   ]
  },
  {
   "cell_type": "code",
   "execution_count": 19,
   "metadata": {},
   "outputs": [
    {
     "name": "stdout",
     "output_type": "stream",
     "text": [
      "😌\n"
     ]
    }
   ],
   "source": [
    "print(\"\\U0001F60C\")"
   ]
  },
  {
   "cell_type": "code",
   "execution_count": null,
   "metadata": {},
   "outputs": [],
   "source": []
  }
 ],
 "metadata": {
  "celltoolbar": "Slideshow",
  "kernelspec": {
   "display_name": "Python 3 (ipykernel)",
   "language": "python",
   "name": "python3"
  },
  "language_info": {
   "codemirror_mode": {
    "name": "ipython",
    "version": 3
   },
   "file_extension": ".py",
   "mimetype": "text/x-python",
   "name": "python",
   "nbconvert_exporter": "python",
   "pygments_lexer": "ipython3",
   "version": "3.11.9"
  },
  "latex_envs": {
   "LaTeX_envs_menu_present": true,
   "autoclose": false,
   "autocomplete": true,
   "bibliofile": "biblio.bib",
   "cite_by": "apalike",
   "current_citInitial": 1,
   "eqLabelWithNumbers": true,
   "eqNumInitial": 1,
   "hotkeys": {
    "equation": "Ctrl-E",
    "itemize": "Ctrl-I"
   },
   "labels_anchors": false,
   "latex_user_defs": false,
   "report_style_numbering": false,
   "user_envs_cfg": false
  },
  "scenes_data": {
   "active_scene": "Default Scene",
   "init_scene": "",
   "scenes": [
    "Default Scene"
   ]
  },
  "toc": {
   "base_numbering": 1,
   "nav_menu": {},
   "number_sections": false,
   "sideBar": true,
   "skip_h1_title": true,
   "title_cell": "Table of Contents",
   "title_sidebar": "Contents",
   "toc_cell": false,
   "toc_position": {},
   "toc_section_display": true,
   "toc_window_display": true
  }
 },
 "nbformat": 4,
 "nbformat_minor": 4
}
