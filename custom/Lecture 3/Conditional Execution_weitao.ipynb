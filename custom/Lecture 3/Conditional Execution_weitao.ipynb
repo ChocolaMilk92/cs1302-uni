{
 "cells": [
  {
   "cell_type": "markdown",
   "metadata": {
    "slideshow": {
     "slide_type": "slide"
    }
   },
   "source": [
    "# Conditional Execution"
   ]
  },
  {
   "cell_type": "code",
   "execution_count": 8,
   "metadata": {
    "ExecuteTime": {
     "end_time": "2020-11-27T11:20:04.656873Z",
     "start_time": "2020-11-27T11:20:04.651575Z"
    },
    "slideshow": {
     "slide_type": "fragment"
    },
    "tags": [
     "remove-cell"
    ]
   },
   "outputs": [
    {
     "name": "stdout",
     "output_type": "stream",
     "text": [
      "The divewidgets extension is already loaded. To reload it, use:\n",
      "  %reload_ext divewidgets\n",
      "The jupyter_ai extension is already loaded. To reload it, use:\n",
      "  %reload_ext jupyter_ai\n"
     ]
    },
    {
     "data": {
      "text/markdown": [
       "Updated target of alias `chatgpt`"
      ],
      "text/plain": [
       "Updated target of alias `chatgpt`"
      ]
     },
     "execution_count": 8,
     "metadata": {},
     "output_type": "execute_result"
    }
   ],
   "source": [
    "import math\n",
    "\n",
    "from flowcharts import *\n",
    "from ipywidgets import interact\n",
    "from dis import dis\n",
    "\n",
    "%load_ext divewidgets\n",
    "%load_ext jupyter_ai\n",
    "%ai update chatgpt dive:chat"
   ]
  },
  {
   "cell_type": "markdown",
   "metadata": {
    "slideshow": {
     "slide_type": "-"
    },
    "tags": [
     "remove-cell"
    ]
   },
   "source": [
    "Content\n",
    "1. Boolean expressions\n",
    "2. Comparison operators\n",
    "2. Conditional execution"
   ]
  },
  {
   "cell_type": "markdown",
   "metadata": {
    "slideshow": {
     "slide_type": "subslide"
    }
   },
   "source": [
    "## Motivation"
   ]
  },
  {
   "cell_type": "markdown",
   "metadata": {},
   "source": [
    "Conditional execution means running different pieces of code based on different conditions. Why do programmers need conditional executation?"
   ]
  },
  {
   "cell_type": "markdown",
   "metadata": {
    "slideshow": {
     "slide_type": "fragment"
    }
   },
   "source": [
    "For instance, when trying to compute `a/b`, `b` may be `0` and division by `0` is invalid."
   ]
  },
  {
   "cell_type": "code",
   "execution_count": 9,
   "metadata": {
    "slideshow": {
     "slide_type": "-"
    }
   },
   "outputs": [
    {
     "data": {
      "application/vnd.jupyter.widget-view+json": {
       "model_id": "e0153e8112134240b90c14ddc0f5b82b",
       "version_major": 2,
       "version_minor": 0
      },
      "text/plain": [
       "OPTWidget(value=None, height=450, script='def multiply_or_divide(a, b):\\n    print(\"a:{}, b:{}, a*b:{}, a/b:{}…"
      ]
     },
     "execution_count": 9,
     "metadata": {},
     "output_type": "execute_result"
    }
   ],
   "source": [
    "%%optlite -h 450\n",
    "def multiply_or_divide(a, b):\n",
    "    print(\"a:{}, b:{}, a*b:{}, a/b:{}\".format(a, b, a * b, a / b))\n",
    "\n",
    "\n",
    "multiply_or_divide(1, 2)\n",
    "multiply_or_divide(1, 0)"
   ]
  },
  {
   "cell_type": "markdown",
   "metadata": {},
   "source": [
    "Although division by 0 is invalid, multiplication remains valid but it is not printed due to the division error."
   ]
  },
  {
   "cell_type": "markdown",
   "metadata": {
    "slideshow": {
     "slide_type": "subslide"
    }
   },
   "source": [
    "Can we skip only the division but not the multiplication when `b` is equal to `0`?"
   ]
  },
  {
   "cell_type": "markdown",
   "metadata": {
    "slideshow": {
     "slide_type": "fragment"
    }
   },
   "source": [
    "One solution is to use a *conditional expression* \n",
    "\n",
    "```python\n",
    "... if ... else ...\n",
    "```\n",
    "\n",
    "that specifies which code block should be executed under what condition."
   ]
  },
  {
   "cell_type": "code",
   "execution_count": 10,
   "metadata": {
    "slideshow": {
     "slide_type": "fragment"
    }
   },
   "outputs": [
    {
     "name": "stdout",
     "output_type": "stream",
     "text": [
      "a:1, b:2, a*b:2, a/b:0.5\n",
      "a:1, b:0, a*b:0, a/b:undefined\n"
     ]
    }
   ],
   "source": [
    "def multiply_or_divide(a, b):\n",
    "    q = a / b if b else \"undefined\"\n",
    "    print(\"a:{}, b:{}, a*b:{}, a/b:{}\".format(a, b, a * b, q))\n",
    "\n",
    "\n",
    "multiply_or_divide(1, 2)\n",
    "multiply_or_divide(1, 0)  # multiplication is valid but not shown"
   ]
  },
  {
   "cell_type": "markdown",
   "metadata": {},
   "source": [
    "Another solution is to use a *boolean expression*\n",
    "\n",
    "```python\n",
    "... and ... or ...\n",
    "```"
   ]
  },
  {
   "cell_type": "code",
   "execution_count": 11,
   "metadata": {},
   "outputs": [
    {
     "name": "stdout",
     "output_type": "stream",
     "text": [
      "a:1, b:2, a*b:2, a/b:0.5\n",
      "a:1, b:0, a*b:0, a/b:undefined\n"
     ]
    }
   ],
   "source": [
    "def multiply_or_divide(a, b):\n",
    "    q = b and a / b or \"undefined\"\n",
    "    print(\"a:{}, b:{}, a*b:{}, a/b:{}\".format(a, b, a * b, q))\n",
    "\n",
    "\n",
    "multiply_or_divide(1, 2)\n",
    "multiply_or_divide(1, 0)  # multiplication is valid but not shown"
   ]
  },
  {
   "cell_type": "markdown",
   "metadata": {},
   "source": [
    "Yet another solution is to monitor and catch the error using a *try statement*:"
   ]
  },
  {
   "cell_type": "code",
   "execution_count": 12,
   "metadata": {},
   "outputs": [
    {
     "name": "stdout",
     "output_type": "stream",
     "text": [
      "a:1, b:2, a*b:2, a/b:0.5\n",
      "a:1, b:0, a*b:0, a/b:undefined\n"
     ]
    }
   ],
   "source": [
    "def multiply_or_divide(a, b):\n",
    "    try:\n",
    "        q = a / b\n",
    "    except ZeroDivisionError:\n",
    "        q = \"undefined\"\n",
    "    print(\"a:{}, b:{}, a*b:{}, a/b:{}\".format(a, b, a * b, q))\n",
    "\n",
    "\n",
    "multiply_or_divide(1, 2)\n",
    "multiply_or_divide(1, 0)  # multiplication is valid but not shown"
   ]
  },
  {
   "cell_type": "markdown",
   "metadata": {},
   "source": [
    "In this notebook, we will introduction the first two solutions but not the last one, even though the last one is a better way to handle exceptions when the operations get complicated."
   ]
  },
  {
   "cell_type": "code",
   "execution_count": 13,
   "metadata": {},
   "outputs": [
    {
     "data": {
      "text/plain": [
       "Using a try statement to handle exceptions and errors is more beneficial than using conditional checks because it allows for a more robust and flexible way of handling unexpected events. For example, consider a program that reads a file and processes its content. Without try-except, you would use conditional checks to verify if the file exists and is readable, and then attempt to read and process it. However, this approach is prone to errors and can lead to complex and convoluted code. With a try-except block, you can wrap the file reading code in a try statement and catch any exceptions that may occur, such as a file not found or permission denied error. This allows you to handle the error in a centralized way, reducing code complexity and making it easier to manage and debug."
      ]
     },
     "execution_count": 13,
     "metadata": {
      "jupyter_ai": {
       "model_id": "chat",
       "provider_id": "dive"
      }
     },
     "output_type": "execute_result"
    }
   ],
   "source": [
    "%%ai chatgpt -f text\n",
    "Explain in one paragraph, using a simple example, the benefits of using a try statement over conditional checks for handling exceptions and errors."
   ]
  },
  {
   "cell_type": "markdown",
   "metadata": {
    "slideshow": {
     "slide_type": "fragment"
    }
   },
   "source": [
    "## Conditional expression\n",
    "\n",
    "The second solution above uses a conditional expression:\n",
    "\n",
    "```python\n",
    "... if ... else ...\n",
    "```"
   ]
  },
  {
   "cell_type": "markdown",
   "metadata": {},
   "source": [
    "<div align=\"center\">\n",
    "<img src=https://www.cs.cityu.edu.hk/~helena/cs1302/nbImages/Lec03_conditional_expression.png width=900/>\n",
    "</div>"
   ]
  },
  {
   "cell_type": "code",
   "execution_count": 8,
   "metadata": {},
   "outputs": [
    {
     "name": "stdout",
     "output_type": "stream",
     "text": [
      "x is 1\n",
      "x is not 1\n"
     ]
    }
   ],
   "source": [
    "#Example\n",
    "x= 1\n",
    "print(\"x is 1\") if x==1 else print(\"x is not 1\") \n",
    "\n",
    "x= 2\n",
    "print(\"x is 1\") if x==1 else print(\"x is not 1\") "
   ]
  },
  {
   "cell_type": "code",
   "execution_count": 14,
   "metadata": {},
   "outputs": [
    {
     "name": "stdout",
     "output_type": "stream",
     "text": [
      "odd\n",
      "even\n"
     ]
    }
   ],
   "source": [
    "# Examples\n",
    "a = 1\n",
    "result = 'even' if a % 2 == 0 else 'odd'\n",
    "print(result)\n",
    "# odd\n",
    "\n",
    "a = 2\n",
    "result = 'even' if a % 2 == 0 else 'odd'\n",
    "print(result)\n",
    "# even"
   ]
  },
  {
   "cell_type": "markdown",
   "metadata": {
    "slideshow": {
     "slide_type": "subslide"
    }
   },
   "source": [
    "## Boolean expressions"
   ]
  },
  {
   "cell_type": "markdown",
   "metadata": {},
   "source": [
    "Boolean data type\n",
    "\n",
    "- The boolean data type only has two possible values `True` or `False`.\n",
    "- It's data type is represented by `bool` in Python.\n",
    "- Integers and floating point numbers can be converted to the boolean data type using `bool()` function.\n",
    "   - An int, float number set to zero returns `False`\n",
    "   - An integer, float number set to any other number, positive or negative, returns `True`\n",
    "   - In short, only 0 return `False`; any other number returns `True`\n",
    "   - If we convert True to int, we get 1; if we convert False to int, we get 0\n",
    "   \n",
    "Why Boolean data type?\n",
    "\n",
    "- It is common to use Booleans with control statements to determine the flow of a program\n",
    "- Some data only have two possible values, such as gender (male/female), binary number (1/0)"
   ]
  },
  {
   "cell_type": "code",
   "execution_count": 9,
   "metadata": {},
   "outputs": [
    {
     "name": "stdout",
     "output_type": "stream",
     "text": [
      "<class 'bool'>\n",
      "<class 'bool'>\n",
      "True\n",
      "True\n",
      "0 is False\n",
      "1 is True\n",
      "-2.5 is True\n",
      "True is 1\n",
      "False is 0\n"
     ]
    }
   ],
   "source": [
    "a = True\n",
    "b = False\n",
    "print(type(a))\n",
    "print(type(b))\n",
    "\n",
    "c=10\n",
    "c_bool=bool(c)\n",
    "print(c_bool)\n",
    "\n",
    "d=10.5\n",
    "d_bool=bool(d)\n",
    "print(d_bool)\n",
    "\n",
    "x =0\n",
    "print(x, 'is', bool(x))\n",
    "x=1\n",
    "print(x, 'is', bool(x))\n",
    "x=-2.5\n",
    "print(x, 'is', bool(x))\n",
    "\n",
    "print('True is', int(True))\n",
    "print('False is', int(False))"
   ]
  },
  {
   "cell_type": "markdown",
   "metadata": {
    "slideshow": {
     "slide_type": "subslide"
    }
   },
   "source": [
    "## Comparison Operators"
   ]
  },
  {
   "cell_type": "markdown",
   "metadata": {
    "slideshow": {
     "slide_type": "fragment"
    }
   },
   "source": [
    "**How to compare different values?**"
   ]
  },
  {
   "cell_type": "markdown",
   "metadata": {
    "slideshow": {
     "slide_type": "fragment"
    }
   },
   "source": [
    "Like the equality and inequality relationships in mathematics, Python also has binary [*comparison/relational operators*](https://docs.python.org/3/reference/expressions.html#comparisons):"
   ]
  },
  {
   "cell_type": "markdown",
   "metadata": {
    "slideshow": {
     "slide_type": "fragment"
    }
   },
   "source": [
    "| Expression |  True iff  |\n",
    "| ---------: | :--------- |\n",
    "|   `x == y` | $x=y$.     |\n",
    "|    `x < y` | $x<y$.     |\n",
    "|   `x <= y` | $x\\leq y$. |\n",
    "|    `x > y` | $x>y$.     |\n",
    "|   `x >= y` | $x\\geq y$. |\n",
    "|   `x != y` | $x\\neq y$. |"
   ]
  },
  {
   "cell_type": "markdown",
   "metadata": {
    "slideshow": {
     "slide_type": "subslide"
    }
   },
   "source": [
    "Explore these operators using the widgets below:"
   ]
  },
  {
   "cell_type": "code",
   "execution_count": 15,
   "metadata": {
    "ExecuteTime": {
     "end_time": "2020-09-11T23:49:58.452860Z",
     "start_time": "2020-09-11T23:49:58.406808Z"
    },
    "code_folding": [
     0
    ],
    "slideshow": {
     "slide_type": "fragment"
    }
   },
   "outputs": [
    {
     "data": {
      "application/vnd.jupyter.widget-view+json": {
       "model_id": "419e162e24764f3aac9811be4d3a2735",
       "version_major": 2,
       "version_minor": 0
      },
      "text/plain": [
       "interactive(children=(Text(value='10', description='operand1'), Dropdown(description='operator', options=('=='…"
      ]
     },
     "metadata": {},
     "output_type": "display_data"
    }
   ],
   "source": [
    "# Comparisons\n",
    "comparison_operators = [\"==\", \"<\", \"<=\", \">\", \">=\", \"!=\"]\n",
    "\n",
    "\n",
    "@interact(operand1=\"10\", operator=comparison_operators, operand2=\"3\")\n",
    "def comparison(operand1, operator, operand2):\n",
    "    expression = f\"{operand1} {operator} {operand2}\"\n",
    "    value = eval(expression)\n",
    "    print(\n",
    "        f\"\"\"{'Expression:':>11} {expression}\\n{'Value:':>11} {value}\\n{'Type:':>11} {type(value)}\"\"\"\n",
    "    )"
   ]
  },
  {
   "cell_type": "markdown",
   "metadata": {
    "slideshow": {
     "slide_type": "fragment"
    }
   },
   "source": [
    "- These operators return either `True` or `False`, which are `keywords` of type *boolean*.\n",
    "- The equality operator `==` consists of *two equal signs*, different from the assignment operator `=`."
   ]
  },
  {
   "cell_type": "markdown",
   "metadata": {
    "slideshow": {
     "slide_type": "subslide"
    }
   },
   "source": [
    "**What is the precedence of comparison operators?**"
   ]
  },
  {
   "cell_type": "markdown",
   "metadata": {
    "slideshow": {
     "slide_type": "fragment"
    }
   },
   "source": [
    "```{important}\n",
    "\n",
    "All the comparison operators have the [same precedence](https://docs.python.org/3/reference/expressions.html?highlight=precedence#operator-precedence) lower than that of `+` and `-`.\n",
    "```"
   ]
  },
  {
   "cell_type": "code",
   "execution_count": 16,
   "metadata": {
    "ExecuteTime": {
     "end_time": "2020-09-11T23:52:19.106039Z",
     "start_time": "2020-09-11T23:52:19.092278Z"
    },
    "slideshow": {
     "slide_type": "fragment"
    }
   },
   "outputs": [
    {
     "data": {
      "text/plain": [
       "True"
      ]
     },
     "execution_count": 16,
     "metadata": {},
     "output_type": "execute_result"
    }
   ],
   "source": [
    "1 + 2 >= 3  # equivalent to (1 + 2) >= 3"
   ]
  },
  {
   "cell_type": "markdown",
   "metadata": {
    "slideshow": {
     "slide_type": "fragment"
    }
   },
   "source": [
    "Python allows multiple comparison operations to be chained together:"
   ]
  },
  {
   "cell_type": "code",
   "execution_count": 17,
   "metadata": {
    "ExecuteTime": {
     "end_time": "2020-09-12T05:54:39.873338Z",
     "start_time": "2020-09-12T05:54:39.867318Z"
    },
    "slideshow": {
     "slide_type": "-"
    }
   },
   "outputs": [
    {
     "data": {
      "text/plain": [
       "True"
      ]
     },
     "execution_count": 17,
     "metadata": {},
     "output_type": "execute_result"
    }
   ],
   "source": [
    "2.0 == 2 > 1  # equivalent to (2.0 ==2) and (2>1)\n",
    "#this is very important because many people may think they run the following way, which is wrong\n",
    "# (2.0==2)>1--->True>1--->False "
   ]
  },
  {
   "cell_type": "markdown",
   "metadata": {
    "slideshow": {
     "slide_type": "subslide"
    }
   },
   "source": [
    "**What is the associativity?**"
   ]
  },
  {
   "cell_type": "markdown",
   "metadata": {
    "slideshow": {
     "slide_type": "fragment"
    }
   },
   "source": [
    "```{important}\n",
    "\n",
    "Comparison operations are [*non-associative*](https://en.wikipedia.org/wiki/Operator_associativity#Non-associative_operators).\n",
    "```"
   ]
  },
  {
   "cell_type": "code",
   "execution_count": 18,
   "metadata": {
    "ExecuteTime": {
     "end_time": "2020-09-11T23:53:21.557499Z",
     "start_time": "2020-09-11T23:53:21.548954Z"
    },
    "slideshow": {
     "slide_type": "fragment"
    }
   },
   "outputs": [
    {
     "data": {
      "text/plain": [
       "(False, False)"
      ]
     },
     "execution_count": 18,
     "metadata": {},
     "output_type": "execute_result"
    }
   ],
   "source": [
    "(2.0 == 2) > 1, 2.0 == (2 > 1)  # not the same as 2.0 == 2 > 1"
   ]
  },
  {
   "cell_type": "markdown",
   "metadata": {
    "slideshow": {
     "slide_type": "subslide"
    }
   },
   "source": [
    "**Exercise** Explain why the following boolean expressions have different values."
   ]
  },
  {
   "cell_type": "code",
   "execution_count": null,
   "metadata": {
    "ExecuteTime": {
     "end_time": "2020-09-11T23:56:55.242691Z",
     "start_time": "2020-09-11T23:56:55.234247Z"
    },
    "slideshow": {
     "slide_type": "fragment"
    }
   },
   "outputs": [],
   "source": [
    "1 <= 2 < 3 != 4, (1 <= 2) < (3 != 4)"
   ]
  },
  {
   "cell_type": "markdown",
   "metadata": {
    "ExecuteTime": {
     "end_time": "2020-09-08T04:47:41.928758Z",
     "start_time": "2020-09-08T04:47:41.922830Z"
    },
    "deletable": false,
    "nbgrader": {
     "cell_type": "markdown",
     "checksum": "4a4992e3ff7d2b69137b4244b922db4a",
     "grade": true,
     "grade_id": "chained_relational_operator",
     "locked": false,
     "points": 0,
     "schema_version": 3,
     "solution": true,
     "task": false
    },
    "slideshow": {
     "slide_type": "fragment"
    }
   },
   "source": [
    "Hints\n",
    "\n",
    "1 <= 2 < 3 != 4----->(1<=2) and (2<3) and (3!=4)------>True and True and True--->True\n",
    "\n",
    "(1 <= 2) < (3 != 4)----> (True) <(True)--->False"
   ]
  },
  {
   "cell_type": "markdown",
   "metadata": {
    "slideshow": {
     "slide_type": "subslide"
    }
   },
   "source": [
    "**Compare characters/strings**\n",
    "\n",
    "Recall characters are represented by numbers in the computer (ASCII Table)\n",
    "- `A`-`Z` is from 65-90, `a`-`z` is from 97-122\n",
    "- when we compare characters, we're actually comparing their corresponding numbers\n",
    "\n",
    "When we compare strings, we compare each character from left to right one-by-one\n",
    "- once the result is known, we stop comparing. For example, `aBc`<`abc`, because the first character (`a`) in both strings is the same, so we compare the second character. Since `B`<`b`, `aBc`<`abc`\n",
    "- How about `abcd` and `abc`? The first three characters are the same. In this case, the longer string is greater. So we have `abcd`>`abc`"
   ]
  },
  {
   "cell_type": "markdown",
   "metadata": {
    "slideshow": {
     "slide_type": "subslide"
    }
   },
   "source": [
    "**Exercise** The comparison operators can be applied to different data types, as illustrated below.  \n",
    "Explain the meaning of the operators in each of the following expressions."
   ]
  },
  {
   "cell_type": "code",
   "execution_count": 19,
   "metadata": {
    "ExecuteTime": {
     "end_time": "2020-09-11T23:58:13.970230Z",
     "start_time": "2020-09-11T23:58:13.939398Z"
    },
    "code_folding": [],
    "slideshow": {
     "slide_type": "fragment"
    }
   },
   "outputs": [
    {
     "data": {
      "application/vnd.jupyter.widget-view+json": {
       "model_id": "a363a6dd10de4ea58e5a7dde67faa799",
       "version_major": 2,
       "version_minor": 0
      },
      "text/plain": [
       "interactive(children=(Dropdown(description='expression', options=('10 == 10.', '\"A\" == \"A\"', '\"A\" == \"A \"', '\"…"
      ]
     },
     "metadata": {},
     "output_type": "display_data"
    }
   ],
   "source": [
    "# Comparisons beyond numbers\n",
    "@interact(\n",
    "    expression=[\n",
    "        \"10 == 10.\",\n",
    "        '\"A\" == \"A\"',\n",
    "        '\"A\" == \"A \"',\n",
    "        '\"A\" != \"a\"',\n",
    "        '\"A\" > \"a\"',\n",
    "        '\"aBcd\" < \"abd\"',\n",
    "        '\"A\" != 64',\n",
    "        '\"A\" < 64', #there is no implementation that evaluates whether a string is smaller than an integer.\n",
    "                    #we can only check equality and inequality, so \"A\" == 64 or \"A\" != 64 is correct, but \"A\" > 64 or \"A\" < 64 is wrong\n",
    "    ]\n",
    ")\n",
    "def relational_expression(expression):\n",
    "    print(eval(expression))"
   ]
  },
  {
   "cell_type": "markdown",
   "metadata": {
    "slideshow": {
     "slide_type": "fragment"
    }
   },
   "source": [
    "Answer:\n",
    "1. Checks whether an integer is equal to a floating point number.\n",
    "1. Checks whether two characters are the same.\n",
    "1. Checks whether two strings are the same. Note the space character.\n",
    "1. Checks whether a uppercase character is equal to its lowercase character.\n",
    "1. Checks whether a character is larger than the order character according to their unicodes.\n",
    "1. Checks whether a string is lexicographically smaller than the other string.\n",
    "1. Checks whether a character is not equal to an integer.\n",
    "1. TypeError because there is no implementation that evaluates whether a string is smaller than an integer."
   ]
  },
  {
   "cell_type": "markdown",
   "metadata": {
    "slideshow": {
     "slide_type": "subslide"
    }
   },
   "source": [
    "**Is `!` the same as the `not` operator?**"
   ]
  },
  {
   "cell_type": "markdown",
   "metadata": {
    "slideshow": {
     "slide_type": "fragment"
    }
   },
   "source": [
    "Different from C or javascript:  \n",
    "\n",
    "- We can write `1 != 2` as `not 1 == 2` but not `!(1 == 2)` because\n",
    "- `!` is not a logical operator. It is used to call a [system shell command](https://ipython.readthedocs.io/en/stable/interactive/tutorial.html?highlight=system%20call#system-shell-commands) in [IPython](https://en.wikipedia.org/wiki/IPython)."
   ]
  },
  {
   "cell_type": "code",
   "execution_count": 20,
   "metadata": {},
   "outputs": [
    {
     "data": {
      "application/javascript": [
       "element.append(1 != 2,', ', !(1 == 2))\n"
      ],
      "text/plain": [
       "<IPython.core.display.Javascript object>"
      ]
     },
     "metadata": {},
     "output_type": "display_data"
    }
   ],
   "source": [
    "%%javascript\n",
    "element.append(1 != 2,', ', !(1 == 2))"
   ]
  },
  {
   "cell_type": "code",
   "execution_count": 21,
   "metadata": {
    "ExecuteTime": {
     "end_time": "2020-09-08T15:02:31.529274Z",
     "start_time": "2020-09-08T15:02:31.405018Z"
    },
    "slideshow": {
     "slide_type": "fragment"
    }
   },
   "outputs": [
    {
     "name": "stdout",
     "output_type": "stream",
     "text": [
      "/bin/bash: line 1: 1: command not found\n"
     ]
    }
   ],
   "source": [
    "!(1 == 2)"
   ]
  },
  {
   "cell_type": "code",
   "execution_count": 22,
   "metadata": {
    "ExecuteTime": {
     "end_time": "2020-09-08T15:03:43.371177Z",
     "start_time": "2020-09-08T15:03:43.251153Z"
    },
    "slideshow": {
     "slide_type": "-"
    }
   },
   "outputs": [
    {
     "name": "stdout",
     "output_type": "stream",
     "text": [
      "'Conditional Execution_weitao.ipynb'   __pycache__\n",
      "'Lecture 3-answers.ipynb'\t       flowcharts.py\n",
      "'Lecture 3-exercises.ipynb'\n"
     ]
    }
   ],
   "source": [
    "!ls  # a bash command that lists files in the current directory"
   ]
  },
  {
   "cell_type": "markdown",
   "metadata": {
    "slideshow": {
     "slide_type": "subslide"
    }
   },
   "source": [
    "**How to compare floating point numbers?**"
   ]
  },
  {
   "cell_type": "code",
   "execution_count": 23,
   "metadata": {
    "ExecuteTime": {
     "end_time": "2020-09-12T00:37:27.688549Z",
     "start_time": "2020-09-12T00:37:27.681227Z"
    },
    "slideshow": {
     "slide_type": "fragment"
    }
   },
   "outputs": [
    {
     "data": {
      "text/plain": [
       "False"
      ]
     },
     "execution_count": 23,
     "metadata": {},
     "output_type": "execute_result"
    }
   ],
   "source": [
    "x = 10\n",
    "y = (x ** (1 / 3)) ** 3\n",
    "x == y"
   ]
  },
  {
   "cell_type": "markdown",
   "metadata": {
    "slideshow": {
     "slide_type": "fragment"
    }
   },
   "source": [
    "Why False? Shouldn't $(x^{\\frac13})^3=x$?"
   ]
  },
  {
   "cell_type": "markdown",
   "metadata": {
    "slideshow": {
     "slide_type": "fragment"
    }
   },
   "source": [
    "```{caution}\n",
    "\n",
    "- Floating point numbers have finite precisions and so  \n",
    "- we should instead check whether the numbers are close enough.\n",
    "\n",
    "```"
   ]
  },
  {
   "cell_type": "markdown",
   "metadata": {
    "slideshow": {
     "slide_type": "subslide"
    }
   },
   "source": [
    "One method of comparing floating point numbers is:"
   ]
  },
  {
   "cell_type": "code",
   "execution_count": null,
   "metadata": {},
   "outputs": [],
   "source": [
    "abs_tol = 1e-9\n",
    "y - abs_tol <= x <= y + abs_tol"
   ]
  },
  {
   "cell_type": "markdown",
   "metadata": {},
   "source": [
    "where `abs_tol`, often denoted as $\\delta_{\\text{abs}}$, is a positive number called the *absolute tolerance*."
   ]
  },
  {
   "cell_type": "markdown",
   "metadata": {},
   "source": [
    "**Why call it absolute tolerance?**"
   ]
  },
  {
   "cell_type": "markdown",
   "metadata": {},
   "source": [
    "Note that the test remains unchanged if we swap `x` and `y`:"
   ]
  },
  {
   "cell_type": "code",
   "execution_count": null,
   "metadata": {},
   "outputs": [],
   "source": [
    "abs_tol = 1e-9\n",
    "x - abs_tol <= y <= x + abs_tol"
   ]
  },
  {
   "cell_type": "markdown",
   "metadata": {},
   "source": [
    "Using the absolute function `abs`, we can also rewrite the comparison as follows:"
   ]
  },
  {
   "cell_type": "code",
   "execution_count": null,
   "metadata": {
    "ExecuteTime": {
     "end_time": "2020-09-12T00:38:17.357180Z",
     "start_time": "2020-09-12T00:38:17.349848Z"
    },
    "slideshow": {
     "slide_type": "fragment"
    }
   },
   "outputs": [],
   "source": [
    "abs_tol = 1e-9\n",
    "abs(x - y) <= abs_tol"
   ]
  },
  {
   "cell_type": "markdown",
   "metadata": {},
   "source": [
    "::::{note}\n",
    "\n",
    "The comparison can be concisely written as\n",
    "\n",
    "$$x=y\\pm \\delta_{\\text{abs}},$$\n",
    "\n",
    "or more explicitly,\n",
    "\n",
    "$$\\lvert x-y\\rvert \\leq \\delta_{\\text{abs}}.$$\n",
    "\n",
    "In words, the comparison does not tolerate an absolute difference between $x$ and $y$ larger than $\\delta_{\\text{abs}}$.\n",
    "\n",
    "::::"
   ]
  },
  {
   "cell_type": "markdown",
   "metadata": {
    "slideshow": {
     "slide_type": "subslide"
    }
   },
   "source": [
    "**Is an absolute tolerance of `1e-9` good enough?**"
   ]
  },
  {
   "cell_type": "markdown",
   "metadata": {
    "slideshow": {
     "slide_type": "fragment"
    }
   },
   "source": [
    "What if we set `x = 1e10` instead of `10`?"
   ]
  },
  {
   "cell_type": "code",
   "execution_count": 14,
   "metadata": {
    "ExecuteTime": {
     "end_time": "2020-09-12T00:41:15.078354Z",
     "start_time": "2020-09-12T00:41:15.071548Z"
    },
    "slideshow": {
     "slide_type": "fragment"
    }
   },
   "outputs": [
    {
     "data": {
      "text/plain": [
       "False"
      ]
     },
     "execution_count": 14,
     "metadata": {},
     "output_type": "execute_result"
    }
   ],
   "source": [
    "x = 1e10\n",
    "y = (x ** (1 / 3)) ** 3\n",
    "\n",
    "abs_tol = 1e-9\n",
    "abs(x - y) <= abs_tol"
   ]
  },
  {
   "cell_type": "markdown",
   "metadata": {},
   "source": [
    "Why does the same absolute tolerance fails to tolerate the different between `x` and `y`?"
   ]
  },
  {
   "cell_type": "markdown",
   "metadata": {
    "slideshow": {
     "slide_type": "fragment"
    }
   },
   "source": [
    "Floating point numbers \"float\" at different scales."
   ]
  },
  {
   "cell_type": "markdown",
   "metadata": {},
   "source": [
    "A better way is to use the [`isclose`](https://docs.python.org/3/library/math.html#math.isclose) function from `math` module."
   ]
  },
  {
   "cell_type": "code",
   "execution_count": 15,
   "metadata": {
    "ExecuteTime": {
     "end_time": "2020-09-12T00:42:37.976759Z",
     "start_time": "2020-09-12T00:42:37.969252Z"
    },
    "slideshow": {
     "slide_type": "fragment"
    }
   },
   "outputs": [
    {
     "data": {
      "text/plain": [
       "True"
      ]
     },
     "execution_count": 15,
     "metadata": {},
     "output_type": "execute_result"
    }
   ],
   "source": [
    "math.isclose(x, y)"
   ]
  },
  {
   "cell_type": "markdown",
   "metadata": {
    "slideshow": {
     "slide_type": "subslide"
    }
   },
   "source": [
    "**How does `isclose` work?**"
   ]
  },
  {
   "cell_type": "markdown",
   "metadata": {},
   "source": [
    "For example, we can check whether $x$ with within a certain percentage of $y$:"
   ]
  },
  {
   "cell_type": "code",
   "execution_count": 16,
   "metadata": {},
   "outputs": [
    {
     "data": {
      "text/plain": [
       "True"
      ]
     },
     "execution_count": 16,
     "metadata": {},
     "output_type": "execute_result"
    }
   ],
   "source": [
    "rel_tol = 1e-9\n",
    "y * (1 - rel_tol) <= x <= y * (1 + rel_tol)"
   ]
  },
  {
   "cell_type": "markdown",
   "metadata": {},
   "source": [
    "i.e., for some positive number $\\delta_{\\text{rel}}$ called the *relative tolerance*,\n",
    "\n",
    "$$x=y \\pm \\delta_{\\text{rel}} \\lvert y\\rvert,$$\n",
    "\n",
    "or equivalently,\n",
    "\n",
    "$$\\frac{\\lvert x-y\\rvert}{\\lvert y\\rvert} \\leq \\delta_{\\text{rel}}.$$"
   ]
  },
  {
   "cell_type": "markdown",
   "metadata": {},
   "source": [
    "To make the test symmetric between `x` and `y`, the relative tolerance is applied as follows\n",
    "\n",
    "$$\\frac{\\lvert x-y\\rvert}{\\max\\Set{\\lvert x\\rvert,\\lvert y\\rvert}} \\leq  \\delta_{\\text{rel}}.$$"
   ]
  },
  {
   "cell_type": "markdown",
   "metadata": {
    "slideshow": {
     "slide_type": "fragment"
    }
   },
   "source": [
    "**Exercise** \n",
    "\n",
    "Write the boolean expression that implements the above inequality. You can use the function `max(a, b)` to find the maximum of `a` and `b`."
   ]
  },
  {
   "cell_type": "code",
   "execution_count": 24,
   "metadata": {},
   "outputs": [
    {
     "ename": "NotImplementedError",
     "evalue": "",
     "output_type": "error",
     "traceback": [
      "\u001b[0;31m---------------------------------------------------------------------------\u001b[0m",
      "\u001b[0;31mNotImplementedError\u001b[0m                       Traceback (most recent call last)",
      "Cell \u001b[0;32mIn[24], line 5\u001b[0m\n\u001b[1;32m      3\u001b[0m y \u001b[38;5;241m=\u001b[39m (x \u001b[38;5;241m*\u001b[39m\u001b[38;5;241m*\u001b[39m (\u001b[38;5;241m1\u001b[39m \u001b[38;5;241m/\u001b[39m \u001b[38;5;241m3\u001b[39m)) \u001b[38;5;241m*\u001b[39m\u001b[38;5;241m*\u001b[39m \u001b[38;5;241m3\u001b[39m\n\u001b[1;32m      4\u001b[0m \u001b[38;5;66;03m# YOUR CODE HERE\u001b[39;00m\n\u001b[0;32m----> 5\u001b[0m \u001b[38;5;28;01mraise\u001b[39;00m \u001b[38;5;167;01mNotImplementedError\u001b[39;00m\n",
      "\u001b[0;31mNotImplementedError\u001b[0m: "
     ]
    }
   ],
   "source": [
    "rel_tol = 1e-9\n",
    "x = 1e10\n",
    "y = (x ** (1 / 3)) ** 3\n",
    "# YOUR CODE HERE\n",
    "raise NotImplementedError"
   ]
  },
  {
   "cell_type": "code",
   "execution_count": 25,
   "metadata": {
    "ExecuteTime": {
     "end_time": "2020-09-12T00:32:30.526651Z",
     "start_time": "2020-09-12T00:32:30.516825Z"
    },
    "nbgrader": {
     "cell_type": "code",
     "checksum": "2877d77baa3be313c5074e3ceb77fbb6",
     "grade": false,
     "grade_id": "rel_tol",
     "locked": false,
     "schema_version": 3,
     "solution": true,
     "task": false
    },
    "slideshow": {
     "slide_type": "-"
    }
   },
   "outputs": [
    {
     "data": {
      "text/plain": [
       "True"
      ]
     },
     "execution_count": 25,
     "metadata": {},
     "output_type": "execute_result"
    }
   ],
   "source": [
    "#solution\n",
    "rel_tol = 1e-9\n",
    "x = 1e10\n",
    "y = (x ** (1 / 3)) ** 3\n",
    "\n",
    "\n",
    "abs(x - y) / max(abs(x), abs(y)) <= rel_tol"
   ]
  },
  {
   "cell_type": "markdown",
   "metadata": {},
   "source": [
    "**What if $x$ and $y$ are both very close to 0?**"
   ]
  },
  {
   "cell_type": "code",
   "execution_count": 18,
   "metadata": {},
   "outputs": [
    {
     "data": {
      "text/plain": [
       "False"
      ]
     },
     "execution_count": 18,
     "metadata": {},
     "output_type": "execute_result"
    }
   ],
   "source": [
    "x = 1e-15\n",
    "y = 0\n",
    "\n",
    "rel_tol = 1e-9\n",
    "y * (1 - rel_tol) <= x <= y * (1 + rel_tol)"
   ]
  },
  {
   "cell_type": "markdown",
   "metadata": {},
   "source": [
    "For the most flexible comparison, one can impose both the absolute and relative tolerances:"
   ]
  },
  {
   "cell_type": "markdown",
   "metadata": {
    "slideshow": {
     "slide_type": "fragment"
    }
   },
   "source": [
    "::::{note} Absolute and relative tolerances\n",
    "\n",
    "To combine both tolerances in one test, `math.isclose(x,y)` implements the following condition\n",
    "\n",
    "$$ \\lvert x - y\\rvert \\leq \\max\\{\\delta_{\\text{rel}} \\max\\{\\lvert x\\rvert, \\lvert y\\rvert\\},\\delta_{\\text{abs}}\\}$$\n",
    "with the default\n",
    "- *relative tolerance* $\\delta_{\\text{rel}}$ equal to `1e-9`, and\n",
    "- absolute tolerance $\\delta_{\\text{abs}}$ equal to `0.0`.\n",
    "::::"
   ]
  },
  {
   "cell_type": "markdown",
   "metadata": {
    "slideshow": {
     "slide_type": "fragment"
    }
   },
   "source": [
    "**Exercise** \n",
    "\n",
    "Write your own boolean expression that implements `isclose`. You can use the function `max(a, b)` to find the maximum of `a` and `b`."
   ]
  },
  {
   "cell_type": "code",
   "execution_count": null,
   "metadata": {},
   "outputs": [],
   "source": [
    "rel_tol, abs_tol = 1e-9, 0.0\n",
    "x = 1e-15\n",
    "y = 0\n",
    "# YOUR CODE HERE\n",
    "raise NotImplementedError"
   ]
  },
  {
   "cell_type": "code",
   "execution_count": 21,
   "metadata": {
    "ExecuteTime": {
     "end_time": "2020-09-12T00:32:30.526651Z",
     "start_time": "2020-09-12T00:32:30.516825Z"
    },
    "nbgrader": {
     "cell_type": "code",
     "checksum": "26fb75fdc22c760359fd66b8688d80cc",
     "grade": false,
     "grade_id": "isclose",
     "locked": false,
     "schema_version": 3,
     "solution": true,
     "task": false
    },
    "slideshow": {
     "slide_type": "-"
    }
   },
   "outputs": [
    {
     "data": {
      "text/plain": [
       "False"
      ]
     },
     "execution_count": 21,
     "metadata": {},
     "output_type": "execute_result"
    }
   ],
   "source": [
    "rel_tol, abs_tol = 1e-9, 0.0\n",
    "x = 1e-15\n",
    "y = 0\n",
    "# solution\n",
    "abs(x - y) <= max(rel_tol * max(abs(x), abs(y)), abs_tol)"
   ]
  },
  {
   "cell_type": "markdown",
   "metadata": {
    "slideshow": {
     "slide_type": "slide"
    }
   },
   "source": [
    "### Boolean Operations"
   ]
  },
  {
   "cell_type": "markdown",
   "metadata": {
    "slideshow": {
     "slide_type": "fragment"
    }
   },
   "source": [
    "Since chained comparisons are non-associative, it follows a different evaluation rule than arithmetical operators."
   ]
  },
  {
   "cell_type": "markdown",
   "metadata": {
    "slideshow": {
     "slide_type": "fragment"
    }
   },
   "source": [
    "E.g., `1 <= 2 < 3 != 4` is evaluated as follows:"
   ]
  },
  {
   "cell_type": "code",
   "execution_count": 11,
   "metadata": {
    "ExecuteTime": {
     "end_time": "2020-09-12T00:49:20.552008Z",
     "start_time": "2020-09-12T00:49:20.544386Z"
    },
    "slideshow": {
     "slide_type": "-"
    }
   },
   "outputs": [
    {
     "data": {
      "text/plain": [
       "True"
      ]
     },
     "execution_count": 11,
     "metadata": {},
     "output_type": "execute_result"
    }
   ],
   "source": [
    "(1 <= 2) and (2 < 3) and (3 != 4)"
   ]
  },
  {
   "cell_type": "markdown",
   "metadata": {
    "slideshow": {
     "slide_type": "fragment"
    }
   },
   "source": [
    "The above is called a *compound boolean expression*, which is formed using the *boolean/logical operator* `and`."
   ]
  },
  {
   "cell_type": "markdown",
   "metadata": {
    "slideshow": {
     "slide_type": "subslide"
    }
   },
   "source": [
    "**Why use boolean operators?**"
   ]
  },
  {
   "cell_type": "markdown",
   "metadata": {
    "slideshow": {
     "slide_type": "fragment"
    }
   },
   "source": [
    "What if we want to check whether a number is either $< 0$ or $\\geq 100$?  \n",
    "Can we achieve this only by chaining the comparison operators or applying the logical `and`?"
   ]
  },
  {
   "cell_type": "code",
   "execution_count": 26,
   "metadata": {
    "ExecuteTime": {
     "end_time": "2020-09-12T02:04:11.344375Z",
     "start_time": "2020-09-12T02:04:11.303591Z"
    },
    "code_folding": [],
    "slideshow": {
     "slide_type": "-"
    }
   },
   "outputs": [
    {
     "data": {
      "application/vnd.jupyter.widget-view+json": {
       "model_id": "1365dc00d62547ae9d5644c614f98976",
       "version_major": 2,
       "version_minor": 0
      },
      "text/plain": [
       "interactive(children=(Text(value='15', description='x'), Output()), _dom_classes=('widget-interact',))"
      ]
     },
     "metadata": {},
     "output_type": "display_data"
    }
   ],
   "source": [
    "# Check if a number is outside a range.\n",
    "@interact(x=\"15\")\n",
    "def check_out_of_range(x):\n",
    "    x_ = float(x)\n",
    "    is_out_of_range = x_ < 0 or x_ >= 100\n",
    "    print(\"Out of range [0,100):\", is_out_of_range)"
   ]
  },
  {
   "cell_type": "markdown",
   "metadata": {
    "slideshow": {
     "slide_type": "fragment"
    }
   },
   "source": [
    "- `and` alone is not [functionally complete](https://en.wikipedia.org/wiki/Functional_completeness),  i.e., not enough to give all possible boolean functions. \n",
    "- In addition to `and`, we can also use `or` and `not`.\n",
    "- The definition of logical/boolean operators is listed below"
   ]
  },
  {
   "cell_type": "markdown",
   "metadata": {},
   "source": [
    "| Operator | Description                                                 | Example        |\n",
    "| ---------- | ------------------------------------------------------------- | ---------------- |\n",
    "| and      | Return True when both statements are true                   | x < 5 and x < 10 |\n",
    "| or       | Returns True when one of the statement is true              | x < 5 or x < 10    |\n",
    "| not      | Reverse the result, return True when the statement is False | not ( x < 5 )     |"
   ]
  },
  {
   "cell_type": "markdown",
   "metadata": {
    "slideshow": {
     "slide_type": "fragment"
    }
   },
   "source": [
    "|   `x`   |   `y`   | `x and y` | `x or y` | `not x` |\n",
    "| :-----: | :-----: | :-------: | :------: | :-----: |\n",
    "| `True`  | `True`  |  `True`   |  `True`  | `False` |\n",
    "| `True`  | `False` |  `False`  |  `True`  | `False` |\n",
    "| `False` | `True`  |  `False`  |  `True`  | `True`  |\n",
    "| `False` | `False` |  `False`  | `False`  | `True`  |"
   ]
  },
  {
   "cell_type": "markdown",
   "metadata": {
    "slideshow": {
     "slide_type": "fragment"
    }
   },
   "source": [
    "The above table is called a *truth table*. It enumerates all possible input and output combinations for each boolean operator."
   ]
  },
  {
   "cell_type": "markdown",
   "metadata": {
    "slideshow": {
     "slide_type": "subslide"
    }
   },
   "source": [
    "**How are chained logical operators evaluated?  \n",
    "What are the precedence and associativity for the logical operators?**"
   ]
  },
  {
   "cell_type": "markdown",
   "metadata": {
    "slideshow": {
     "slide_type": "fragment"
    }
   },
   "source": [
    "```{important}\n",
    "\n",
    "- All binary boolean operators are left associative.  \n",
    "- [Precedence](https://docs.python.org/3/reference/expressions.html?highlight=precedence#operator-precedence): `comparison operators` > `not` > `and` > `or`\n",
    "```"
   ]
  },
  {
   "cell_type": "markdown",
   "metadata": {
    "slideshow": {
     "slide_type": "subslide"
    }
   },
   "source": [
    "**Exercise** Explain what the values of the following two compound boolean expressions are:\n",
    "- Expression A: `True or False and True`\n",
    "- Expression B: `True and False and True`\n",
    "- Expression C: `True or True and False`"
   ]
  },
  {
   "cell_type": "code",
   "execution_count": 23,
   "metadata": {
    "slideshow": {
     "slide_type": "fragment"
    }
   },
   "outputs": [
    {
     "name": "stdout",
     "output_type": "stream",
     "text": [
      "True\n",
      "False\n",
      "True\n"
     ]
    }
   ],
   "source": [
    "print(True or False and True)\n",
    "print(True and False and True)\n",
    "print(True or True and False)"
   ]
  },
  {
   "cell_type": "markdown",
   "metadata": {
    "slideshow": {
     "slide_type": "fragment"
    }
   },
   "source": [
    "- Expression A evaluates to `True` because `and` has higher precedence and so the expression has the same value as `True or (False and True)`.\n",
    "- Expression B evaluates to `False` because `and` is left associative and so the expression has the same value as `(True and False) and True`\n",
    "- Expression C evaluates to `True` because `and` has higher precedence and so the expression has the same value as `True or (True and False)`"
   ]
  },
  {
   "cell_type": "markdown",
   "metadata": {
    "slideshow": {
     "slide_type": "subslide"
    }
   },
   "source": [
    "Let's see a more complex example"
   ]
  },
  {
   "cell_type": "code",
   "execution_count": 14,
   "metadata": {
    "slideshow": {
     "slide_type": "fragment"
    }
   },
   "outputs": [
    {
     "name": "stdout",
     "output_type": "stream",
     "text": [
      "False\n"
     ]
    }
   ],
   "source": [
    "print(True and False or False and True or not False and not True)"
   ]
  },
  {
   "cell_type": "markdown",
   "metadata": {
    "slideshow": {
     "slide_type": "fragment"
    }
   },
   "source": [
    "![chained boolean expression](https://www.cs.cityu.edu.hk/~helena/cs1302/nbImages/Lec03_chained_boolean_expression.png)"
   ]
  },
  {
   "cell_type": "markdown",
   "metadata": {
    "slideshow": {
     "slide_type": "subslide"
    }
   },
   "source": [
    "Instead of following the precedence and associativity, however, a compound boolean expression uses a [short-circuit evaluation](https://www.geeksforgeeks.org/short-circuiting-techniques-python/)."
   ]
  },
  {
   "cell_type": "markdown",
   "metadata": {
    "slideshow": {
     "slide_type": "fragment"
    }
   },
   "source": [
    "Because True or ... must be True (why?) so Python does not look further. From the [documentation](https://docs.python.org/3/reference/expressions.html?highlight=precedence#boolean-operations):"
   ]
  },
  {
   "cell_type": "markdown",
   "metadata": {
    "slideshow": {
     "slide_type": "fragment"
    }
   },
   "source": [
    "```{important}\n",
    "\n",
    "> The expression `x or y` first evaluates `x`;  \n",
    "> if `x` is true, its value is returned;  \n",
    "> otherwise, `y` is evaluated and the resulting value is returned.\n",
    "```"
   ]
  },
  {
   "cell_type": "code",
   "execution_count": 32,
   "metadata": {},
   "outputs": [
    {
     "data": {
      "text/plain": [
       "True"
      ]
     },
     "execution_count": 32,
     "metadata": {},
     "output_type": "execute_result"
    }
   ],
   "source": [
    "#example\n",
    "True or False and True and False or False or True and False and True or True\n",
    "#True or (******), if the first element is True, we don't need to evaluate the later part because the final result must be True\n",
    "#True or True-->True\n",
    "#True or False-->True"
   ]
  },
  {
   "cell_type": "code",
   "execution_count": 30,
   "metadata": {},
   "outputs": [
    {
     "data": {
      "text/plain": [
       "True"
      ]
     },
     "execution_count": 30,
     "metadata": {},
     "output_type": "execute_result"
    }
   ],
   "source": [
    "#example, does the following code print hello? why?\n",
    "True or print(\"hello\")"
   ]
  },
  {
   "cell_type": "code",
   "execution_count": 31,
   "metadata": {},
   "outputs": [
    {
     "name": "stdout",
     "output_type": "stream",
     "text": [
      "hello\n"
     ]
    }
   ],
   "source": [
    "#example, does the following code print hello? why?\n",
    "False or print(\"hello\")"
   ]
  },
  {
   "cell_type": "markdown",
   "metadata": {
    "slideshow": {
     "slide_type": "fragment"
    }
   },
   "source": [
    "`False and anything` must be `False` so Python does not look further."
   ]
  },
  {
   "cell_type": "markdown",
   "metadata": {
    "slideshow": {
     "slide_type": "fragment"
    }
   },
   "source": [
    "```{important}\n",
    "\n",
    "> The expression `x and y` first evaluates `x`;  \n",
    "> if `x` is false, its value is returned;  \n",
    "> otherwise, `y` is evaluated and the resulting value is returned.\n",
    "```"
   ]
  },
  {
   "cell_type": "code",
   "execution_count": null,
   "metadata": {},
   "outputs": [],
   "source": [
    "#example\n",
    "False and True and False and False and True and True and False\n",
    "#False and (******), if the first element is False, we don't need to evaluate the later part because the final result must be False\n",
    "#False and False-->False\n",
    "#False and True-->False"
   ]
  },
  {
   "cell_type": "markdown",
   "metadata": {
    "slideshow": {
     "slide_type": "subslide"
    }
   },
   "source": [
    "### Non-Boolean Values for Boolean Operations and Control Flow Statements"
   ]
  },
  {
   "cell_type": "markdown",
   "metadata": {
    "slideshow": {
     "slide_type": "fragment"
    }
   },
   "source": [
    "Interestingly, Python also allows logical operations to have non-boolean operands and return values. From the [documentation](https://docs.python.org/3/reference/expressions.html?highlight=precedence#boolean-operations):"
   ]
  },
  {
   "cell_type": "markdown",
   "metadata": {},
   "source": [
    "::::{card}\n",
    ":header: Boolean interpretation\n",
    "\n",
    "In the context of Boolean operations, and also when expressions are used by control flow statements, the following values are interpreted as false:  \n",
    "- `False`\n",
    "- `None`\n",
    "- Numeric zero of all types\n",
    "- Empty strings and containers (including strings, tuples, lists, dictionaries, sets and frozensets)\n",
    "\n",
    "All other values are interpreted as true.\n",
    "\n",
    "::::"
   ]
  },
  {
   "cell_type": "markdown",
   "metadata": {},
   "source": [
    "```{caution}\n",
    "\n",
    "Is an empty string equal to False? Try `\"\" == False`.\n",
    "\n",
    "- An empty string is regarded as false in a boolean operation but\n",
    "- a *comparison operation is not a boolean operation*, even though it forms a boolean expression.\n",
    "\n",
    "```"
   ]
  },
  {
   "cell_type": "code",
   "execution_count": 24,
   "metadata": {},
   "outputs": [
    {
     "data": {
      "text/plain": [
       "False"
      ]
     },
     "execution_count": 24,
     "metadata": {},
     "output_type": "execute_result"
    }
   ],
   "source": [
    "\"\" == False"
   ]
  },
  {
   "cell_type": "markdown",
   "metadata": {
    "slideshow": {
     "slide_type": "subslide"
    }
   },
   "source": [
    " **Try the following code to see if you understand how to calculate chained boolean expressions**\n",
    " \n",
    " Tip: to help understand how the expressions are calculated, you (You may also use [Thonny](https://thonny.org/) for step-by-step evaluations of the following examples.)"
   ]
  },
  {
   "cell_type": "code",
   "execution_count": 33,
   "metadata": {
    "slideshow": {
     "slide_type": "fragment"
    }
   },
   "outputs": [
    {
     "name": "stdout",
     "output_type": "stream",
     "text": [
      "False\n",
      "True\n"
     ]
    }
   ],
   "source": [
    "print(False and True or False and True)\n",
    "print(True or False or True and True and False)"
   ]
  },
  {
   "cell_type": "markdown",
   "metadata": {
    "slideshow": {
     "slide_type": "subslide"
    }
   },
   "source": [
    "**Exercise** \n",
    "\n",
    "How does the following code work?"
   ]
  },
  {
   "cell_type": "code",
   "execution_count": 29,
   "metadata": {},
   "outputs": [
    {
     "name": "stdin",
     "output_type": "stream",
     "text": [
      " \n"
     ]
    },
    {
     "name": "stdout",
     "output_type": "stream",
     "text": [
      "You have entered nothing\n"
     ]
    }
   ],
   "source": [
    "print(\"You have entered\", input() or \"nothing\")"
   ]
  },
  {
   "cell_type": "markdown",
   "metadata": {
    "nbgrader": {
     "cell_type": "markdown",
     "checksum": "c17fc86ed2bc2b546ee55df234859d0b",
     "grade": true,
     "grade_id": "or",
     "locked": false,
     "points": 0,
     "schema_version": 3,
     "solution": true,
     "task": false
    },
    "slideshow": {
     "slide_type": "-"
    }
   },
   "source": [
    "```{admonition} Solution\n",
    ":class: dropdown\n",
    "\n",
    "- The code replaces an empty user input by the default string `nothing` because an empty string is regarded as False in a boolean operation.\n",
    "- If user input is non-empty, it is regarded as True in the boolean expression and returned immediately as the value of the boolean operation.\n",
    "```"
   ]
  },
  {
   "cell_type": "markdown",
   "metadata": {
    "slideshow": {
     "slide_type": "subslide"
    }
   },
   "source": [
    "**Exercise** \n",
    "\n",
    "Let's play a game to test your understanding of boolean expressions. Run the following program and choose your input so that 1, 2, 3 are each printed in a separate line as follows:\n",
    "``` \n",
    "1\n",
    "2\n",
    "3\n",
    "```"
   ]
  },
  {
   "cell_type": "code",
   "execution_count": 30,
   "metadata": {},
   "outputs": [
    {
     "name": "stdin",
     "output_type": "stream",
     "text": [
      "1 \n",
      "2 \n"
     ]
    },
    {
     "data": {
      "text/plain": [
       "''"
      ]
     },
     "execution_count": 30,
     "metadata": {},
     "output_type": "execute_result"
    }
   ],
   "source": [
    "input(1) or input(2) and input(3)"
   ]
  },
  {
   "cell_type": "markdown",
   "metadata": {
    "nbgrader": {
     "cell_type": "markdown",
     "checksum": "11f679f9c34c55af4d6b737241d3d8e4",
     "grade": true,
     "grade_id": "short_circuit_eval_game",
     "locked": false,
     "points": 0,
     "schema_version": 3,
     "solution": true,
     "task": false
    },
    "slideshow": {
     "slide_type": "-"
    }
   },
   "source": [
    "```{admonition} Solution\n",
    ":class: dropdown\n",
    "\n",
    "Enter '', ' ' and then ''. i.e., enter nothing for the first input, space for the second input, and nothing for the third input\n",
    "```"
   ]
  },
  {
   "cell_type": "markdown",
   "metadata": {
    "slideshow": {
     "slide_type": "slide"
    }
   },
   "source": [
    "## Conditional Execution"
   ]
  },
  {
   "cell_type": "markdown",
   "metadata": {
    "slideshow": {
     "slide_type": "fragment"
    }
   },
   "source": [
    "Consider writing a program that sorts values in *ascending* order.  \n",
    "- A *sorting algorithm* refers to the procedure of sorting values in order.\n",
    "\n",
    "E.g., sort [1,2,5,4,3] to [1,2,3,4,5]\n",
    "\n",
    "- our idea is: find the largest value and put it in the last position\n",
    "- then find the second largest value and put it in the second last position\n",
    "- repeat the above steps for all the values\n",
    "- we need some conditional statement: **if** x is the largest, **then** we move it to the last position"
   ]
  },
  {
   "cell_type": "markdown",
   "metadata": {
    "slideshow": {
     "slide_type": "subslide"
    }
   },
   "source": [
    "### If-Then Construct"
   ]
  },
  {
   "cell_type": "markdown",
   "metadata": {
    "slideshow": {
     "slide_type": "subslide"
    }
   },
   "source": [
    "**How to sort two values?**"
   ]
  },
  {
   "cell_type": "markdown",
   "metadata": {
    "slideshow": {
     "slide_type": "fragment"
    }
   },
   "source": [
    "Given two values are stored as `x` and `y`, we want to \n",
    "- `print(x,y)` if `x <= y`, and\n",
    "- `print(y,x)` if `y < x`."
   ]
  },
  {
   "cell_type": "markdown",
   "metadata": {
    "slideshow": {
     "slide_type": "subslide"
    }
   },
   "source": [
    "Such a program flow is often represented by a flowchart like the following:"
   ]
  },
  {
   "cell_type": "code",
   "execution_count": 31,
   "metadata": {},
   "outputs": [
    {
     "data": {
      "application/vnd.jupyter.widget-view+json": {
       "model_id": "9c1bd7aaabaf4ccf967193560255fed8",
       "version_major": 2,
       "version_minor": 0
      },
      "text/plain": [
       "JSWidget(value=None, html='<!DOCTYPE html>\\n<html>\\n<head>\\n  <script src=\"https://cdnjs.cloudflare.com/ajax/l…"
      ]
     },
     "execution_count": 31,
     "metadata": {},
     "output_type": "execute_result"
    }
   ],
   "source": [
    "sort_two_values_fc1"
   ]
  },
  {
   "cell_type": "markdown",
   "metadata": {},
   "source": [
    "**How to read the flowchart?**"
   ]
  },
  {
   "cell_type": "markdown",
   "metadata": {},
   "source": [
    "A flowchart uses arrows to connects a set of [annotated blocks][bb]. The rules were first specified by ANSI and later adopted in [ISO 5807][iso].\n",
    "\n",
    "[bb]: https://en.wikipedia.org/wiki/Flowchart#Building_blocks\n",
    "[iso]: https://webstore.ansi.org/Standards/ISO/ISO58071985"
   ]
  },
  {
   "cell_type": "markdown",
   "metadata": {},
   "source": [
    "**Why use a program flowchart?**"
   ]
  },
  {
   "cell_type": "markdown",
   "metadata": {},
   "source": [
    "A program flowchart is a powerful way of describing an algorithm quickly. Unlike a text-based programming language:\n",
    "- The rules governing the program flow can be shown explicitly by arrows.\n",
    "- The annotated graphical blocks can convey the meaning faster using visual clues. "
   ]
  },
  {
   "cell_type": "markdown",
   "metadata": {},
   "source": [
    "**How to implements the flowchart in python?**"
   ]
  },
  {
   "cell_type": "markdown",
   "metadata": {
    "slideshow": {
     "slide_type": "fragment"
    }
   },
   "source": [
    "Python provides the [`if` statement](https://docs.python.org/3/reference/compound_stmts.html#the-if-statement) to implement the [*control flow*](https://en.wikipedia.org/wiki/Control_flow) specified by the diamonds."
   ]
  },
  {
   "cell_type": "code",
   "execution_count": 32,
   "metadata": {
    "ExecuteTime": {
     "end_time": "2020-09-12T01:37:02.500747Z",
     "start_time": "2020-09-12T01:37:02.460501Z"
    },
    "code_folding": [
     8
    ],
    "slideshow": {
     "slide_type": "-"
    }
   },
   "outputs": [
    {
     "data": {
      "application/vnd.jupyter.widget-view+json": {
       "model_id": "10d679cd84d04d929feb3b0c10e433f6",
       "version_major": 2,
       "version_minor": 0
      },
      "text/plain": [
       "interactive(children=(Text(value='1', description='x'), Text(value='0', description='y'), Output()), _dom_clas…"
      ]
     },
     "metadata": {},
     "output_type": "display_data"
    }
   ],
   "source": [
    "# Sort two values using if statement\n",
    "def sort_two_values(x, y):\n",
    "    if x <= y:\n",
    "        print(x, y)\n",
    "    if y < x: print(y, x)\n",
    "\n",
    "\n",
    "@interact(x=\"1\", y=\"0\")\n",
    "def sort_two_values_app(x, y):\n",
    "    sort_two_values(eval(x), eval(y))"
   ]
  },
  {
   "cell_type": "markdown",
   "metadata": {
    "slideshow": {
     "slide_type": "subslide"
    }
   },
   "source": [
    "We can visualize the execution as follows:"
   ]
  },
  {
   "cell_type": "code",
   "execution_count": 33,
   "metadata": {
    "ExecuteTime": {
     "end_time": "2020-09-12T01:37:18.924680Z",
     "start_time": "2020-09-12T01:37:18.914274Z"
    },
    "slideshow": {
     "slide_type": "-"
    }
   },
   "outputs": [
    {
     "data": {
      "application/vnd.jupyter.widget-view+json": {
       "model_id": "df3d2cc9201a4fe18902c49f5f7973d6",
       "version_major": 2,
       "version_minor": 0
      },
      "text/plain": [
       "OPTWidget(value=None, height=450, script='def sort_two_values(x, y):\\n    if x <= y:\\n        print(x, y)\\n   …"
      ]
     },
     "execution_count": 33,
     "metadata": {},
     "output_type": "execute_result"
    }
   ],
   "source": [
    "%%optlite -h 450\n",
    "def sort_two_values(x, y):\n",
    "    if x <= y:\n",
    "        print(x, y)\n",
    "    if y < x: print(y, x)\n",
    "\n",
    "\n",
    "sort_two_values(1, 0)\n",
    "sort_two_values(1, 2)"
   ]
  },
  {
   "cell_type": "markdown",
   "metadata": {
    "slideshow": {
     "slide_type": "fragment"
    }
   },
   "source": [
    "Python uses indentation to indicate code blocks or *suite*: \n",
    "- `print(x, y)` (Line 4) is indented to the right of `if x <= y:` (Line 3) to indicate it is the body of the if statement.\n",
    "- For convenience, `if y < x: print(y, x)` (Line 5) is a [one-liner](https://wiki.python.org/moin/Powerful%20Python%20One-Liners) for an `if` statement that only has one line in its block.\n",
    "- Both `if` statements (Line 3-5) are indented to the right of `def sort_two_values(x,y):` (Line 2) to indicate that they are part of the body of the function `sort_two_values`."
   ]
  },
  {
   "cell_type": "markdown",
   "metadata": {
    "slideshow": {
     "slide_type": "subslide"
    }
   },
   "source": [
    "**How to indent?**"
   ]
  },
  {
   "cell_type": "markdown",
   "metadata": {
    "slideshow": {
     "slide_type": "fragment"
    }
   },
   "source": [
    "- The [style guide](https://www.python.org/dev/peps/pep-0008/#indentation) recommends using 4 spaces for each indentation.  \n",
    "- You can simply type the `tab` key."
   ]
  },
  {
   "cell_type": "markdown",
   "metadata": {
    "slideshow": {
     "slide_type": "subslide"
    }
   },
   "source": [
    "**What if you want to leave a block empty?**"
   ]
  },
  {
   "cell_type": "markdown",
   "metadata": {
    "slideshow": {
     "slide_type": "fragment"
    }
   },
   "source": [
    "In programming, it is often useful to delay detailed implementations until we have written an overall skeleton.  \n",
    "To leave a block empty, Python uses the keyword [`pass`](https://docs.python.org/3/tutorial/controlflow.html#pass-statements)."
   ]
  },
  {
   "cell_type": "code",
   "execution_count": 39,
   "metadata": {
    "ExecuteTime": {
     "end_time": "2020-09-12T01:45:57.392097Z",
     "start_time": "2020-09-12T01:45:57.386403Z"
    },
    "slideshow": {
     "slide_type": "-"
    }
   },
   "outputs": [],
   "source": [
    "# write a code skeleton\n",
    "def sort_two_values(x, y):\n",
    "    pass\n",
    "    # print the smaller value first followed by the larger one\n",
    "\n",
    "\n",
    "sort_two_values(1, 0)\n",
    "sort_two_values(1, 2)"
   ]
  },
  {
   "cell_type": "markdown",
   "metadata": {
    "slideshow": {
     "slide_type": "fragment"
    }
   },
   "source": [
    "Without `pass`, the code will fail to run, preventing you from checking other parts of the code."
   ]
  },
  {
   "cell_type": "code",
   "execution_count": 40,
   "metadata": {
    "ExecuteTime": {
     "end_time": "2020-09-12T01:51:11.655679Z",
     "start_time": "2020-09-12T01:51:11.649080Z"
    },
    "code_folding": [],
    "slideshow": {
     "slide_type": "fragment"
    }
   },
   "outputs": [],
   "source": [
    "# You can add more details to the skeleton step-by-step\n",
    "def sort_two_values(x, y):\n",
    "    if x <= y:\n",
    "        pass\n",
    "        # print x before y\n",
    "    if y < x:\n",
    "        pass  # print y before x\n",
    "\n",
    "\n",
    "sort_two_values(1, 0)\n",
    "sort_two_values(1, 2)"
   ]
  },
  {
   "cell_type": "markdown",
   "metadata": {},
   "source": [
    "**Exercise** (challenge)\n",
    "\n",
    "Re-implement the following *without any logical operators except `not`*."
   ]
  },
  {
   "cell_type": "code",
   "execution_count": null,
   "metadata": {},
   "outputs": [],
   "source": [
    "input(1) or input(2) and input(3)"
   ]
  },
  {
   "cell_type": "markdown",
   "metadata": {},
   "source": [
    "````{hint}\n",
    "You may use `not`. Consider the solution template:\n",
    "```python\n",
    "output = input(1)\n",
    "if ...:\n",
    "    output = ...\n",
    "    if ...:\n",
    "        output = ...\n",
    "output\n",
    "```\n",
    "````"
   ]
  },
  {
   "cell_type": "code",
   "execution_count": 35,
   "metadata": {},
   "outputs": [
    {
     "name": "stdin",
     "output_type": "stream",
     "text": [
      "1 \n",
      "2 0\n",
      "3 \n"
     ]
    },
    {
     "data": {
      "text/plain": [
       "''"
      ]
     },
     "execution_count": 35,
     "metadata": {},
     "output_type": "execute_result"
    }
   ],
   "source": [
    "# Solution\n",
    "output = input(1)\n",
    "if not output:\n",
    "    output = input(2)\n",
    "    if output:\n",
    "        output = input(3)\n",
    "output"
   ]
  },
  {
   "cell_type": "markdown",
   "metadata": {
    "slideshow": {
     "slide_type": "slide"
    }
   },
   "source": [
    "### If-Then-Else Construct"
   ]
  },
  {
   "cell_type": "markdown",
   "metadata": {
    "slideshow": {
     "slide_type": "fragment"
    }
   },
   "source": [
    "The sorting algorithm is not efficient enough. Why not?  \n",
    "Hint: `(x <= y) and not (y < x)` is a *tautology*, i.e., always true."
   ]
  },
  {
   "cell_type": "markdown",
   "metadata": {
    "slideshow": {
     "slide_type": "fragment"
    }
   },
   "source": [
    "To improve the efficient, we should implement the following program flow."
   ]
  },
  {
   "cell_type": "code",
   "execution_count": 36,
   "metadata": {
    "slideshow": {
     "slide_type": "-"
    }
   },
   "outputs": [
    {
     "data": {
      "application/vnd.jupyter.widget-view+json": {
       "model_id": "8ec41defbe6a4fc3a0ae0e6adb2e5224",
       "version_major": 2,
       "version_minor": 0
      },
      "text/plain": [
       "JSWidget(value=None, html='<!DOCTYPE html>\\n<html>\\n<head>\\n  <script src=\"https://cdnjs.cloudflare.com/ajax/l…"
      ]
     },
     "execution_count": 36,
     "metadata": {},
     "output_type": "execute_result"
    }
   ],
   "source": [
    "sort_two_values_fc2"
   ]
  },
  {
   "cell_type": "markdown",
   "metadata": {
    "slideshow": {
     "slide_type": "fragment"
    }
   },
   "source": [
    "This can be done by the `else` clause of the [`if` statement](https://docs.python.org/3/tutorial/controlflow.html#if-statements)."
   ]
  },
  {
   "cell_type": "code",
   "execution_count": null,
   "metadata": {
    "ExecuteTime": {
     "end_time": "2020-09-12T01:56:37.522264Z",
     "start_time": "2020-09-12T01:56:37.509438Z"
    },
    "slideshow": {
     "slide_type": "fragment"
    }
   },
   "outputs": [],
   "source": [
    "%%optlite -h 450\n",
    "def sort_two_values(x, y):\n",
    "    if x <= y:\n",
    "        print(x, y)\n",
    "    else:\n",
    "        print(y, x)\n",
    "\n",
    "\n",
    "sort_two_values(1, 0)\n",
    "sort_two_values(1, 2)"
   ]
  },
  {
   "cell_type": "markdown",
   "metadata": {
    "slideshow": {
     "slide_type": "subslide"
    }
   },
   "source": [
    "We can also use a [*conditional expression*](https://docs.python.org/3/reference/expressions.html#conditional-expressions) to shorten the code."
   ]
  },
  {
   "cell_type": "code",
   "execution_count": 42,
   "metadata": {
    "ExecuteTime": {
     "end_time": "2020-09-12T01:56:45.805718Z",
     "start_time": "2020-09-12T01:56:45.759289Z"
    },
    "code_folding": [
     5
    ],
    "slideshow": {
     "slide_type": "fragment"
    }
   },
   "outputs": [
    {
     "data": {
      "application/vnd.jupyter.widget-view+json": {
       "model_id": "6ed29fd603aa43d7af46fcfe6026e564",
       "version_major": 2,
       "version_minor": 0
      },
      "text/plain": [
       "interactive(children=(Text(value='1', description='x'), Text(value='0', description='y'), Output()), _dom_clas…"
      ]
     },
     "metadata": {},
     "output_type": "display_data"
    }
   ],
   "source": [
    "def sort_two_values(x, y):\n",
    "    print((\"{0} {1}\" if x <= y else \"{1} {0}\").format(x, y))\n",
    "\n",
    "\n",
    "@interact(x=\"1\", y=\"0\")\n",
    "def sort_two_values_app(x, y):\n",
    "    sort_two_values(eval(x), eval(y))"
   ]
  },
  {
   "cell_type": "markdown",
   "metadata": {
    "slideshow": {
     "slide_type": "subslide"
    }
   },
   "source": [
    "**Exercise** \n",
    "\n",
    "Explain why the followings have syntax errors.\n",
    "\n",
    "```python\n",
    "1 if True\n",
    "x = 1 if True else x = 0\n",
    "```"
   ]
  },
  {
   "cell_type": "code",
   "execution_count": 44,
   "metadata": {
    "ExecuteTime": {
     "end_time": "2020-09-08T11:03:52.336321Z",
     "start_time": "2020-09-08T11:03:52.330951Z"
    },
    "slideshow": {
     "slide_type": "fragment"
    }
   },
   "outputs": [
    {
     "ename": "SyntaxError",
     "evalue": "expected 'else' after 'if' expression (1163986756.py, line 1)",
     "output_type": "error",
     "traceback": [
      "\u001b[0;36m  Cell \u001b[0;32mIn[44], line 1\u001b[0;36m\u001b[0m\n\u001b[0;31m    1 if True\u001b[0m\n\u001b[0m    ^\u001b[0m\n\u001b[0;31mSyntaxError\u001b[0m\u001b[0;31m:\u001b[0m expected 'else' after 'if' expression\n"
     ]
    }
   ],
   "source": [
    "1 if True"
   ]
  },
  {
   "cell_type": "code",
   "execution_count": null,
   "metadata": {
    "ExecuteTime": {
     "end_time": "2020-09-08T11:03:46.129347Z",
     "start_time": "2020-09-08T11:03:46.121932Z"
    },
    "slideshow": {
     "slide_type": "fragment"
    }
   },
   "outputs": [],
   "source": [
    "x = 1 if True else x=0\n",
    "# this is correct: x = 1 if True else 0"
   ]
  },
  {
   "cell_type": "markdown",
   "metadata": {
    "slideshow": {
     "slide_type": "fragment"
    }
   },
   "source": [
    "A conditional expression must be an expression:\n",
    "1. It must give a value under all cases. To enforce that, `else` keyword must be provided.\n",
    "1. An assignment statement does not return any value and therefore cannot be used for the conditional expression.  \n",
    "    `x = 1 if True else 0` is valid because `x =` is not part of the conditional expression."
   ]
  },
  {
   "cell_type": "markdown",
   "metadata": {},
   "source": [
    "**Exercise** (Challenge)\n",
    "\n",
    "Re-implement the following *in one line* without any logical operators ."
   ]
  },
  {
   "cell_type": "code",
   "execution_count": null,
   "metadata": {},
   "outputs": [],
   "source": [
    "input(1) or input(2) and input(3)"
   ]
  },
  {
   "cell_type": "code",
   "execution_count": null,
   "metadata": {},
   "outputs": [],
   "source": [
    "# Solution\n",
    "x if (x := input(1)) else (x := input(3)) if (x := input(2)) else x"
   ]
  },
  {
   "cell_type": "markdown",
   "metadata": {
    "slideshow": {
     "slide_type": "slide"
    }
   },
   "source": [
    "### Nested Conditionals"
   ]
  },
  {
   "cell_type": "markdown",
   "metadata": {
    "slideshow": {
     "slide_type": "subslide"
    }
   },
   "source": [
    "Consider sorting three values instead of two. A feasible algorithm is as follows:"
   ]
  },
  {
   "cell_type": "code",
   "execution_count": 37,
   "metadata": {
    "slideshow": {
     "slide_type": "fragment"
    }
   },
   "outputs": [
    {
     "data": {
      "application/vnd.jupyter.widget-view+json": {
       "model_id": "c780445cfc8546388b7f2529c74822f4",
       "version_major": 2,
       "version_minor": 0
      },
      "text/plain": [
       "JSWidget(value=None, html='<!DOCTYPE html>\\n<html>\\n<head>\\n  <script src=\"https://cdnjs.cloudflare.com/ajax/l…"
      ]
     },
     "execution_count": 37,
     "metadata": {},
     "output_type": "execute_result"
    }
   ],
   "source": [
    "sort_three_values_fc"
   ]
  },
  {
   "cell_type": "markdown",
   "metadata": {
    "slideshow": {
     "slide_type": "fragment"
    }
   },
   "source": [
    "We can implement the flow using *nested conditional constructs*:"
   ]
  },
  {
   "cell_type": "code",
   "execution_count": null,
   "metadata": {
    "ExecuteTime": {
     "end_time": "2020-09-12T01:58:22.115132Z",
     "start_time": "2020-09-12T01:58:22.099108Z"
    },
    "code_folding": [],
    "slideshow": {
     "slide_type": "fragment"
    }
   },
   "outputs": [],
   "source": [
    "def sort_three_values(x, y, z):\n",
    "    if x <= y <= z:\n",
    "        print(x, y, z)\n",
    "    else:\n",
    "        if x <= z <= y:\n",
    "            print(x, z, y)\n",
    "        else:\n",
    "            if y <= x <= z:\n",
    "                print(y, x, z)\n",
    "            else:\n",
    "                if y <= z <= x:\n",
    "                    print(y, z, x)\n",
    "                else:\n",
    "                    if z <= x <= y:\n",
    "                        print(z, x, y)\n",
    "                    else:\n",
    "                        print(z, y, x)\n",
    "\n",
    "\n",
    "def test_sort_three_values():\n",
    "    sort_three_values(0, 1, 2)\n",
    "    sort_three_values(0, 2, 1)\n",
    "    sort_three_values(1, 0, 2)\n",
    "    sort_three_values(1, 2, 0)\n",
    "    sort_three_values(2, 0, 1)\n",
    "    sort_three_values(2, 1, 0)\n",
    "\n",
    "\n",
    "test_sort_three_values()"
   ]
  },
  {
   "cell_type": "markdown",
   "metadata": {
    "slideshow": {
     "slide_type": "slide"
    }
   },
   "source": [
    "Imagine what would happen if we have to sort many values.  \n",
    "To avoid an excessively long line due to the indentation, Python provides the `elif` keyword that combines `else` and `if`."
   ]
  },
  {
   "cell_type": "code",
   "execution_count": null,
   "metadata": {
    "ExecuteTime": {
     "end_time": "2020-09-12T01:59:42.132273Z",
     "start_time": "2020-09-12T01:59:42.119646Z"
    },
    "slideshow": {
     "slide_type": "fragment"
    }
   },
   "outputs": [],
   "source": [
    "def sort_three_values(x, y, z):\n",
    "    if x <= y <= z:   #this condition checks (x<=y) and (y<=z)\n",
    "        print(x, y, z)\n",
    "    elif x <= z <= y:\n",
    "        print(x, z, y)\n",
    "    elif y <= x <= z:\n",
    "        print(y, x, z)\n",
    "    elif y <= z <= x:\n",
    "        print(y, z, x)\n",
    "    elif z <= x <= y:  #when we check this condition (z<=x) and (x<=y), actually the second part has already\n",
    "        print(z, x, y) #been checked in the first condition\n",
    "    else:\n",
    "        print(z, y, x)\n",
    "\n",
    "\n",
    "sort_three_values(10,5,100)"
   ]
  },
  {
   "cell_type": "markdown",
   "metadata": {
    "slideshow": {
     "slide_type": "subslide"
    }
   },
   "source": [
    "**Exercise** \n",
    "\n",
    "The above sorting algorithm is inefficient because some conditions may be checked more than once. Improve the program to eliminate duplicate checks. \n",
    "\n",
    "```{hint}\n",
    "Do not use chained comparison operators or compound boolean expressions.\n",
    "```"
   ]
  },
  {
   "cell_type": "code",
   "execution_count": null,
   "metadata": {},
   "outputs": [],
   "source": [
    "# YOUR CODE HERE\n",
    "# Try to complete it without referring to the solution below"
   ]
  },
  {
   "cell_type": "code",
   "execution_count": null,
   "metadata": {},
   "outputs": [],
   "source": [
    "# Solution\n",
    "def sort_three_values(x, y, z):\n",
    "    if x <= y:\n",
    "        if y <= z:\n",
    "            print(x, y, z)\n",
    "        elif x <= z:\n",
    "            print(x, z, y)\n",
    "        else:\n",
    "            print(z, x, y)\n",
    "    elif z <= y:\n",
    "        print(z, y, x)\n",
    "    elif z <= x:\n",
    "        print(y, z, x)\n",
    "    else:\n",
    "        print(y, x, z)\n",
    "        \n",
    "sort_three_values(10,17,14)"
   ]
  }
 ],
 "metadata": {
  "kernelspec": {
   "display_name": "Python 3 (ipykernel)",
   "language": "python",
   "name": "python3"
  },
  "language_info": {
   "codemirror_mode": {
    "name": "ipython",
    "version": 3
   },
   "file_extension": ".py",
   "mimetype": "text/x-python",
   "name": "python",
   "nbconvert_exporter": "python",
   "pygments_lexer": "ipython3",
   "version": "3.11.9"
  },
  "latex_envs": {
   "LaTeX_envs_menu_present": true,
   "autoclose": false,
   "autocomplete": true,
   "bibliofile": "biblio.bib",
   "cite_by": "apalike",
   "current_citInitial": 1,
   "eqLabelWithNumbers": true,
   "eqNumInitial": 1,
   "hotkeys": {
    "equation": "Ctrl-E",
    "itemize": "Ctrl-I"
   },
   "labels_anchors": false,
   "latex_user_defs": false,
   "report_style_numbering": false,
   "user_envs_cfg": false
  },
  "rise": {
   "enable_chalkboard": true,
   "scroll": true,
   "theme": "white"
  },
  "scenes_data": {
   "active_scene": "Default Scene",
   "init_scene": "",
   "scenes": [
    "Default Scene"
   ]
  },
  "toc": {
   "base_numbering": 1,
   "nav_menu": {
    "height": "195px",
    "width": "330px"
   },
   "number_sections": true,
   "sideBar": true,
   "skip_h1_title": true,
   "title_cell": "Table of Contents",
   "title_sidebar": "Contents",
   "toc_cell": false,
   "toc_position": {
    "height": "454.418px",
    "left": "1533px",
    "top": "110.284px",
    "width": "435.325px"
   },
   "toc_section_display": true,
   "toc_window_display": false
  },
  "widgets": {
   "application/vnd.jupyter.widget-state+json": {
    "state": {},
    "version_major": 2,
    "version_minor": 0
   }
  }
 },
 "nbformat": 4,
 "nbformat_minor": 4
}
