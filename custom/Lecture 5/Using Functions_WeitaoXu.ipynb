{
 "cells": [
  {
   "cell_type": "markdown",
   "metadata": {
    "hide_input": false,
    "slideshow": {
     "slide_type": "slide"
    }
   },
   "source": [
    "# Using Functions\n",
    "\n",
    "**CS1302 Introduction to Computer Programming**\n",
    "___"
   ]
  },
  {
   "cell_type": "code",
   "execution_count": 13,
   "metadata": {
    "ExecuteTime": {
     "end_time": "2021-02-07T11:50:13.363161Z",
     "start_time": "2021-02-07T11:50:13.297013Z"
    },
    "hide_input": true,
    "init_cell": true,
    "slideshow": {
     "slide_type": "skip"
    }
   },
   "outputs": [],
   "source": [
    "%reload_ext divewidgets"
   ]
  },
  {
   "cell_type": "markdown",
   "metadata": {
    "slideshow": {
     "slide_type": "slide"
    }
   },
   "source": [
    "# Content\n",
    "1. How to import package/module/function\n",
    "2. How to define and use function"
   ]
  },
  {
   "cell_type": "markdown",
   "metadata": {
    "slideshow": {
     "slide_type": "slide"
    }
   },
   "source": [
    "## Motivation"
   ]
  },
  {
   "cell_type": "markdown",
   "metadata": {
    "slideshow": {
     "slide_type": "subslide"
    }
   },
   "source": [
    "**How to reuse code so we can write less?**"
   ]
  },
  {
   "cell_type": "markdown",
   "metadata": {
    "slideshow": {
     "slide_type": "subslide"
    }
   },
   "source": [
    "When we write a loop, the code is executed multiple times, once for each iteration."
   ]
  },
  {
   "cell_type": "markdown",
   "metadata": {
    "slideshow": {
     "slide_type": "subslide"
    }
   },
   "source": [
    "```{important}\n",
    "\n",
    "*Code reuse* gives the code an elegant *structure* that\n",
    "- can be executed efficiently by a computer, and\n",
    "- *interpreted* easily by a programmer.\n",
    "```"
   ]
  },
  {
   "cell_type": "markdown",
   "metadata": {
    "slideshow": {
     "slide_type": "fragment"
    }
   },
   "source": [
    "**How to repeat execution at different times, in different programs, and in slightly different ways?**\n",
    "\n",
    "**-We use functions**"
   ]
  },
  {
   "cell_type": "markdown",
   "metadata": {
    "ExecuteTime": {
     "end_time": "2020-09-27T02:25:29.891139Z",
     "start_time": "2020-09-27T02:25:29.886242Z"
    },
    "slideshow": {
     "slide_type": "slide"
    }
   },
   "source": [
    "**Some basic concepts before introducing functions**\n",
    "\n",
    "Function vs Module vs Package/Library\n",
    "* **Function** is a block of code that can perform specific task \n",
    "* **Module** is a collection of functions and global variables\n",
    "* **Package/Library** is a collection of modules\n",
    "\n",
    "\n",
    "member operator .\n",
    " \n",
    "* if we want to use a function inside a module, we need to use member operator, e.g., `module_A.function_B`"
   ]
  },
  {
   "cell_type": "markdown",
   "metadata": {
    "slideshow": {
     "slide_type": "slide"
    }
   },
   "source": [
    "## Functions\n",
    "\n",
    "$y=f(x)$ is a function in math. What is function in coding?\n",
    "\n",
    "* **Function** is a block of code that performs a specific task. \n",
    "* You can pass data, known as `arguments` or `parameters`, into a function. \n",
    "* A function can `return` data as an output.\n",
    "* when you use a function, it's known as `we call a function` or `function call`"
   ]
  },
  {
   "cell_type": "markdown",
   "metadata": {
    "ExecuteTime": {
     "end_time": "2020-09-27T02:25:29.891139Z",
     "start_time": "2020-09-27T02:25:29.886242Z"
    },
    "hide_input": false,
    "slideshow": {
     "slide_type": "subslide"
    }
   },
   "source": [
    " A function has three components:\n",
    "* function name\n",
    "* arguments or parameters (optional)\n",
    "* return data (optional)\n",
    "\n",
    "Let's see the following example which defines a function `calculate_area()`"
   ]
  },
  {
   "cell_type": "code",
   "execution_count": 14,
   "metadata": {
    "ExecuteTime": {
     "end_time": "2021-02-07T10:50:14.780233Z",
     "start_time": "2021-02-07T10:50:14.773529Z"
    },
    "slideshow": {
     "slide_type": "fragment"
    }
   },
   "outputs": [
    {
     "name": "stdout",
     "output_type": "stream",
     "text": [
      "21.2264\n"
     ]
    },
    {
     "ename": "NameError",
     "evalue": "name 'area' is not defined",
     "output_type": "error",
     "traceback": [
      "\u001b[0;31m---------------------------------------------------------------------------\u001b[0m",
      "\u001b[0;31mNameError\u001b[0m                                 Traceback (most recent call last)",
      "Cell \u001b[0;32mIn[14], line 10\u001b[0m\n\u001b[1;32m      8\u001b[0m \u001b[38;5;28mprint\u001b[39m(calculate_area(\u001b[38;5;241m2.6\u001b[39m)) \u001b[38;5;66;03m#this is function call\u001b[39;00m\n\u001b[1;32m      9\u001b[0m \u001b[38;5;66;03m#print(PI)   #this is correct because PI is a global variable\u001b[39;00m\n\u001b[0;32m---> 10\u001b[0m \u001b[38;5;28mprint\u001b[39m(\u001b[43marea\u001b[49m) \u001b[38;5;66;03m#this is wrong cause area is defined in calculate_area, and cannot be accessed outside the function\u001b[39;00m\n",
      "\u001b[0;31mNameError\u001b[0m: name 'area' is not defined"
     ]
    }
   ],
   "source": [
    "#in this example, PI is a global variable,but area is a local variable\n",
    "PI = 3.14\n",
    "\n",
    "def calculate_area(radius):\n",
    "    area=PI*radius**2\n",
    "    return area\n",
    "\n",
    "print(calculate_area(2.6)) #this is function call\n",
    "#print(PI)   #this is correct because PI is a global variable\n",
    "print(area) #this is wrong cause area is defined in calculate_area, and cannot be accessed outside the function"
   ]
  },
  {
   "cell_type": "markdown",
   "metadata": {},
   "source": [
    "**Local variable vs Global variable**\n",
    "\n",
    "* A local variable is a variable declared inside a function. It can be only accessed inside a function.\n",
    "\n",
    "* A global variable is a variable declared outside of the function or in global scope. This means that a global variable can be accessed inside or outside of the function.\n",
    "\n",
    "In the above code, `PI` is a global variable and can be used anywhere in the program. But `area` is a local variable which can only be used in function `calculate_area()`."
   ]
  },
  {
   "cell_type": "markdown",
   "metadata": {
    "slideshow": {
     "slide_type": "slide"
    }
   },
   "source": [
    "Now let's learn how to use functions written by others\n",
    "\n",
    "**How to calculate the logarithm?**\n",
    "\n",
    "There is no arithmetic operator for logarithm.  \n",
    "Do we have to implement it ourselves?\n",
    "\n",
    "-no, many functions have been implemented by others, we can just use them"
   ]
  },
  {
   "cell_type": "markdown",
   "metadata": {
    "slideshow": {
     "slide_type": "subslide"
    }
   },
   "source": [
    "We can use the function `log` from the [`math` *module*](https://docs.python.org/3/library/math.html):\n",
    "\n",
    "`math` is a module that you can use for mathematical tasks\n",
    "\n",
    "In order to use functions in math module, we need to import them"
   ]
  },
  {
   "cell_type": "code",
   "execution_count": 15,
   "metadata": {
    "ExecuteTime": {
     "end_time": "2021-02-07T10:55:40.513936Z",
     "start_time": "2021-02-07T10:55:40.510649Z"
    },
    "slideshow": {
     "slide_type": "-"
    }
   },
   "outputs": [
    {
     "name": "stdout",
     "output_type": "stream",
     "text": [
      "8.0\n"
     ]
    }
   ],
   "source": [
    "from math import log #this is how we import a function from a module\n",
    "x=log(256, 2)  # log base 2 of 256\n",
    "print(x)"
   ]
  },
  {
   "cell_type": "markdown",
   "metadata": {
    "slideshow": {
     "slide_type": "fragment"
    }
   },
   "source": [
    "The above computes the base-$2$ logarithm, $\\log_2(256)$.\n",
    "\n",
    "Like functions in mathematics $y=f(x)$, a computer function `log` \n",
    "- is *called/invoked* with some input *arguments* `(256, 2)` following the function, and\n",
    "- *returns* an output value computed from the input arguments."
   ]
  },
  {
   "cell_type": "markdown",
   "metadata": {
    "slideshow": {
     "slide_type": "subslide"
    }
   },
   "source": [
    "Unlike mathematical functions:\n",
    "- y=f(); this is wrong in math\n",
    "- A computer function may require no arguments, but we still need to call it with `()`. "
   ]
  },
  {
   "cell_type": "code",
   "execution_count": 17,
   "metadata": {
    "ExecuteTime": {
     "end_time": "2021-02-07T10:57:30.473218Z",
     "start_time": "2021-02-07T10:57:28.876274Z"
    },
    "slideshow": {
     "slide_type": "-"
    }
   },
   "outputs": [
    {
     "name": "stdin",
     "output_type": "stream",
     "text": [
      " 4\n"
     ]
    },
    {
     "data": {
      "text/plain": [
       "'4'"
      ]
     },
     "execution_count": 17,
     "metadata": {},
     "output_type": "execute_result"
    }
   ],
   "source": [
    "input()  # calling the input() function without input arguments"
   ]
  },
  {
   "cell_type": "markdown",
   "metadata": {
    "slideshow": {
     "slide_type": "fragment"
    }
   },
   "source": [
    "An argument of a function call can be any expression."
   ]
  },
  {
   "cell_type": "code",
   "execution_count": 18,
   "metadata": {
    "ExecuteTime": {
     "end_time": "2021-02-07T10:59:06.597810Z",
     "start_time": "2021-02-07T10:59:02.615990Z"
    },
    "slideshow": {
     "slide_type": "-"
    }
   },
   "outputs": [
    {
     "name": "stdin",
     "output_type": "stream",
     "text": [
      " 2\n",
      " 1\n"
     ]
    },
    {
     "name": "stdout",
     "output_type": "stream",
     "text": [
      "1st input: 2 2nd input 1\n"
     ]
    }
   ],
   "source": [
    "print('1st input:',input(),'2nd input',input())"
   ]
  },
  {
   "cell_type": "markdown",
   "metadata": {
    "slideshow": {
     "slide_type": "fragment"
    }
   },
   "source": [
    "```{note}\n",
    "- the argument can also be a function call like function composition in mathematics.\n",
    "   - In math we can use y=f(g(x)). Likewise, we can call a function as function1(function2(x))\n",
    "   - In this example, the return data of *input()* is used as the parameter of *print()*\n",
    "- Before a function call is executed, its arguments are evaluated first from left to right.\n",
    "   - when we call a function such as f(a,b,c,d), the evaluation order is a->b->c->d; therefore, user's first input will be printed after `1st input`, and user's second input will be printed after `2nd input`\n",
    "```"
   ]
  },
  {
   "cell_type": "markdown",
   "metadata": {},
   "source": [
    "**Why not implement logarithm yourself?**"
   ]
  },
  {
   "cell_type": "markdown",
   "metadata": {},
   "source": [
    "- The function from standard library is efficiently implemented and thoroughly tested/documented.\n",
    "- Knowing what a function does is often insufficient for an efficient implementation.  \n",
    "    (See [how to calculate logarithm](https://en.wikipedia.org/wiki/Logarithm#Calculation) as an example.)"
   ]
  },
  {
   "cell_type": "markdown",
   "metadata": {},
   "source": [
    "Indeed, the `math` library does not implement `log` itself:\n",
    "> **CPython implementation detail:** The `math` module consists mostly of thin *wrappers* around the platform C math library functions. - [pydoc last paragraph](https://docs.python.org/3/library/math.html)\n",
    "\n",
    "(See the [source code wrapper for `log`](https://github.com/python/cpython/blob/e5ab0b6aa68009a3f50b141ec013dacee3676db9/Modules/mathmodule.c#L757).) "
   ]
  },
  {
   "cell_type": "markdown",
   "metadata": {},
   "source": [
    "**Exercise** \n",
    "\n",
    "What is a function in programming?"
   ]
  },
  {
   "cell_type": "markdown",
   "metadata": {},
   "source": [
    "YOUR ANSWER HERE"
   ]
  },
  {
   "cell_type": "markdown",
   "metadata": {
    "slideshow": {
     "slide_type": "slide"
    }
   },
   "source": [
    "## Import Functions from Modules"
   ]
  },
  {
   "cell_type": "markdown",
   "metadata": {
    "slideshow": {
     "slide_type": "fragment"
    }
   },
   "source": [
    "**Why import functions?**\n",
    "\n",
    "To tell computer where the function is. The computer doesn't load all the functions when it starts up, otherwise it takes up too much memory."
   ]
  },
  {
   "cell_type": "markdown",
   "metadata": {
    "slideshow": {
     "slide_type": "fragment"
    }
   },
   "source": [
    "**How to import functions?**"
   ]
  },
  {
   "cell_type": "markdown",
   "metadata": {
    "slideshow": {
     "slide_type": "fragment"
    }
   },
   "source": [
    "We can use the [`import` statement](https://docs.python.org/3/reference/simple_stmts.html#import) to import multiple functions into the program *global frame*.\n",
    "\n",
    "Syntax:  \n",
    "```Python\n",
    "from module_name import function_1, function_2,...\n",
    "```"
   ]
  },
  {
   "cell_type": "code",
   "execution_count": 2,
   "metadata": {
    "ExecuteTime": {
     "end_time": "2021-02-02T09:53:13.951706Z",
     "start_time": "2021-02-02T09:53:13.947270Z"
    },
    "slideshow": {
     "slide_type": "-"
    }
   },
   "outputs": [
    {
     "name": "stdout",
     "output_type": "stream",
     "text": [
      "Number of digits of x: 4\n"
     ]
    }
   ],
   "source": [
    "from math import log10, ceil,floor\n",
    "x = 1234\n",
    "print('Number of digits of x:', floor(log10(x))+1)"
   ]
  },
  {
   "cell_type": "markdown",
   "metadata": {
    "slideshow": {
     "slide_type": "fragment"
    }
   },
   "source": [
    "The above example imports both the functions `log10` and `ceil` from `math` to compute the number $\\lfloor \\log_{10}(x)\\rfloor$ of digits of a *strictly positive* integer $x$.\n",
    "\n",
    "- `log(x,y)`: base is y \n",
    "- `log2(x)`: base is 2\n",
    "- `log10(x)`: base is 10\n",
    "- floor(x): returns floor of x, i.e., the largest integer not greater than x.\n",
    "   - floor(1.2) returns 1, floor(5.4) returns 5\n",
    "- ceil(x): returns ceiling value of x, i.e., the smallest integer not less than x\n",
    "   - ceil(1.2) returns 2, ceiling(5.4) returns 6"
   ]
  },
  {
   "cell_type": "markdown",
   "metadata": {
    "slideshow": {
     "slide_type": "subslide"
    }
   },
   "source": [
    "**How to import all functions from a library?**\n",
    "\n",
    "syntax: \n",
    "```Python\n",
    "from module_name import *\n",
    "```\n",
    "* The above uses the wildcard `*` to import ([nearly](https://docs.python.org/3/tutorial/modules.html#more-on-modules)) all the functions/variables provided in `math`, except names starting with an underscore."
   ]
  },
  {
   "cell_type": "code",
   "execution_count": null,
   "metadata": {
    "ExecuteTime": {
     "end_time": "2020-09-28T05:04:36.672856Z",
     "start_time": "2020-09-28T05:04:36.664475Z"
    },
    "slideshow": {
     "slide_type": "fragment"
    }
   },
   "outputs": [],
   "source": [
    "from math import *  # import all except names starting with an underscore\n",
    "print('{:.2f}, {:.2f}, {:.2f}'.format(sin(pi/6),cos(pi/3),tan(pi/4)))"
   ]
  },
  {
   "cell_type": "markdown",
   "metadata": {
    "slideshow": {
     "slide_type": "slide"
    }
   },
   "source": [
    "**What if different packages define the same function?**\n",
    "\n",
    "- Python has built-in function `pow()`\n",
    "- Math also has a function `pow()`"
   ]
  },
  {
   "cell_type": "code",
   "execution_count": 8,
   "metadata": {
    "ExecuteTime": {
     "end_time": "2021-02-07T11:25:36.091759Z",
     "start_time": "2021-02-07T11:25:36.086516Z"
    },
    "slideshow": {
     "slide_type": "fragment"
    }
   },
   "outputs": [
    {
     "data": {
      "application/vnd.jupyter.widget-view+json": {
       "model_id": "f451456c5d894e4fb75e3e52664d2f67",
       "version_major": 2,
       "version_minor": 0
      },
      "text/plain": [
       "OPTWidget(value=None, height=300, script=\"print('{}'.format(pow(-1,2)))\\nprint('{:.2f}'.format(pow(-1,1/2)))\\n…"
      ]
     },
     "execution_count": 8,
     "metadata": {},
     "output_type": "execute_result"
    }
   ],
   "source": [
    "%%optlite -h 300\n",
    "print('{}'.format(pow(-1,2)))\n",
    "print('{:.2f}'.format(pow(-1,1/2)))\n",
    "from math import *               \n",
    "#after import, the system will use pow() defined in math\n",
    "print('{}'.format(pow(-1,2)))  \n",
    "print('{:.2f}'.format(pow(-1,1/2)))"
   ]
  },
  {
   "cell_type": "code",
   "execution_count": null,
   "metadata": {},
   "outputs": [],
   "source": [
    "print(__builtin__.pow(-1,1/2))\n",
    "print('{:.2f}'.format(__builtin__.pow(-1,1/2)))\n",
    "import math\n",
    "print(math.pow(-1,1/2))"
   ]
  },
  {
   "cell_type": "markdown",
   "metadata": {
    "slideshow": {
     "slide_type": "fragment"
    }
   },
   "source": [
    "- The function `pow` imported from `math` overwrites the built-in function `pow`.  \n",
    "- Unlike the built-in function, `pow` from `math` returns only floats but not integers nor complex numbers. \n",
    "- We say that the import statement *polluted the namespace of the global frame* and caused a *name collision*. "
   ]
  },
  {
   "cell_type": "markdown",
   "metadata": {
    "slideshow": {
     "slide_type": "subslide"
    }
   },
   "source": [
    "**How to avoid name collisions?**\n",
    "\n",
    "We can use the full name (*fully-qualified name*) `math.pow` prefixed with the module name (and possibly package names containing the module).\n"
   ]
  },
  {
   "cell_type": "code",
   "execution_count": null,
   "metadata": {
    "ExecuteTime": {
     "end_time": "2021-02-07T11:27:43.390892Z",
     "start_time": "2021-02-07T11:27:43.384347Z"
    },
    "slideshow": {
     "slide_type": "-"
    }
   },
   "outputs": [],
   "source": [
    "%%optlite -h 250\n",
    "import math\n",
    "#the above command only import math library but not functions, \n",
    "#so we have to use math.function() when we call functions\n",
    "print('{:.2f}, {:.2f}'.format(math.pow(-1,2),pow(-1,1/2)))"
   ]
  },
  {
   "cell_type": "markdown",
   "metadata": {
    "slideshow": {
     "slide_type": "subslide"
    }
   },
   "source": [
    "**Can we shorten a name?**"
   ]
  },
  {
   "cell_type": "markdown",
   "metadata": {
    "slideshow": {
     "slide_type": "fragment"
    }
   },
   "source": [
    "The name of a library can be very long and there can be a hierarchical structure as well.  \n",
    "E.g., to plot a sequence using `pyplot` module from `matplotlib` package (you don't need to know how matplotlib works):"
   ]
  },
  {
   "cell_type": "code",
   "execution_count": null,
   "metadata": {
    "ExecuteTime": {
     "end_time": "2021-02-02T10:07:08.836070Z",
     "start_time": "2021-02-02T10:07:08.205430Z"
    },
    "slideshow": {
     "slide_type": "-"
    }
   },
   "outputs": [],
   "source": [
    "%matplotlib inline\n",
    "import matplotlib.pyplot\n",
    "matplotlib.pyplot.stem([4,3,2,1])\n",
    "matplotlib.pyplot.ylabel(r'$x_n$')\n",
    "matplotlib.pyplot.xlabel(r'$n$')\n",
    "matplotlib.pyplot.title('A sequence of numbers')\n",
    "matplotlib.pyplot.show()"
   ]
  },
  {
   "cell_type": "markdown",
   "metadata": {
    "slideshow": {
     "slide_type": "fragment"
    }
   },
   "source": [
    "It is common to rename `matplotlib.pyplot` as `plt`:\n",
    "\n",
    "Syntax:\n",
    "\n",
    "```Python\n",
    "#method 1\n",
    "import package.module_name as short_name \n",
    "#method 2\n",
    "from package_name import module_name as short_name\n",
    "```"
   ]
  },
  {
   "cell_type": "code",
   "execution_count": null,
   "metadata": {
    "ExecuteTime": {
     "end_time": "2021-02-07T11:31:39.737758Z",
     "start_time": "2021-02-07T11:31:39.541532Z"
    },
    "slideshow": {
     "slide_type": "-"
    }
   },
   "outputs": [],
   "source": [
    "%matplotlib inline\n",
    "import matplotlib.pyplot as plt\n",
    "#from matplotlib import pyplot as plt #equivalent to above\n",
    "plt.stem([4,3,2,1])\n",
    "plt.ylabel(r'$x_n$')\n",
    "plt.xlabel(r'$n$')\n",
    "plt.title('A sequence of numbers')\n",
    "plt.show()"
   ]
  },
  {
   "cell_type": "markdown",
   "metadata": {
    "slideshow": {
     "slide_type": "subslide"
    }
   },
   "source": [
    "We can also rename a function as we import it to avoid name collision:"
   ]
  },
  {
   "cell_type": "code",
   "execution_count": 10,
   "metadata": {
    "ExecuteTime": {
     "end_time": "2020-09-27T02:05:50.866276Z",
     "start_time": "2020-09-27T02:05:50.859522Z"
    },
    "slideshow": {
     "slide_type": "fragment"
    }
   },
   "outputs": [
    {
     "name": "stdout",
     "output_type": "stream",
     "text": [
      "4.0\n",
      "4.0\n",
      "4.0\n",
      "4\n"
     ]
    }
   ],
   "source": [
    "from math import pow as fpow\n",
    "print(fpow(2,2))\n",
    "print(pow(2,2))\n",
    "\n",
    "from math import pow\n",
    "print(pow(2,2))\n",
    "\n",
    "print(__builtin__.pow(2,2))"
   ]
  },
  {
   "cell_type": "markdown",
   "metadata": {},
   "source": [
    "**Exercise** \n",
    "\n",
    "What is wrong with the following code?"
   ]
  },
  {
   "cell_type": "code",
   "execution_count": null,
   "metadata": {},
   "outputs": [],
   "source": [
    "import math as m\n",
    "\n",
    "for m in range(5):\n",
    "    print(m.pow(m, 2))"
   ]
  },
  {
   "cell_type": "code",
   "execution_count": null,
   "metadata": {},
   "outputs": [],
   "source": [
    "#Name collision. We can change m to another variable\n",
    "\n",
    "import math as m\n",
    "\n",
    "for i in range(5):\n",
    "    print(m.pow(i, 2))"
   ]
  },
  {
   "cell_type": "markdown",
   "metadata": {},
   "source": [
    "**Exercise** Use the `randint` function from `random` to simulate the rolling of a die, by printing a random integer from 1 to 6. \n",
    "\n",
    "* `random` module is used to generate random numbers\n",
    "* `random.randint(a, b)`: return a random integer N such that a <= N <= b"
   ]
  },
  {
   "cell_type": "code",
   "execution_count": null,
   "metadata": {},
   "outputs": [],
   "source": [
    "# Solution\n",
    "from random import randint  #import randint function only\n",
    "for i in range(1,5):\n",
    "    print(randint(1,6))  #use a for loop to generate 4 random integers between 1 and 6"
   ]
  },
  {
   "cell_type": "markdown",
   "metadata": {
    "ExecuteTime": {
     "end_time": "2020-09-27T06:43:43.310918Z",
     "start_time": "2020-09-27T06:43:43.306049Z"
    },
    "slideshow": {
     "slide_type": "slide"
    }
   },
   "source": [
    "**A short summary of how to import**\n",
    "\n",
    "1. import the package name directly. In this case you need to point out the module name when you call a function\n",
    "   ```Python\n",
    "   import module_name\n",
    "   module_name.function_name()\n",
    "   ```"
   ]
  },
  {
   "cell_type": "code",
   "execution_count": null,
   "metadata": {
    "ExecuteTime": {
     "end_time": "2020-09-27T06:50:15.683448Z",
     "start_time": "2020-09-27T06:50:15.677175Z"
    }
   },
   "outputs": [],
   "source": [
    "#Example\n",
    "import math\n",
    "math.sin(2)"
   ]
  },
  {
   "cell_type": "markdown",
   "metadata": {},
   "source": [
    "2. import specific functions from a module. In this case you can use the function name directly\n",
    "   ```Python\n",
    "   from module_name import function_1,function_2,...\n",
    "    \n",
    "   function_name()\n",
    "   ```"
   ]
  },
  {
   "cell_type": "code",
   "execution_count": null,
   "metadata": {
    "ExecuteTime": {
     "end_time": "2020-09-27T14:04:45.562458Z",
     "start_time": "2020-09-27T14:04:45.555984Z"
    }
   },
   "outputs": [],
   "source": [
    "#Example\n",
    "from math import sin\n",
    "sin(2)"
   ]
  },
  {
   "cell_type": "markdown",
   "metadata": {},
   "source": [
    "3. import everything from a module. If you're unsure what to import, you can import everything. But it occupies more memory.\n",
    "   ```Python\n",
    "   from module_name import *\n",
    "   \n",
    "   function_name()\n",
    "   ```"
   ]
  },
  {
   "cell_type": "code",
   "execution_count": null,
   "metadata": {
    "ExecuteTime": {
     "end_time": "2020-09-27T07:00:01.617371Z",
     "start_time": "2020-09-27T07:00:01.611174Z"
    }
   },
   "outputs": [],
   "source": [
    "#Example\n",
    "from math import *\n",
    "\n",
    "print(sin(2))\n",
    "print(log(256,2))\n"
   ]
  },
  {
   "cell_type": "markdown",
   "metadata": {},
   "source": [
    "4. rename a module if it has a long name\n",
    "   ```Python\n",
    "   #method 1\n",
    "   import package.module_name as short_name \n",
    "   #method 2\n",
    "   from package_name import module_name as short_name\n",
    "   ```"
   ]
  },
  {
   "cell_type": "code",
   "execution_count": null,
   "metadata": {
    "ExecuteTime": {
     "end_time": "2020-09-27T07:00:49.292974Z",
     "start_time": "2020-09-27T07:00:49.057558Z"
    }
   },
   "outputs": [],
   "source": [
    "#in this example, matplotlib is a package, pyplot is a module\n",
    "#stem() ylabel() are functions\n",
    "%matplotlib inline\n",
    "import matplotlib.pyplot as plt\n",
    "#from matplotlib import pyplot as plt #equivalent to the above line\n",
    "plt.stem([4,3,2,1])\n",
    "plt.ylabel(r'$x_n$')\n",
    "plt.xlabel(r'$n$')\n",
    "plt.title('A sequence of numbers')\n",
    "plt.show()"
   ]
  },
  {
   "cell_type": "markdown",
   "metadata": {
    "slideshow": {
     "slide_type": "slide"
    }
   },
   "source": [
    "## Built-in Functions"
   ]
  },
  {
   "cell_type": "markdown",
   "metadata": {
    "slideshow": {
     "slide_type": "fragment"
    }
   },
   "source": [
    "**How to learn more about a function such as `randint`?**"
   ]
  },
  {
   "cell_type": "markdown",
   "metadata": {
    "slideshow": {
     "slide_type": "fragment"
    }
   },
   "source": [
    "There is a built-in function `help` for showing the *docstring* (documentation string). \n",
    "\n",
    "`help()` is used to display the documentation of an object to help user understand how it works."
   ]
  },
  {
   "cell_type": "code",
   "execution_count": null,
   "metadata": {
    "ExecuteTime": {
     "end_time": "2020-09-27T02:13:03.812353Z",
     "start_time": "2020-09-27T02:13:03.807006Z"
    },
    "slideshow": {
     "slide_type": "-"
    }
   },
   "outputs": [],
   "source": [
    "import random\n",
    "help(random.randint)  # random must be imported before\n",
    "?random.randint"
   ]
  },
  {
   "cell_type": "code",
   "execution_count": null,
   "metadata": {
    "ExecuteTime": {
     "end_time": "2020-09-27T02:13:09.062172Z",
     "start_time": "2020-09-27T02:13:09.046700Z"
    },
    "slideshow": {
     "slide_type": "-"
    }
   },
   "outputs": [],
   "source": [
    "help(random)  # can also show the docstring of a module"
   ]
  },
  {
   "cell_type": "code",
   "execution_count": null,
   "metadata": {
    "ExecuteTime": {
     "end_time": "2020-09-28T05:19:56.546481Z",
     "start_time": "2020-09-28T05:19:56.516102Z"
    }
   },
   "outputs": [],
   "source": [
    "help(int)"
   ]
  },
  {
   "cell_type": "markdown",
   "metadata": {
    "slideshow": {
     "slide_type": "subslide"
    }
   },
   "source": [
    "**Does built-in functions belong to a module?**"
   ]
  },
  {
   "cell_type": "markdown",
   "metadata": {
    "slideshow": {
     "slide_type": "fragment"
    }
   },
   "source": [
    "Indeed, every function must come from a module. built-in functions are from \\_builtin\\_ module"
   ]
  },
  {
   "cell_type": "code",
   "execution_count": null,
   "metadata": {
    "ExecuteTime": {
     "end_time": "2020-09-28T03:34:50.379085Z",
     "start_time": "2020-09-28T03:34:50.372595Z"
    },
    "slideshow": {
     "slide_type": "-"
    }
   },
   "outputs": [],
   "source": [
    "__builtin__.print('I am from the __builtin__ module.')\n",
    "print('I am from the __builtin__ module.') #print() function is from _builtin_ module"
   ]
  },
  {
   "cell_type": "markdown",
   "metadata": {
    "slideshow": {
     "slide_type": "fragment"
    }
   },
   "source": [
    "`__builtin__` module is automatically loaded because it provides functions that are commonly use for all programs."
   ]
  },
  {
   "cell_type": "markdown",
   "metadata": {
    "slideshow": {
     "slide_type": "subslide"
    }
   },
   "source": [
    "**How to list everything in a module?** "
   ]
  },
  {
   "cell_type": "markdown",
   "metadata": {
    "slideshow": {
     "slide_type": "fragment"
    }
   },
   "source": [
    "We can use the built-in function `dir` (*directory*).\n",
    "\n",
    "dir(module_name) lists all the attributes and functions of an object (say functions , modules, strings)"
   ]
  },
  {
   "cell_type": "code",
   "execution_count": null,
   "metadata": {
    "ExecuteTime": {
     "end_time": "2020-09-28T05:22:20.186731Z",
     "start_time": "2020-09-28T05:22:20.179054Z"
    },
    "slideshow": {
     "slide_type": "-"
    }
   },
   "outputs": [],
   "source": [
    "dir(__builtin__)"
   ]
  },
  {
   "cell_type": "markdown",
   "metadata": {
    "slideshow": {
     "slide_type": "subslide"
    }
   },
   "source": [
    "**Exercise** \n",
    "\n",
    "We can also call `dir` without arguments. What does it print?\n",
    "\n",
    "```{hint}\n",
    "Try `help(dir)` or `dir?` in jupyter notebook.\n",
    "```"
   ]
  },
  {
   "cell_type": "code",
   "execution_count": 11,
   "metadata": {
    "ExecuteTime": {
     "end_time": "2020-09-27T02:14:27.356437Z",
     "start_time": "2020-09-27T02:14:27.350560Z"
    },
    "slideshow": {
     "slide_type": "-"
    }
   },
   "outputs": [
    {
     "data": {
      "text/plain": [
       "['In',\n",
       " 'Out',\n",
       " '_',\n",
       " '_6',\n",
       " '_8',\n",
       " '__',\n",
       " '___',\n",
       " '__builtin__',\n",
       " '__builtins__',\n",
       " '__doc__',\n",
       " '__loader__',\n",
       " '__name__',\n",
       " '__package__',\n",
       " '__session__',\n",
       " '__spec__',\n",
       " '_dh',\n",
       " '_i',\n",
       " '_i1',\n",
       " '_i10',\n",
       " '_i11',\n",
       " '_i2',\n",
       " '_i3',\n",
       " '_i4',\n",
       " '_i5',\n",
       " '_i6',\n",
       " '_i7',\n",
       " '_i8',\n",
       " '_i9',\n",
       " '_ih',\n",
       " '_ii',\n",
       " '_iii',\n",
       " '_oh',\n",
       " 'exit',\n",
       " 'fpow',\n",
       " 'get_ipython',\n",
       " 'log',\n",
       " 'open',\n",
       " 'pow',\n",
       " 'quit',\n",
       " 'x']"
      ]
     },
     "execution_count": 11,
     "metadata": {},
     "output_type": "execute_result"
    }
   ],
   "source": [
    "dir()"
   ]
  },
  {
   "cell_type": "code",
   "execution_count": 12,
   "metadata": {},
   "outputs": [
    {
     "data": {
      "text/plain": [
       "\u001b[0;31mDocstring:\u001b[0m\n",
       "dir([object]) -> list of strings\n",
       "\n",
       "If called without an argument, return the names in the current scope.\n",
       "Else, return an alphabetized list of names comprising (some of) the attributes\n",
       "of the given object, and of attributes reachable from it.\n",
       "If the object supplies a method named __dir__, it will be used; otherwise\n",
       "the default dir() logic is used and returns:\n",
       "  for a module object: the module's attributes.\n",
       "  for a class object:  its attributes, and recursively the attributes\n",
       "    of its bases.\n",
       "  for any other object: its attributes, its class's attributes, and\n",
       "    recursively the attributes of its class's base classes.\n",
       "\u001b[0;31mType:\u001b[0m      builtin_function_or_method"
      ]
     },
     "metadata": {},
     "output_type": "display_data"
    }
   ],
   "source": [
    "dir?"
   ]
  },
  {
   "cell_type": "markdown",
   "metadata": {},
   "source": [
    "YOUR ANSWER HERE"
   ]
  }
 ],
 "metadata": {
  "kernelspec": {
   "display_name": "Python 3 (ipykernel)",
   "language": "python",
   "name": "python3"
  },
  "language_info": {
   "codemirror_mode": {
    "name": "ipython",
    "version": 3
   },
   "file_extension": ".py",
   "mimetype": "text/x-python",
   "name": "python",
   "nbconvert_exporter": "python",
   "pygments_lexer": "ipython3",
   "version": "3.11.10"
  },
  "latex_envs": {
   "LaTeX_envs_menu_present": true,
   "autoclose": false,
   "autocomplete": true,
   "bibliofile": "biblio.bib",
   "cite_by": "apalike",
   "current_citInitial": 1,
   "eqLabelWithNumbers": true,
   "eqNumInitial": 1,
   "hotkeys": {
    "equation": "Ctrl-E",
    "itemize": "Ctrl-I"
   },
   "labels_anchors": false,
   "latex_user_defs": false,
   "report_style_numbering": false,
   "user_envs_cfg": false
  },
  "rise": {
   "enable_chalkboard": true,
   "scroll": true,
   "theme": "white"
  },
  "scenes_data": {
   "active_scene": "Default Scene",
   "init_scene": "",
   "scenes": [
    "Default Scene"
   ]
  },
  "toc": {
   "base_numbering": 1,
   "nav_menu": {
    "height": "195px",
    "width": "330px"
   },
   "number_sections": true,
   "sideBar": true,
   "skip_h1_title": true,
   "title_cell": "Table of Contents",
   "title_sidebar": "Contents",
   "toc_cell": false,
   "toc_position": {
    "height": "454.418px",
    "left": "1533px",
    "top": "110.284px",
    "width": "243.323px"
   },
   "toc_section_display": true,
   "toc_window_display": false
  }
 },
 "nbformat": 4,
 "nbformat_minor": 4
}
