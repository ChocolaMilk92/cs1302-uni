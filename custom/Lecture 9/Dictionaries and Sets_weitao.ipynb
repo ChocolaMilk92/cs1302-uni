{
 "cells": [
  {
   "cell_type": "markdown",
   "metadata": {
    "slideshow": {
     "slide_type": "slide"
    }
   },
   "source": [
    "# Dictionaries and Sets\n",
    "\n",
    "**CS1302 Introduction to Computer Programming**\n",
    "___"
   ]
  },
  {
   "cell_type": "code",
   "execution_count": 1,
   "metadata": {
    "ExecuteTime": {
     "end_time": "2021-03-28T13:37:43.335786Z",
     "start_time": "2021-03-28T13:37:42.726375Z"
    },
    "hide_input": false,
    "init_cell": true
   },
   "outputs": [],
   "source": [
    "import random\n",
    "import matplotlib.pyplot as plt\n",
    "%reload_ext divewidgets"
   ]
  },
  {
   "cell_type": "markdown",
   "metadata": {
    "slideshow": {
     "slide_type": "slide"
    }
   },
   "source": [
    "## Motivation for Dictionaries and Sets"
   ]
  },
  {
   "cell_type": "markdown",
   "metadata": {},
   "source": [
    "Python Collections (Arrays)\n",
    "\n",
    "There are four collection data types in the Python programming language:\n",
    "\n",
    "- `List` is a collection which is ordered and changeable. Allows duplicate members.\n",
    "- `Tuple` is a collection which is ordered and unchangeable. Allows duplicate members.\n",
    "- `Dictionary` is a collection which is unordered, changeable and indexed. No duplicate members.\n",
    "- `Set` is a collection which is unordered and unindexed. No duplicate members.\n",
    "\n",
    "In this lecture, we will talk about `Dictionary` and `Set`."
   ]
  },
  {
   "cell_type": "markdown",
   "metadata": {
    "slideshow": {
     "slide_type": "fragment"
    }
   },
   "source": [
    "The following code simulates the outcomes of rolling a die multiple times."
   ]
  },
  {
   "cell_type": "code",
   "execution_count": 3,
   "metadata": {
    "ExecuteTime": {
     "end_time": "2021-03-28T03:20:10.794872Z",
     "start_time": "2021-03-28T03:20:10.761062Z"
    },
    "slideshow": {
     "slide_type": "-"
    }
   },
   "outputs": [
    {
     "name": "stdout",
     "output_type": "stream",
     "text": [
      "3 6 6 5 2 6 1 4 1 1\n"
     ]
    }
   ],
   "source": [
    "dice_rolls = [random.randint(1, 6) for i in range(10)]\n",
    "print(*dice_rolls)"
   ]
  },
  {
   "cell_type": "markdown",
   "metadata": {
    "slideshow": {
     "slide_type": "fragment"
    }
   },
   "source": [
    "**What is the distribution, i.e., fractional counts?**"
   ]
  },
  {
   "cell_type": "code",
   "execution_count": 4,
   "metadata": {
    "ExecuteTime": {
     "end_time": "2021-03-28T03:20:26.654492Z",
     "start_time": "2021-03-28T03:20:26.420837Z"
    },
    "slideshow": {
     "slide_type": "-"
    }
   },
   "outputs": [
    {
     "data": {
      "text/plain": [
       "(0.0, 1.0)"
      ]
     },
     "execution_count": 4,
     "metadata": {},
     "output_type": "execute_result"
    },
    {
     "data": {
      "image/png": "[encoded data removed]",
      "text/plain": [
       "<Figure size 640x480 with 1 Axes>"
      ]
     },
     "metadata": {},
     "output_type": "display_data"
    }
   ],
   "source": [
    "distribution = [dice_rolls.count(i) / len(dice_rolls) for i in range(7)]\n",
    "plt.stem(range(7), distribution)\n",
    "plt.xlabel(\"Outcomes\")\n",
    "plt.title(\"Distribution\")\n",
    "plt.ylim(0, 1)"
   ]
  },
  {
   "cell_type": "markdown",
   "metadata": {
    "slideshow": {
     "slide_type": "fragment"
    }
   },
   "source": [
    "In the above code, `distribution[i]` stores the fractional count of outcome `i`."
   ]
  },
  {
   "cell_type": "markdown",
   "metadata": {
    "slideshow": {
     "slide_type": "fragment"
    }
   },
   "source": [
    "However, `distribution[0]` is `0` because a dice does not have outcome `0`. Can we avoid such redundancy?"
   ]
  },
  {
   "cell_type": "code",
   "execution_count": 5,
   "metadata": {
    "ExecuteTime": {
     "end_time": "2021-03-28T03:21:18.262512Z",
     "start_time": "2021-03-28T03:21:18.091279Z"
    },
    "slideshow": {
     "slide_type": "-"
    }
   },
   "outputs": [
    {
     "data": {
      "text/plain": [
       "(0.0, 1.0)"
      ]
     },
     "execution_count": 5,
     "metadata": {},
     "output_type": "execute_result"
    },
    {
     "data": {
      "image/png": "[encoded data removed]",
      "text/plain": [
       "<Figure size 640x480 with 1 Axes>"
      ]
     },
     "metadata": {},
     "output_type": "display_data"
    }
   ],
   "source": [
    "distinct_outcomes = [outcome for outcome in range(1, 7) if dice_rolls.count(outcome) > 0]\n",
    "distribution = [dice_rolls.count(distinct_outcomes[i]) / len(dice_rolls) for i in range(len(distinct_outcomes))]\n",
    "\n",
    "plt.stem(distinct_outcomes, distribution)\n",
    "plt.xlabel(\"Outcomes\")\n",
    "plt.title(\"Distribution\")\n",
    "plt.ylim(0, 1)"
   ]
  },
  {
   "cell_type": "markdown",
   "metadata": {
    "slideshow": {
     "slide_type": "fragment"
    }
   },
   "source": [
    "In the above code, \n",
    "- `distinct_outcomes` stores the list of distinct outcomes, and\n",
    "- `distribution[distinct_outcomes[i]]` stores the fractional count of the `i`-th distinct outcome."
   ]
  },
  {
   "cell_type": "markdown",
   "metadata": {
    "slideshow": {
     "slide_type": "subslide"
    }
   },
   "source": [
    "What about finding the distribution of characters in an article?  \n",
    "There are over 1 million unicode characters. Can we:\n",
    "- Obtain the distribution efficiently without creating an entry for each unicode character?\n",
    "- Compute the set of distinct characters efficiently without iterating over the set of all unicode characters?\n",
    "- Access the fractional count of a particular character efficiently without searching through the list of distinct outcomes?\n",
    "- Index `distribution` directly by the distinct characters in the article?"
   ]
  },
  {
   "cell_type": "markdown",
   "metadata": {
    "slideshow": {
     "slide_type": "fragment"
    }
   },
   "source": [
    "It is desirable to have a composite data type that\n",
    "- can keep a set of *unique keys of different types* (such as the characters in our example), and\n",
    "- associate to different keys possibly different *values of any types* (such as the fractional counts of the characters).\n",
    "\n",
    "Such a data structure is called an [associative container](https://en.wikipedia.org/wiki/Associative_containers)."
   ]
  },
  {
   "cell_type": "markdown",
   "metadata": {
    "slideshow": {
     "slide_type": "subslide"
    }
   },
   "source": [
    "**How to use associative containers in python?**"
   ]
  },
  {
   "cell_type": "markdown",
   "metadata": {
    "slideshow": {
     "slide_type": "fragment"
    }
   },
   "source": [
    "```{important}\n",
    "\n",
    "There are two built-in classes for associative containers:\n",
    "- `dict`ionary can store a set of key-value pairs.\n",
    "- `set` can store unique keys of possibly different types.\n",
    "```"
   ]
  },
  {
   "cell_type": "markdown",
   "metadata": {
    "slideshow": {
     "slide_type": "slide"
    }
   },
   "source": [
    "## Constructing dictionary/set"
   ]
  },
  {
   "cell_type": "markdown",
   "metadata": {
    "slideshow": {
     "slide_type": "subslide"
    }
   },
   "source": [
    "**How to create dictionary/set?**"
   ]
  },
  {
   "cell_type": "markdown",
   "metadata": {
    "slideshow": {
     "slide_type": "fragment"
    }
   },
   "source": [
    "Similar to tuple/list, we can use enclosure, constructors, and comprehension."
   ]
  },
  {
   "cell_type": "markdown",
   "metadata": {
    "slideshow": {
     "slide_type": "subslide"
    }
   },
   "source": [
    "**How to create a dict/set by enumerating its keys/values?**"
   ]
  },
  {
   "cell_type": "markdown",
   "metadata": {},
   "source": [
    "For `dict`, enclose a comma-separated sequence of `key : value` pairs by braces `{` and `}`."
   ]
  },
  {
   "cell_type": "code",
   "execution_count": 6,
   "metadata": {
    "ExecuteTime": {
     "end_time": "2021-03-28T03:28:21.394181Z",
     "start_time": "2021-03-28T03:28:21.378683Z"
    },
    "slideshow": {
     "slide_type": "-"
    }
   },
   "outputs": [
    {
     "data": {
      "application/vnd.jupyter.widget-view+json": {
       "model_id": "77144f8db8634ed39d3a4a2fb7e7c1ad",
       "version_major": 2,
       "version_minor": 0
      },
      "text/plain": [
       "OPTWidget(value=None, height=350, script=\"empty_dictionary = {} #this creates an empty dictionary\\na = {'a': 0…"
      ]
     },
     "execution_count": 6,
     "metadata": {},
     "output_type": "execute_result"
    }
   ],
   "source": [
    "%%optlite -h 350\n",
    "empty_dictionary = {} #this creates an empty dictionary\n",
    "a = {'a': 0, 'b': 1}  #this is how we create a dictionary\n",
    "b = {**a, 'c': 0, 'd': 1}\n",
    "#to access the elements of dictionary, we need to use ** to unpack it\n",
    "#note it's different from another unpack operator *\n",
    "#see what happends after running the following line\n",
    "c1 = {*a} #c1 is a set which contains only the keys\n",
    "c2 = {**a}\n",
    "print(c1)\n",
    "print(c2)"
   ]
  },
  {
   "cell_type": "markdown",
   "metadata": {
    "slideshow": {
     "slide_type": "fragment"
    }
   },
   "source": [
    "For `set`, omit `: value`."
   ]
  },
  {
   "cell_type": "code",
   "execution_count": 7,
   "metadata": {
    "ExecuteTime": {
     "end_time": "2021-03-28T03:29:40.853845Z",
     "start_time": "2021-03-28T03:29:40.848708Z"
    },
    "slideshow": {
     "slide_type": "-"
    }
   },
   "outputs": [
    {
     "data": {
      "application/vnd.jupyter.widget-view+json": {
       "model_id": "338b7fd868c34aad99d35f9fd82ce8fe",
       "version_major": 2,
       "version_minor": 0
      },
      "text/plain": [
       "OPTWidget(value=None, script=\"a = {1,2,'Apple'}\\nempty_set = {*()} \\n# Why not use {}?，because {} has already …"
      ]
     },
     "execution_count": 7,
     "metadata": {},
     "output_type": "execute_result"
    }
   ],
   "source": [
    "%%optlite -w 1200\n",
    "a = {1,2,'Apple'}\n",
    "empty_set = {*()} \n",
    "# Why not use {}?，because {} has already been defined to create an empty dictionary. \n",
    "#another way to create an empty set is set()"
   ]
  },
  {
   "cell_type": "markdown",
   "metadata": {
    "slideshow": {
     "slide_type": "subslide"
    }
   },
   "source": [
    "We can also create a set/dictionary from other objects using their constructors `set`/`dict`."
   ]
  },
  {
   "cell_type": "code",
   "execution_count": 8,
   "metadata": {
    "ExecuteTime": {
     "end_time": "2021-03-28T03:29:54.495164Z",
     "start_time": "2021-03-28T03:29:54.396637Z"
    },
    "slideshow": {
     "slide_type": "-"
    }
   },
   "outputs": [
    {
     "data": {
      "application/vnd.jupyter.widget-view+json": {
       "model_id": "2a2f893562824083b68d6c7db11e6a57",
       "version_major": 2,
       "version_minor": 0
      },
      "text/plain": [
       "OPTWidget(value=None, height=550, script=\"empty_set = set()  #set() will create an empty set\\nstring2set = set…"
      ]
     },
     "execution_count": 8,
     "metadata": {},
     "output_type": "execute_result"
    }
   ],
   "source": [
    "%%optlite -h 550\n",
    "empty_set = set()  #set() will create an empty set\n",
    "string2set = set('abc')\n",
    "range2set = set(range(2))\n",
    "list2set = set(['abc',range(2)])\n",
    "set2set = set(list2set)"
   ]
  },
  {
   "cell_type": "markdown",
   "metadata": {},
   "source": [
    " `enumerate()`\n",
    "- enumerate() method assigns an index to each item in an iterable object that can be used to reference the item later.\n",
    "- enumerate() returns an enumerate object\n",
    "- enumerate(iterable, start=0)\n",
    "    - iterable: any object that supports iteration\n",
    "    - start: the index value from which the index is to be started, by default it is 0 "
   ]
  },
  {
   "cell_type": "code",
   "execution_count": 9,
   "metadata": {
    "ExecuteTime": {
     "end_time": "2021-03-28T03:33:20.549888Z",
     "start_time": "2021-03-28T03:33:20.538154Z"
    }
   },
   "outputs": [
    {
     "name": "stdout",
     "output_type": "stream",
     "text": [
      "(0, 'apple')\n",
      "(1, 'banana')\n",
      "(2, 'cherry')\n",
      "(100, 'apple')\n",
      "(101, 'banana')\n",
      "(102, 'cherry')\n",
      "100 apple\n",
      "101 banana\n",
      "102 cherry\n",
      "<enumerate object at 0x7f9c9870bdd0>\n",
      "(0, 'apple') (1, 'banana') (2, 'cherry')\n"
     ]
    }
   ],
   "source": [
    "# Python program to illustrate enumerate function in loops\n",
    "l1 = [\"apple\",\"banana\",\"cherry\"]\n",
    "\n",
    "# print the tuples in object directly\n",
    "for element in enumerate(l1):\n",
    "    print(element)\n",
    "\n",
    "# change index and print directly\n",
    "for element in enumerate(l1,100):\n",
    "    print(element)\n",
    "\n",
    "# change index and print index and element separately\n",
    "for index, element in enumerate(l1,100):\n",
    "    print(index, element)\n",
    "\n",
    "#we can't print the elements of an enumerate object directly, but we can use unpack operator * to unpack it\n",
    "print(enumerate(l1))\n",
    "print(*enumerate(l1))"
   ]
  },
  {
   "cell_type": "code",
   "execution_count": 9,
   "metadata": {
    "ExecuteTime": {
     "end_time": "2021-03-24T13:59:37.516899Z",
     "start_time": "2021-03-24T13:59:37.511679Z"
    },
    "scrolled": true,
    "slideshow": {
     "slide_type": "fragment"
    }
   },
   "outputs": [
    {
     "data": {
      "application/vnd.jupyter.widget-view+json": {
       "model_id": "d24e6d9c05da4adc9421bb49744e0bee",
       "version_major": 2,
       "version_minor": 0
      },
      "text/plain": [
       "OPTWidget(value=None, height=650, script=\"empty_dict = dict() #this will create an empty dictionary\\nenumerate…"
      ]
     },
     "execution_count": 9,
     "metadata": {},
     "output_type": "execute_result"
    }
   ],
   "source": [
    "%%optlite -h 650\n",
    "empty_dict = dict() #this will create an empty dictionary\n",
    "enumerate2dict = dict(enumerate('abc'))\n",
    "zip2dict = dict(zip('abc','123'))\n",
    "kwargs2dict = dict(one=1,two=2)\n",
    "dict2dict = dict(kwargs2dict)"
   ]
  },
  {
   "cell_type": "markdown",
   "metadata": {
    "slideshow": {
     "slide_type": "subslide"
    }
   },
   "source": [
    "`dict.fromkeys()`\n",
    "\n",
    "* The fromkeys() method creates a dictionary with the specified keys and the specified value.\n",
    "* Syntax: `dict.fromkeys(sequence, value)`\n",
    "* fromkeys() method takes two parameters:\n",
    "\n",
    "    * sequence - sequence of elements which is to be used as keys for the new dictionary\n",
    "    * value (Optional) - The value for all keys. Default value is `None`\n"
   ]
  },
  {
   "cell_type": "code",
   "execution_count": 12,
   "metadata": {
    "ExecuteTime": {
     "end_time": "2021-03-28T03:39:07.109457Z",
     "start_time": "2021-03-28T03:39:07.101076Z"
    }
   },
   "outputs": [
    {
     "name": "stdout",
     "output_type": "stream",
     "text": [
      "{'a': None, 'o': None, 'e': None, 'i': None, 'u': None}\n",
      "{'a': 1, 'o': 1, 'e': 1, 'i': 1, 'u': 1}\n"
     ]
    }
   ],
   "source": [
    "# Create a dictionary from a sequence of keys without specifying value\n",
    "\n",
    "# vowels keys\n",
    "keys = {'a', 'e', 'i', 'o', 'u'}\n",
    "\n",
    "vowels = dict.fromkeys(keys)\n",
    "print(vowels)\n",
    "\n",
    "# Create a dictionary from a sequence of keys with value\n",
    "keys = {'a', 'e', 'i', 'o', 'u' }\n",
    "value = 1\n",
    "\n",
    "vowels = dict.fromkeys(keys, value)\n",
    "print(vowels)\n",
    "#you may notice the order is not in 'a-e-i-o-u' because dictionary is unordered"
   ]
  },
  {
   "cell_type": "markdown",
   "metadata": {
    "ExecuteTime": {
     "end_time": "2020-11-01T09:25:48.937507Z",
     "start_time": "2020-11-01T09:25:48.928030Z"
    },
    "slideshow": {
     "slide_type": "subslide"
    }
   },
   "source": [
    "**How to use a rule to construct a set/dictionary?**"
   ]
  },
  {
   "cell_type": "markdown",
   "metadata": {
    "slideshow": {
     "slide_type": "fragment"
    }
   },
   "source": [
    "The following function uses a one-line dictionary comprehension to return the distribution of items in a sequence:"
   ]
  },
  {
   "cell_type": "code",
   "execution_count": 10,
   "metadata": {
    "ExecuteTime": {
     "end_time": "2021-03-28T03:41:16.010609Z",
     "start_time": "2021-03-28T03:41:16.006720Z"
    },
    "slideshow": {
     "slide_type": "-"
    }
   },
   "outputs": [],
   "source": [
    "def distribute(seq):\n",
    "    return {k : seq.count(k)/len(seq) for k in set(seq)}"
   ]
  },
  {
   "cell_type": "code",
   "execution_count": 11,
   "metadata": {
    "ExecuteTime": {
     "end_time": "2021-03-28T03:45:27.568200Z",
     "start_time": "2021-03-28T03:45:27.316161Z"
    },
    "slideshow": {
     "slide_type": "-"
    }
   },
   "outputs": [
    {
     "data": {
      "image/png": "[encoded data removed]",
      "text/plain": [
       "<Figure size 640x480 with 1 Axes>"
      ]
     },
     "metadata": {},
     "output_type": "display_data"
    }
   ],
   "source": [
    "def plot_distribution(seq):\n",
    "    dist = distribute(seq)\n",
    "    plt.stem(\n",
    "        dist.keys(),  # set-like view of the keys\n",
    "        dist.values(),  # view of the values\n",
    "    )\n",
    "    plt.xlabel(\"Items\")\n",
    "    plt.title(\"Distribution\")\n",
    "    plt.ylim(0, 1)\n",
    "\n",
    "\n",
    "plot_distribution(\"What is the distribution of different characters?\")"
   ]
  },
  {
   "cell_type": "markdown",
   "metadata": {
    "ExecuteTime": {
     "end_time": "2021-03-24T14:19:38.695277Z",
     "start_time": "2021-03-24T14:19:38.672647Z"
    }
   },
   "source": [
    "The example above uses `dist.keys()`, `dist.values()`, to understand it, we need to introduce [Dictionary views](https://docs.python.org/3/glossary.html#term-dictionary-view)\n",
    "* The objects returned from `keys()`, `values()`, and `items()` are called dictionary views. They provide a dynamic view on the dictionary’s entries, which means that when the dictionary changes, the view reflects these changes.\n",
    "* The `keys()` method returns a view object. The view object contains the keys of the dictionary, as a list.\n",
    "* The `values()` method returns a view object. The view object contains the values of the dictionary, as a list.\n",
    "* The `items()` method returns a view object. The view object contains the key-value pairs of the dictionary, as tuples in a list.\n",
    "* The view object will reflect any changes done to the dictionary, see example below."
   ]
  },
  {
   "cell_type": "code",
   "execution_count": 16,
   "metadata": {
    "ExecuteTime": {
     "end_time": "2021-03-28T03:45:40.522402Z",
     "start_time": "2021-03-28T03:45:40.511074Z"
    }
   },
   "outputs": [
    {
     "name": "stdout",
     "output_type": "stream",
     "text": [
      "before change:\n",
      "dict_keys(['brand', 'model', 'year'])\n",
      "dict_values(['Ford', 'Mustang', 1964])\n",
      "dict_items([('brand', 'Ford'), ('model', 'Mustang'), ('year', 1964)])\n",
      "after change:\n",
      "dict_keys(['brand', 'model', 'year'])\n",
      "dict_values(['Ford', 'Mustang', 1989])\n",
      "dict_items([('brand', 'Ford'), ('model', 'Mustang'), ('year', 1989)])\n"
     ]
    }
   ],
   "source": [
    "#this example shows how to use keys(), values() and items()\n",
    "car = {\n",
    "  \"brand\": \"Ford\",\n",
    "  \"model\": \"Mustang\",\n",
    "  \"year\": 1964\n",
    "}\n",
    "\n",
    "x=car.keys()\n",
    "y=car.values()\n",
    "z=car.items()\n",
    "print('before change:')\n",
    "print(x)\n",
    "print(y)\n",
    "print(z)\n",
    "\n",
    "car['year']=1989\n",
    "#note both y and z are updated\n",
    "print('after change:')\n",
    "print(x)\n",
    "print(y)\n",
    "print(z)  "
   ]
  },
  {
   "cell_type": "markdown",
   "metadata": {},
   "source": [
    "`pop()` method removes and returns an element from a dictionary having the given key."
   ]
  },
  {
   "cell_type": "code",
   "execution_count": 17,
   "metadata": {
    "ExecuteTime": {
     "end_time": "2021-03-28T03:46:28.594998Z",
     "start_time": "2021-03-28T03:46:28.567470Z"
    }
   },
   "outputs": [
    {
     "name": "stdout",
     "output_type": "stream",
     "text": [
      "The popped element is: 2\n",
      "The dictionary is: {'orange': 3, 'grapes': 4}\n"
     ]
    }
   ],
   "source": [
    "# this example shows how to use pop()\n",
    "sales = { 'apple': 2, 'orange': 3, 'grapes': 4 }\n",
    "\n",
    "element = sales.pop('apple')\n",
    "print('The popped element is:', element)\n",
    "print('The dictionary is:', sales) #note that the 'apple':2 is deleted"
   ]
  },
  {
   "cell_type": "markdown",
   "metadata": {},
   "source": [
    "`popitem()` method removes and returns the last element (key, value) pair inserted into the dictionary.\n",
    "- not the last element(key,value) pair you see, but the last element inserted. Dictionary is unordered, so different systems print the same dictionary in different orders. More precisely, `dict` is insertion-ordered since python 3.7."
   ]
  },
  {
   "cell_type": "code",
   "execution_count": 11,
   "metadata": {
    "ExecuteTime": {
     "end_time": "2021-03-28T03:47:32.394843Z",
     "start_time": "2021-03-28T03:47:32.342996Z"
    }
   },
   "outputs": [
    {
     "name": "stdout",
     "output_type": "stream",
     "text": [
      "{'name': 'Phill', 'age': 22, 'salary': 3500.0}\n",
      "Return Value =  ('salary', 3500.0)\n",
      "person =  {'name': 'Phill', 'age': 22}\n"
     ]
    }
   ],
   "source": [
    "person = {}\n",
    "\n",
    "# inserting a new element pair\n",
    "person['name'] = 'Phill'\n",
    "person['age']=22\n",
    "person['salary']=3500.0\n",
    "\n",
    "print(person)\n",
    "\n",
    "# ('salary,' 3500.0) is inserted at last, so it is removed.\n",
    "result = person.popitem()\n",
    "\n",
    "print('Return Value = ', result)\n",
    "print('person = ', person)"
   ]
  },
  {
   "cell_type": "markdown",
   "metadata": {},
   "source": [
    "`clear()` method removes all items from the dictionary."
   ]
  },
  {
   "cell_type": "code",
   "execution_count": 18,
   "metadata": {
    "ExecuteTime": {
     "end_time": "2021-03-28T03:47:44.494889Z",
     "start_time": "2021-03-28T03:47:44.439714Z"
    }
   },
   "outputs": [
    {
     "name": "stdout",
     "output_type": "stream",
     "text": [
      "d = {}\n"
     ]
    }
   ],
   "source": [
    "d = {1: \"one\", 2: \"two\"}\n",
    "\n",
    "d.clear()\n",
    "print('d =', d)"
   ]
  },
  {
   "cell_type": "markdown",
   "metadata": {},
   "source": [
    "The following example shows how to use `keys()`, `values()`, `items()`, `pop()`, `popitem()`, `clear()`"
   ]
  },
  {
   "cell_type": "code",
   "execution_count": 19,
   "metadata": {
    "ExecuteTime": {
     "end_time": "2021-03-25T02:16:29.400424Z",
     "start_time": "2021-03-25T02:16:29.392545Z"
    },
    "slideshow": {
     "slide_type": "-"
    }
   },
   "outputs": [
    {
     "data": {
      "application/vnd.jupyter.widget-view+json": {
       "model_id": "c6413d461f8e4a8ab1f416af0ed3a5dd",
       "version_major": 2,
       "version_minor": 0
      },
      "text/plain": [
       "OPTWidget(value=None, height=500, script=\"a = dict(enumerate('abc'))\\nprint(a.keys())\\nprint(a.values())\\nprin…"
      ]
     },
     "execution_count": 19,
     "metadata": {},
     "output_type": "execute_result"
    }
   ],
   "source": [
    "%%optlite -h 500\n",
    "a = dict(enumerate('abc'))\n",
    "print(a.keys())\n",
    "print(a.values())\n",
    "print(a.items())\n",
    "print(a.pop(1))    # remove the key 1 and its associated value\n",
    "print(a.popitem()) # remove and return a key-value pair\n",
    "print(a.clear())   # clear the dictionary"
   ]
  },
  {
   "cell_type": "markdown",
   "metadata": {
    "slideshow": {
     "slide_type": "subslide"
    }
   },
   "source": [
    "**now let's introduce some common methods in `set`**\n",
    "\n",
    "`set` has `pop` and `clear` but not `popitem`. However, `set.pop` behaves like `dict.popitem` instead of `dict.pop`."
   ]
  },
  {
   "cell_type": "markdown",
   "metadata": {},
   "source": [
    "- `pop()` method removes a random item from the set.\n",
    "   - why random? because set is unordered, i.e., {1,2,3} and {3,2,1} are the same set.\n",
    "   - For example, you can run the following code [here](https://www.programiz.com/python-programming/online-compiler/), the poped item is different for each run.\n",
    "   \n",
    "- `clear()` method removes all elements in a set."
   ]
  },
  {
   "cell_type": "code",
   "execution_count": 13,
   "metadata": {
    "ExecuteTime": {
     "end_time": "2021-03-28T03:50:57.694791Z",
     "start_time": "2021-03-28T03:50:57.608358Z"
    }
   },
   "outputs": [
    {
     "name": "stdout",
     "output_type": "stream",
     "text": [
      "{'c', 'e', 'b', 'a', 'd'}\n"
     ]
    }
   ],
   "source": [
    "#set is unordered and unindexed, so we don't know which one is the first element, which one is the second element\n",
    "#if you run this example in another Python system, the order may be different\n",
    "#e.g., you can run this example here: https://www.programiz.com/python-programming/online-compiler/\n",
    "x=set('abcdea')\n",
    "print(x)"
   ]
  },
  {
   "cell_type": "code",
   "execution_count": 14,
   "metadata": {
    "ExecuteTime": {
     "end_time": "2021-03-25T02:21:37.351513Z",
     "start_time": "2021-03-25T02:21:37.345215Z"
    }
   },
   "outputs": [
    {
     "name": "stdout",
     "output_type": "stream",
     "text": [
      "{'banana', 'cherry'}\n",
      "set()\n"
     ]
    }
   ],
   "source": [
    "#this example shows how pop() works\n",
    "fruits = {\"apple\", \"banana\", \"cherry\"}\n",
    "fruits.pop()\n",
    "print(fruits)\n",
    "\n",
    "fruits.clear()\n",
    "print(fruits)"
   ]
  },
  {
   "cell_type": "code",
   "execution_count": 23,
   "metadata": {
    "ExecuteTime": {
     "end_time": "2021-03-28T03:52:16.094869Z",
     "start_time": "2021-03-28T03:52:16.058548Z"
    }
   },
   "outputs": [
    {
     "name": "stdout",
     "output_type": "stream",
     "text": [
      "True\n",
      "True\n",
      "False\n",
      "False\n"
     ]
    }
   ],
   "source": [
    "#this example shows set and dictionary is unordered\n",
    "set1={1,2,3}\n",
    "set2={3,2,1}\n",
    "dict1={'a':1,'b':2,'c':3}\n",
    "dict2={'c':3,'b':2,'a':1}\n",
    "\n",
    "print(set1==set2)\n",
    "print(dict1==dict2)\n",
    "\n",
    "\n",
    "#but tuple and list are ordered\n",
    "list1=[1,2,3]\n",
    "list2=[3,2,1]\n",
    "tuple1=(1,2,3)\n",
    "tuple2=(3,2,1)\n",
    "\n",
    "print(list1==list2)\n",
    "print(tuple1==tuple2)"
   ]
  },
  {
   "cell_type": "code",
   "execution_count": 15,
   "metadata": {
    "ExecuteTime": {
     "end_time": "2021-03-25T02:25:09.953769Z",
     "start_time": "2021-03-25T02:25:09.947332Z"
    },
    "slideshow": {
     "slide_type": "-"
    }
   },
   "outputs": [
    {
     "data": {
      "application/vnd.jupyter.widget-view+json": {
       "model_id": "f8dc083691954da28d68fd8884cd5761",
       "version_major": 2,
       "version_minor": 0
      },
      "text/plain": [
       "OPTWidget(value=None, height=250, script=\"a = set('abc')\\na.pop()     # remove and return an element\\na.clear(…"
      ]
     },
     "execution_count": 15,
     "metadata": {},
     "output_type": "execute_result"
    }
   ],
   "source": [
    "%%optlite -h 250\n",
    "a = set('abc')\n",
    "a.pop()     # remove and return an element\n",
    "a.clear()   # clear the set"
   ]
  },
  {
   "cell_type": "markdown",
   "metadata": {},
   "source": [
    "## Hashability"
   ]
  },
  {
   "cell_type": "markdown",
   "metadata": {},
   "source": [
    "what is [hashing](https://www.educative.io/edpresso/what-is-hashing)?\n",
    "- `Hashing` is the process of converting a given key into another value.\n",
    "- A `hash function` is used to generate the new value according to a mathematical algorithm.\n",
    "- The result of a hash function is known as a `hash value` or simply, a `hash`."
   ]
  },
  {
   "cell_type": "markdown",
   "metadata": {},
   "source": [
    "**Why we need to introduce hashing in set and dictionary?** \n",
    "- the keys in dictionary must be hashable, see explanations below"
   ]
  },
  {
   "cell_type": "markdown",
   "metadata": {},
   "source": [
    "For `set` and `dict`, \n",
    "- identical keys are merged to the same entry even though\n",
    "- values associated with different keys can be the same."
   ]
  },
  {
   "cell_type": "code",
   "execution_count": 16,
   "metadata": {},
   "outputs": [
    {
     "data": {
      "application/vnd.jupyter.widget-view+json": {
       "model_id": "e09953647a934918ab7f080f600cd4e4",
       "version_major": 2,
       "version_minor": 0
      },
      "text/plain": [
       "OPTWidget(value=None, height=350, script='a = {0: \"a\", 0.0: \"b\", 2: \"b\"}\\nb = {0j, 0, 0.0, \"\", False}\\nprint(0…"
      ]
     },
     "execution_count": 16,
     "metadata": {},
     "output_type": "execute_result"
    }
   ],
   "source": [
    "%%optlite -h 350\n",
    "a = {0: \"a\", 0.0: \"b\", 2: \"b\"}\n",
    "b = {0j, 0, 0.0, \"\", False}\n",
    "print(0 == 0.0 == 0j == False != \"\")"
   ]
  },
  {
   "cell_type": "markdown",
   "metadata": {},
   "source": [
    "This is implemented efficiently by [*hashing*](https://docs.python.org/3/glossary.html#term-hashable). A key must be a hashable object which:\n",
    "\n",
    "- has a hash value (returned by `__hash__` method) that never changes during its lifetime, and\n",
    "- can be compared (using `__eq__` method) to other objects.  \n",
    "  *Hashable objects which compare equal must have the same hash value.*"
   ]
  },
  {
   "cell_type": "code",
   "execution_count": 17,
   "metadata": {},
   "outputs": [
    {
     "name": "stdout",
     "output_type": "stream",
     "text": [
      "<class 'int'> may be hashable. E.g., hash(0) == 0\n",
      "<class 'float'> may be hashable. E.g., hash(0.0) == 0\n",
      "<class 'complex'> may be hashable. E.g., hash(0j) == 0\n",
      "<class 'str'> may be hashable. E.g., hash('') == 0\n",
      "<class 'bool'> may be hashable. E.g., hash(False) == 0\n",
      "<class 'tuple'> may be hashable. E.g., hash(()) == 5740354900026072187\n",
      "<class 'list'> may not be hashable.\n",
      "<class 'dict'> may not be hashable.\n",
      "<class 'set'> may not be hashable.\n",
      "<class 'frozenset'> may be hashable. E.g., hash(frozenset()) == 133146708735736\n",
      "<class 'tuple'> may not be hashable.\n"
     ]
    }
   ],
   "source": [
    "def hashable(obj):\n",
    "    try:\n",
    "        hash(obj)\n",
    "    except Exception:\n",
    "        return False\n",
    "    return True\n",
    "\n",
    "\n",
    "for i in 0, 0.0, 0j, \"\", False, (), [], {}, set(), frozenset(), ([],):\n",
    "    if hashable(i):\n",
    "        print(\"{} may be hashable. E.g., hash({!r}) == {}\".format(type(i), i, hash(i)))\n",
    "    else:\n",
    "        print(\"{} may not be hashable.\".format(type(i)))\n",
    "        \n",
    "#note the last object ([],) is a tuple whose element is a list. Since tuple is hashable, but list is not hashable, ([],) becomes not hashable"
   ]
  },
  {
   "cell_type": "code",
   "execution_count": 18,
   "metadata": {},
   "outputs": [],
   "source": [
    "#if a data type is hashable, it can be used as key in a dictionary\n",
    "dictionary1={1:\"apple\",2:\"banana\"} #int can be key\n",
    "dictionary2={1.1:\"apple\",2.1:\"banana\"} #float can be key\n",
    "dictionary3={\"1\":\"apple\",\"2\":\"banana\"} #str can be key\n",
    "dictionary4={(1,2):\"apple\",(2,3):\"banana\"} #tuple can be key\n",
    "#dictionary5={[1,2]:\"apple\",[2,3]:\"banana\"} #list cannot be key because list may not be hashable\n",
    "#dictionary6={dictionary1:\"apple\",dictionary2:\"banana\"} #dictionary cannot be key because dictionary may not be hashable\n",
    "#dictionary7={{1,2}:\"apple\",{2,3}:\"banana\"} #set cannot be key because set may not be hashable"
   ]
  },
  {
   "cell_type": "markdown",
   "metadata": {},
   "source": [
    "**Why the key should be hashable?**  \n",
    "**What is the use of a hash value?**"
   ]
  },
  {
   "cell_type": "markdown",
   "metadata": {},
   "source": [
    "Associative containers are implemented as *hash tables* for efficient lookup of key values."
   ]
  },
  {
   "cell_type": "code",
   "execution_count": 19,
   "metadata": {},
   "outputs": [
    {
     "data": {
      "text/html": [
       "<iframe width=\"800\" height=\"450\" src=\"https://www.youtube.com/embed/LPzN8jgbnvA\" frameborder=\"0\" allow=\"accelerometer; autoplay; clipboard-write; encrypted-media; gyroscope; picture-in-picture\" allowfullscreen></iframe>\n"
      ],
      "text/plain": [
       "<IPython.core.display.HTML object>"
      ]
     },
     "metadata": {},
     "output_type": "display_data"
    }
   ],
   "source": [
    "%%html\n",
    "<iframe width=\"800\" height=\"450\" src=\"https://www.youtube.com/embed/LPzN8jgbnvA\" frameborder=\"0\" allow=\"accelerometer; autoplay; clipboard-write; encrypted-media; gyroscope; picture-in-picture\" allowfullscreen></iframe>"
   ]
  },
  {
   "cell_type": "markdown",
   "metadata": {},
   "source": [
    "Most mutable objects are not hashable. Why?  \n",
    "  Mutating a key makes it a different key, which is [hard to track](https://hynek.me/articles/hashes-and-equality/)."
   ]
  },
  {
   "cell_type": "markdown",
   "metadata": {},
   "source": [
    "Some common immutable data types:\n",
    "- int, float, bool, string, tuple\n",
    "\n",
    "Some common mutable data types:\n",
    "- list, dictionary, set\n",
    "\n",
    "A tutorial on mutable and immutable can be found [here](https://towardsdatascience.com/https-towardsdatascience-com-python-basics-mutable-vs-immutable-objects-829a0cb1530a)"
   ]
  },
  {
   "cell_type": "markdown",
   "metadata": {},
   "source": [
    "Some hashable data types:\n",
    "- int, float, bool, string, tuple\n",
    "\n",
    "Some common unhashable data types:\n",
    "- list, dictionary, set"
   ]
  },
  {
   "cell_type": "markdown",
   "metadata": {},
   "source": [
    "`set` has an immutable counterpart called `frozenset`, but `dict` does not have any immutable counterpart. Why?  \n",
    "While elements of a set must be hashable and therefore mostly immutable, dictionary values may be of mutable types. \n",
    "- See examples below:"
   ]
  },
  {
   "cell_type": "markdown",
   "metadata": {},
   "source": [
    "Python also uses dictionary for its global/local frames.  \n",
    "Indeed, [hash collisions can slow down the lookup process](https://stackoverflow.com/questions/8271139/why-is-early-return-slower-than-else)."
   ]
  },
  {
   "cell_type": "markdown",
   "metadata": {},
   "source": [
    "**Exercise** Why equal objects must have the same hash but different objects may have the same hash? An example is given below:"
   ]
  },
  {
   "cell_type": "code",
   "execution_count": 29,
   "metadata": {},
   "outputs": [],
   "source": [
    "assert hash(0) == hash(0.0) == hash(0j) == hash(False) == hash(\"\") and False != \"\""
   ]
  },
  {
   "cell_type": "markdown",
   "metadata": {},
   "source": [
    "1. 0==0.0==0j==False, so they have the same hash. This is to avoid duplicate keys occupying different entries in a hash table.\n",
    "2. empty string \"\" != 0, 0.0, 0j, False, but they also have the same hash, this is called hash collisionHash collision can be detected by `==` and handled by [collision resolution](https://en.wikipedia.org/wiki/Hash_table#Collision_resolution) techniques. To keep the hash table small, hash collision is unavoidable."
   ]
  },
  {
   "cell_type": "markdown",
   "metadata": {},
   "source": [
    "`assert`\n",
    "\n",
    "The `assert` keyword is used when debugging code.\n",
    "\n",
    "The `assert` keyword lets you test if a condition in your code returns True, if not, the program will raise an AssertionError."
   ]
  },
  {
   "cell_type": "code",
   "execution_count": 22,
   "metadata": {},
   "outputs": [
    {
     "ename": "AssertionError",
     "evalue": "",
     "output_type": "error",
     "traceback": [
      "\u001b[0;31m---------------------------------------------------------------------------\u001b[0m",
      "\u001b[0;31mAssertionError\u001b[0m                            Traceback (most recent call last)",
      "Cell \u001b[0;32mIn[22], line 7\u001b[0m\n\u001b[1;32m      4\u001b[0m \u001b[38;5;28;01massert\u001b[39;00m x \u001b[38;5;241m==\u001b[39m \u001b[38;5;124m\"\u001b[39m\u001b[38;5;124mhello\u001b[39m\u001b[38;5;124m\"\u001b[39m\n\u001b[1;32m      6\u001b[0m \u001b[38;5;66;03m#if condition returns False, AssertionError is raised:\u001b[39;00m\n\u001b[0;32m----> 7\u001b[0m \u001b[38;5;28;01massert\u001b[39;00m x \u001b[38;5;241m==\u001b[39m \u001b[38;5;124m\"\u001b[39m\u001b[38;5;124mgoodbye\u001b[39m\u001b[38;5;124m\"\u001b[39m\n",
      "\u001b[0;31mAssertionError\u001b[0m: "
     ]
    }
   ],
   "source": [
    "x = \"hello\"\n",
    "\n",
    "#if condition returns True, then nothing happens:\n",
    "assert x == \"hello\"\n",
    "\n",
    "#if condition returns False, AssertionError is raised:\n",
    "assert x == \"goodbye\""
   ]
  },
  {
   "cell_type": "markdown",
   "metadata": {},
   "source": [
    "**Exercise** Should an immutable object always be hashable?"
   ]
  },
  {
   "cell_type": "markdown",
   "metadata": {},
   "source": [
    "No. Check the example below"
   ]
  },
  {
   "cell_type": "code",
   "execution_count": 37,
   "metadata": {},
   "outputs": [
    {
     "data": {
      "text/plain": [
       "False"
      ]
     },
     "execution_count": 37,
     "metadata": {},
     "output_type": "execute_result"
    }
   ],
   "source": [
    "#the value of an immutable object can still be changed if it points to a mutable object.\n",
    "x = ([1,2,3],) #x is a tuple which is immutable, but its element is a list which is mutable\n",
    "hashable(x) #so x is still not hashable"
   ]
  },
  {
   "cell_type": "markdown",
   "metadata": {},
   "source": [
    "**Exercise** Can we use the `id` of an object as its hash value?"
   ]
  },
  {
   "cell_type": "markdown",
   "metadata": {},
   "source": [
    "No because `id` remains unchanged even if the value of an object changes."
   ]
  },
  {
   "cell_type": "code",
   "execution_count": 43,
   "metadata": {},
   "outputs": [
    {
     "name": "stdout",
     "output_type": "stream",
     "text": [
      "[1, 2, 3]\n",
      "139148349444160\n",
      "[10, 2, 3]\n",
      "139148349444160\n"
     ]
    }
   ],
   "source": [
    "x=[1,2,3]\n",
    "x_id=id(x)\n",
    "print(x)\n",
    "print(x_id)\n",
    "x[0]=10\n",
    "print(x)\n",
    "print(x_id) #x_id remains the same, but the value of x is changed"
   ]
  },
  {
   "cell_type": "markdown",
   "metadata": {},
   "source": [
    "**Short Summary**\n",
    "\n",
    "The concept Hash may be hard to understand. What you need to know for this part is \n",
    "\n",
    "1. What is hashing, hash function, and hash values, and what are they used for?\n",
    "2. Most mutable objects are not hashable. Most immutable object are hashable. But there are some exceptions.\n",
    "2. The key in dictionaries must be hashable."
   ]
  },
  {
   "cell_type": "markdown",
   "metadata": {
    "slideshow": {
     "slide_type": "slide"
    }
   },
   "source": [
    "## Accessing keys/values"
   ]
  },
  {
   "cell_type": "markdown",
   "metadata": {
    "slideshow": {
     "slide_type": "subslide"
    }
   },
   "source": [
    "**How to traverse a set/dictionary?**"
   ]
  },
  {
   "cell_type": "code",
   "execution_count": 44,
   "metadata": {
    "slideshow": {
     "slide_type": "fragment"
    }
   },
   "outputs": [
    {
     "data": {
      "application/vnd.jupyter.widget-view+json": {
       "model_id": "f91a3fead2b04472b965a1ae3e2ddaa5",
       "version_major": 2,
       "version_minor": 0
      },
      "text/plain": [
       "OPTWidget(value=None, height=500, script='s = set(\"abcde\")\\nd = dict(enumerate(\"abcde\"))\\nprint(*(element for …"
      ]
     },
     "execution_count": 44,
     "metadata": {},
     "output_type": "execute_result"
    }
   ],
   "source": [
    "%%optlite -h 500\n",
    "s = set(\"abcde\")\n",
    "d = dict(enumerate(\"abcde\"))\n",
    "print(*(element for element in s))\n",
    "print(*((k, d[k]) for k in d))\n",
    "s[0]  # TypeError"
   ]
  },
  {
   "cell_type": "markdown",
   "metadata": {},
   "source": [
    "```{note}\n",
    "\n",
    "- `set` is not ordered.\n",
    "- `dict` is insertion-ordered since python 3.7.\n",
    "- `dict` is subscriptable. E.g., `d[k]` gives the value in dictionary `d` associated with key `k`.\n",
    "- `set` does not implement [`__getitem__`](https://docs.python.org/3/reference/datamodel.html#object.__getitem__) and is therefore not subscriptable.\n",
    "```"
   ]
  },
  {
   "cell_type": "code",
   "execution_count": 53,
   "metadata": {
    "ExecuteTime": {
     "end_time": "2021-03-28T03:59:10.884966Z",
     "start_time": "2021-03-28T03:59:10.867930Z"
    },
    "slideshow": {
     "slide_type": "-"
    }
   },
   "outputs": [
    {
     "name": "stdout",
     "output_type": "stream",
     "text": [
      "fruits = {'cherry', 'apple', 'banana'}\n",
      "price = {'apple': 3.2, 'banana': 4.5, 'cherry': 6.8}\n",
      "cherry\n",
      "apple\n",
      "banana\n",
      "apple 3.2\n",
      "banana 4.5\n",
      "cherry 6.8\n",
      "3.2\n",
      "4.5\n",
      "6.8\n"
     ]
    },
    {
     "ename": "TypeError",
     "evalue": "'set' object is not subscriptable",
     "output_type": "error",
     "traceback": [
      "\u001b[0;31m---------------------------------------------------------------------------\u001b[0m",
      "\u001b[0;31mTypeError\u001b[0m                                 Traceback (most recent call last)",
      "Cell \u001b[0;32mIn [53], line 20\u001b[0m\n\u001b[1;32m     16\u001b[0m \u001b[38;5;28mprint\u001b[39m(price[\u001b[38;5;124m'\u001b[39m\u001b[38;5;124mcherry\u001b[39m\u001b[38;5;124m'\u001b[39m])\n\u001b[1;32m     19\u001b[0m \u001b[38;5;66;03m#but we can't use index for set because set is unordered and unindexed\u001b[39;00m\n\u001b[0;32m---> 20\u001b[0m fruits[\u001b[38;5;241m0\u001b[39m]\n",
      "\u001b[0;31mTypeError\u001b[0m: 'set' object is not subscriptable"
     ]
    }
   ],
   "source": [
    "#this example shows how we can access elements in set/dictionary\n",
    "fruits = {'apple','banana','cherry'}\n",
    "price = {'apple': 3.2,'banana': 4.5,'cherry':6.8}\n",
    "print('fruits =', fruits)\n",
    "print('price =',price)\n",
    "\n",
    "#we can use the loop to access its elements\n",
    "for element in fruits:\n",
    "    print(element)\n",
    "for key in price:\n",
    "    print(key,price[key])\n",
    "\n",
    "#we can use dictionary_name[key_name] to access the values associated with key_name\n",
    "print(price['apple'])\n",
    "print(price['banana'])\n",
    "print(price['cherry'])\n",
    "\n",
    "\n",
    "#but we can't use index for the set because the set is unordered and unindexed\n",
    "fruits[0]  # TypeError"
   ]
  },
  {
   "cell_type": "markdown",
   "metadata": {
    "slideshow": {
     "slide_type": "fragment"
    }
   },
   "source": [
    "- For the dictionary `price`, we used subscription `price[key]` to access the value associated with `key`.\n",
    "- Unlike dictionary, set is unindexed and therefore not subscriptable."
   ]
  },
  {
   "cell_type": "markdown",
   "metadata": {
    "slideshow": {
     "slide_type": "fragment"
    }
   },
   "source": [
    "**How to change the value of a key?**\n",
    "\n",
    "we can enter a key value pair to a dictionary using the assignment operator."
   ]
  },
  {
   "cell_type": "code",
   "execution_count": 45,
   "metadata": {
    "ExecuteTime": {
     "end_time": "2021-03-28T04:05:38.094892Z",
     "start_time": "2021-03-28T04:05:38.015512Z"
    },
    "slideshow": {
     "slide_type": "-"
    }
   },
   "outputs": [
    {
     "name": "stdout",
     "output_type": "stream",
     "text": [
      "1.2\n",
      "{'apple': 3.2, 'banana': 4.5, 'cherry': 6.8, 'watermelon': 1.2}\n",
      "{'apple': 1, 'banana': 2, 'cherry': 3, 'watermelon': 4}\n"
     ]
    }
   ],
   "source": [
    "#this example shows how we can change the value of elements in dictionary\n",
    "fruits = {'apple','banana','cherry'}\n",
    "price = {'apple': 3.2,'banana': 4.5,'cherry':6.8}\n",
    "#we can insert a new key-value pair, then access it\n",
    "price['watermelon'] = 1.2\n",
    "print(price['watermelon'])\n",
    "print(price)\n",
    "\n",
    "#this is how we change the values\n",
    "price['apple']=1\n",
    "price['banana']=2\n",
    "price['cherry']=3\n",
    "price['watermelon']=4\n",
    "print(price)"
   ]
  },
  {
   "cell_type": "markdown",
   "metadata": {
    "slideshow": {
     "slide_type": "fragment"
    }
   },
   "source": [
    "To delete a key, we can use the function `del`."
   ]
  },
  {
   "cell_type": "code",
   "execution_count": 46,
   "metadata": {
    "ExecuteTime": {
     "end_time": "2021-03-28T04:06:29.106343Z",
     "start_time": "2021-03-28T04:06:29.094844Z"
    },
    "slideshow": {
     "slide_type": "-"
    }
   },
   "outputs": [
    {
     "data": {
      "application/vnd.jupyter.widget-view+json": {
       "model_id": "43bf709d1c4347eab25c49ca100a7874",
       "version_major": 2,
       "version_minor": 0
      },
      "text/plain": [
       "OPTWidget(value=None, height=400, script=\"x = 5\\nd = {'a':x,'b':2}\\ndel d['a']\\nd['a']  #x is still there, it'…"
      ]
     },
     "execution_count": 46,
     "metadata": {},
     "output_type": "execute_result"
    }
   ],
   "source": [
    "%%optlite -h 400\n",
    "x = 5\n",
    "d = {'a':x,'b':2}\n",
    "del d['a']\n",
    "d['a']  #x is still there, it's not deleted"
   ]
  },
  {
   "cell_type": "markdown",
   "metadata": {},
   "source": [
    "```{note}\n",
    "\n",
    "`del d[k]` deletes the object reference at `d[k]`, not the object referenced by `d[k]`. \n",
    "```"
   ]
  },
  {
   "cell_type": "markdown",
   "metadata": {
    "slideshow": {
     "slide_type": "subslide"
    }
   },
   "source": [
    "To avoid key error, we can check if a key is in a dictionary efficiently (due to hashing) using the `in` operator.  \n",
    "The following is a different implementation of `distribute`."
   ]
  },
  {
   "cell_type": "code",
   "execution_count": null,
   "metadata": {
    "ExecuteTime": {
     "end_time": "2021-03-25T02:57:57.964864Z",
     "start_time": "2021-03-25T02:57:57.758249Z"
    },
    "slideshow": {
     "slide_type": "-"
    }
   },
   "outputs": [
    {
     "data": {
      "image/png": "[encoded data removed]",
      "text/plain": [
       "<Figure size 432x288 with 1 Axes>"
      ]
     },
     "metadata": {
      "needs_background": "light"
     },
     "output_type": "display_data"
    }
   ],
   "source": [
    "def distribute(seq):\n",
    "    dist = {}\n",
    "    for i in seq: \n",
    "        dist[i] = (dist[i] if i in dist else 0) + 1/len(seq) #we use in operator to check whether i already exist or not\n",
    "    return dist\n",
    "\n",
    "plot_distribution('What is the distribution of different characters?')"
   ]
  },
  {
   "cell_type": "markdown",
   "metadata": {
    "slideshow": {
     "slide_type": "subslide"
    }
   },
   "source": [
    "`dict` also has a method [get](https://www.w3schools.com/python/ref_dictionary_get.asp) that conveniently returns a default value if the key does not exist.\n",
    "- The `get()` method returns the value of the item with the specified key.\n",
    "- Syntax: `get(keyname,value)`\n",
    "   - keyname-required argument. The keyname of the item you want to return the value from\n",
    "   - value-optional argument. A value to return if the specified key does not exist. Default value None"
   ]
  },
  {
   "cell_type": "code",
   "execution_count": 47,
   "metadata": {
    "ExecuteTime": {
     "end_time": "2021-03-28T04:09:51.994276Z",
     "start_time": "2021-03-28T04:09:51.934312Z"
    }
   },
   "outputs": [
    {
     "name": "stdout",
     "output_type": "stream",
     "text": [
      "Mustang\n",
      "15000\n",
      "None\n"
     ]
    }
   ],
   "source": [
    "#This example shows how get() works\n",
    "car = {\n",
    "\"brand\": \"Ford\",\n",
    "\"model\": \"Mustang\",\n",
    "\"year\": 1964\n",
    "}\n",
    "\n",
    "#if key exist in the dictionary, get() will return its associated value\n",
    "x = car.get(\"model\")\n",
    "print(x)\n",
    "\n",
    "#if key doesn't exist in the dictionary, get() will return the specified argument\n",
    "x = car.get(\"price\", 15000)\n",
    "print(x)\n",
    "\n",
    "#if we don't specify the value, get() will return None\n",
    "x = car.get(\"price\")\n",
    "print(x)"
   ]
  },
  {
   "cell_type": "markdown",
   "metadata": {
    "slideshow": {
     "slide_type": "subslide"
    }
   },
   "source": [
    "**How to traverse in ascending order of the keys?**"
   ]
  },
  {
   "cell_type": "markdown",
   "metadata": {
    "slideshow": {
     "slide_type": "fragment"
    }
   },
   "source": [
    "We can apply the function `sorted` to a set/dictionary to return a sorted list of the keys."
   ]
  },
  {
   "cell_type": "code",
   "execution_count": 48,
   "metadata": {
    "ExecuteTime": {
     "end_time": "2021-03-25T03:08:35.881357Z",
     "start_time": "2021-03-25T03:08:35.876672Z"
    },
    "slideshow": {
     "slide_type": "-"
    }
   },
   "outputs": [
    {
     "data": {
      "application/vnd.jupyter.widget-view+json": {
       "model_id": "40112193f7b047c690532677fe1963ed",
       "version_major": 2,
       "version_minor": 0
      },
      "text/plain": [
       "OPTWidget(value=None, height=600, script=\"a = {'a','c','d','b','e'}\\nb = {3:'d',0:'a',2:'c',4:'e',1:'b'}\\nsort…"
      ]
     },
     "execution_count": 48,
     "metadata": {},
     "output_type": "execute_result"
    }
   ],
   "source": [
    "%%optlite -h 600\n",
    "a = {'a','c','d','b','e'}\n",
    "b = {3:'d',0:'a',2:'c',4:'e',1:'b'}\n",
    "sorted_elements = sorted(a)\n",
    "sorted_keys = sorted(b)"
   ]
  },
  {
   "cell_type": "markdown",
   "metadata": {
    "slideshow": {
     "slide_type": "subslide"
    }
   },
   "source": [
    "**How to add an element to a `set` and remove an element from it?**"
   ]
  },
  {
   "cell_type": "markdown",
   "metadata": {
    "slideshow": {
     "slide_type": "fragment"
    }
   },
   "source": [
    "Instead of subscription, `set` has the `add`/`discard`/`remove` methods for adding/removing elements.\n",
    "- The `add()` method adds a given element to a set. If the element is already present, it doesn't add any element.\n",
    "- The `discard()` method removes a specified element from the set (if present).\n",
    "- The `remove()` method removes the specified element from the set. \n",
    "   - If the element passed to remove() doesn't exist, KeyError exception is thrown.\n",
    "   - You can use the set discard() method if you do not want this error. The discard() method removes the specified element from the set. However, if the element doesn't exist, the set remains unchanged; you will not get an error.\n",
    "\n"
   ]
  },
  {
   "cell_type": "code",
   "execution_count": 57,
   "metadata": {
    "ExecuteTime": {
     "end_time": "2021-03-25T03:18:39.295454Z",
     "start_time": "2021-03-25T03:18:39.253198Z"
    },
    "slideshow": {
     "slide_type": "-"
    }
   },
   "outputs": [
    {
     "data": {
      "application/vnd.jupyter.widget-view+json": {
       "model_id": "f46027be812c47c38e402094468b897d",
       "version_major": 2,
       "version_minor": 0
      },
      "text/plain": [
       "OPTWidget(value=None, height=400, script=\"a = set('abc')\\na.add('d')      \\na.discard('a')  \\na.remove('b')\\na…"
      ]
     },
     "metadata": {},
     "output_type": "display_data"
    }
   ],
   "source": [
    "%%optlite -h 400\n",
    "a = set('abc')\n",
    "a.add('d')      \n",
    "a.discard('a')  \n",
    "a.remove('b')\n",
    "a.clear()\n",
    "a.discard('a')  # no error\n",
    "a.remove('b')   # KeyError"
   ]
  },
  {
   "cell_type": "markdown",
   "metadata": {
    "slideshow": {
     "slide_type": "fragment"
    }
   },
   "source": [
    "**Exercise** Use at most one comprehension in one line to return a set of composite numbers smaller than `stop`.  \n",
    "\n",
    "```{hint}\n",
    "You do not need to worry about duplicate elements for `set`.\n",
    "```"
   ]
  },
  {
   "cell_type": "code",
   "execution_count": null,
   "metadata": {
    "ExecuteTime": {
     "end_time": "2020-11-06T21:06:08.756081Z",
     "start_time": "2020-11-06T21:06:08.737677Z"
    },
    "nbgrader": {
     "cell_type": "code",
     "checksum": "3b83011873815689b86c110a651e1e8e",
     "grade": false,
     "grade_id": "set-comprehension",
     "locked": false,
     "schema_version": 3,
     "solution": true,
     "task": false
    },
    "slideshow": {
     "slide_type": "-"
    }
   },
   "outputs": [
    {
     "name": "stdout",
     "output_type": "stream",
     "text": [
      "4 6 8 9 10 12 14 15 16 18 20 21 22 24 25 26 27 28 30 32 33 34 35 36 38 39 40 42 44 45 46 48 49 50 51 52 54 55 56 57 58 60 62 63 64 65 66 68 69 70 72 74 75 76 77 78 80 81 82 84 85 86 87 88 90 91 92 93 94 95 96 98 99\n"
     ]
    }
   ],
   "source": [
    "#this version uses comprehension\n",
    "def composite_set(stop):\n",
    "    #first include all multiples of 2: 2*2, 2*3, 2*4,... \n",
    "    #then include all multiples of 3: 3*2, 3*3, 3*4...\n",
    "    return {x for factor in range(2,stop) for x in range(factor*2,stop,factor)}\n",
    "\n",
    "\n",
    "#this version uses nested loop\n",
    "def composite_set(stop):\n",
    "    x={*()} #create an empty set\n",
    "    for factor in range(2,stop):\n",
    "        for i in range(factor*2,stop,factor):\n",
    "            x.add(i)\n",
    "    return x\n",
    "\n",
    "\n",
    "print(*sorted(composite_set(100)))"
   ]
  },
  {
   "cell_type": "markdown",
   "metadata": {
    "slideshow": {
     "slide_type": "slide"
    }
   },
   "source": [
    "## Other operators and methods"
   ]
  },
  {
   "cell_type": "code",
   "execution_count": 58,
   "metadata": {
    "ExecuteTime": {
     "end_time": "2020-11-08T07:55:30.117981Z",
     "start_time": "2020-11-08T07:55:30.107154Z"
    }
   },
   "outputs": [
    {
     "name": "stdout",
     "output_type": "stream",
     "text": [
      "[1, 2, 3, 1, 2, 3, 1, 2, 3]\n",
      "[1, 2, 3, 4, 5, 6]\n"
     ]
    }
   ],
   "source": [
    "#str/tuple/list overloads operator + and *\n",
    "list1=[1,2,3]\n",
    "list2=[4,5,6]\n",
    "print(list1*3)\n",
    "print(list1+list2)"
   ]
  },
  {
   "cell_type": "markdown",
   "metadata": {
    "slideshow": {
     "slide_type": "subslide"
    }
   },
   "source": [
    "Unlike `str`/`tuple`/`list`, `set` and `dict` do not implement addition `+` and multiplication `*`:\n",
    "\n",
    "So how to concatenate two sets/dictionaries?\n",
    "* Use the unpacking operators `*` and `**` to concatenate two sets/dictionaries below into a new set/dictionary."
   ]
  },
  {
   "cell_type": "code",
   "execution_count": 59,
   "metadata": {
    "ExecuteTime": {
     "end_time": "2021-03-28T04:11:06.494849Z",
     "start_time": "2021-03-28T04:11:06.425797Z"
    }
   },
   "outputs": [
    {
     "name": "stdout",
     "output_type": "stream",
     "text": [
      "{'c', 'b', 'a'}\n",
      "{'c', 'd', 'e'}\n",
      "{'c', 'd', 'e', 'b', 'a'}\n"
     ]
    }
   ],
   "source": [
    "#this example shows how to concatenate two sets\n",
    "#we use * to unpack a set\n",
    "set1 = set('abc')\n",
    "set2 = set('cde')\n",
    "print(set1)\n",
    "print(set2)\n",
    "\n",
    "concatenated_set = {*set1,*set2}\n",
    "print(concatenated_set)\n",
    "#you may find the order is different from set1 and set 2, because set is unordered"
   ]
  },
  {
   "cell_type": "code",
   "execution_count": null,
   "metadata": {
    "ExecuteTime": {
     "end_time": "2021-03-28T04:11:08.494908Z",
     "start_time": "2021-03-28T04:11:08.448597Z"
    }
   },
   "outputs": [
    {
     "name": "stdout",
     "output_type": "stream",
     "text": [
      "{0: 'a', 1: 'b', 2: 'c'}\n",
      "{2: 'd', 3: 'e', 4: 'f'}\n",
      "{0: 'a', 1: 'b', 2: 'd', 3: 'e', 4: 'f'}\n"
     ]
    }
   ],
   "source": [
    "#this example shows how to concatenate two dictionaries\n",
    "#we use ** to unpack a dictionary\n",
    "dict1 = dict(enumerate('abc'))\n",
    "dict2 = dict(enumerate('def',start=2))  \n",
    "print(dict1)\n",
    "print(dict2)\n",
    "concatenated_dict = {**dict1,**dict2}\n",
    "print(concatenated_dict)"
   ]
  },
  {
   "cell_type": "markdown",
   "metadata": {
    "slideshow": {
     "slide_type": "subslide"
    }
   },
   "source": [
    "`set` overloads many other operators:\n",
    "- more information can be found in Chapter 11.8 of the reference book\n",
    "\n",
    "<center><figure>\n",
    "<a title=\"Set operation\" href=\"https://www.cs.cityu.edu.hk/~weitaoxu/cs1302/set_table.png\"><img width=\"600\" alt=\"Python set operations\" src=\"https://www.cs.cityu.edu.hk/~weitaoxu/cs1302/set_table.png\"></a>\n",
    "  <figcaption></figcaption>\n",
    "</figure>\n",
    "</center>\n",
    "\n",
    "<center><figure>\n",
    "<a title=\"Set operation\" href=\"https://www.cs.cityu.edu.hk/~weitaoxu/cs1302/set_table.png\"><img width=\"600\" alt=\"Python set operations\" src=\"https://www.cs.cityu.edu.hk/~weitaoxu/cs1302/set_table2.png\"></a>\n",
    "  <figcaption></figcaption>\n",
    "</figure>\n",
    "</center>"
   ]
  },
  {
   "cell_type": "code",
   "execution_count": 49,
   "metadata": {
    "ExecuteTime": {
     "end_time": "2021-03-25T03:26:42.695369Z",
     "start_time": "2021-03-25T03:26:42.625528Z"
    },
    "slideshow": {
     "slide_type": "-"
    }
   },
   "outputs": [
    {
     "data": {
      "application/vnd.jupyter.widget-view+json": {
       "model_id": "dc07b1a409184a148095c1fac07fd0d3",
       "version_major": 2,
       "version_minor": 0
      },
      "text/plain": [
       "OPTWidget(value=None, height=550, script='a, b = {1,2}, {2,3}\\n\\nunion = a | b\\nprint(union)\\n\\nintersection =…"
      ]
     },
     "execution_count": 49,
     "metadata": {},
     "output_type": "execute_result"
    }
   ],
   "source": [
    "%%optlite -h 550\n",
    "a, b = {1,2}, {2,3}\n",
    "\n",
    "union = a | b\n",
    "print(union)\n",
    "\n",
    "intersection = a & b\n",
    "print(intersection)\n",
    "\n",
    "symmetric_difference = a ^ b\n",
    "print(symmetric_difference)\n"
   ]
  },
  {
   "cell_type": "markdown",
   "metadata": {
    "slideshow": {
     "slide_type": "subslide"
    }
   },
   "source": [
    "For `set`, the intersection operation `&` can also be performed by\n",
    "- the class method `intersection` which returns the intersection of its arguments, and\n",
    "- the object method `intersection_update` which mutates a set object by intersecting the set with the arguments."
   ]
  },
  {
   "cell_type": "code",
   "execution_count": 50,
   "metadata": {
    "ExecuteTime": {
     "end_time": "2021-03-25T03:27:41.395208Z",
     "start_time": "2021-03-25T03:27:41.348652Z"
    },
    "slideshow": {
     "slide_type": "-"
    }
   },
   "outputs": [
    {
     "data": {
      "application/vnd.jupyter.widget-view+json": {
       "model_id": "1b0d846743464179ab86a89cb4c23ed6",
       "version_major": 2,
       "version_minor": 0
      },
      "text/plain": [
       "OPTWidget(value=None, height=300, script='a = {0,1,2}\\nb = {1,2,3}\\nc = set.intersection(a,b,{2,3,4})\\na.inter…"
      ]
     },
     "execution_count": 50,
     "metadata": {},
     "output_type": "execute_result"
    }
   ],
   "source": [
    "%%optlite -h 300\n",
    "a = {0,1,2}\n",
    "b = {1,2,3}\n",
    "c = set.intersection(a,b,{2,3,4})\n",
    "a.intersection_update(b,c) #this line is equivalent to a=set.intersection(a,b,c)"
   ]
  },
  {
   "cell_type": "markdown",
   "metadata": {
    "slideshow": {
     "slide_type": "subslide"
    }
   },
   "source": [
    "Set-specific methods (see table below)\n",
    "- we can use `class method`, `object method`, and `operator` to achieve the same purpose, but we need to note the difference"
   ]
  },
  {
   "cell_type": "markdown",
   "metadata": {
    "slideshow": {
     "slide_type": "-"
    }
   },
   "source": [
    "|     class method       |          object method        | operator     |\n",
    "| ---------------------- | ----------------------------- | ------------ |\n",
    "| `union`                | `update`                      | `\\| `        |\n",
    "| `intersection`         | `intersection_update`         | `&`          |\n",
    "| `symmetric_difference` | `symmetric_difference_update` | `^`          |\n",
    "| `issubset`             |                               | `<=`         |\n",
    "| `issuperset`           |                               | `>=`         |\n",
    "| `isdisjoint`           |                               |              |"
   ]
  },
  {
   "cell_type": "code",
   "execution_count": 52,
   "metadata": {
    "ExecuteTime": {
     "end_time": "2021-03-25T03:33:52.194872Z",
     "start_time": "2021-03-25T03:33:52.144437Z"
    }
   },
   "outputs": [
    {
     "name": "stdout",
     "output_type": "stream",
     "text": [
      "{0, 1, 2, 3}\n",
      "{0, 1, 2, 3}\n",
      "{0, 1, 2, 3}\n"
     ]
    }
   ],
   "source": [
    "a = {0,1,2}\n",
    "b = {1,2,3}\n",
    "\n",
    "#to calculate the union, we can use the class method like this\n",
    "c1=set.union(a,b)\n",
    "print(c1)\n",
    "#we can use the object method like this\n",
    "a.update(a,b)\n",
    "print(a)\n",
    "#we can also use the operator like this\n",
    "c2=a|b\n",
    "print(c2)"
   ]
  },
  {
   "cell_type": "markdown",
   "metadata": {
    "slideshow": {
     "slide_type": "fragment"
    }
   },
   "source": [
    "`dict` also has an [update()](https://www.programiz.com/python-programming/methods/dictionary/update) method that can update a dictionary using dictionary, iterables and keyword arguments:\n",
    "- The `update()` method updates the dictionary with the elements from the another dictionary object or from an iterable of key/value pairs."
   ]
  },
  {
   "cell_type": "code",
   "execution_count": 53,
   "metadata": {
    "ExecuteTime": {
     "end_time": "2021-03-25T03:35:18.795362Z",
     "start_time": "2021-03-25T03:35:18.715245Z"
    }
   },
   "outputs": [
    {
     "data": {
      "application/vnd.jupyter.widget-view+json": {
       "model_id": "ab4db07e11a749ce9a5e053384fda7fc",
       "version_major": 2,
       "version_minor": 0
      },
      "text/plain": [
       "OPTWidget(value=None, height=300, script='d = {1: \"one\", 2: \"three\"}\\nd1 = {3: \"three\",4:\"four\"}\\n\\n# adds ele…"
      ]
     },
     "execution_count": 53,
     "metadata": {},
     "output_type": "execute_result"
    }
   ],
   "source": [
    "%%optlite -h 300\n",
    "d = {1: \"one\", 2: \"three\"}\n",
    "d1 = {3: \"three\",4:\"four\"}\n",
    "\n",
    "# adds elements in d1 to d\n",
    "d.update(d1)\n",
    "print(d)"
   ]
  },
  {
   "cell_type": "markdown",
   "metadata": {},
   "source": [
    "The [copy()](https://www.programiz.com/python-programming/methods/dictionary/copy) method returns a shallow copy of the dictionary. It doesn't modify the original dictionary.\n",
    "- [Shaddow copy vs deep copy](https://docs.python.org/3/library/copy.html)"
   ]
  },
  {
   "cell_type": "code",
   "execution_count": 54,
   "metadata": {
    "ExecuteTime": {
     "end_time": "2021-03-25T03:35:30.595211Z",
     "start_time": "2021-03-25T03:35:30.514567Z"
    }
   },
   "outputs": [
    {
     "data": {
      "application/vnd.jupyter.widget-view+json": {
       "model_id": "590239e1cc0549718cbdaea87d1823fa",
       "version_major": 2,
       "version_minor": 0
      },
      "text/plain": [
       "OPTWidget(value=None, height=300, script=\"original = {1:'one', 2:'two'}\\nnew = original.copy()\\n\\nprint('Orign…"
      ]
     },
     "execution_count": 54,
     "metadata": {},
     "output_type": "execute_result"
    }
   ],
   "source": [
    "%%optlite -h 300\n",
    "original = {1:'one', 2:'two'}\n",
    "new = original.copy()\n",
    "\n",
    "print('Orignal: ', original)\n",
    "print('New: ', new)"
   ]
  },
  {
   "cell_type": "markdown",
   "metadata": {
    "slideshow": {
     "slide_type": "slide"
    }
   },
   "source": [
    "**Summary**\n",
    "\n",
    "We introduce set and dictionary. You need to know\n",
    "\n",
    "1. How to create, access, operate set and dictionary.\n",
    "2. Hashability\n",
    "3. Different methods of set and dictionary"
   ]
  },
  {
   "cell_type": "code",
   "execution_count": null,
   "metadata": {},
   "outputs": [],
   "source": []
  }
 ],
 "metadata": {
  "kernelspec": {
   "display_name": "Python 3 (ipykernel)",
   "language": "python",
   "name": "python3"
  },
  "language_info": {
   "codemirror_mode": {
    "name": "ipython",
    "version": 3
   },
   "file_extension": ".py",
   "mimetype": "text/x-python",
   "name": "python",
   "nbconvert_exporter": "python",
   "pygments_lexer": "ipython3",
   "version": "3.11.10"
  },
  "latex_envs": {
   "LaTeX_envs_menu_present": true,
   "autoclose": false,
   "autocomplete": true,
   "bibliofile": "biblio.bib",
   "cite_by": "apalike",
   "current_citInitial": 1,
   "eqLabelWithNumbers": true,
   "eqNumInitial": 1,
   "hotkeys": {
    "equation": "Ctrl-E",
    "itemize": "Ctrl-I"
   },
   "labels_anchors": false,
   "latex_user_defs": false,
   "report_style_numbering": false,
   "user_envs_cfg": false
  },
  "rise": {
   "enable_chalkboard": true,
   "scroll": true,
   "theme": "white"
  },
  "scenes_data": {
   "active_scene": "Default Scene",
   "init_scene": "",
   "scenes": [
    "Default Scene"
   ]
  },
  "toc": {
   "base_numbering": 1,
   "nav_menu": {
    "height": "195px",
    "width": "330px"
   },
   "number_sections": true,
   "sideBar": true,
   "skip_h1_title": true,
   "title_cell": "Table of Contents",
   "title_sidebar": "Contents",
   "toc_cell": false,
   "toc_position": {
    "height": "454.418px",
    "left": "1533px",
    "top": "110.284px",
    "width": "261px"
   },
   "toc_section_display": true,
   "toc_window_display": false
  }
 },
 "nbformat": 4,
 "nbformat_minor": 4
}
