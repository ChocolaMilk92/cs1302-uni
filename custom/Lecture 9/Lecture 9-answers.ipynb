{
 "cells": [
  {
   "cell_type": "markdown",
   "metadata": {},
   "source": [
    "### Exercises"
   ]
  },
  {
   "cell_type": "markdown",
   "metadata": {},
   "source": [
    "(1) Write a Python script to concatenate following dictionaries to create a new one.\n",
    "```\n",
    "Sample Dictionary :\n",
    "dic1={1:10, 2:20}\n",
    "dic2={3:30, 4:40}\n",
    "dic3={5:50,6:60}\n",
    "Expected Result : {1: 10, 2: 20, 3: 30, 4: 40, 5: 50, 6: 60}\n",
    "```"
   ]
  },
  {
   "cell_type": "code",
   "execution_count": 1,
   "metadata": {},
   "outputs": [
    {
     "name": "stdout",
     "output_type": "stream",
     "text": [
      "{1: 10, 2: 20, 3: 30, 4: 40, 5: 50, 6: 60}\n"
     ]
    }
   ],
   "source": [
    "dic1={1:10, 2:20}\n",
    "dic2={3:30, 4:40}\n",
    "dic3={5:50,6:60}\n",
    "dic4 = {}\n",
    "\n",
    "for d in (dic1, dic2, dic3): dic4.update(d)\n",
    "print(dic4)"
   ]
  },
  {
   "cell_type": "markdown",
   "metadata": {},
   "source": [
    "(2) Write a Python script to generate and print a dictionary that contains a number (between 1 and n) in the form (x, x^2).\n",
    "```\n",
    "Sample Dictionary (n = 5) :\n",
    "Expected Output : {1: 1, 2: 4, 3: 9, 4: 16, 5: 25}\n",
    "```"
   ]
  },
  {
   "cell_type": "code",
   "execution_count": 2,
   "metadata": {},
   "outputs": [
    {
     "name": "stdin",
     "output_type": "stream",
     "text": [
      "Input a number  5\n"
     ]
    },
    {
     "name": "stdout",
     "output_type": "stream",
     "text": [
      "{1: 1, 2: 4, 3: 9, 4: 16, 5: 25}\n"
     ]
    }
   ],
   "source": [
    "n=int(input(\"Input a number \"))\n",
    "d = dict()\n",
    "\n",
    "for x in range(1,n+1):\n",
    "    d[x]=x*x\n",
    "\n",
    "print(d)"
   ]
  },
  {
   "cell_type": "markdown",
   "metadata": {},
   "source": [
    "(3) Write a Python program to create a dictionary from a string. Note: Track the count of the letters from the string.\n",
    "```\n",
    "Sample string : 'Hello'\n",
    "Expected output: {'H': 1, 'e': 1, 'l': 2, 'o': 1}\n",
    "```"
   ]
  },
  {
   "cell_type": "code",
   "execution_count": 1,
   "metadata": {
    "ExecuteTime": {
     "end_time": "2021-02-06T12:22:32.827169Z",
     "start_time": "2021-02-06T12:22:32.819839Z"
    }
   },
   "outputs": [
    {
     "name": "stdout",
     "output_type": "stream",
     "text": [
      "{'H': 1, 'e': 1, 'l': 2, 'o': 1}\n"
     ]
    }
   ],
   "source": [
    "str1 = 'Hello' \n",
    "\n",
    "my_dict = {}\n",
    "for letter in str1:\n",
    "    my_dict[letter] = my_dict.get(letter, 0) + 1\n",
    "    \n",
    "print(my_dict)"
   ]
  },
  {
   "cell_type": "markdown",
   "metadata": {},
   "source": [
    "(4) Given a string, count the number of vowels present in given string using Sets.\n",
    "```\n",
    "Input : Hello World\n",
    "Output : No. of vowels :  3\n",
    "```"
   ]
  },
  {
   "cell_type": "code",
   "execution_count": 2,
   "metadata": {},
   "outputs": [
    {
     "name": "stdout",
     "output_type": "stream",
     "text": [
      "No. of vowels : 3\n"
     ]
    }
   ],
   "source": [
    "# Function to count vowel\n",
    "def vowel_count(str):\n",
    "\n",
    "    # Initializing count variable to 0\n",
    "    count = 0\n",
    "\n",
    "    # Creating a set of vowels\n",
    "    vowel = set(\"aeiouAEIOU\")\n",
    "\n",
    "    # Loop to traverse the alphabet\n",
    "    # in the given string\n",
    "    for alphabet in str:\n",
    "        # If alphabet is present\n",
    "        # in set vowel\n",
    "        if alphabet in vowel:\n",
    "            count = count + 1\n",
    "\n",
    "    print(\"No. of vowels :\", count)\n",
    "\n",
    "    \n",
    "# Driver code\n",
    "str = \"Hello World\"\n",
    "vowel_count(str)"
   ]
  },
  {
   "cell_type": "markdown",
   "metadata": {},
   "source": [
    "(5) Given a string str. The task is to check whether it is a binary string or not. \n",
    "```\n",
    "Input: str = \"01010101010\"\n",
    "Output: Yes\n",
    "\n",
    "Input: str = \"CS1302\"\n",
    "Output: No\n",
    "```"
   ]
  },
  {
   "cell_type": "code",
   "execution_count": 2,
   "metadata": {},
   "outputs": [
    {
     "name": "stdout",
     "output_type": "stream",
     "text": [
      "Yes\n",
      "No\n"
     ]
    }
   ],
   "source": [
    "# function for checking the\n",
    "# string is accepted or not\n",
    "def check(string) :\n",
    "\n",
    "    # set function convert string\n",
    "    # into set of characters .\n",
    "    p = set(string)\n",
    "\n",
    "    # declare set of '0', '1' .\n",
    "    s = {'0', '1'}\n",
    "\n",
    "    # check set p is same as set s\n",
    "    # or set p contains only '0'\n",
    "    # or set p contains only '1'\n",
    "    # or not, if any one condition\n",
    "    # is true then string is accepted\n",
    "    # otherwise not .\n",
    "    if s == p or p == {'0'} or p == {'1'}:\n",
    "        print(\"Yes\")\n",
    "    else :\n",
    "        print(\"No\")\n",
    "\n",
    "\n",
    "string = \"101010000111\"\n",
    "check(string) #this should print Yes\n",
    "\n",
    "string = \"CS1302\"\n",
    "check(string) #this should print No"
   ]
  },
  {
   "cell_type": "code",
   "execution_count": null,
   "metadata": {},
   "outputs": [],
   "source": []
  }
 ],
 "metadata": {
  "kernelspec": {
   "display_name": "Python 3 (ipykernel)",
   "language": "python",
   "name": "python3"
  },
  "language_info": {
   "codemirror_mode": {
    "name": "ipython",
    "version": 3
   },
   "file_extension": ".py",
   "mimetype": "text/x-python",
   "name": "python",
   "nbconvert_exporter": "python",
   "pygments_lexer": "ipython3",
   "version": "3.11.6"
  },
  "latex_envs": {
   "LaTeX_envs_menu_present": true,
   "autoclose": false,
   "autocomplete": true,
   "bibliofile": "biblio.bib",
   "cite_by": "apalike",
   "current_citInitial": 1,
   "eqLabelWithNumbers": true,
   "eqNumInitial": 1,
   "hotkeys": {
    "equation": "Ctrl-E",
    "itemize": "Ctrl-I"
   },
   "labels_anchors": false,
   "latex_user_defs": false,
   "report_style_numbering": false,
   "user_envs_cfg": false
  },
  "toc": {
   "base_numbering": 1,
   "nav_menu": {},
   "number_sections": true,
   "sideBar": true,
   "skip_h1_title": false,
   "title_cell": "Table of Contents",
   "title_sidebar": "Contents",
   "toc_cell": false,
   "toc_position": {},
   "toc_section_display": true,
   "toc_window_display": false
  }
 },
 "nbformat": 4,
 "nbformat_minor": 4
}
