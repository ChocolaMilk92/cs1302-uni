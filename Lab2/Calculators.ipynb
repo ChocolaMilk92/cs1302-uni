{
 "cells": [
  {
   "cell_type": "markdown",
   "metadata": {
    "slideshow": {
     "slide_type": "slide"
    }
   },
   "source": [
    "# Calculators"
   ]
  },
  {
   "cell_type": "markdown",
   "metadata": {
    "slideshow": {
     "slide_type": "-"
    },
    "tags": [
     "remove-cell"
    ]
   },
   "source": [
    "**CS1302 Introduction to Computer Programming**\n",
    "___"
   ]
  },
  {
   "cell_type": "code",
   "execution_count": null,
   "metadata": {
    "ExecuteTime": {
     "end_time": "2021-03-20T14:24:30.141204Z",
     "start_time": "2021-03-20T14:24:30.95511Z"
    },
    "hide_input": false,
    "init_cell": true,
    "slideshow": {
     "slide_type": "-"
    }
   },
   "outputs": [],
   "source": [
    "import math\n",
    "from math import cos, exp, log, pi, sin, tan\n",
    "\n",
    "import matplotlib.pyplot as plt\n",
    "import numpy as np\n",
    "from ipywidgets import interact\n",
    "\n",
    "# interactive plot with ipympl\n",
    "%matplotlib widget  "
   ]
  },
  {
   "cell_type": "markdown",
   "metadata": {
    "slideshow": {
     "slide_type": "subslide"
    }
   },
   "source": [
    "The following code is a Python one-liner that creates a calculator.\n",
    "\n",
    "- Evaluate the cell with `Ctrl+Enter`.\n",
    "- Enter `1+1` and see the result."
   ]
  },
  {
   "cell_type": "code",
   "execution_count": null,
   "metadata": {
    "ExecuteTime": {
     "end_time": "2021-03-20T14:24:36.600190Z",
     "start_time": "2021-03-20T14:24:33.998271Z"
    },
    "slideshow": {
     "slide_type": "-"
    },
    "tags": [
     "remove-output"
    ]
   },
   "outputs": [],
   "source": [
    "print(eval(input()))"
   ]
  },
  {
   "cell_type": "markdown",
   "metadata": {
    "slideshow": {
     "slide_type": "fragment"
    }
   },
   "source": [
    "---\n",
    "\n",
    "**Tip**\n",
    "\n",
    "Try some calculations below using this calculator:  \n",
    "\n",
    "1. $2^3$ by entering `2**3`;\n",
    "1. $\\frac23$ by entering `2/3`;\n",
    "1. $\\left\\lceil\\frac32\\right\\rceil$ by entering `3//2`;\n",
    "1. $3\\mod 2$ by entering `3%2`;\n",
    "1. $\\sqrt{2}$ by entering `2**0.5`; and\n",
    "1. $\\sin(\\pi/6)$ by entering `sin(pi/6)`;\n",
    "\n",
    "---"
   ]
  },
  {
   "cell_type": "markdown",
   "metadata": {
    "slideshow": {
     "slide_type": "fragment"
    }
   },
   "source": [
    "For this lab, you will create more powerful and dedicated calculators.   \n",
    "We will first show you a demo. Then, it will be your turn to create the calculators."
   ]
  },
  {
   "cell_type": "markdown",
   "metadata": {
    "slideshow": {
     "slide_type": "slide"
    }
   },
   "source": [
    "## Hypotenuse Calculator"
   ]
  },
  {
   "cell_type": "markdown",
   "metadata": {
    "slideshow": {
     "slide_type": "fragment"
    }
   },
   "source": [
    "---\n",
    "\n",
    "**Proposition** \n",
    "\n",
    "By the Pythagoras theorem, given a right-angled triangle,\n",
    "\n",
    "![Right-angled triangle](images/pythagoras.dio.svg)\n",
    "\n",
    "the length of the hypotenuse is\n",
    "\n",
    "$$\n",
    "c = \\sqrt{a^2 + b^2}\n",
    "$$ (hypotenuse)\n",
    "\n",
    "where $a$ and $b$ are the lengths of the other sides of the triangle.\n",
    "\n",
    "---"
   ]
  },
  {
   "cell_type": "markdown",
   "metadata": {},
   "source": [
    "We can define the following function to calculate the length `c` of the hypotenuse when given the lengths `a` and `b` of the other sides: "
   ]
  },
  {
   "cell_type": "code",
   "execution_count": null,
   "metadata": {
    "ExecuteTime": {
     "end_time": "2021-03-20T14:24:41.414382Z",
     "start_time": "2021-03-20T14:24:41.412057Z"
    },
    "slideshow": {
     "slide_type": "fragment"
    }
   },
   "outputs": [],
   "source": [
    "def length_of_hypotenuse(a, b):\n",
    "    c = (a**2 + b**2)**(0.5)  # Pythagoras\n",
    "    return c"
   ]
  },
  {
   "cell_type": "markdown",
   "metadata": {
    "slideshow": {
     "slide_type": "fragment"
    }
   },
   "source": [
    "---\n",
    "\n",
    "**Important**\n",
    "\n",
    "You need not understand how a function is defined, but\n",
    "\n",
    "- you should know how to *write the formula {eq}`hypotenuse` as a Python expression* using the exponentiation operator `**`, and\n",
    "- *assign the variable* `c` the value of the expression (Line 2) using the assignment operator `=`.\n",
    "\n",
    "---"
   ]
  },
  {
   "cell_type": "markdown",
   "metadata": {
    "slideshow": {
     "slide_type": "subslide"
    }
   },
   "source": [
    "For example, you may be asked to write Line 2, while Line 1 and 3 are given to you:"
   ]
  },
  {
   "cell_type": "markdown",
   "metadata": {
    "slideshow": {
     "slide_type": "fragment"
    }
   },
   "source": [
    "**Exercise** Complete the function below to return the length `c` of the hypotenuse given the lengths `a` and `b`."
   ]
  },
  {
   "cell_type": "code",
   "execution_count": null,
   "metadata": {
    "ExecuteTime": {
     "end_time": "2021-03-20T14:24:42.977375Z",
     "start_time": "2021-03-20T14:24:42.976117Z"
    },
    "deletable": false,
    "nbgrader": {
     "cell_type": "code",
     "checksum": "07e9bf0ce74ed11e07ad5f772a79f6b8",
     "grade": false,
     "grade_id": "length_of_hypotenuse",
     "locked": false,
     "schema_version": 3,
     "solution": true,
     "task": false
    },
    "slideshow": {
     "slide_type": "-"
    },
    "tags": [
     "remove-output"
    ]
   },
   "outputs": [],
   "source": [
    "def length_of_hypotenuse(a, b):\n",
    "    # YOUR CODE HERE\n",
    "    raise NotImplementedError()\n",
    "    return c"
   ]
  },
  {
   "cell_type": "markdown",
   "metadata": {
    "slideshow": {
     "slide_type": "fragment"
    }
   },
   "source": [
    "---\n",
    "\n",
    "**Caution**\n",
    "\n",
    "- Complete the above exercise to get the credit even though the answer was already revealed as a demo. Instead of copy-and-paste the answer, type it yourself.\n",
    "- Note that indentation affects the execution of Python code. In particular, the assignment statement must be indented to indicate that it is part of the *body* of the function. \n",
    "\n",
    "---"
   ]
  },
  {
   "cell_type": "markdown",
   "metadata": {
    "slideshow": {
     "slide_type": "subslide"
    }
   },
   "source": [
    "We will use `ipywidgets` to let user interact with the calculator more easily:\n",
    "\n",
    "- After running the cell, move the sliders to change the values of `a` and `b`. \n",
    "- Observer that the value of `c` is updated immediately."
   ]
  },
  {
   "cell_type": "code",
   "execution_count": null,
   "metadata": {
    "ExecuteTime": {
     "end_time": "2021-03-20T14:24:46.386473Z",
     "start_time": "2021-03-20T14:24:46.340180Z"
    },
    "code_folding": [],
    "slideshow": {
     "slide_type": "-"
    },
    "tags": [
     "remove-output"
    ]
   },
   "outputs": [],
   "source": [
    "# hypotenuse calculator\n",
    "@interact(a=(0, 10, 1), b=(0, 10, 1))\n",
    "def calculate_hypotenuse(a=3, b=4):\n",
    "    print(\"c: {:.2f}\".format(length_of_hypotenuse(a, b)))"
   ]
  },
  {
   "cell_type": "markdown",
   "metadata": {
    "slideshow": {
     "slide_type": "fragment"
    }
   },
   "source": [
    "---\n",
    "\n",
    "**Important**\n",
    "\n",
    "You need not know how to write widgets, but you should know how to *format a floating point number* (Line 3).\n",
    "\n",
    "---"
   ]
  },
  {
   "cell_type": "markdown",
   "metadata": {
    "slideshow": {
     "slide_type": "subslide"
    }
   },
   "source": [
    "You can check your code with a few cases listed in the test cell below."
   ]
  },
  {
   "cell_type": "code",
   "execution_count": null,
   "metadata": {
    "ExecuteTime": {
     "end_time": "2021-03-20T14:24:49.572693Z",
     "start_time": "2021-03-20T14:24:49.568542Z"
    },
    "code_folding": [],
    "deletable": false,
    "editable": false,
    "nbgrader": {
     "cell_type": "code",
     "checksum": "f52b93d815cfd306fae374ec4d8a58c4",
     "grade": true,
     "grade_id": "test-length_of_hypotenuse",
     "locked": true,
     "points": 1,
     "schema_version": 3,
     "solution": false,
     "task": false
    },
    "slideshow": {
     "slide_type": "-"
    },
    "tags": [
     "remove-output"
    ]
   },
   "outputs": [],
   "source": [
    "# tests\n",
    "def test_length_of_hypotenuse(a, b, c):\n",
    "    c_ = length_of_hypotenuse(a, b)\n",
    "    correct = math.isclose(c, c_)\n",
    "    if not correct:\n",
    "        print(f\"For a={a} and b={b}, c should be {c}, not {c_}.\")\n",
    "    assert correct\n",
    "\n",
    "\n",
    "test_length_of_hypotenuse(3, 4, 5)\n",
    "test_length_of_hypotenuse(0, 0, 0)\n",
    "test_length_of_hypotenuse(4, 7, 8.06225774829855)"
   ]
  },
  {
   "cell_type": "markdown",
   "metadata": {
    "slideshow": {
     "slide_type": "slide"
    }
   },
   "source": [
    "## Quadratic equation"
   ]
  },
  {
   "cell_type": "markdown",
   "metadata": {
    "slideshow": {
     "slide_type": "subslide"
    }
   },
   "source": [
    "### Graphical calculator for parabola"
   ]
  },
  {
   "cell_type": "markdown",
   "metadata": {},
   "source": [
    "![Parabola calculator](images/parabola.dio.svg) "
   ]
  },
  {
   "cell_type": "markdown",
   "metadata": {
    "slideshow": {
     "slide_type": "subslide"
    }
   },
   "source": [
    "---\n",
    "\n",
    "**Definition** Parabola\n",
    "\n",
    "\n",
    "The collection of points $(x,y)$ satisfying the following equation forms a *parabola*:\n",
    "\n",
    "$$\n",
    "y=ax^2+bx+c\n",
    "$$ (parabola)\n",
    "\n",
    "where $a$, $b$, and $c$ are real numbers called the *coefficients*.\n",
    "\n",
    "---"
   ]
  },
  {
   "cell_type": "markdown",
   "metadata": {
    "slideshow": {
     "slide_type": "fragment"
    }
   },
   "source": [
    "**Exercise** Given the variables `x`, `a`, `b`, and `c` store the $x$-coordinate and the coefficients $a$, $b$, and $c$ respectively, assign `y` the corresponding $y$-coordinate of the parabola {eq}`parabola`."
   ]
  },
  {
   "cell_type": "code",
   "execution_count": null,
   "metadata": {
    "ExecuteTime": {
     "end_time": "2021-03-20T14:24:54.263505Z",
     "start_time": "2021-03-20T14:24:54.261046Z"
    },
    "deletable": false,
    "nbgrader": {
     "cell_type": "code",
     "checksum": "2c86fa4ce83bcbe0906f9b64b5c1a032",
     "grade": false,
     "grade_id": "get_y",
     "locked": false,
     "schema_version": 3,
     "solution": true,
     "task": false
    },
    "slideshow": {
     "slide_type": "-"
    },
    "tags": [
     "remove-output"
    ]
   },
   "outputs": [],
   "source": [
    "def get_y(x, a, b, c):\n",
    "    # YOUR CODE HERE\n",
    "    raise NotImplementedError()\n",
    "    return y"
   ]
  },
  {
   "cell_type": "markdown",
   "metadata": {},
   "source": [
    "To test your code:"
   ]
  },
  {
   "cell_type": "code",
   "execution_count": null,
   "metadata": {
    "ExecuteTime": {
     "end_time": "2021-03-20T14:24:55.936022Z",
     "start_time": "2021-03-20T14:24:55.930382Z"
    },
    "code_folding": [],
    "deletable": false,
    "editable": false,
    "nbgrader": {
     "cell_type": "code",
     "checksum": "4d00403723b0578d72ce900068e343fa",
     "grade": true,
     "grade_id": "test-get_y",
     "locked": true,
     "points": 1,
     "schema_version": 3,
     "solution": false,
     "task": false
    },
    "slideshow": {
     "slide_type": "fragment"
    },
    "tags": [
     "remove-output"
    ]
   },
   "outputs": [],
   "source": [
    "# tests\n",
    "def test_get_y(y, x, a, b, c):\n",
    "    y_ = get_y(x, a, b, c)\n",
    "    correct = math.isclose(y, y_)\n",
    "    if not correct:\n",
    "        print(f\"With (x, a, b, c)={x,a,b,c}, y should be {y} not {y_}.\")\n",
    "    assert correct\n",
    "\n",
    "\n",
    "test_get_y(0, 0, 0, 0, 0)\n",
    "test_get_y(1, 0, 1, 2, 1)\n",
    "test_get_y(2, 0, 2, 1, 2)"
   ]
  },
  {
   "cell_type": "code",
   "execution_count": null,
   "metadata": {
    "deletable": false,
    "editable": false,
    "nbgrader": {
     "cell_type": "code",
     "checksum": "0adfafae7b0307eb4e3a7be0bd936147",
     "grade": true,
     "grade_id": "htest-get_y",
     "locked": true,
     "points": 1,
     "schema_version": 3,
     "solution": false,
     "task": false
    },
    "tags": [
     "remove-cell"
    ]
   },
   "outputs": [],
   "source": [
    "# hidden tests"
   ]
  },
  {
   "cell_type": "markdown",
   "metadata": {},
   "source": [
    "To run the graphical calculator:"
   ]
  },
  {
   "cell_type": "code",
   "execution_count": null,
   "metadata": {
    "ExecuteTime": {
     "end_time": "2021-03-02T13:26:34.128830Z",
     "start_time": "2021-03-02T13:26:33.719638Z"
    },
    "code_folding": [],
    "slideshow": {
     "slide_type": "subslide"
    },
    "tags": [
     "remove-output"
    ]
   },
   "outputs": [],
   "source": [
    "# graphical calculator for parabola\n",
    "fig, ax = plt.subplots()\n",
    "xmin, xmax, ymin, ymax, resolution = -10, 10, -10, 10, 50\n",
    "x = np.linspace(xmin, xmax, resolution)\n",
    "ax.set_title(r'$y=ax^2+bx+c$')\n",
    "ax.set_xlabel(r'$x$')\n",
    "ax.set_ylabel(r'$y$')\n",
    "ax.set_xlim([xmin, xmax])\n",
    "ax.set_ylim([ymin, ymax])\n",
    "ax.grid()\n",
    "p, = ax.plot(x, get_y(x, 0, 0, 0))\n",
    "\n",
    "@interact(a=(-10, 10, 1), b=(-10, 10, 1), c=(-10, 10, 1))\n",
    "def plot_parabola(a, b, c):\n",
    "    p.set_ydata(get_y(x, a, b, c))"
   ]
  },
  {
   "cell_type": "markdown",
   "metadata": {
    "slideshow": {
     "slide_type": "slide"
    }
   },
   "source": [
    "### Quadratic equation solver"
   ]
  },
  {
   "cell_type": "markdown",
   "metadata": {
    "slideshow": {
     "slide_type": "-"
    }
   },
   "source": [
    "![quadratic equtaion solver](images/quadratic.dio.svg) "
   ]
  },
  {
   "cell_type": "markdown",
   "metadata": {
    "slideshow": {
     "slide_type": "subslide"
    }
   },
   "source": [
    "---\n",
    "\n",
    "**Proposition**\n",
    "\n",
    "For the quadratic equation\n",
    "\n",
    "$$\n",
    "ax^2+bx+c=0,\n",
    "$$ (quadratic)\n",
    "the *roots* (solutions for $x$) are give by\n",
    "\n",
    "$$\n",
    "\\frac{-b-\\sqrt{b^2-4ac}}{2a},\\frac{-b+\\sqrt{b^2-4ac}}{2a}.\n",
    "$$ (quadratic_roots)\n",
    "\n",
    "---"
   ]
  },
  {
   "cell_type": "markdown",
   "metadata": {
    "slideshow": {
     "slide_type": "fragment"
    }
   },
   "source": [
    "**Exercise** Assign to `root1` and `root2` the values of the first and second roots above respectively."
   ]
  },
  {
   "cell_type": "code",
   "execution_count": null,
   "metadata": {
    "ExecuteTime": {
     "end_time": "2021-03-20T14:25:25.676812Z",
     "start_time": "2021-03-20T14:25:25.673522Z"
    },
    "deletable": false,
    "nbgrader": {
     "cell_type": "code",
     "checksum": "ac8d52d2f7328a894d73bce80d19dafc",
     "grade": false,
     "grade_id": "get_roots",
     "locked": false,
     "schema_version": 3,
     "solution": true,
     "task": false
    },
    "slideshow": {
     "slide_type": "fragment"
    },
    "tags": [
     "remove-output"
    ]
   },
   "outputs": [],
   "source": [
    "def get_roots(a, b, c):\n",
    "    # YOUR CODE HERE\n",
    "    raise NotImplementedError()\n",
    "    return root1, root2"
   ]
  },
  {
   "cell_type": "markdown",
   "metadata": {},
   "source": [
    "To test your code:"
   ]
  },
  {
   "cell_type": "code",
   "execution_count": null,
   "metadata": {
    "ExecuteTime": {
     "end_time": "2021-03-20T14:25:27.507421Z",
     "start_time": "2021-03-20T14:25:27.503346Z"
    },
    "code_folding": [],
    "deletable": false,
    "editable": false,
    "nbgrader": {
     "cell_type": "code",
     "checksum": "cd703af7ee4d214a1588e34c86a832eb",
     "grade": true,
     "grade_id": "test-get_roots",
     "locked": true,
     "points": 1,
     "schema_version": 3,
     "solution": false,
     "task": false
    },
    "slideshow": {
     "slide_type": "fragment"
    },
    "tags": [
     "remove-output"
    ]
   },
   "outputs": [],
   "source": [
    "# tests\n",
    "def test_get_roots(roots, a, b, c):\n",
    "    def mysort(c):\n",
    "        return c.real, c.imag\n",
    "    roots_ = get_roots(a, b, c)\n",
    "    assert np.isclose(sorted(roots, key=mysort), \n",
    "                      sorted(roots_, key=mysort)).all()\n",
    "\n",
    "test_get_roots((-1.0, 0.0), 1, 1, 0)\n",
    "test_get_roots((-1.0, -1.0), 1, 2, 1)\n",
    "test_get_roots((-2.0, -1.0), 1, 3, 2)\n",
    "test_get_roots([(-0.5-0.5j), (-0.5+0.5j)], 2, 2, 1)"
   ]
  },
  {
   "cell_type": "code",
   "execution_count": null,
   "metadata": {
    "deletable": false,
    "editable": false,
    "nbgrader": {
     "cell_type": "code",
     "checksum": "79a531007ec3cae77b0a47be0ba9710c",
     "grade": true,
     "grade_id": "htest-get_roots",
     "locked": true,
     "points": 1,
     "schema_version": 3,
     "solution": false,
     "task": false
    },
    "tags": [
     "remove-cell"
    ]
   },
   "outputs": [],
   "source": [
    "# hidden tests"
   ]
  },
  {
   "cell_type": "markdown",
   "metadata": {},
   "source": [
    "To run the calculator:"
   ]
  },
  {
   "cell_type": "code",
   "execution_count": null,
   "metadata": {
    "ExecuteTime": {
     "end_time": "2021-03-20T14:25:30.720050Z",
     "start_time": "2021-03-20T14:25:30.689142Z"
    },
    "code_folding": [
     0
    ],
    "slideshow": {
     "slide_type": "fragment"
    },
    "tags": [
     "remove-output"
    ]
   },
   "outputs": [],
   "source": [
    "# quadratic equations solver\n",
    "@interact(a=(-10,10,1),b=(-10,10,1),c=(-10,10,1))\n",
    "def quadratic_equation_solver(a=1,b=2,c=1):\n",
    "    print('Roots: {}, {}'.format(*get_roots(a,b,c)))"
   ]
  },
  {
   "cell_type": "markdown",
   "metadata": {
    "slideshow": {
     "slide_type": "slide"
    }
   },
   "source": [
    "## Number conversion"
   ]
  },
  {
   "cell_type": "markdown",
   "metadata": {
    "slideshow": {
     "slide_type": "subslide"
    }
   },
   "source": [
    "### Byte-to-Decimal calculator"
   ]
  },
  {
   "cell_type": "markdown",
   "metadata": {
    "slideshow": {
     "slide_type": "-"
    }
   },
   "source": [
    "![byte-to-decimal](images/byte-to-decimal.dio.svg)"
   ]
  },
  {
   "cell_type": "markdown",
   "metadata": {
    "slideshow": {
     "slide_type": "subslide"
    }
   },
   "source": [
    "Denote a binary number stored in a byte ($8$ bits) as\n",
    "\n",
    "$$ \n",
    "b_7\\circ b_6\\circ b_5\\circ b_4\\circ b_3\\circ b_2\\circ b_1\\circ b_0, \n",
    "$$\n",
    "where $\\circ$ concatenates $b_i$'s together into a binary string."
   ]
  },
  {
   "cell_type": "markdown",
   "metadata": {
    "slideshow": {
     "slide_type": "fragment"
    }
   },
   "source": [
    "The binary string can be converted to a decimal number by the formula\n",
    "\n",
    "$$ \n",
    "b_7\\cdot 2^7 + b_6\\cdot 2^6 + b_5\\cdot 2^5 + b_4\\cdot 2^4 + b_3\\cdot 2^3 + b_2\\cdot 2^2 + b_1\\cdot 2^1 + b_0\\cdot 2^0. \n",
    "$$"
   ]
  },
  {
   "cell_type": "markdown",
   "metadata": {
    "slideshow": {
     "slide_type": "fragment"
    }
   },
   "source": [
    "E.g., the binary string `'11111111'` is the largest integer represented by a byte:\n",
    "\n",
    "$$\n",
    "2^7+2^6+2^5+2^4+2^3+2^2+2^1+2^0=255=2^8-1.\n",
    "$$"
   ]
  },
  {
   "cell_type": "markdown",
   "metadata": {
    "slideshow": {
     "slide_type": "fragment"
    }
   },
   "source": [
    "**Exercise** Assign to `decimal` the *integer* value represented by the binary sequence `b7,b6,b5,b4,b3,b2,b1,b0` of *characters* `'0'` or `'1'`."
   ]
  },
  {
   "cell_type": "code",
   "execution_count": null,
   "metadata": {
    "ExecuteTime": {
     "end_time": "2021-03-20T14:25:34.448688Z",
     "start_time": "2021-03-20T14:25:34.444753Z"
    },
    "deletable": false,
    "nbgrader": {
     "cell_type": "code",
     "checksum": "9e002976b002de6304164af3ad806f43",
     "grade": false,
     "grade_id": "byte_to_decimal",
     "locked": false,
     "schema_version": 3,
     "solution": true,
     "task": false
    },
    "slideshow": {
     "slide_type": "fragment"
    },
    "tags": [
     "remove-output"
    ]
   },
   "outputs": [],
   "source": [
    "def byte_to_decimal(b7, b6, b5, b4, b3, b2, b1, b0):\n",
    "    \"\"\"\n",
    "    Parameters:\n",
    "    -----------\n",
    "    b7, ..., b0 are single characters either '0' or '1'.\n",
    "    \"\"\"\n",
    "    # YOUR CODE HERE\n",
    "    raise NotImplementedError()\n",
    "    return decimal"
   ]
  },
  {
   "cell_type": "markdown",
   "metadata": {},
   "source": [
    "To test your code:"
   ]
  },
  {
   "cell_type": "code",
   "execution_count": null,
   "metadata": {
    "ExecuteTime": {
     "end_time": "2021-03-20T14:25:35.263188Z",
     "start_time": "2021-03-20T14:25:35.255348Z"
    },
    "code_folding": [],
    "deletable": false,
    "editable": false,
    "nbgrader": {
     "cell_type": "code",
     "checksum": "030e6a4746ee213dd7febd09db3d7680",
     "grade": true,
     "grade_id": "test-byte_to_decimal",
     "locked": true,
     "points": 1,
     "schema_version": 3,
     "solution": false,
     "task": false
    },
    "slideshow": {
     "slide_type": "fragment"
    },
    "tags": [
     "remove-output"
    ]
   },
   "outputs": [],
   "source": [
    "# tests\n",
    "def test_byte_to_decimal(decimal, b7, b6, b5, b4, b3, b2, b1, b0):\n",
    "    decimal_ = byte_to_decimal(b7, b6, b5, b4, b3, b2, b1, b0)\n",
    "    assert decimal == decimal_ and isinstance(decimal_, int)\n",
    "\n",
    "\n",
    "test_byte_to_decimal(38, '0', '0', '1', '0', '0', '1', '1', '0')\n",
    "test_byte_to_decimal(20, '0', '0', '0', '1', '0', '1', '0', '0')\n",
    "test_byte_to_decimal(22, '0', '0', '0', '1', '0', '1', '1', '0')"
   ]
  },
  {
   "cell_type": "code",
   "execution_count": null,
   "metadata": {
    "deletable": false,
    "editable": false,
    "nbgrader": {
     "cell_type": "code",
     "checksum": "368a00935ff0f11755434b00e27eeaff",
     "grade": true,
     "grade_id": "htest-byte_to_decimal",
     "locked": true,
     "points": 1,
     "schema_version": 3,
     "solution": false,
     "task": false
    },
    "tags": [
     "remove-cell"
    ]
   },
   "outputs": [],
   "source": [
    "# hidden tests"
   ]
  },
  {
   "cell_type": "markdown",
   "metadata": {},
   "source": [
    "To run the calculator:"
   ]
  },
  {
   "cell_type": "code",
   "execution_count": null,
   "metadata": {
    "ExecuteTime": {
     "end_time": "2021-03-20T14:25:36.463010Z",
     "start_time": "2021-03-20T14:25:36.3364Z"
    },
    "code_folding": [
     0
    ],
    "tags": [
     "remove-output"
    ]
   },
   "outputs": [],
   "source": [
    "# byte-to-decimal calculator\n",
    "bit = ['0', '1']\n",
    "\n",
    "\n",
    "@interact(b7=bit, b6=bit, b5=bit, b4=bit, b3=bit, b2=bit, b1=bit, b0=bit)\n",
    "def convert_byte_to_decimal(b7, b6, b5, b4, b3, b2, b1, b0):\n",
    "    print('decimal:', byte_to_decimal(b7, b6, b5, b4, b3, b2, b1, b0))"
   ]
  },
  {
   "cell_type": "markdown",
   "metadata": {
    "slideshow": {
     "slide_type": "subslide"
    }
   },
   "source": [
    "### Decimal-to-Byte calculator"
   ]
  },
  {
   "cell_type": "markdown",
   "metadata": {
    "slideshow": {
     "slide_type": "-"
    }
   },
   "source": [
    "![decimal-to-byte](images/decimal-to-byte.dio.svg)"
   ]
  },
  {
   "cell_type": "markdown",
   "metadata": {
    "slideshow": {
     "slide_type": "subslide"
    }
   },
   "source": [
    "**Exercise** Assign to `byte` a *string of 8 bits* that represents the value of `decimal`, a non-negative decimal integer from $0$ to $2^8-1=255$.  \n",
    "*Hint: Use `//` and `%`.*"
   ]
  },
  {
   "cell_type": "code",
   "execution_count": null,
   "metadata": {
    "ExecuteTime": {
     "end_time": "2021-03-20T14:25:40.354594Z",
     "start_time": "2021-03-20T14:25:40.350920Z"
    },
    "deletable": false,
    "nbgrader": {
     "cell_type": "code",
     "checksum": "9de8a3c79ad6c5af5db8a55ce33675e4",
     "grade": false,
     "grade_id": "decimal_to_byte",
     "locked": false,
     "schema_version": 3,
     "solution": true,
     "task": false
    },
    "slideshow": {
     "slide_type": "-"
    },
    "tags": [
     "remove-output"
    ]
   },
   "outputs": [],
   "source": [
    "def decimal_to_byte(decimal):\n",
    "    # YOUR CODE HERE\n",
    "    raise NotImplementedError()\n",
    "    return byte"
   ]
  },
  {
   "cell_type": "markdown",
   "metadata": {},
   "source": [
    "To test your code:"
   ]
  },
  {
   "cell_type": "code",
   "execution_count": null,
   "metadata": {
    "ExecuteTime": {
     "end_time": "2021-03-20T14:25:40.931633Z",
     "start_time": "2021-03-20T14:25:40.925528Z"
    },
    "code_folding": [],
    "deletable": false,
    "editable": false,
    "nbgrader": {
     "cell_type": "code",
     "checksum": "216c2407ac5231bc82b9d61a1ec8a628",
     "grade": true,
     "grade_id": "test-decimal_to_byte",
     "locked": true,
     "points": 1,
     "schema_version": 3,
     "solution": false,
     "task": false
    },
    "slideshow": {
     "slide_type": "fragment"
    },
    "tags": [
     "remove-output"
    ]
   },
   "outputs": [],
   "source": [
    "# tests\n",
    "def test_decimal_to_byte(byte,decimal):\n",
    "    byte_ = decimal_to_byte(decimal)\n",
    "    assert byte == byte_ and isinstance(byte, str) and len(byte) == 8\n",
    "\n",
    "\n",
    "test_decimal_to_byte('01100111', 103)\n",
    "test_decimal_to_byte('00000011', 3)\n",
    "test_decimal_to_byte('00011100', 28)"
   ]
  },
  {
   "cell_type": "code",
   "execution_count": null,
   "metadata": {
    "deletable": false,
    "editable": false,
    "nbgrader": {
     "cell_type": "code",
     "checksum": "7f8a949776449868af9155c44585aa19",
     "grade": true,
     "grade_id": "htest-decimal_to_byte",
     "locked": true,
     "points": 1,
     "schema_version": 3,
     "solution": false,
     "task": false
    },
    "tags": [
     "remove-cell"
    ]
   },
   "outputs": [],
   "source": [
    "# hidden tests"
   ]
  },
  {
   "cell_type": "markdown",
   "metadata": {},
   "source": [
    "To run the calculator:"
   ]
  },
  {
   "cell_type": "code",
   "execution_count": null,
   "metadata": {
    "ExecuteTime": {
     "end_time": "2021-03-20T14:25:41.519031Z",
     "start_time": "2021-03-20T14:25:41.500298Z"
    },
    "code_folding": [
     0
    ],
    "slideshow": {
     "slide_type": "fragment"
    },
    "tags": [
     "remove-output"
    ]
   },
   "outputs": [],
   "source": [
    "# decimal-to-byte calculator\n",
    "@interact(decimal=(0,255,1))\n",
    "def convert_decimal_to_byte(decimal=0):\n",
    "    print('byte:', decimal_to_byte(decimal))"
   ]
  },
  {
   "cell_type": "markdown",
   "metadata": {
    "tags": []
   },
   "source": [
    "## Symbolic calculator (optional)"
   ]
  },
  {
   "cell_type": "markdown",
   "metadata": {},
   "source": [
    "Can we do complicated arithmetics with Python. What about Calculus?  "
   ]
  },
  {
   "cell_type": "markdown",
   "metadata": {},
   "source": [
    "$$\n",
    "\\int \\tan(x)\\, dx = \\color{red}{?}\n",
    "$$"
   ]
  },
  {
   "cell_type": "markdown",
   "metadata": {},
   "source": [
    "Solution: <https://gamma.sympy.org/input/?i=integrate(tan(x))>"
   ]
  },
  {
   "cell_type": "markdown",
   "metadata": {},
   "source": [
    "---\n",
    "\n",
    "**Tip**\n",
    "\n",
    "- Take a look at the different panels to learn about the solution: `Steps`, `Plot`, and `Derivative`.\n",
    "- Try different [random examples](https://gamma.sympy.org/).\n",
    "\n",
    "---"
   ]
  },
  {
   "cell_type": "markdown",
   "metadata": {},
   "source": [
    "**How does SymPy Gamma work?**"
   ]
  },
  {
   "cell_type": "markdown",
   "metadata": {},
   "source": [
    "[SymPy Gamma](https://gamma.sympy.org/) is a web application running [SymPy](https://docs.sympy.org/latest/index.html), which is a python library for symbolic computation."
   ]
  },
  {
   "cell_type": "markdown",
   "metadata": {},
   "source": [
    "**How to use SymPy?**"
   ]
  },
  {
   "cell_type": "markdown",
   "metadata": {},
   "source": [
    "To import the library:"
   ]
  },
  {
   "cell_type": "code",
   "execution_count": null,
   "metadata": {},
   "outputs": [],
   "source": [
    "import sympy as sp"
   ]
  },
  {
   "cell_type": "markdown",
   "metadata": {},
   "source": [
    "We need to define a symbolic variable and assign it to a python variable."
   ]
  },
  {
   "cell_type": "code",
   "execution_count": null,
   "metadata": {},
   "outputs": [],
   "source": [
    "x = sp.symbols('x')\n",
    "x"
   ]
  },
  {
   "cell_type": "markdown",
   "metadata": {},
   "source": [
    "The SymPy expression for $\\tan(x)$ is:"
   ]
  },
  {
   "cell_type": "code",
   "execution_count": null,
   "metadata": {},
   "outputs": [],
   "source": [
    "f = sp.tan(x)\n",
    "f"
   ]
  },
  {
   "cell_type": "markdown",
   "metadata": {},
   "source": [
    "To compute the integration:"
   ]
  },
  {
   "cell_type": "code",
   "execution_count": null,
   "metadata": {},
   "outputs": [],
   "source": [
    "int_f = sp.integrate(f)\n",
    "int_f"
   ]
  },
  {
   "cell_type": "markdown",
   "metadata": {},
   "source": [
    "To compute the derivative:"
   ]
  },
  {
   "cell_type": "code",
   "execution_count": null,
   "metadata": {},
   "outputs": [],
   "source": [
    "diff_int_f = sp.diff(int_f)\n",
    "diff_int_f"
   ]
  },
  {
   "cell_type": "markdown",
   "metadata": {},
   "source": [
    "The answer can be simplified as expected:"
   ]
  },
  {
   "cell_type": "code",
   "execution_count": null,
   "metadata": {},
   "outputs": [],
   "source": [
    "diff_int_f.simplify()"
   ]
  },
  {
   "cell_type": "markdown",
   "metadata": {},
   "source": [
    "To plot:"
   ]
  },
  {
   "cell_type": "code",
   "execution_count": null,
   "metadata": {},
   "outputs": [],
   "source": [
    "p = sp.plot(f, int_f, (x, -sp.pi/4, sp.pi/4))"
   ]
  },
  {
   "cell_type": "markdown",
   "metadata": {},
   "source": [
    "**Exercise**\n",
    "\n",
    "Try to compute the following in SymPy and in jupyter notebook:\n",
    "\n",
    "- $\\frac{d}{dx} x^x$\n",
    "- $\\frac{d}{dx} \\frac{1}{\\sqrt{1 - x^2}}$."
   ]
  },
  {
   "cell_type": "markdown",
   "metadata": {},
   "source": [
    "---\n",
    "\n",
    "**Hint**\n",
    "\n",
    "Use `sp.sqrt` or `**(sp.S(1)/2)` for square root instead of `**0.5`. See [SymPy gotchas](https://docs.sympy.org/latest/gotchas.html).\n",
    "\n",
    "---"
   ]
  }
 ],
 "metadata": {
  "kernelspec": {
   "display_name": "Python 3 (ipykernel)",
   "language": "python",
   "name": "python3"
  },
  "language_info": {
   "codemirror_mode": {
    "name": "ipython",
    "version": 3
   },
   "file_extension": ".py",
   "mimetype": "text/x-python",
   "name": "python",
   "nbconvert_exporter": "python",
   "pygments_lexer": "ipython3",
   "version": "3.8.8"
  },
  "latex_envs": {
   "LaTeX_envs_menu_present": true,
   "autoclose": false,
   "autocomplete": true,
   "bibliofile": "biblio.bib",
   "cite_by": "apalike",
   "current_citInitial": 1,
   "eqLabelWithNumbers": true,
   "eqNumInitial": 1,
   "hotkeys": {
    "equation": "Ctrl-E",
    "itemize": "Ctrl-I"
   },
   "labels_anchors": false,
   "latex_user_defs": false,
   "report_style_numbering": false,
   "user_envs_cfg": false
  },
  "rise": {
   "enable_chalkboard": true,
   "scroll": true,
   "theme": "white"
  },
  "toc": {
   "base_numbering": 1,
   "nav_menu": {
    "height": "195px",
    "width": "330px"
   },
   "number_sections": true,
   "sideBar": true,
   "skip_h1_title": true,
   "title_cell": "Table of Contents",
   "title_sidebar": "Contents",
   "toc_cell": false,
   "toc_position": {
    "height": "454.418px",
    "left": "1533px",
    "top": "110.284px",
    "width": "435.327px"
   },
   "toc_section_display": true,
   "toc_window_display": false
  },
  "widgets": {
   "application/vnd.jupyter.widget-state+json": {
    "state": {},
    "version_major": 2,
    "version_minor": 0
   }
  }
 },
 "nbformat": 4,
 "nbformat_minor": 4
}
