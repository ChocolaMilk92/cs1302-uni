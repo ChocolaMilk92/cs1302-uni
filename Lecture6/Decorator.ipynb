{
 "cells": [
  {
   "cell_type": "markdown",
   "metadata": {
    "cell_style": "center",
    "slideshow": {
     "slide_type": "slide"
    }
   },
   "source": [
    "# Decorator"
   ]
  },
  {
   "cell_type": "markdown",
   "metadata": {
    "slideshow": {
     "slide_type": "-"
    },
    "tags": [
     "remove-cell"
    ]
   },
   "source": [
    "**CS1302 Introduction to Computer Programming**\n",
    "___"
   ]
  },
  {
   "cell_type": "code",
   "execution_count": null,
   "metadata": {
    "ExecuteTime": {
     "end_time": "2020-11-27T11:20:04.656873Z",
     "start_time": "2020-11-27T11:20:04.651575Z"
    },
    "slideshow": {
     "slide_type": "fragment"
    },
    "tags": [
     "remove-cell"
    ]
   },
   "outputs": [],
   "source": [
    "%reload_ext mytutor"
   ]
  },
  {
   "cell_type": "markdown",
   "metadata": {
    "slideshow": {
     "slide_type": "slide"
    }
   },
   "source": [
    "## Optional Arguments"
   ]
  },
  {
   "cell_type": "markdown",
   "metadata": {},
   "source": [
    "Recall the generator for Fibonacci numbers:"
   ]
  },
  {
   "cell_type": "code",
   "execution_count": null,
   "metadata": {},
   "outputs": [],
   "source": [
    "%%mytutor -h 450\n",
    "def fibonacci_sequence(Fn, Fnn, stop):\n",
    "    \"\"\"Return a generator that generates Fibonacci numbers\n",
    "    starting from Fn and Fnn until stop (exclusive).\"\"\"\n",
    "    while Fn < stop:\n",
    "        yield Fn  # return Fn and pause execution\n",
    "        Fn, Fnn = Fnn, Fnn + Fn\n",
    "\n",
    "\n",
    "for fib in fibonacci_sequence(0, 1, 5):\n",
    "    print(fib)"
   ]
  },
  {
   "cell_type": "markdown",
   "metadata": {
    "slideshow": {
     "slide_type": "fragment"
    }
   },
   "source": [
    "Fibonacci sequence normally starts with `0` and `1` by default. Is it possible to make arguments `Fn` and `Fnn` optional?"
   ]
  },
  {
   "cell_type": "markdown",
   "metadata": {
    "slideshow": {
     "slide_type": "fragment"
    }
   },
   "source": [
    "**How to give arguments default values?**"
   ]
  },
  {
   "cell_type": "code",
   "execution_count": null,
   "metadata": {
    "ExecuteTime": {
     "end_time": "2020-10-31T02:43:58.713936Z",
     "start_time": "2020-10-31T02:43:58.708189Z"
    },
    "slideshow": {
     "slide_type": "fragment"
    }
   },
   "outputs": [],
   "source": [
    "def fibonacci_sequence(Fn=0, Fnn=1, stop=None):\n",
    "    while stop is None or Fn < stop:\n",
    "        value = yield Fn\n",
    "        Fn, Fnn = Fnn, Fnn + Fn"
   ]
  },
  {
   "cell_type": "markdown",
   "metadata": {},
   "source": [
    "Arguments with default values specified by `=...` are called [default arguments](https://docs.python.org/3/tutorial/controlflow.html#default-argument-values). They are optional in the function call:"
   ]
  },
  {
   "cell_type": "code",
   "execution_count": null,
   "metadata": {
    "ExecuteTime": {
     "end_time": "2020-10-31T02:43:58.738329Z",
     "start_time": "2020-10-31T02:43:58.728501Z"
    },
    "slideshow": {
     "slide_type": "-"
    }
   },
   "outputs": [],
   "source": [
    "for fib in fibonacci_sequence(stop=5):\n",
    "    print(fib)  # with default Fn=0, Fnn=1"
   ]
  },
  {
   "cell_type": "markdown",
   "metadata": {
    "slideshow": {
     "slide_type": "fragment"
    }
   },
   "source": [
    "`stop=5` in the function call is called a [keyword argument](https://docs.python.org/3/glossary.html#term-keyword-argument). As supposed to [*positional arguments*](https://docs.python.org/3/glossary.html#term-argument), it specifies the name of the argument explicitly."
   ]
  },
  {
   "cell_type": "markdown",
   "metadata": {
    "slideshow": {
     "slide_type": "fragment"
    }
   },
   "source": [
    "**Exercise** Is `fibonacci_sequence(stop=5)` the same as `fibonacci_sequence(5)`? In particular, what is the behavior of the following code?"
   ]
  },
  {
   "cell_type": "code",
   "execution_count": null,
   "metadata": {
    "ExecuteTime": {
     "end_time": "2020-10-31T02:43:59.297944Z",
     "start_time": "2020-10-31T02:43:59.292358Z"
    },
    "slideshow": {
     "slide_type": "-"
    }
   },
   "outputs": [],
   "source": [
    "for fib in fibonacci_sequence(5):\n",
    "    print(fib)\n",
    "    if fib > 10:  \n",
    "        break  # Will this be executed?"
   ]
  },
  {
   "cell_type": "markdown",
   "metadata": {
    "deletable": false,
    "nbgrader": {
     "cell_type": "markdown",
     "checksum": "a090f88c9eb74ece1027e9d598d81560",
     "grade": true,
     "grade_id": "stop",
     "locked": false,
     "points": 0,
     "schema_version": 3,
     "solution": true,
     "task": false
    },
    "slideshow": {
     "slide_type": "-"
    }
   },
   "source": [
    "YOUR ANSWER HERE"
   ]
  },
  {
   "cell_type": "markdown",
   "metadata": {
    "slideshow": {
     "slide_type": "subslide"
    }
   },
   "source": [
    "Rules for specifying arguments:  \n",
    "1. Default (Keyword) arguments must be after all non-default (positional) arguments in a function definition (call).\n",
    "1. The value for an argument can not be specified more than once in a function definition (call)."
   ]
  },
  {
   "cell_type": "markdown",
   "metadata": {
    "slideshow": {
     "slide_type": "fragment"
    }
   },
   "source": [
    "E.g., the following results in an error:"
   ]
  },
  {
   "cell_type": "code",
   "execution_count": null,
   "metadata": {
    "ExecuteTime": {
     "end_time": "2020-10-31T02:44:00.150820Z",
     "start_time": "2020-10-31T02:44:00.144212Z"
    },
    "slideshow": {
     "slide_type": "-"
    }
   },
   "outputs": [],
   "source": [
    "fibonacci_sequence(stop=10, 1)"
   ]
  },
  {
   "cell_type": "code",
   "execution_count": null,
   "metadata": {
    "ExecuteTime": {
     "end_time": "2020-10-31T02:44:00.153925Z",
     "start_time": "2020-10-31T02:44:00.040Z"
    },
    "slideshow": {
     "slide_type": "-"
    }
   },
   "outputs": [],
   "source": [
    "fibonacci_sequence(1, Fn=1)"
   ]
  },
  {
   "cell_type": "markdown",
   "metadata": {
    "slideshow": {
     "slide_type": "subslide"
    }
   },
   "source": [
    "The following shows that the behavior of `range` is different."
   ]
  },
  {
   "cell_type": "code",
   "execution_count": null,
   "metadata": {
    "ExecuteTime": {
     "end_time": "2020-10-31T02:44:00.435983Z",
     "start_time": "2020-10-31T02:44:00.423137Z"
    },
    "slideshow": {
     "slide_type": "fragment"
    }
   },
   "outputs": [],
   "source": [
    "for count in range(1, 10, 2):\n",
    "    print(count, end=\" \")  # counts from 1 to 10 in steps of 2\n",
    "print()\n",
    "for count in range(1, 10):\n",
    "    print(count, end=\" \")  # default step=1\n",
    "print()\n",
    "for count in range(10):\n",
    "    print(count, end=\" \")  # default start=0, step=1\n",
    "range(stop=10)  # fails"
   ]
  },
  {
   "cell_type": "markdown",
   "metadata": {
    "slideshow": {
     "slide_type": "fragment"
    }
   },
   "source": [
    "`range` takes only positional arguments.  \n",
    "However, the first positional argument has different intepretations (`start` or `stop`) depending on the number of arguments (2 or 1)."
   ]
  },
  {
   "cell_type": "markdown",
   "metadata": {
    "slideshow": {
     "slide_type": "fragment"
    }
   },
   "source": [
    "`range` is indeed NOT a generator."
   ]
  },
  {
   "cell_type": "code",
   "execution_count": null,
   "metadata": {
    "ExecuteTime": {
     "end_time": "2020-10-31T02:44:00.927005Z",
     "start_time": "2020-10-31T02:44:00.921731Z"
    },
    "jupyter": {
     "outputs_hidden": true
    },
    "slideshow": {
     "slide_type": "fragment"
    }
   },
   "outputs": [],
   "source": [
    "print(type(range), type(range(10)))"
   ]
  },
  {
   "cell_type": "markdown",
   "metadata": {
    "slideshow": {
     "slide_type": "fragment"
    },
    "tags": []
   },
   "source": [
    "**How is range implemented?**"
   ]
  },
  {
   "cell_type": "markdown",
   "metadata": {
    "slideshow": {
     "slide_type": "subslide"
    }
   },
   "source": [
    "## Variable number of arguments"
   ]
  },
  {
   "cell_type": "markdown",
   "metadata": {
    "slideshow": {
     "slide_type": "fragment"
    }
   },
   "source": [
    "[The implementation of range](https://github.com/python/cpython/blob/6afb285ff0790471a6858e44f85d143f07fda70c/Objects/rangeobject.c#L82-L123) uses a [variable number of arguments](https://docs.python.org/3.4/tutorial/controlflow.html#arbitrary-argument-lists)."
   ]
  },
  {
   "cell_type": "code",
   "execution_count": null,
   "metadata": {
    "ExecuteTime": {
     "end_time": "2020-10-31T02:44:01.642620Z",
     "start_time": "2020-10-31T02:44:01.634575Z"
    },
    "slideshow": {
     "slide_type": "fragment"
    }
   },
   "outputs": [],
   "source": [
    "def print_arguments(*args, **kwargs):\n",
    "    \"\"\"Take any number of arguments and prints them\"\"\"\n",
    "    print(\"args ({}): {}\".format(type(args), args))\n",
    "    print(\"kwargs ({}): {}\".format(type(kwargs), kwargs))\n",
    "\n",
    "\n",
    "print_arguments(0, 10, 2, start=1, stop=2)"
   ]
  },
  {
   "cell_type": "markdown",
   "metadata": {
    "slideshow": {
     "slide_type": "fragment"
    }
   },
   "source": [
    "- `args` is a tuple of positional arguments.\n",
    "- `kwargs` is a dictionary of keyword arguments."
   ]
  },
  {
   "cell_type": "markdown",
   "metadata": {
    "slideshow": {
     "slide_type": "fragment"
    }
   },
   "source": [
    "`*` and `**` are *unpacking operators* for tuple/list and dictionary respectively:"
   ]
  },
  {
   "cell_type": "code",
   "execution_count": null,
   "metadata": {
    "ExecuteTime": {
     "end_time": "2020-10-31T02:44:02.336627Z",
     "start_time": "2020-10-31T02:44:02.332934Z"
    },
    "slideshow": {
     "slide_type": "fragment"
    }
   },
   "outputs": [],
   "source": [
    "args = (0, 10, 2)\n",
    "kwargs = {\"start\": 1, \"stop\": 2}\n",
    "print_arguments(*args, **kwargs)"
   ]
  },
  {
   "cell_type": "markdown",
   "metadata": {},
   "source": [
    "The following function converts all the arguments to a string.  \n",
    "It will be useful later on."
   ]
  },
  {
   "cell_type": "code",
   "execution_count": null,
   "metadata": {
    "ExecuteTime": {
     "end_time": "2020-10-31T02:44:02.594868Z",
     "start_time": "2020-10-31T02:44:02.584464Z"
    },
    "slideshow": {
     "slide_type": "fragment"
    }
   },
   "outputs": [],
   "source": [
    "def argument_string(*args, **kwargs):\n",
    "    \"\"\"Return the string representation of the list of arguments.\"\"\"\n",
    "    return \"({})\".format(\n",
    "        \", \".join(\n",
    "            [\n",
    "                *[\"{!r}\".format(v) for v in args],  # arguments\n",
    "                *[\n",
    "                    \"{}={!r}\".format(k, v) for k, v in kwargs.items()\n",
    "                ],  # keyword arguments\n",
    "            ]\n",
    "        )\n",
    "    )\n",
    "\n",
    "\n",
    "argument_string(0, 10, 2, start=1, stop=2)"
   ]
  },
  {
   "cell_type": "markdown",
   "metadata": {},
   "source": [
    "**Exercise** Why use `\"{!r}\".format(v)` to format the argument?\n",
    "\n",
    "*Hint:* See [token conversion](https://docs.python.org/3/reference/lexical_analysis.html#grammar-token-conversion) and the following code:"
   ]
  },
  {
   "cell_type": "code",
   "execution_count": null,
   "metadata": {},
   "outputs": [],
   "source": [
    "v = 'a'\n",
    "\"{!r}\".format(v), repr(v)"
   ]
  },
  {
   "cell_type": "markdown",
   "metadata": {
    "deletable": false,
    "nbgrader": {
     "cell_type": "markdown",
     "checksum": "aba7c64da3d15dbece2210477e831036",
     "grade": true,
     "grade_id": "repr",
     "locked": false,
     "points": 0,
     "schema_version": 3,
     "solution": true,
     "task": false
    }
   },
   "source": [
    "YOUR ANSWER HERE"
   ]
  },
  {
   "cell_type": "markdown",
   "metadata": {
    "slideshow": {
     "slide_type": "subslide"
    }
   },
   "source": [
    "**Exercise** Redefine `fibonacci_sequence` so that the positional arguments depend on the number of arguments:"
   ]
  },
  {
   "cell_type": "code",
   "execution_count": null,
   "metadata": {
    "ExecuteTime": {
     "end_time": "2020-10-31T02:44:02.842063Z",
     "start_time": "2020-10-31T02:44:02.826424Z"
    },
    "code_folding": [
     19
    ],
    "deletable": false,
    "nbgrader": {
     "cell_type": "code",
     "checksum": "3e8ca4edd431d92703b684f53b0b5c15",
     "grade": false,
     "grade_id": "optional",
     "locked": false,
     "schema_version": 3,
     "solution": true,
     "task": false
    },
    "slideshow": {
     "slide_type": "-"
    },
    "tags": [
     "remove-output"
    ]
   },
   "outputs": [],
   "source": [
    "def fibonacci_sequence(*args):\n",
    "    \"\"\"Return a generator that generates Fibonacci numbers\n",
    "    starting from Fn and Fnn to stop (exclusive).\n",
    "    generator.send(value) sets next number to value.\n",
    "\n",
    "    fibonacci_sequence(stop)\n",
    "    fibonacci_sequence(Fn,Fnn)\n",
    "    fibonacci_sequence(Fn,Fnn,stop)\n",
    "    \"\"\"\n",
    "    Fn, Fnn, stop = 0, 1, None  # default values\n",
    "\n",
    "    # handle different number of arguments\n",
    "    if len(args) == 1:\n",
    "        # YOUR CODE HERE\n",
    "        raise NotImplementedError()\n",
    "    elif len(args) == 2:\n",
    "        Fn, Fnn = args[0], args[1]\n",
    "    elif len(args) > 2:\n",
    "        Fn, Fnn, stop = args[0], args[1], args[2]\n",
    "\n",
    "    while stop is None or Fn < stop:\n",
    "        value = yield Fn\n",
    "        if value is not None:\n",
    "            Fnn = value  # set next number to the value of yield expression\n",
    "        Fn, Fnn = Fnn, Fnn + Fn"
   ]
  },
  {
   "cell_type": "code",
   "execution_count": null,
   "metadata": {
    "ExecuteTime": {
     "end_time": "2020-10-31T02:44:02.849615Z",
     "start_time": "2020-10-31T02:44:02.843656Z"
    },
    "slideshow": {
     "slide_type": "fragment"
    }
   },
   "outputs": [],
   "source": [
    "for fib in fibonacci_sequence(5):  # default Fn=0, Fn=1\n",
    "    print(fib)"
   ]
  },
  {
   "cell_type": "code",
   "execution_count": null,
   "metadata": {
    "ExecuteTime": {
     "end_time": "2020-10-31T02:44:02.860976Z",
     "start_time": "2020-10-31T02:44:02.851994Z"
    },
    "slideshow": {
     "slide_type": "fragment"
    }
   },
   "outputs": [],
   "source": [
    "for fib in fibonacci_sequence(1, 2):  # default stop=None\n",
    "    print(fib)\n",
    "    if fib > 5:\n",
    "        break"
   ]
  },
  {
   "cell_type": "code",
   "execution_count": null,
   "metadata": {
    "ExecuteTime": {
     "end_time": "2020-10-31T02:44:02.872022Z",
     "start_time": "2020-10-31T02:44:02.862892Z"
    },
    "slideshow": {
     "slide_type": "fragment"
    }
   },
   "outputs": [],
   "source": [
    "args = (1, 2, 5)\n",
    "for fib in fibonacci_sequence(*args):  # default stop=None\n",
    "    print(fib)"
   ]
  },
  {
   "cell_type": "markdown",
   "metadata": {
    "slideshow": {
     "slide_type": "slide"
    }
   },
   "source": [
    "## Decorator"
   ]
  },
  {
   "cell_type": "markdown",
   "metadata": {
    "slideshow": {
     "slide_type": "subslide"
    }
   },
   "source": [
    "**What is function decoration?**  \n",
    "**Why decorate a function?**"
   ]
  },
  {
   "cell_type": "code",
   "execution_count": null,
   "metadata": {
    "ExecuteTime": {
     "end_time": "2020-10-31T02:44:03.368911Z",
     "start_time": "2020-10-31T02:44:03.348824Z"
    },
    "slideshow": {
     "slide_type": "-"
    },
    "tags": []
   },
   "outputs": [],
   "source": [
    "def fibonacci(n):\n",
    "    \"\"\"Returns the Fibonacci number of order n.\"\"\"\n",
    "    global count, depth\n",
    "    count += 1\n",
    "    depth += 1\n",
    "    print(\"{:>3}: {}fibonacci({!r})\".format(count, \"|\" * depth, n))\n",
    "\n",
    "    value = fibonacci(n - 1) + fibonacci(n - 2) if n > 1 else 1 if n == 1 else 0\n",
    "\n",
    "    depth -= 1\n",
    "    if depth == -1:  # recursion done\n",
    "        print(\"Done\")\n",
    "        count = 0  # reset count for subsequent recursions\n",
    "    return value\n",
    "\n",
    "\n",
    "count, depth = 0, -1\n",
    "for n in range(6):\n",
    "    print(fibonacci(n))"
   ]
  },
  {
   "cell_type": "markdown",
   "metadata": {
    "slideshow": {
     "slide_type": "fragment"
    }
   },
   "source": [
    "The code decorates the `fibonacci` function by printing each recursive call and the depth of the call stack.  \n",
    "The decoration is useful in showing the efficiency of the function, but it rewrites the function definition."
   ]
  },
  {
   "cell_type": "markdown",
   "metadata": {
    "slideshow": {
     "slide_type": "subslide"
    }
   },
   "source": [
    "**How to decorate a function without changing its code?**"
   ]
  },
  {
   "cell_type": "markdown",
   "metadata": {
    "slideshow": {
     "slide_type": "fragment"
    }
   },
   "source": [
    "- What if the decorations are temporary and should be removed later?  \n",
    "- Go through the source codes of all decorated functions to remove the decorations?  \n",
    "- When updating a piece of code, switch back and forth between original and decorated codes?"
   ]
  },
  {
   "cell_type": "markdown",
   "metadata": {
    "slideshow": {
     "slide_type": "subslide"
    }
   },
   "source": [
    "What about defining a new function that calls and decorates the original function?"
   ]
  },
  {
   "cell_type": "code",
   "execution_count": null,
   "metadata": {
    "ExecuteTime": {
     "end_time": "2020-10-31T02:44:04.465212Z",
     "start_time": "2020-10-31T02:44:04.456584Z"
    },
    "code_folding": [
     0
    ],
    "slideshow": {
     "slide_type": "fragment"
    }
   },
   "outputs": [],
   "source": [
    "def fibonacci(n):\n",
    "    \"\"\"Returns the Fibonacci number of order n.\"\"\"\n",
    "    return fibonacci(n - 1) + fibonacci(n - 2) if n > 1 else 1 if n == 1 else 0\n",
    "\n",
    "\n",
    "def fibonacci_decorated(n):\n",
    "    \"\"\"Returns the Fibonacci number of order n.\"\"\"\n",
    "    global count, depth\n",
    "    count += 1\n",
    "    depth += 1\n",
    "    print(\"{:>3}: {}fibonacci({!r})\".format(count, \"|\" * depth, n))\n",
    "\n",
    "    value = fibonacci(n)\n",
    "\n",
    "    depth -= 1\n",
    "    if depth == -1:  # recursion done\n",
    "        print(\"Done\")\n",
    "        count = 0  # reset count for subsequent recursions\n",
    "    return value\n",
    "\n",
    "\n",
    "count, depth = 0, -1\n",
    "for n in range(6):\n",
    "    print(fibonacci_decorated(n))"
   ]
  },
  {
   "cell_type": "markdown",
   "metadata": {
    "slideshow": {
     "slide_type": "fragment"
    }
   },
   "source": [
    "We want `fibonacci` to call `fibonacci_decorated` instead.  \n",
    "What about renaming `fibonacci_decorated` to `fibonacci`?\n",
    "\n",
    "```Python\n",
    "fibonacci = fibonacci_decorated\n",
    "count, depth = 0, -1\n",
    "fibonacci_decorated(10)\n",
    "```\n",
    "\n",
    "(If you are faint-hearted, don't run the above code.)"
   ]
  },
  {
   "cell_type": "markdown",
   "metadata": {
    "slideshow": {
     "slide_type": "fragment"
    }
   },
   "source": [
    "We want `fibonacci_decorated` to call the original `fibonacci`."
   ]
  },
  {
   "cell_type": "markdown",
   "metadata": {
    "slideshow": {
     "slide_type": "subslide"
    }
   },
   "source": [
    "The solution is to capture the original `fibonacci` in a closure:"
   ]
  },
  {
   "cell_type": "code",
   "execution_count": null,
   "metadata": {
    "ExecuteTime": {
     "end_time": "2020-10-31T02:44:05.067305Z",
     "start_time": "2020-10-31T02:44:05.056730Z"
    },
    "code_folding": [],
    "slideshow": {
     "slide_type": "fragment"
    },
    "tags": []
   },
   "outputs": [],
   "source": [
    "import functools\n",
    "\n",
    "\n",
    "def print_function_call(f):\n",
    "    \"\"\"Decorate a recursive function to print the call stack.\n",
    "\n",
    "    The decorator also keep tracks of the number and depth of a recursive call to print the call stack.\n",
    "\n",
    "    Parameters\n",
    "    ----------\n",
    "    f: Calla76ble\n",
    "        A recursive function.\n",
    "\n",
    "    Returns\n",
    "    -------\n",
    "    Callable:j\n",
    "        The decorated function that also prints the function call\n",
    "        when called.\n",
    "    \"\"\"\n",
    "\n",
    "    @functools.wraps(f)  # give wrapper the identity of f and more\n",
    "    def wrapper(*args, **kwargs):\n",
    "        nonlocal count, depth\n",
    "        count += 1\n",
    "        depth += 1\n",
    "        call = \"{}{}\".format(f.__name__, argument_string(*args, **kwargs))\n",
    "        print(\"{:>3}:{}{}\".format(count, \"|\" * depth, call))\n",
    "\n",
    "        value = f(*args, **kwargs)  # calls f\n",
    "\n",
    "        depth -= 1\n",
    "        if depth == -1:\n",
    "            print(\"Done\")\n",
    "            count = 0\n",
    "        return value\n",
    "\n",
    "    count, depth = 0, -1\n",
    "    return wrapper  # return the decorated function"
   ]
  },
  {
   "cell_type": "markdown",
   "metadata": {
    "slideshow": {
     "slide_type": "fragment"
    }
   },
   "source": [
    "`print_function_call` takes in `f` and returns `wrapper`, which captures and decorates `f`:\n",
    "- `wrapper` expects the same set of arguments for `f`,  \n",
    "- returns the same value returned by `f` on the arguments, but\n",
    "- can execute additional codes before and after calling `f` to print the function call."
   ]
  },
  {
   "cell_type": "markdown",
   "metadata": {
    "slideshow": {
     "slide_type": "fragment"
    }
   },
   "source": [
    "By redefining `fibonacci` as the returned `wrapper`, the original `fibonacci` captured by `wrapper` calls `wrapper` as desired."
   ]
  },
  {
   "cell_type": "code",
   "execution_count": null,
   "metadata": {
    "ExecuteTime": {
     "end_time": "2020-10-31T02:44:05.613215Z",
     "start_time": "2020-10-31T02:44:05.603533Z"
    },
    "code_folding": []
   },
   "outputs": [],
   "source": [
    "def fibonacci(n):\n",
    "    return fibonacci(n - 1) + fibonacci(n - 2) if n > 1 else 1 if n == 1 else 0\n",
    "\n",
    "\n",
    "fibonacci = print_function_call(fibonacci)  # so original fibonnacci calls wrapper\n",
    "fibonacci(5)"
   ]
  },
  {
   "cell_type": "markdown",
   "metadata": {
    "slideshow": {
     "slide_type": "fragment"
    }
   },
   "source": [
    "The redefinition does not change the original `fibonacci` captured by `wrapper`."
   ]
  },
  {
   "cell_type": "code",
   "execution_count": null,
   "metadata": {
    "ExecuteTime": {
     "end_time": "2020-10-31T02:44:05.865764Z",
     "start_time": "2020-10-31T02:44:05.857623Z"
    },
    "slideshow": {
     "slide_type": "fragment"
    }
   },
   "outputs": [],
   "source": [
    "import inspect\n",
    "\n",
    "for cell in fibonacci.__closure__:\n",
    "    if callable(cell.cell_contents):\n",
    "        print(inspect.getsource(cell.cell_contents))"
   ]
  },
  {
   "cell_type": "markdown",
   "metadata": {
    "slideshow": {
     "slide_type": "subslide"
    }
   },
   "source": [
    "Python provides the syntatic sugar below to simplify the redefinition."
   ]
  },
  {
   "cell_type": "code",
   "execution_count": null,
   "metadata": {
    "ExecuteTime": {
     "end_time": "2020-10-31T02:44:06.147287Z",
     "start_time": "2020-10-31T02:44:06.133616Z"
    },
    "code_folding": [],
    "slideshow": {
     "slide_type": "-"
    },
    "tags": []
   },
   "outputs": [],
   "source": [
    "@print_function_call\n",
    "def fibonacci(n):\n",
    "    return fibonacci(n - 1) + fibonacci(n - 2) if n > 1 else 1 if n == 1 else 0\n",
    "\n",
    "\n",
    "fibonacci(5)"
   ]
  },
  {
   "cell_type": "markdown",
   "metadata": {
    "slideshow": {
     "slide_type": "subslide"
    }
   },
   "source": [
    "There are many techniques used in the above decorator."
   ]
  },
  {
   "cell_type": "markdown",
   "metadata": {
    "slideshow": {
     "slide_type": "fragment"
    }
   },
   "source": [
    "**Why use a variable number of arguments in `wrapper`**"
   ]
  },
  {
   "cell_type": "markdown",
   "metadata": {
    "slideshow": {
     "slide_type": "fragment"
    }
   },
   "source": [
    "To decorate any function with possibly different number of arguments."
   ]
  },
  {
   "cell_type": "markdown",
   "metadata": {
    "slideshow": {
     "slide_type": "subslide"
    }
   },
   "source": [
    "**Why decorate the wrapper with `@functools.wraps(f)`?**"
   ]
  },
  {
   "cell_type": "markdown",
   "metadata": {
    "slideshow": {
     "slide_type": "fragment"
    }
   },
   "source": [
    "- Ensures some attributes (such as `__name__`) of the wrapper function is the same as those of `f`.\n",
    "- Add useful attributes. E.g., `__wrapped__` stores the original function so we can undo the decoration.\n"
   ]
  },
  {
   "cell_type": "code",
   "execution_count": null,
   "metadata": {
    "ExecuteTime": {
     "end_time": "2020-10-31T02:44:08.151683Z",
     "start_time": "2020-10-31T02:44:08.140353Z"
    },
    "slideshow": {
     "slide_type": "fragment"
    }
   },
   "outputs": [],
   "source": [
    "fibonacci, fibonacci_decorated = fibonacci.__wrapped__, fibonacci  # recover\n",
    "print(\"original fibonacci:\")\n",
    "print(fibonacci(5))\n",
    "\n",
    "fibonacci = fibonacci_decorated  # decorate\n",
    "print(\"decorated fibonacci:\")\n",
    "print(fibonacci(5))"
   ]
  },
  {
   "cell_type": "markdown",
   "metadata": {
    "slideshow": {
     "slide_type": "subslide"
    }
   },
   "source": [
    "**How to use decorator to improve recursion?**"
   ]
  },
  {
   "cell_type": "markdown",
   "metadata": {
    "slideshow": {
     "slide_type": "fragment"
    }
   },
   "source": [
    "We can also use a decorator to make recursion more efficient by caching the return values.  \n",
    "`cache` is a dictionary where `cache[n]` stores the computed value of $F_n$ to avoid redundant computations."
   ]
  },
  {
   "cell_type": "code",
   "execution_count": null,
   "metadata": {
    "ExecuteTime": {
     "end_time": "2020-10-31T02:44:08.641679Z",
     "start_time": "2020-10-31T02:44:08.632945Z"
    },
    "slideshow": {
     "slide_type": "fragment"
    },
    "tags": []
   },
   "outputs": [],
   "source": [
    "def caching(f):\n",
    "    \"\"\"Cache the return value of a function that takes a single argument.\n",
    "\n",
    "    Parameters\n",
    "    ----------\n",
    "    f: Callable\n",
    "        A function that takes a single argument.\n",
    "\n",
    "    Returns\n",
    "    -------\n",
    "    Callable:\n",
    "        The function same as f but has its return valued automatically cached\n",
    "        when called. It has a method clear_cache to clear its cache.\n",
    "    \"\"\"\n",
    "\n",
    "    @functools.wraps(f)\n",
    "    def wrapper(n):\n",
    "        if n not in cache:\n",
    "            cache[n] = f(n)\n",
    "        else:\n",
    "            print(\"read from cache\")\n",
    "        return cache[n]\n",
    "\n",
    "    cache = {}\n",
    "    wrapper.clear_cache = lambda: cache.clear()  # add method to clear cache\n",
    "    return wrapper\n",
    "\n",
    "\n",
    "@print_function_call\n",
    "@caching\n",
    "def fibonacci(n):\n",
    "    return fibonacci(n - 1) + fibonacci(n - 2) if n > 1 else 1 if n == 1 else 0"
   ]
  },
  {
   "cell_type": "code",
   "execution_count": null,
   "metadata": {
    "ExecuteTime": {
     "end_time": "2020-10-31T02:44:08.660463Z",
     "start_time": "2020-10-31T02:44:08.643793Z"
    },
    "slideshow": {
     "slide_type": "fragment"
    },
    "tags": []
   },
   "outputs": [],
   "source": [
    "fibonacci(5)\n",
    "fibonacci(5)\n",
    "fibonacci.clear_cache()\n",
    "fibonacci(5)"
   ]
  },
  {
   "cell_type": "markdown",
   "metadata": {
    "slideshow": {
     "slide_type": "fragment"
    }
   },
   "source": [
    "A method `clear_cache` is added to the wrapper to clear the cache.   \n",
    "`lambda <argument list> : <expression>`is called a [*lambda* expression](https://docs.python.org/3/reference/expressions.html#lambda), which conveniently defines an *anonymous function*."
   ]
  },
  {
   "cell_type": "code",
   "execution_count": null,
   "metadata": {
    "ExecuteTime": {
     "end_time": "2020-10-31T02:44:08.918456Z",
     "start_time": "2020-10-31T02:44:08.912645Z"
    },
    "slideshow": {
     "slide_type": "fragment"
    }
   },
   "outputs": [],
   "source": [
    "type(fibonacci.clear_cache), fibonacci.clear_cache.__name__"
   ]
  },
  {
   "cell_type": "markdown",
   "metadata": {
    "slideshow": {
     "slide_type": "slide"
    }
   },
   "source": [
    "## Module"
   ]
  },
  {
   "cell_type": "markdown",
   "metadata": {
    "slideshow": {
     "slide_type": "subslide"
    }
   },
   "source": [
    "**How to create a module?**"
   ]
  },
  {
   "cell_type": "markdown",
   "metadata": {
    "slideshow": {
     "slide_type": "fragment"
    }
   },
   "source": [
    "To create a module, simply put the code in a python source file `<module name>.py` in\n",
    "- the current directory, or\n",
    "- a python *site-packages* directory in system path."
   ]
  },
  {
   "cell_type": "code",
   "execution_count": null,
   "metadata": {
    "ExecuteTime": {
     "end_time": "2020-10-31T02:44:09.980305Z",
     "start_time": "2020-10-31T02:44:09.975970Z"
    },
    "slideshow": {
     "slide_type": "-"
    }
   },
   "outputs": [],
   "source": [
    "import sys\n",
    "\n",
    "print(sys.path)"
   ]
  },
  {
   "cell_type": "markdown",
   "metadata": {
    "slideshow": {
     "slide_type": "subslide"
    }
   },
   "source": [
    "For example, `recurtools.py` in the current directory defines the module `recurtools`."
   ]
  },
  {
   "cell_type": "code",
   "execution_count": null,
   "metadata": {
    "ExecuteTime": {
     "end_time": "2020-10-31T02:44:10.235662Z",
     "start_time": "2020-10-31T02:44:10.226972Z"
    },
    "slideshow": {
     "slide_type": "-"
    },
    "tags": [
     "output_scroll"
    ]
   },
   "outputs": [],
   "source": [
    "from IPython.display import Code\n",
    "\n",
    "Code(filename=\"recurtools.py\", language=\"python\")"
   ]
  },
  {
   "cell_type": "markdown",
   "metadata": {},
   "source": [
    "The module provides the decorators `print_function_call` and `caching` defined earlier."
   ]
  },
  {
   "cell_type": "code",
   "execution_count": null,
   "metadata": {
    "ExecuteTime": {
     "end_time": "2020-10-31T02:44:10.246664Z",
     "start_time": "2020-10-31T02:44:10.238773Z"
    },
    "slideshow": {
     "slide_type": "-"
    }
   },
   "outputs": [],
   "source": [
    "import recurtools as rc\n",
    "\n",
    "\n",
    "@rc.print_function_call\n",
    "@rc.caching\n",
    "def factorial(n):\n",
    "    return factorial(n - 1) if n > 1 else 1"
   ]
  },
  {
   "cell_type": "code",
   "execution_count": null,
   "metadata": {
    "ExecuteTime": {
     "end_time": "2020-10-31T02:44:10.254591Z",
     "start_time": "2020-10-31T02:44:10.249209Z"
    },
    "slideshow": {
     "slide_type": "-"
    }
   },
   "outputs": [],
   "source": [
    "factorial(5)\n",
    "factorial(5)\n",
    "factorial.clear_cache()\n",
    "factorial(5)"
   ]
  }
 ],
 "metadata": {
  "kernelspec": {
   "display_name": "Python 3 (ipykernel)",
   "language": "python",
   "name": "python3"
  },
  "language_info": {
   "codemirror_mode": {
    "name": "ipython",
    "version": 3
   },
   "file_extension": ".py",
   "mimetype": "text/x-python",
   "name": "python",
   "nbconvert_exporter": "python",
   "pygments_lexer": "ipython3",
   "version": "3.8.12"
  },
  "latex_envs": {
   "LaTeX_envs_menu_present": true,
   "autoclose": false,
   "autocomplete": true,
   "bibliofile": "biblio.bib",
   "cite_by": "apalike",
   "current_citInitial": 1,
   "eqLabelWithNumbers": true,
   "eqNumInitial": 1,
   "hotkeys": {
    "equation": "Ctrl-E",
    "itemize": "Ctrl-I"
   },
   "labels_anchors": false,
   "latex_user_defs": false,
   "report_style_numbering": false,
   "user_envs_cfg": false
  },
  "rise": {
   "enable_chalkboard": true,
   "scroll": true,
   "theme": "white"
  },
  "toc": {
   "base_numbering": 1,
   "nav_menu": {
    "height": "195px",
    "width": "330px"
   },
   "number_sections": true,
   "sideBar": true,
   "skip_h1_title": true,
   "title_cell": "Table of Contents",
   "title_sidebar": "Contents",
   "toc_cell": false,
   "toc_position": {
    "height": "454.418px",
    "left": "1533px",
    "top": "110.284px",
    "width": "261px"
   },
   "toc_section_display": true,
   "toc_window_display": false
  },
  "widgets": {
   "application/vnd.jupyter.widget-state+json": {
    "state": {},
    "version_major": 2,
    "version_minor": 0
   }
  }
 },
 "nbformat": 4,
 "nbformat_minor": 4
}
